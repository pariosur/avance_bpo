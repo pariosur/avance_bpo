{
 "cells": [
  {
   "cell_type": "code",
   "execution_count": 2,
   "id": "32e5a3d1",
   "metadata": {},
   "outputs": [
    {
     "name": "stderr",
     "output_type": "stream",
     "text": [
      "/home/proctor/.pyenv/versions/3.8.12/envs/lewagon/lib/python3.8/site-packages/scipy/__init__.py:146: UserWarning: A NumPy version >=1.16.5 and <1.23.0 is required for this version of SciPy (detected version 1.23.3\n",
      "  warnings.warn(f\"A NumPy version >={np_minversion} and <{np_maxversion}\"\n"
     ]
    }
   ],
   "source": [
    "import pandas as pd\n",
    "import numpy as np\n",
    "import matplotlib as plt\n",
    "import seaborn as sns"
   ]
  },
  {
   "cell_type": "markdown",
   "id": "69e474c3",
   "metadata": {},
   "source": [
    "## Importing Datasets"
   ]
  },
  {
   "cell_type": "code",
   "execution_count": 1,
   "id": "6a18ddef",
   "metadata": {
    "scrolled": true
   },
   "outputs": [
    {
     "ename": "NameError",
     "evalue": "name 'pd' is not defined",
     "output_type": "error",
     "traceback": [
      "\u001b[0;31m---------------------------------------------------------------------------\u001b[0m",
      "\u001b[0;31mNameError\u001b[0m                                 Traceback (most recent call last)",
      "\u001b[0;32m/tmp/ipykernel_769/504460809.py\u001b[0m in \u001b[0;36m<module>\u001b[0;34m\u001b[0m\n\u001b[1;32m      1\u001b[0m \u001b[0;31m# df = pd.read_excel('datos_avance.xlxs', sheet_name=None)\u001b[0m\u001b[0;34m\u001b[0m\u001b[0;34m\u001b[0m\u001b[0;34m\u001b[0m\u001b[0m\n\u001b[0;32m----> 2\u001b[0;31m \u001b[0mdf\u001b[0m \u001b[0;34m=\u001b[0m \u001b[0mpd\u001b[0m\u001b[0;34m.\u001b[0m\u001b[0mread_excel\u001b[0m\u001b[0;34m(\u001b[0m\u001b[0;34m'datos_avance.xlsx'\u001b[0m\u001b[0;34m)\u001b[0m\u001b[0;34m\u001b[0m\u001b[0;34m\u001b[0m\u001b[0m\n\u001b[0m\u001b[1;32m      3\u001b[0m \u001b[0mdf\u001b[0m\u001b[0;34m.\u001b[0m\u001b[0mhead\u001b[0m\u001b[0;34m(\u001b[0m\u001b[0;34m)\u001b[0m\u001b[0;34m\u001b[0m\u001b[0;34m\u001b[0m\u001b[0m\n",
      "\u001b[0;31mNameError\u001b[0m: name 'pd' is not defined"
     ]
    }
   ],
   "source": [
    "\n",
    "# df = pd.read_excel('datos_avance.xlxs', sheet_name=None)\n",
    "df = pd.read_excel('datos_avance.xlsx') \n",
    "df.head()\n"
   ]
  },
  {
   "cell_type": "code",
   "execution_count": 5,
   "id": "5db7c7d1",
   "metadata": {},
   "outputs": [
    {
     "name": "stdout",
     "output_type": "stream",
     "text": [
      "['acuerdos', 'payment_params', 'pagos', 'asignacion_fdem', 'resumen_creditos', 'gestiones_2022']\n"
     ]
    }
   ],
   "source": [
    "dfname=pd.ExcelFile('datos_avance.xlsx')\n",
    "print(dfname.sheet_names)\n"
   ]
  },
  {
   "cell_type": "code",
   "execution_count": 6,
   "id": "c7e334a9",
   "metadata": {
    "scrolled": true
   },
   "outputs": [
    {
     "data": {
      "text/html": [
       "<div>\n",
       "<style scoped>\n",
       "    .dataframe tbody tr th:only-of-type {\n",
       "        vertical-align: middle;\n",
       "    }\n",
       "\n",
       "    .dataframe tbody tr th {\n",
       "        vertical-align: top;\n",
       "    }\n",
       "\n",
       "    .dataframe thead th {\n",
       "        text-align: right;\n",
       "    }\n",
       "</style>\n",
       "<table border=\"1\" class=\"dataframe\">\n",
       "  <thead>\n",
       "    <tr style=\"text-align: right;\">\n",
       "      <th></th>\n",
       "      <th>FechaCaptura</th>\n",
       "      <th>Credito</th>\n",
       "      <th>FechaAPagar</th>\n",
       "      <th>VRCancelar</th>\n",
       "      <th>PuntoPago</th>\n",
       "      <th>TipoPago</th>\n",
       "      <th>Asesor</th>\n",
       "      <th>VrTotalObligacion</th>\n",
       "      <th>VrTotalNegociado</th>\n",
       "      <th>Condonacion</th>\n",
       "      <th>TipoPago2</th>\n",
       "      <th>Cuotas</th>\n",
       "      <th>VrCuota1</th>\n",
       "      <th>VrOtrasCuotas</th>\n",
       "      <th>CuotaNumero</th>\n",
       "      <th>Estado</th>\n",
       "      <th>FechaPago</th>\n",
       "    </tr>\n",
       "  </thead>\n",
       "  <tbody>\n",
       "    <tr>\n",
       "      <th>0</th>\n",
       "      <td>2016-11-08</td>\n",
       "      <td>904141001352</td>\n",
       "      <td>2016-11-30</td>\n",
       "      <td>100000</td>\n",
       "      <td>CDS o Efecty</td>\n",
       "      <td>Pago Parcial</td>\n",
       "      <td>Si</td>\n",
       "      <td>0</td>\n",
       "      <td>0</td>\n",
       "      <td>0</td>\n",
       "      <td>NaN</td>\n",
       "      <td>0</td>\n",
       "      <td>0</td>\n",
       "      <td>0</td>\n",
       "      <td>0</td>\n",
       "      <td>NaN</td>\n",
       "      <td>1900-01-01</td>\n",
       "    </tr>\n",
       "    <tr>\n",
       "      <th>1</th>\n",
       "      <td>2016-11-23</td>\n",
       "      <td>904141001295</td>\n",
       "      <td>2016-12-21</td>\n",
       "      <td>260000</td>\n",
       "      <td>Oficina Fundaci¢n de la Mujer</td>\n",
       "      <td>Pago Parcial con Condonaci¢n</td>\n",
       "      <td>Si</td>\n",
       "      <td>0</td>\n",
       "      <td>0</td>\n",
       "      <td>0</td>\n",
       "      <td>NaN</td>\n",
       "      <td>0</td>\n",
       "      <td>0</td>\n",
       "      <td>0</td>\n",
       "      <td>0</td>\n",
       "      <td>NaN</td>\n",
       "      <td>1900-01-01</td>\n",
       "    </tr>\n",
       "    <tr>\n",
       "      <th>2</th>\n",
       "      <td>2016-11-28</td>\n",
       "      <td>904141000816</td>\n",
       "      <td>2016-12-15</td>\n",
       "      <td>844000</td>\n",
       "      <td>Oficina Fundaci¢n de la Mujer</td>\n",
       "      <td>Pago Parcial con Condonaci¢n</td>\n",
       "      <td>NaN</td>\n",
       "      <td>0</td>\n",
       "      <td>0</td>\n",
       "      <td>0</td>\n",
       "      <td>NaN</td>\n",
       "      <td>0</td>\n",
       "      <td>0</td>\n",
       "      <td>0</td>\n",
       "      <td>0</td>\n",
       "      <td>NaN</td>\n",
       "      <td>1900-01-01</td>\n",
       "    </tr>\n",
       "    <tr>\n",
       "      <th>3</th>\n",
       "      <td>2016-11-19</td>\n",
       "      <td>904141000465</td>\n",
       "      <td>2016-11-30</td>\n",
       "      <td>75000</td>\n",
       "      <td>CDS o Efecty</td>\n",
       "      <td>Pago Parcial con Condonaci¢n</td>\n",
       "      <td>NaN</td>\n",
       "      <td>0</td>\n",
       "      <td>0</td>\n",
       "      <td>0</td>\n",
       "      <td>NaN</td>\n",
       "      <td>0</td>\n",
       "      <td>0</td>\n",
       "      <td>0</td>\n",
       "      <td>0</td>\n",
       "      <td>NaN</td>\n",
       "      <td>1900-01-01</td>\n",
       "    </tr>\n",
       "    <tr>\n",
       "      <th>4</th>\n",
       "      <td>2016-11-09</td>\n",
       "      <td>904141000343</td>\n",
       "      <td>2016-11-30</td>\n",
       "      <td>55000</td>\n",
       "      <td>CDS o Efecty</td>\n",
       "      <td>Pago Parcial con Condonaci¢n</td>\n",
       "      <td>NaN</td>\n",
       "      <td>0</td>\n",
       "      <td>0</td>\n",
       "      <td>0</td>\n",
       "      <td>NaN</td>\n",
       "      <td>0</td>\n",
       "      <td>0</td>\n",
       "      <td>0</td>\n",
       "      <td>0</td>\n",
       "      <td>NaN</td>\n",
       "      <td>1900-01-01</td>\n",
       "    </tr>\n",
       "  </tbody>\n",
       "</table>\n",
       "</div>"
      ],
      "text/plain": [
       "  FechaCaptura       Credito FechaAPagar  VRCancelar  \\\n",
       "0   2016-11-08  904141001352  2016-11-30      100000   \n",
       "1   2016-11-23  904141001295  2016-12-21      260000   \n",
       "2   2016-11-28  904141000816  2016-12-15      844000   \n",
       "3   2016-11-19  904141000465  2016-11-30       75000   \n",
       "4   2016-11-09  904141000343  2016-11-30       55000   \n",
       "\n",
       "                       PuntoPago                      TipoPago Asesor  \\\n",
       "0                   CDS o Efecty                  Pago Parcial     Si   \n",
       "1  Oficina Fundaci¢n de la Mujer  Pago Parcial con Condonaci¢n     Si   \n",
       "2  Oficina Fundaci¢n de la Mujer  Pago Parcial con Condonaci¢n    NaN   \n",
       "3                   CDS o Efecty  Pago Parcial con Condonaci¢n    NaN   \n",
       "4                   CDS o Efecty  Pago Parcial con Condonaci¢n    NaN   \n",
       "\n",
       "   VrTotalObligacion  VrTotalNegociado  Condonacion  TipoPago2  Cuotas  \\\n",
       "0                  0                 0            0        NaN       0   \n",
       "1                  0                 0            0        NaN       0   \n",
       "2                  0                 0            0        NaN       0   \n",
       "3                  0                 0            0        NaN       0   \n",
       "4                  0                 0            0        NaN       0   \n",
       "\n",
       "   VrCuota1  VrOtrasCuotas  CuotaNumero Estado  FechaPago  \n",
       "0         0              0            0    NaN 1900-01-01  \n",
       "1         0              0            0    NaN 1900-01-01  \n",
       "2         0              0            0    NaN 1900-01-01  \n",
       "3         0              0            0    NaN 1900-01-01  \n",
       "4         0              0            0    NaN 1900-01-01  "
      ]
     },
     "execution_count": 6,
     "metadata": {},
     "output_type": "execute_result"
    }
   ],
   "source": [
    "df_acuerdos =pd.read_excel(f'datos_avance.xlsx',sheet_name='acuerdos')\n",
    "df_acuerdos.head()"
   ]
  },
  {
   "cell_type": "code",
   "execution_count": 5,
   "id": "6a9bdc69",
   "metadata": {},
   "outputs": [],
   "source": [
    "# df_acuerdos.to_csv(\"acuerdos.csv\",index=False)"
   ]
  },
  {
   "cell_type": "code",
   "execution_count": 7,
   "id": "28dab7f6",
   "metadata": {
    "scrolled": true
   },
   "outputs": [
    {
     "data": {
      "text/html": [
       "<div>\n",
       "<style scoped>\n",
       "    .dataframe tbody tr th:only-of-type {\n",
       "        vertical-align: middle;\n",
       "    }\n",
       "\n",
       "    .dataframe tbody tr th {\n",
       "        vertical-align: top;\n",
       "    }\n",
       "\n",
       "    .dataframe thead th {\n",
       "        text-align: right;\n",
       "    }\n",
       "</style>\n",
       "<table border=\"1\" class=\"dataframe\">\n",
       "  <thead>\n",
       "    <tr style=\"text-align: right;\">\n",
       "      <th></th>\n",
       "      <th>id</th>\n",
       "      <th>user_id</th>\n",
       "      <th>credit_number</th>\n",
       "      <th>value</th>\n",
       "      <th>description</th>\n",
       "      <th>pay_location_id</th>\n",
       "      <th>on_site</th>\n",
       "      <th>agreement_type_id</th>\n",
       "      <th>date</th>\n",
       "      <th>time</th>\n",
       "      <th>active</th>\n",
       "      <th>confirmed_user</th>\n",
       "      <th>confirmed_found</th>\n",
       "      <th>accesed_at</th>\n",
       "      <th>created_at</th>\n",
       "      <th>updated_at</th>\n",
       "    </tr>\n",
       "  </thead>\n",
       "  <tbody>\n",
       "    <tr>\n",
       "      <th>0</th>\n",
       "      <td>2</td>\n",
       "      <td>1</td>\n",
       "      <td>641131002666</td>\n",
       "      <td>15000</td>\n",
       "      <td>NaN</td>\n",
       "      <td>1</td>\n",
       "      <td>0</td>\n",
       "      <td>1</td>\n",
       "      <td>\\N</td>\n",
       "      <td>\\N</td>\n",
       "      <td>0</td>\n",
       "      <td>0</td>\n",
       "      <td>0</td>\n",
       "      <td>\\N</td>\n",
       "      <td>2017-02-28 19:05:29</td>\n",
       "      <td>2017-03-01 09:39:56</td>\n",
       "    </tr>\n",
       "    <tr>\n",
       "      <th>1</th>\n",
       "      <td>3</td>\n",
       "      <td>16</td>\n",
       "      <td>1490</td>\n",
       "      <td>200000</td>\n",
       "      <td>transcurso del dia</td>\n",
       "      <td>1</td>\n",
       "      <td>0</td>\n",
       "      <td>4</td>\n",
       "      <td>\\N</td>\n",
       "      <td>\\N</td>\n",
       "      <td>0</td>\n",
       "      <td>0</td>\n",
       "      <td>0</td>\n",
       "      <td>\\N</td>\n",
       "      <td>2017-03-01 08:08:31</td>\n",
       "      <td>2017-03-01 09:35:55</td>\n",
       "    </tr>\n",
       "    <tr>\n",
       "      <th>2</th>\n",
       "      <td>4</td>\n",
       "      <td>16</td>\n",
       "      <td>1676</td>\n",
       "      <td>1420000</td>\n",
       "      <td>cancela en 15 minutos.</td>\n",
       "      <td>1</td>\n",
       "      <td>0</td>\n",
       "      <td>4</td>\n",
       "      <td>\\N</td>\n",
       "      <td>\\N</td>\n",
       "      <td>0</td>\n",
       "      <td>0</td>\n",
       "      <td>0</td>\n",
       "      <td>\\N</td>\n",
       "      <td>2017-03-01 08:20:07</td>\n",
       "      <td>2017-03-01 09:35:04</td>\n",
       "    </tr>\n",
       "    <tr>\n",
       "      <th>3</th>\n",
       "      <td>5</td>\n",
       "      <td>21</td>\n",
       "      <td>614151006615</td>\n",
       "      <td>98000</td>\n",
       "      <td>cancelara en el transcurso del dia</td>\n",
       "      <td>1</td>\n",
       "      <td>0</td>\n",
       "      <td>3</td>\n",
       "      <td>\\N</td>\n",
       "      <td>\\N</td>\n",
       "      <td>0</td>\n",
       "      <td>0</td>\n",
       "      <td>0</td>\n",
       "      <td>\\N</td>\n",
       "      <td>2017-03-01 08:50:36</td>\n",
       "      <td>2017-03-01 09:36:38</td>\n",
       "    </tr>\n",
       "    <tr>\n",
       "      <th>4</th>\n",
       "      <td>6</td>\n",
       "      <td>1</td>\n",
       "      <td>822141001963</td>\n",
       "      <td>1980000</td>\n",
       "      <td>NaN</td>\n",
       "      <td>1</td>\n",
       "      <td>0</td>\n",
       "      <td>1</td>\n",
       "      <td>\\N</td>\n",
       "      <td>\\N</td>\n",
       "      <td>0</td>\n",
       "      <td>0</td>\n",
       "      <td>0</td>\n",
       "      <td>\\N</td>\n",
       "      <td>2017-03-01 08:54:19</td>\n",
       "      <td>2017-03-01 09:40:45</td>\n",
       "    </tr>\n",
       "  </tbody>\n",
       "</table>\n",
       "</div>"
      ],
      "text/plain": [
       "   id  user_id  credit_number    value                         description  \\\n",
       "0   2        1   641131002666    15000                                 NaN   \n",
       "1   3       16           1490   200000                  transcurso del dia   \n",
       "2   4       16           1676  1420000              cancela en 15 minutos.   \n",
       "3   5       21   614151006615    98000  cancelara en el transcurso del dia   \n",
       "4   6        1   822141001963  1980000                                 NaN   \n",
       "\n",
       "   pay_location_id  on_site  agreement_type_id date time  active  \\\n",
       "0                1        0                  1   \\N   \\N       0   \n",
       "1                1        0                  4   \\N   \\N       0   \n",
       "2                1        0                  4   \\N   \\N       0   \n",
       "3                1        0                  3   \\N   \\N       0   \n",
       "4                1        0                  1   \\N   \\N       0   \n",
       "\n",
       "  confirmed_user  confirmed_found accesed_at          created_at  \\\n",
       "0              0                0         \\N 2017-02-28 19:05:29   \n",
       "1              0                0         \\N 2017-03-01 08:08:31   \n",
       "2              0                0         \\N 2017-03-01 08:20:07   \n",
       "3              0                0         \\N 2017-03-01 08:50:36   \n",
       "4              0                0         \\N 2017-03-01 08:54:19   \n",
       "\n",
       "           updated_at  \n",
       "0 2017-03-01 09:39:56  \n",
       "1 2017-03-01 09:35:55  \n",
       "2 2017-03-01 09:35:04  \n",
       "3 2017-03-01 09:36:38  \n",
       "4 2017-03-01 09:40:45  "
      ]
     },
     "execution_count": 7,
     "metadata": {},
     "output_type": "execute_result"
    }
   ],
   "source": [
    "df_payment_params =pd.read_excel(f'datos_avance.xlsx',sheet_name='payment_params')\n",
    "df_payment_params.head()"
   ]
  },
  {
   "cell_type": "code",
   "execution_count": 8,
   "id": "7c258d51",
   "metadata": {},
   "outputs": [],
   "source": [
    "# df_payment_params.to_csv(\"payment_params.csv\",index=False)"
   ]
  },
  {
   "cell_type": "code",
   "execution_count": 3,
   "id": "27e25a13",
   "metadata": {
    "scrolled": false
   },
   "outputs": [
    {
     "data": {
      "text/html": [
       "<div>\n",
       "<style scoped>\n",
       "    .dataframe tbody tr th:only-of-type {\n",
       "        vertical-align: middle;\n",
       "    }\n",
       "\n",
       "    .dataframe tbody tr th {\n",
       "        vertical-align: top;\n",
       "    }\n",
       "\n",
       "    .dataframe thead th {\n",
       "        text-align: right;\n",
       "    }\n",
       "</style>\n",
       "<table border=\"1\" class=\"dataframe\">\n",
       "  <thead>\n",
       "    <tr style=\"text-align: right;\">\n",
       "      <th></th>\n",
       "      <th>MesCargue</th>\n",
       "      <th>Codigo</th>\n",
       "      <th>Agencia</th>\n",
       "      <th>Credito</th>\n",
       "      <th>Estado</th>\n",
       "      <th>SaldoFindeMes</th>\n",
       "      <th>DiasMoraFindeMes</th>\n",
       "      <th>SaldoActual</th>\n",
       "      <th>DiasmoraActual</th>\n",
       "      <th>FechaValor</th>\n",
       "      <th>...</th>\n",
       "      <th>MORA</th>\n",
       "      <th>PAGOSOTROS</th>\n",
       "      <th>TotalCancelado</th>\n",
       "      <th>VRgoech</th>\n",
       "      <th>CONDCAPITAL</th>\n",
       "      <th>CONDINTERES</th>\n",
       "      <th>CONDMORA</th>\n",
       "      <th>DiasMoraPago</th>\n",
       "      <th>Reverso</th>\n",
       "      <th>Concepto</th>\n",
       "    </tr>\n",
       "  </thead>\n",
       "  <tbody>\n",
       "    <tr>\n",
       "      <th>0</th>\n",
       "      <td>2016-10</td>\n",
       "      <td>101</td>\n",
       "      <td>BUCARAMANGA AGENCIA PRINCIPAL</td>\n",
       "      <td>101101002728</td>\n",
       "      <td>Castigado</td>\n",
       "      <td>321631</td>\n",
       "      <td>2032</td>\n",
       "      <td>0</td>\n",
       "      <td>0</td>\n",
       "      <td>2016-10-18</td>\n",
       "      <td>...</td>\n",
       "      <td>0</td>\n",
       "      <td>10556</td>\n",
       "      <td>332187</td>\n",
       "      <td>321631</td>\n",
       "      <td>0</td>\n",
       "      <td>0</td>\n",
       "      <td>594634</td>\n",
       "      <td>2050</td>\n",
       "      <td>NaN</td>\n",
       "      <td>NaN</td>\n",
       "    </tr>\n",
       "    <tr>\n",
       "      <th>1</th>\n",
       "      <td>2016-10</td>\n",
       "      <td>101</td>\n",
       "      <td>BUCARAMANGA AGENCIA PRINCIPAL</td>\n",
       "      <td>101104101267</td>\n",
       "      <td>Castigado</td>\n",
       "      <td>149159</td>\n",
       "      <td>2142</td>\n",
       "      <td>0</td>\n",
       "      <td>0</td>\n",
       "      <td>2016-10-31</td>\n",
       "      <td>...</td>\n",
       "      <td>0</td>\n",
       "      <td>4182</td>\n",
       "      <td>153341</td>\n",
       "      <td>149159</td>\n",
       "      <td>0</td>\n",
       "      <td>3498</td>\n",
       "      <td>356515</td>\n",
       "      <td>2172</td>\n",
       "      <td>NaN</td>\n",
       "      <td>NaN</td>\n",
       "    </tr>\n",
       "    <tr>\n",
       "      <th>2</th>\n",
       "      <td>2016-10</td>\n",
       "      <td>101</td>\n",
       "      <td>BUCARAMANGA AGENCIA PRINCIPAL</td>\n",
       "      <td>101131041847</td>\n",
       "      <td>Castigado</td>\n",
       "      <td>384108</td>\n",
       "      <td>490</td>\n",
       "      <td>0</td>\n",
       "      <td>0</td>\n",
       "      <td>2016-10-20</td>\n",
       "      <td>...</td>\n",
       "      <td>0</td>\n",
       "      <td>9799</td>\n",
       "      <td>393907</td>\n",
       "      <td>384108</td>\n",
       "      <td>0</td>\n",
       "      <td>20307</td>\n",
       "      <td>233846</td>\n",
       "      <td>510</td>\n",
       "      <td>NaN</td>\n",
       "      <td>NaN</td>\n",
       "    </tr>\n",
       "    <tr>\n",
       "      <th>3</th>\n",
       "      <td>2016-10</td>\n",
       "      <td>102</td>\n",
       "      <td>BUCARAMANGA AGENCIA ASTURIAS</td>\n",
       "      <td>102141028221</td>\n",
       "      <td>Castigado</td>\n",
       "      <td>291780</td>\n",
       "      <td>706</td>\n",
       "      <td>0</td>\n",
       "      <td>0</td>\n",
       "      <td>2016-10-21</td>\n",
       "      <td>...</td>\n",
       "      <td>0</td>\n",
       "      <td>20420</td>\n",
       "      <td>312200</td>\n",
       "      <td>291780</td>\n",
       "      <td>0</td>\n",
       "      <td>30678</td>\n",
       "      <td>226165</td>\n",
       "      <td>727</td>\n",
       "      <td>NaN</td>\n",
       "      <td>NaN</td>\n",
       "    </tr>\n",
       "    <tr>\n",
       "      <th>4</th>\n",
       "      <td>2016-10</td>\n",
       "      <td>102</td>\n",
       "      <td>BUCARAMANGA AGENCIA ASTURIAS</td>\n",
       "      <td>102141028298</td>\n",
       "      <td>Castigado</td>\n",
       "      <td>1363613</td>\n",
       "      <td>803</td>\n",
       "      <td>1322611</td>\n",
       "      <td>803</td>\n",
       "      <td>2016-10-18</td>\n",
       "      <td>...</td>\n",
       "      <td>0</td>\n",
       "      <td>12549</td>\n",
       "      <td>100000</td>\n",
       "      <td>87451</td>\n",
       "      <td>0</td>\n",
       "      <td>0</td>\n",
       "      <td>52487</td>\n",
       "      <td>821</td>\n",
       "      <td>NaN</td>\n",
       "      <td>NaN</td>\n",
       "    </tr>\n",
       "  </tbody>\n",
       "</table>\n",
       "<p>5 rows × 27 columns</p>\n",
       "</div>"
      ],
      "text/plain": [
       "  MesCargue  Codigo                        Agencia       Credito     Estado  \\\n",
       "0   2016-10     101  BUCARAMANGA AGENCIA PRINCIPAL  101101002728  Castigado   \n",
       "1   2016-10     101  BUCARAMANGA AGENCIA PRINCIPAL  101104101267  Castigado   \n",
       "2   2016-10     101  BUCARAMANGA AGENCIA PRINCIPAL  101131041847  Castigado   \n",
       "3   2016-10     102   BUCARAMANGA AGENCIA ASTURIAS  102141028221  Castigado   \n",
       "4   2016-10     102   BUCARAMANGA AGENCIA ASTURIAS  102141028298  Castigado   \n",
       "\n",
       "   SaldoFindeMes  DiasMoraFindeMes  SaldoActual  DiasmoraActual FechaValor  \\\n",
       "0         321631              2032            0               0 2016-10-18   \n",
       "1         149159              2142            0               0 2016-10-31   \n",
       "2         384108               490            0               0 2016-10-20   \n",
       "3         291780               706            0               0 2016-10-21   \n",
       "4        1363613               803      1322611             803 2016-10-18   \n",
       "\n",
       "   ... MORA PAGOSOTROS  TotalCancelado  VRgoech CONDCAPITAL  CONDINTERES  \\\n",
       "0  ...    0      10556          332187   321631           0            0   \n",
       "1  ...    0       4182          153341   149159           0         3498   \n",
       "2  ...    0       9799          393907   384108           0        20307   \n",
       "3  ...    0      20420          312200   291780           0        30678   \n",
       "4  ...    0      12549          100000    87451           0            0   \n",
       "\n",
       "   CONDMORA  DiasMoraPago  Reverso  Concepto  \n",
       "0    594634          2050      NaN       NaN  \n",
       "1    356515          2172      NaN       NaN  \n",
       "2    233846           510      NaN       NaN  \n",
       "3    226165           727      NaN       NaN  \n",
       "4     52487           821      NaN       NaN  \n",
       "\n",
       "[5 rows x 27 columns]"
      ]
     },
     "execution_count": 3,
     "metadata": {},
     "output_type": "execute_result"
    }
   ],
   "source": [
    "df_pagos =pd.read_excel(f'datos_avance.xlsx',sheet_name='pagos')\n",
    "df_pagos.head()"
   ]
  },
  {
   "cell_type": "code",
   "execution_count": 10,
   "id": "dea8a2d5",
   "metadata": {},
   "outputs": [],
   "source": [
    "# df_pagos.to_csv(\"pagos.csv\",index=False)"
   ]
  },
  {
   "cell_type": "code",
   "execution_count": 4,
   "id": "80ebab69",
   "metadata": {
    "scrolled": true
   },
   "outputs": [
    {
     "data": {
      "text/html": [
       "<div>\n",
       "<style scoped>\n",
       "    .dataframe tbody tr th:only-of-type {\n",
       "        vertical-align: middle;\n",
       "    }\n",
       "\n",
       "    .dataframe tbody tr th {\n",
       "        vertical-align: top;\n",
       "    }\n",
       "\n",
       "    .dataframe thead th {\n",
       "        text-align: right;\n",
       "    }\n",
       "</style>\n",
       "<table border=\"1\" class=\"dataframe\">\n",
       "  <thead>\n",
       "    <tr style=\"text-align: right;\">\n",
       "      <th></th>\n",
       "      <th>obligacion</th>\n",
       "      <th>Titular</th>\n",
       "      <th>agencia</th>\n",
       "      <th>tipo</th>\n",
       "      <th>primera_asignacion</th>\n",
       "      <th>fecha_asignacion</th>\n",
       "      <th>fecha_desasignacion</th>\n",
       "      <th>nombre</th>\n",
       "      <th>ciudad</th>\n",
       "      <th>tel_casa</th>\n",
       "      <th>...</th>\n",
       "      <th>inter_corri</th>\n",
       "      <th>inter_mora</th>\n",
       "      <th>hyc</th>\n",
       "      <th>seguro</th>\n",
       "      <th>iva</th>\n",
       "      <th>valor_cuota</th>\n",
       "      <th>nro_cuotas_atrasadas</th>\n",
       "      <th>cuotas_canceladas</th>\n",
       "      <th>cuotas_vencidas</th>\n",
       "      <th>vigente</th>\n",
       "    </tr>\n",
       "  </thead>\n",
       "  <tbody>\n",
       "    <tr>\n",
       "      <th>0</th>\n",
       "      <td>201917264</td>\n",
       "      <td>1</td>\n",
       "      <td>201</td>\n",
       "      <td>MANTENIDO</td>\n",
       "      <td>2016-10-01</td>\n",
       "      <td>2016-10-01</td>\n",
       "      <td>2019-07-22 00:00:00</td>\n",
       "      <td>SALAZAR ECHAVARRIA   CARMEN ADRIANA</td>\n",
       "      <td>CUCUTA</td>\n",
       "      <td>75702725</td>\n",
       "      <td>...</td>\n",
       "      <td>29994</td>\n",
       "      <td>2397521</td>\n",
       "      <td>0</td>\n",
       "      <td>0</td>\n",
       "      <td>0</td>\n",
       "      <td>0</td>\n",
       "      <td>8</td>\n",
       "      <td>2</td>\n",
       "      <td>6</td>\n",
       "      <td>0</td>\n",
       "    </tr>\n",
       "    <tr>\n",
       "      <th>1</th>\n",
       "      <td>10191142053</td>\n",
       "      <td>2</td>\n",
       "      <td>101</td>\n",
       "      <td>MANTENIDO</td>\n",
       "      <td>2016-10-01</td>\n",
       "      <td>2016-10-01</td>\n",
       "      <td>2019-07-22 00:00:00</td>\n",
       "      <td>GONZALEZ GONZALEZ   EFRAIN</td>\n",
       "      <td>BUCARAMANGA</td>\n",
       "      <td>76731342</td>\n",
       "      <td>...</td>\n",
       "      <td>0</td>\n",
       "      <td>118354</td>\n",
       "      <td>0</td>\n",
       "      <td>0</td>\n",
       "      <td>0</td>\n",
       "      <td>0</td>\n",
       "      <td>12</td>\n",
       "      <td>11</td>\n",
       "      <td>1</td>\n",
       "      <td>0</td>\n",
       "    </tr>\n",
       "    <tr>\n",
       "      <th>2</th>\n",
       "      <td>10191144858</td>\n",
       "      <td>3</td>\n",
       "      <td>101</td>\n",
       "      <td>MANTENIDO</td>\n",
       "      <td>2016-10-01</td>\n",
       "      <td>2016-10-01</td>\n",
       "      <td>2019-07-22 00:00:00</td>\n",
       "      <td>LANDAZABAL SANTANDER   MILENA</td>\n",
       "      <td>BUCARAMANGA</td>\n",
       "      <td>76417311</td>\n",
       "      <td>...</td>\n",
       "      <td>10928</td>\n",
       "      <td>1297810</td>\n",
       "      <td>0</td>\n",
       "      <td>0</td>\n",
       "      <td>0</td>\n",
       "      <td>0</td>\n",
       "      <td>8</td>\n",
       "      <td>4</td>\n",
       "      <td>4</td>\n",
       "      <td>0</td>\n",
       "    </tr>\n",
       "    <tr>\n",
       "      <th>3</th>\n",
       "      <td>10191146050</td>\n",
       "      <td>4</td>\n",
       "      <td>101</td>\n",
       "      <td>MANTENIDO</td>\n",
       "      <td>2016-10-01</td>\n",
       "      <td>2016-10-01</td>\n",
       "      <td>2019-07-22 00:00:00</td>\n",
       "      <td>ESTUPIÑAN LOPEZ   ARMANDO</td>\n",
       "      <td>BUCARAMANGA</td>\n",
       "      <td>76710070</td>\n",
       "      <td>...</td>\n",
       "      <td>20805</td>\n",
       "      <td>1987240</td>\n",
       "      <td>0</td>\n",
       "      <td>0</td>\n",
       "      <td>0</td>\n",
       "      <td>0</td>\n",
       "      <td>8</td>\n",
       "      <td>3</td>\n",
       "      <td>5</td>\n",
       "      <td>0</td>\n",
       "    </tr>\n",
       "    <tr>\n",
       "      <th>4</th>\n",
       "      <td>10191150337</td>\n",
       "      <td>5</td>\n",
       "      <td>101</td>\n",
       "      <td>MANTENIDO</td>\n",
       "      <td>2016-10-01</td>\n",
       "      <td>2016-10-01</td>\n",
       "      <td>2020-07-03 00:00:00</td>\n",
       "      <td>OSMA   MARTHA ADELINA</td>\n",
       "      <td>BUCARAMANGA</td>\n",
       "      <td>76732213</td>\n",
       "      <td>...</td>\n",
       "      <td>66677</td>\n",
       "      <td>4464796</td>\n",
       "      <td>2125</td>\n",
       "      <td>0</td>\n",
       "      <td>340</td>\n",
       "      <td>0</td>\n",
       "      <td>14</td>\n",
       "      <td>6</td>\n",
       "      <td>8</td>\n",
       "      <td>0</td>\n",
       "    </tr>\n",
       "  </tbody>\n",
       "</table>\n",
       "<p>5 rows × 41 columns</p>\n",
       "</div>"
      ],
      "text/plain": [
       "    obligacion  Titular  agencia       tipo primera_asignacion  \\\n",
       "0    201917264        1      201  MANTENIDO         2016-10-01   \n",
       "1  10191142053        2      101  MANTENIDO         2016-10-01   \n",
       "2  10191144858        3      101  MANTENIDO         2016-10-01   \n",
       "3  10191146050        4      101  MANTENIDO         2016-10-01   \n",
       "4  10191150337        5      101  MANTENIDO         2016-10-01   \n",
       "\n",
       "  fecha_asignacion  fecha_desasignacion  \\\n",
       "0       2016-10-01  2019-07-22 00:00:00   \n",
       "1       2016-10-01  2019-07-22 00:00:00   \n",
       "2       2016-10-01  2019-07-22 00:00:00   \n",
       "3       2016-10-01  2019-07-22 00:00:00   \n",
       "4       2016-10-01  2020-07-03 00:00:00   \n",
       "\n",
       "                                  nombre       ciudad  tel_casa  ...  \\\n",
       "0  SALAZAR ECHAVARRIA   CARMEN ADRIANA         CUCUTA  75702725  ...   \n",
       "1           GONZALEZ GONZALEZ   EFRAIN    BUCARAMANGA  76731342  ...   \n",
       "2        LANDAZABAL SANTANDER   MILENA    BUCARAMANGA  76417311  ...   \n",
       "3            ESTUPIÑAN LOPEZ   ARMANDO    BUCARAMANGA  76710070  ...   \n",
       "4                OSMA   MARTHA ADELINA    BUCARAMANGA  76732213  ...   \n",
       "\n",
       "   inter_corri  inter_mora   hyc seguro  iva  valor_cuota  \\\n",
       "0        29994     2397521     0      0    0            0   \n",
       "1            0      118354     0      0    0            0   \n",
       "2        10928     1297810     0      0    0            0   \n",
       "3        20805     1987240     0      0    0            0   \n",
       "4        66677     4464796  2125      0  340            0   \n",
       "\n",
       "   nro_cuotas_atrasadas cuotas_canceladas  cuotas_vencidas  vigente  \n",
       "0                     8                 2                6        0  \n",
       "1                    12                11                1        0  \n",
       "2                     8                 4                4        0  \n",
       "3                     8                 3                5        0  \n",
       "4                    14                 6                8        0  \n",
       "\n",
       "[5 rows x 41 columns]"
      ]
     },
     "execution_count": 4,
     "metadata": {},
     "output_type": "execute_result"
    }
   ],
   "source": [
    "df_asignacion_fdem =pd.read_excel(f'datos_avance.xlsx',sheet_name='asignacion_fdem')\n",
    "df_asignacion_fdem.head()"
   ]
  },
  {
   "cell_type": "code",
   "execution_count": 18,
   "id": "c306a2c2",
   "metadata": {},
   "outputs": [],
   "source": [
    "df_asignacion_fdem.rename({'obligacion':'Credito'},axis = 1, inplace = True)"
   ]
  },
  {
   "cell_type": "code",
   "execution_count": null,
   "id": "7fef2db7",
   "metadata": {},
   "outputs": [],
   "source": []
  },
  {
   "cell_type": "code",
   "execution_count": 19,
   "id": "8ac7c709",
   "metadata": {},
   "outputs": [
    {
     "data": {
      "text/plain": [
       "Index(['Credito', 'Titular', 'agencia', 'tipo', 'primera_asignacion',\n",
       "       'fecha_asignacion', 'fecha_desasignacion', 'nombre', 'ciudad',\n",
       "       'tel_casa', 'tel_negocio', 'celular', 'cedula_conyuge',\n",
       "       'nombre_conyuge', 'tel_casa_conyuge', 'tel_negocio_conyuge',\n",
       "       'celular_conyuge', 'nombre_garante', 'cedula_garante',\n",
       "       'tel_casa_garante', 'tel_negocio_garante', 'celular_garante',\n",
       "       'producto', 'dias_atraso', 'fecha_atraso', 'fecha_desembolso',\n",
       "       'fecha_castigo', 'grupo_castigo', 'ultimo_pago', 'monto', 'capital',\n",
       "       'inter_corri', 'inter_mora', 'hyc', 'seguro', 'iva', 'valor_cuota',\n",
       "       'nro_cuotas_atrasadas', 'cuotas_canceladas', 'cuotas_vencidas',\n",
       "       'vigente'],\n",
       "      dtype='object')"
      ]
     },
     "execution_count": 19,
     "metadata": {},
     "output_type": "execute_result"
    }
   ],
   "source": [
    "df_asignacion_fdem.columns"
   ]
  },
  {
   "cell_type": "code",
   "execution_count": 11,
   "id": "2840efa0",
   "metadata": {
    "scrolled": true
   },
   "outputs": [
    {
     "name": "stdout",
     "output_type": "stream",
     "text": [
      "<class 'pandas.core.frame.DataFrame'>\n",
      "RangeIndex: 165200 entries, 0 to 165199\n",
      "Data columns (total 41 columns):\n",
      " #   Column                Non-Null Count   Dtype         \n",
      "---  ------                --------------   -----         \n",
      " 0   obligacion            165200 non-null  int64         \n",
      " 1   Titular               165200 non-null  int64         \n",
      " 2   agencia               165200 non-null  int64         \n",
      " 3   tipo                  165200 non-null  object        \n",
      " 4   primera_asignacion    165200 non-null  datetime64[ns]\n",
      " 5   fecha_asignacion      165200 non-null  datetime64[ns]\n",
      " 6   fecha_desasignacion   165200 non-null  object        \n",
      " 7   nombre                165200 non-null  object        \n",
      " 8   ciudad                165200 non-null  object        \n",
      " 9   tel_casa              165200 non-null  int64         \n",
      " 10  tel_negocio           165200 non-null  int64         \n",
      " 11  celular               165200 non-null  int64         \n",
      " 12  cedula_conyuge        165200 non-null  int64         \n",
      " 13  nombre_conyuge        71967 non-null   object        \n",
      " 14  tel_casa_conyuge      165200 non-null  int64         \n",
      " 15  tel_negocio_conyuge   165200 non-null  int64         \n",
      " 16  celular_conyuge       165200 non-null  int64         \n",
      " 17  nombre_garante        55074 non-null   object        \n",
      " 18  cedula_garante        165200 non-null  int64         \n",
      " 19  tel_casa_garante      165200 non-null  int64         \n",
      " 20  tel_negocio_garante   165200 non-null  int64         \n",
      " 21  celular_garante       165200 non-null  int64         \n",
      " 22  producto              165194 non-null  object        \n",
      " 23  dias_atraso           165200 non-null  int64         \n",
      " 24  fecha_atraso          165200 non-null  object        \n",
      " 25  fecha_desembolso      165200 non-null  object        \n",
      " 26  fecha_castigo         165200 non-null  object        \n",
      " 27  grupo_castigo         165200 non-null  datetime64[ns]\n",
      " 28  ultimo_pago           165200 non-null  object        \n",
      " 29  monto                 165200 non-null  int64         \n",
      " 30  capital               165200 non-null  int64         \n",
      " 31  inter_corri           165200 non-null  int64         \n",
      " 32  inter_mora            165200 non-null  int64         \n",
      " 33  hyc                   165200 non-null  int64         \n",
      " 34  seguro                165200 non-null  int64         \n",
      " 35  iva                   165200 non-null  int64         \n",
      " 36  valor_cuota           165200 non-null  int64         \n",
      " 37  nro_cuotas_atrasadas  165200 non-null  int64         \n",
      " 38  cuotas_canceladas     165200 non-null  int64         \n",
      " 39  cuotas_vencidas       165200 non-null  int64         \n",
      " 40  vigente               165200 non-null  int64         \n",
      "dtypes: datetime64[ns](3), int64(27), object(11)\n",
      "memory usage: 51.7+ MB\n"
     ]
    }
   ],
   "source": [
    "df_asignacion_fdem.info()"
   ]
  },
  {
   "cell_type": "code",
   "execution_count": 273,
   "id": "ae45863f",
   "metadata": {},
   "outputs": [
    {
     "data": {
      "text/plain": [
       "Credito                 165200\n",
       "Titular                 134933\n",
       "agencia                    258\n",
       "tipo                        21\n",
       "primera_asignacion          27\n",
       "fecha_asignacion            26\n",
       "fecha_desasignacion         37\n",
       "nombre                  134889\n",
       "ciudad                     917\n",
       "tel_casa                 27086\n",
       "tel_negocio              67789\n",
       "celular                 126751\n",
       "cedula_conyuge           59920\n",
       "nombre_conyuge           59913\n",
       "tel_casa_conyuge          9392\n",
       "tel_negocio_conyuge       8701\n",
       "celular_conyuge          53610\n",
       "nombre_garante           48559\n",
       "cedula_garante           48668\n",
       "tel_casa_garante          8717\n",
       "tel_negocio_garante      10224\n",
       "celular_garante          42677\n",
       "producto                   111\n",
       "dias_atraso               4043\n",
       "fecha_atraso              5758\n",
       "fecha_desembolso          4418\n",
       "fecha_castigo               73\n",
       "grupo_castigo               64\n",
       "ultimo_pago               4437\n",
       "monto                    36795\n",
       "capital                 125973\n",
       "inter_corri             105073\n",
       "inter_mora              154567\n",
       "hyc                      75621\n",
       "seguro                   20088\n",
       "iva                      38908\n",
       "valor_cuota              62115\n",
       "nro_cuotas_atrasadas        54\n",
       "cuotas_canceladas           50\n",
       "cuotas_vencidas             61\n",
       "vigente                      2\n",
       "dtype: int64"
      ]
     },
     "execution_count": 273,
     "metadata": {},
     "output_type": "execute_result"
    }
   ],
   "source": [
    "df_asignacion_fdem.nunique()"
   ]
  },
  {
   "cell_type": "code",
   "execution_count": 12,
   "id": "ee9955a6",
   "metadata": {},
   "outputs": [],
   "source": [
    "# df_asignacion_fdem.to_csv(\"asignacion_fdem.csv\",index=False)"
   ]
  },
  {
   "cell_type": "code",
   "execution_count": 4,
   "id": "d89dd71d",
   "metadata": {
    "scrolled": true
   },
   "outputs": [
    {
     "data": {
      "text/html": [
       "<div>\n",
       "<style scoped>\n",
       "    .dataframe tbody tr th:only-of-type {\n",
       "        vertical-align: middle;\n",
       "    }\n",
       "\n",
       "    .dataframe tbody tr th {\n",
       "        vertical-align: top;\n",
       "    }\n",
       "\n",
       "    .dataframe thead th {\n",
       "        text-align: right;\n",
       "    }\n",
       "</style>\n",
       "<table border=\"1\" class=\"dataframe\">\n",
       "  <thead>\n",
       "    <tr style=\"text-align: right;\">\n",
       "      <th></th>\n",
       "      <th>credito</th>\n",
       "      <th>fecha_primera_asignacion</th>\n",
       "      <th>fecha_desasignacion</th>\n",
       "      <th>fecha_entrega</th>\n",
       "      <th>ultima_entrega</th>\n",
       "      <th>tipo</th>\n",
       "      <th>fecha_castigo</th>\n",
       "      <th>fecha_desembolso</th>\n",
       "      <th>capital_desembolso</th>\n",
       "      <th>cuotas_aprobadas</th>\n",
       "      <th>...</th>\n",
       "      <th>garantes</th>\n",
       "      <th>dir_domicilio_garante</th>\n",
       "      <th>dir_negocio_garante</th>\n",
       "      <th>tel_celular_garante</th>\n",
       "      <th>tel_casa_garante</th>\n",
       "      <th>tel_negocio_garante</th>\n",
       "      <th>tel_fijo_garante</th>\n",
       "      <th>tarea_asignada</th>\n",
       "      <th>f_proceso</th>\n",
       "      <th>hora_contactar</th>\n",
       "    </tr>\n",
       "  </thead>\n",
       "  <tbody>\n",
       "    <tr>\n",
       "      <th>0</th>\n",
       "      <td>628131002696</td>\n",
       "      <td>2019-12-05</td>\n",
       "      <td>2022-08-11 00:00:00</td>\n",
       "      <td>2022-03-09</td>\n",
       "      <td>2022-08-11 00:00:00</td>\n",
       "      <td>\\N</td>\n",
       "      <td>2016-10-01</td>\n",
       "      <td>2013-12-16 00:00:00</td>\n",
       "      <td>1780245</td>\n",
       "      <td>0</td>\n",
       "      <td>...</td>\n",
       "      <td>\\N</td>\n",
       "      <td>\\N</td>\n",
       "      <td>\\N</td>\n",
       "      <td>\\N</td>\n",
       "      <td>\\N</td>\n",
       "      <td>\\N</td>\n",
       "      <td>\\N</td>\n",
       "      <td>NaN</td>\n",
       "      <td>2022-10-04 10:05:08</td>\n",
       "      <td>\\N</td>\n",
       "    </tr>\n",
       "    <tr>\n",
       "      <th>1</th>\n",
       "      <td>402911602288</td>\n",
       "      <td>2019-07-19</td>\n",
       "      <td>2019-08-31 00:00:00</td>\n",
       "      <td>2019-07-19</td>\n",
       "      <td>2022-02-18 00:00:00</td>\n",
       "      <td>\\N</td>\n",
       "      <td>2016-10-01</td>\n",
       "      <td>2007-02-28 00:00:00</td>\n",
       "      <td>10800000</td>\n",
       "      <td>0</td>\n",
       "      <td>...</td>\n",
       "      <td>\\N</td>\n",
       "      <td>\\N</td>\n",
       "      <td>\\N</td>\n",
       "      <td>\\N</td>\n",
       "      <td>\\N</td>\n",
       "      <td>\\N</td>\n",
       "      <td>\\N</td>\n",
       "      <td>NaN</td>\n",
       "      <td>2022-10-04 10:05:08</td>\n",
       "      <td>\\N</td>\n",
       "    </tr>\n",
       "    <tr>\n",
       "      <th>2</th>\n",
       "      <td>619131006104</td>\n",
       "      <td>2016-10-01</td>\n",
       "      <td>2020-07-03 00:00:00</td>\n",
       "      <td>2016-10-01</td>\n",
       "      <td>2022-02-18 00:00:00</td>\n",
       "      <td>\\N</td>\n",
       "      <td>2016-10-01</td>\n",
       "      <td>2013-11-28 00:00:00</td>\n",
       "      <td>1075100</td>\n",
       "      <td>0</td>\n",
       "      <td>...</td>\n",
       "      <td>\\N</td>\n",
       "      <td>\\N</td>\n",
       "      <td>\\N</td>\n",
       "      <td>\\N</td>\n",
       "      <td>\\N</td>\n",
       "      <td>\\N</td>\n",
       "      <td>\\N</td>\n",
       "      <td>NaN</td>\n",
       "      <td>2022-10-04 10:05:08</td>\n",
       "      <td>\\N</td>\n",
       "    </tr>\n",
       "    <tr>\n",
       "      <th>3</th>\n",
       "      <td>209131030884</td>\n",
       "      <td>2016-10-01</td>\n",
       "      <td>2019-07-22 00:00:00</td>\n",
       "      <td>2016-10-01</td>\n",
       "      <td>2022-02-18 00:00:00</td>\n",
       "      <td>\\N</td>\n",
       "      <td>2016-10-01</td>\n",
       "      <td>2013-11-19 00:00:00</td>\n",
       "      <td>1690000</td>\n",
       "      <td>0</td>\n",
       "      <td>...</td>\n",
       "      <td>\\N</td>\n",
       "      <td>\\N</td>\n",
       "      <td>\\N</td>\n",
       "      <td>\\N</td>\n",
       "      <td>\\N</td>\n",
       "      <td>\\N</td>\n",
       "      <td>\\N</td>\n",
       "      <td>NaN</td>\n",
       "      <td>2022-10-04 10:05:08</td>\n",
       "      <td>\\N</td>\n",
       "    </tr>\n",
       "    <tr>\n",
       "      <th>4</th>\n",
       "      <td>623171011326</td>\n",
       "      <td>2019-07-19</td>\n",
       "      <td>2022-03-09 00:00:00</td>\n",
       "      <td>2019-07-19</td>\n",
       "      <td>2022-02-18 00:00:00</td>\n",
       "      <td>\\N</td>\n",
       "      <td>2019-06-29</td>\n",
       "      <td>2017-01-27 00:00:00</td>\n",
       "      <td>8035240</td>\n",
       "      <td>0</td>\n",
       "      <td>...</td>\n",
       "      <td>\\N</td>\n",
       "      <td>\\N</td>\n",
       "      <td>\\N</td>\n",
       "      <td>\\N</td>\n",
       "      <td>\\N</td>\n",
       "      <td>\\N</td>\n",
       "      <td>\\N</td>\n",
       "      <td>NaN</td>\n",
       "      <td>2022-10-04 10:05:08</td>\n",
       "      <td>\\N</td>\n",
       "    </tr>\n",
       "  </tbody>\n",
       "</table>\n",
       "<p>5 rows × 146 columns</p>\n",
       "</div>"
      ],
      "text/plain": [
       "        credito fecha_primera_asignacion  fecha_desasignacion fecha_entrega  \\\n",
       "0  628131002696               2019-12-05  2022-08-11 00:00:00    2022-03-09   \n",
       "1  402911602288               2019-07-19  2019-08-31 00:00:00    2019-07-19   \n",
       "2  619131006104               2016-10-01  2020-07-03 00:00:00    2016-10-01   \n",
       "3  209131030884               2016-10-01  2019-07-22 00:00:00    2016-10-01   \n",
       "4  623171011326               2019-07-19  2022-03-09 00:00:00    2019-07-19   \n",
       "\n",
       "        ultima_entrega tipo fecha_castigo     fecha_desembolso  \\\n",
       "0  2022-08-11 00:00:00   \\N    2016-10-01  2013-12-16 00:00:00   \n",
       "1  2022-02-18 00:00:00   \\N    2016-10-01  2007-02-28 00:00:00   \n",
       "2  2022-02-18 00:00:00   \\N    2016-10-01  2013-11-28 00:00:00   \n",
       "3  2022-02-18 00:00:00   \\N    2016-10-01  2013-11-19 00:00:00   \n",
       "4  2022-02-18 00:00:00   \\N    2019-06-29  2017-01-27 00:00:00   \n",
       "\n",
       "   capital_desembolso  cuotas_aprobadas  ...  garantes  dir_domicilio_garante  \\\n",
       "0             1780245                 0  ...        \\N                     \\N   \n",
       "1            10800000                 0  ...        \\N                     \\N   \n",
       "2             1075100                 0  ...        \\N                     \\N   \n",
       "3             1690000                 0  ...        \\N                     \\N   \n",
       "4             8035240                 0  ...        \\N                     \\N   \n",
       "\n",
       "   dir_negocio_garante  tel_celular_garante  tel_casa_garante  \\\n",
       "0                   \\N                   \\N                \\N   \n",
       "1                   \\N                   \\N                \\N   \n",
       "2                   \\N                   \\N                \\N   \n",
       "3                   \\N                   \\N                \\N   \n",
       "4                   \\N                   \\N                \\N   \n",
       "\n",
       "  tel_negocio_garante  tel_fijo_garante tarea_asignada           f_proceso  \\\n",
       "0                  \\N                \\N            NaN 2022-10-04 10:05:08   \n",
       "1                  \\N                \\N            NaN 2022-10-04 10:05:08   \n",
       "2                  \\N                \\N            NaN 2022-10-04 10:05:08   \n",
       "3                  \\N                \\N            NaN 2022-10-04 10:05:08   \n",
       "4                  \\N                \\N            NaN 2022-10-04 10:05:08   \n",
       "\n",
       "  hora_contactar  \n",
       "0             \\N  \n",
       "1             \\N  \n",
       "2             \\N  \n",
       "3             \\N  \n",
       "4             \\N  \n",
       "\n",
       "[5 rows x 146 columns]"
      ]
     },
     "execution_count": 4,
     "metadata": {},
     "output_type": "execute_result"
    }
   ],
   "source": [
    "df_resumen_creditos =pd.read_excel(f'datos_avance.xlsx',sheet_name='resumen_creditos')\n",
    "df_resumen_creditos.head()\n"
   ]
  },
  {
   "cell_type": "code",
   "execution_count": null,
   "id": "c1fa0ba5",
   "metadata": {},
   "outputs": [],
   "source": [
    "df_resumen_creditos.columns"
   ]
  },
  {
   "cell_type": "code",
   "execution_count": null,
   "id": "38b0538e",
   "metadata": {},
   "outputs": [],
   "source": [
    "df_resumen_creditos.info()\n"
   ]
  },
  {
   "cell_type": "code",
   "execution_count": null,
   "id": "7807e196",
   "metadata": {},
   "outputs": [],
   "source": [
    "df_resumen_creditos['credito'].info()"
   ]
  },
  {
   "cell_type": "markdown",
   "id": "590294ea",
   "metadata": {
    "heading_collapsed": true
   },
   "source": [
    "### Rate of Recovery (Test #1)\n"
   ]
  },
  {
   "cell_type": "markdown",
   "id": "ce25cd2f",
   "metadata": {
    "hidden": true
   },
   "source": [
    "Objetivo: Predecir cuales factores influyen más en el pago de una mayor proporción de la deuda."
   ]
  },
  {
   "cell_type": "code",
   "execution_count": 5,
   "id": "ed3149a1",
   "metadata": {
    "hidden": true
   },
   "outputs": [
    {
     "data": {
      "text/html": [
       "<div>\n",
       "<style scoped>\n",
       "    .dataframe tbody tr th:only-of-type {\n",
       "        vertical-align: middle;\n",
       "    }\n",
       "\n",
       "    .dataframe tbody tr th {\n",
       "        vertical-align: top;\n",
       "    }\n",
       "\n",
       "    .dataframe thead th {\n",
       "        text-align: right;\n",
       "    }\n",
       "</style>\n",
       "<table border=\"1\" class=\"dataframe\">\n",
       "  <thead>\n",
       "    <tr style=\"text-align: right;\">\n",
       "      <th></th>\n",
       "      <th>MesCargue</th>\n",
       "      <th>Codigo</th>\n",
       "      <th>Agencia</th>\n",
       "      <th>Credito</th>\n",
       "      <th>Estado</th>\n",
       "      <th>SaldoFindeMes</th>\n",
       "      <th>DiasMoraFindeMes</th>\n",
       "      <th>SaldoActual</th>\n",
       "      <th>DiasmoraActual</th>\n",
       "      <th>FechaValor</th>\n",
       "      <th>...</th>\n",
       "      <th>MORA</th>\n",
       "      <th>PAGOSOTROS</th>\n",
       "      <th>TotalCancelado</th>\n",
       "      <th>VRgoech</th>\n",
       "      <th>CONDCAPITAL</th>\n",
       "      <th>CONDINTERES</th>\n",
       "      <th>CONDMORA</th>\n",
       "      <th>DiasMoraPago</th>\n",
       "      <th>Reverso</th>\n",
       "      <th>Concepto</th>\n",
       "    </tr>\n",
       "  </thead>\n",
       "  <tbody>\n",
       "    <tr>\n",
       "      <th>0</th>\n",
       "      <td>2016-10</td>\n",
       "      <td>101</td>\n",
       "      <td>BUCARAMANGA AGENCIA PRINCIPAL</td>\n",
       "      <td>101101002728</td>\n",
       "      <td>Castigado</td>\n",
       "      <td>321631</td>\n",
       "      <td>2032</td>\n",
       "      <td>0</td>\n",
       "      <td>0</td>\n",
       "      <td>2016-10-18</td>\n",
       "      <td>...</td>\n",
       "      <td>0</td>\n",
       "      <td>10556</td>\n",
       "      <td>332187</td>\n",
       "      <td>321631</td>\n",
       "      <td>0</td>\n",
       "      <td>0</td>\n",
       "      <td>594634</td>\n",
       "      <td>2050</td>\n",
       "      <td>NaN</td>\n",
       "      <td>NaN</td>\n",
       "    </tr>\n",
       "    <tr>\n",
       "      <th>1</th>\n",
       "      <td>2016-10</td>\n",
       "      <td>101</td>\n",
       "      <td>BUCARAMANGA AGENCIA PRINCIPAL</td>\n",
       "      <td>101104101267</td>\n",
       "      <td>Castigado</td>\n",
       "      <td>149159</td>\n",
       "      <td>2142</td>\n",
       "      <td>0</td>\n",
       "      <td>0</td>\n",
       "      <td>2016-10-31</td>\n",
       "      <td>...</td>\n",
       "      <td>0</td>\n",
       "      <td>4182</td>\n",
       "      <td>153341</td>\n",
       "      <td>149159</td>\n",
       "      <td>0</td>\n",
       "      <td>3498</td>\n",
       "      <td>356515</td>\n",
       "      <td>2172</td>\n",
       "      <td>NaN</td>\n",
       "      <td>NaN</td>\n",
       "    </tr>\n",
       "    <tr>\n",
       "      <th>2</th>\n",
       "      <td>2016-10</td>\n",
       "      <td>101</td>\n",
       "      <td>BUCARAMANGA AGENCIA PRINCIPAL</td>\n",
       "      <td>101131041847</td>\n",
       "      <td>Castigado</td>\n",
       "      <td>384108</td>\n",
       "      <td>490</td>\n",
       "      <td>0</td>\n",
       "      <td>0</td>\n",
       "      <td>2016-10-20</td>\n",
       "      <td>...</td>\n",
       "      <td>0</td>\n",
       "      <td>9799</td>\n",
       "      <td>393907</td>\n",
       "      <td>384108</td>\n",
       "      <td>0</td>\n",
       "      <td>20307</td>\n",
       "      <td>233846</td>\n",
       "      <td>510</td>\n",
       "      <td>NaN</td>\n",
       "      <td>NaN</td>\n",
       "    </tr>\n",
       "    <tr>\n",
       "      <th>3</th>\n",
       "      <td>2016-10</td>\n",
       "      <td>102</td>\n",
       "      <td>BUCARAMANGA AGENCIA ASTURIAS</td>\n",
       "      <td>102141028221</td>\n",
       "      <td>Castigado</td>\n",
       "      <td>291780</td>\n",
       "      <td>706</td>\n",
       "      <td>0</td>\n",
       "      <td>0</td>\n",
       "      <td>2016-10-21</td>\n",
       "      <td>...</td>\n",
       "      <td>0</td>\n",
       "      <td>20420</td>\n",
       "      <td>312200</td>\n",
       "      <td>291780</td>\n",
       "      <td>0</td>\n",
       "      <td>30678</td>\n",
       "      <td>226165</td>\n",
       "      <td>727</td>\n",
       "      <td>NaN</td>\n",
       "      <td>NaN</td>\n",
       "    </tr>\n",
       "    <tr>\n",
       "      <th>4</th>\n",
       "      <td>2016-10</td>\n",
       "      <td>102</td>\n",
       "      <td>BUCARAMANGA AGENCIA ASTURIAS</td>\n",
       "      <td>102141028298</td>\n",
       "      <td>Castigado</td>\n",
       "      <td>1363613</td>\n",
       "      <td>803</td>\n",
       "      <td>1322611</td>\n",
       "      <td>803</td>\n",
       "      <td>2016-10-18</td>\n",
       "      <td>...</td>\n",
       "      <td>0</td>\n",
       "      <td>12549</td>\n",
       "      <td>100000</td>\n",
       "      <td>87451</td>\n",
       "      <td>0</td>\n",
       "      <td>0</td>\n",
       "      <td>52487</td>\n",
       "      <td>821</td>\n",
       "      <td>NaN</td>\n",
       "      <td>NaN</td>\n",
       "    </tr>\n",
       "  </tbody>\n",
       "</table>\n",
       "<p>5 rows × 27 columns</p>\n",
       "</div>"
      ],
      "text/plain": [
       "  MesCargue  Codigo                        Agencia       Credito     Estado  \\\n",
       "0   2016-10     101  BUCARAMANGA AGENCIA PRINCIPAL  101101002728  Castigado   \n",
       "1   2016-10     101  BUCARAMANGA AGENCIA PRINCIPAL  101104101267  Castigado   \n",
       "2   2016-10     101  BUCARAMANGA AGENCIA PRINCIPAL  101131041847  Castigado   \n",
       "3   2016-10     102   BUCARAMANGA AGENCIA ASTURIAS  102141028221  Castigado   \n",
       "4   2016-10     102   BUCARAMANGA AGENCIA ASTURIAS  102141028298  Castigado   \n",
       "\n",
       "   SaldoFindeMes  DiasMoraFindeMes  SaldoActual  DiasmoraActual FechaValor  \\\n",
       "0         321631              2032            0               0 2016-10-18   \n",
       "1         149159              2142            0               0 2016-10-31   \n",
       "2         384108               490            0               0 2016-10-20   \n",
       "3         291780               706            0               0 2016-10-21   \n",
       "4        1363613               803      1322611             803 2016-10-18   \n",
       "\n",
       "   ... MORA PAGOSOTROS  TotalCancelado  VRgoech CONDCAPITAL  CONDINTERES  \\\n",
       "0  ...    0      10556          332187   321631           0            0   \n",
       "1  ...    0       4182          153341   149159           0         3498   \n",
       "2  ...    0       9799          393907   384108           0        20307   \n",
       "3  ...    0      20420          312200   291780           0        30678   \n",
       "4  ...    0      12549          100000    87451           0            0   \n",
       "\n",
       "   CONDMORA  DiasMoraPago  Reverso  Concepto  \n",
       "0    594634          2050      NaN       NaN  \n",
       "1    356515          2172      NaN       NaN  \n",
       "2    233846           510      NaN       NaN  \n",
       "3    226165           727      NaN       NaN  \n",
       "4     52487           821      NaN       NaN  \n",
       "\n",
       "[5 rows x 27 columns]"
      ]
     },
     "execution_count": 5,
     "metadata": {},
     "output_type": "execute_result"
    }
   ],
   "source": [
    "df_pagos.head(5)"
   ]
  },
  {
   "cell_type": "code",
   "execution_count": 274,
   "id": "f0913057",
   "metadata": {
    "hidden": true
   },
   "outputs": [
    {
     "data": {
      "text/plain": [
       "MesCargue              71\n",
       "Codigo                267\n",
       "Agencia               529\n",
       "Credito             28870\n",
       "Estado                  5\n",
       "SaldoFindeMes       80968\n",
       "DiasMoraFindeMes     2827\n",
       "SaldoActual         64306\n",
       "DiasmoraActual       2789\n",
       "FechaValor           1743\n",
       "FechaPago            1716\n",
       "RangoCuotas             6\n",
       "Cuotas               2811\n",
       "ValorCuota          15922\n",
       "TipoPago                3\n",
       "CAPITAL             69489\n",
       "INTERES             33970\n",
       "MORA                21099\n",
       "PAGOSOTROS          31796\n",
       "TotalCancelado      12794\n",
       "VRgoech             61958\n",
       "CONDCAPITAL          1777\n",
       "CONDINTERES         10964\n",
       "CONDMORA            62106\n",
       "DiasMoraPago         4318\n",
       "Reverso              2124\n",
       "Concepto                5\n",
       "dtype: int64"
      ]
     },
     "execution_count": 274,
     "metadata": {},
     "output_type": "execute_result"
    }
   ],
   "source": [
    "df_pagos.nunique()"
   ]
  },
  {
   "cell_type": "code",
   "execution_count": null,
   "id": "aa0e3f19",
   "metadata": {
    "hidden": true
   },
   "outputs": [],
   "source": []
  },
  {
   "cell_type": "code",
   "execution_count": 8,
   "id": "88c09413",
   "metadata": {
    "hidden": true
   },
   "outputs": [
    {
     "data": {
      "text/plain": [
       "False    101214\n",
       "Name: SaldoFindeMes, dtype: int64"
      ]
     },
     "execution_count": 8,
     "metadata": {},
     "output_type": "execute_result"
    }
   ],
   "source": [
    "df_pagos['SaldoFindeMes'].isna().value_counts()"
   ]
  },
  {
   "cell_type": "code",
   "execution_count": 7,
   "id": "06acff86",
   "metadata": {
    "hidden": true
   },
   "outputs": [
    {
     "data": {
      "text/plain": [
       "True"
      ]
     },
     "execution_count": 7,
     "metadata": {},
     "output_type": "execute_result"
    }
   ],
   "source": [
    "isinstance(df_pagos, pd.DataFrame)"
   ]
  },
  {
   "cell_type": "code",
   "execution_count": 9,
   "id": "64615c82",
   "metadata": {
    "hidden": true
   },
   "outputs": [],
   "source": [
    "df_pagos['SaldoFindeMes'] = df_pagos['SaldoFindeMes'].replace(0, np.nan)\n",
    "\n"
   ]
  },
  {
   "cell_type": "code",
   "execution_count": 10,
   "id": "9c7d9a5d",
   "metadata": {
    "hidden": true
   },
   "outputs": [
    {
     "data": {
      "text/plain": [
       "False    101172\n",
       "True         42\n",
       "Name: SaldoFindeMes, dtype: int64"
      ]
     },
     "execution_count": 10,
     "metadata": {},
     "output_type": "execute_result"
    }
   ],
   "source": [
    "df_pagos['SaldoFindeMes'].isna().value_counts()"
   ]
  },
  {
   "cell_type": "code",
   "execution_count": 11,
   "id": "a8acead6",
   "metadata": {
    "hidden": true
   },
   "outputs": [],
   "source": [
    "df_pagos_cleaned = df_pagos.dropna(subset = [\"SaldoFindeMes\"]) "
   ]
  },
  {
   "cell_type": "code",
   "execution_count": 12,
   "id": "c35aa807",
   "metadata": {
    "hidden": true
   },
   "outputs": [
    {
     "data": {
      "text/plain": [
       "False    101172\n",
       "Name: SaldoFindeMes, dtype: int64"
      ]
     },
     "execution_count": 12,
     "metadata": {},
     "output_type": "execute_result"
    }
   ],
   "source": [
    "df_pagos_cleaned[\"SaldoFindeMes\"].isna().value_counts()"
   ]
  },
  {
   "cell_type": "code",
   "execution_count": 13,
   "id": "c2697252",
   "metadata": {
    "hidden": true
   },
   "outputs": [
    {
     "name": "stderr",
     "output_type": "stream",
     "text": [
      "/tmp/ipykernel_769/3106164577.py:1: SettingWithCopyWarning: \n",
      "A value is trying to be set on a copy of a slice from a DataFrame.\n",
      "Try using .loc[row_indexer,col_indexer] = value instead\n",
      "\n",
      "See the caveats in the documentation: https://pandas.pydata.org/pandas-docs/stable/user_guide/indexing.html#returning-a-view-versus-a-copy\n",
      "  df_pagos_cleaned['rate'] = df_pagos_cleaned['TotalCancelado']/df_pagos_cleaned['SaldoFindeMes']\n"
     ]
    }
   ],
   "source": [
    "df_pagos_cleaned['rate'] = df_pagos_cleaned['TotalCancelado']/df_pagos_cleaned['SaldoFindeMes']"
   ]
  },
  {
   "cell_type": "code",
   "execution_count": 14,
   "id": "7f226c8d",
   "metadata": {
    "hidden": true
   },
   "outputs": [
    {
     "data": {
      "text/html": [
       "<div>\n",
       "<style scoped>\n",
       "    .dataframe tbody tr th:only-of-type {\n",
       "        vertical-align: middle;\n",
       "    }\n",
       "\n",
       "    .dataframe tbody tr th {\n",
       "        vertical-align: top;\n",
       "    }\n",
       "\n",
       "    .dataframe thead th {\n",
       "        text-align: right;\n",
       "    }\n",
       "</style>\n",
       "<table border=\"1\" class=\"dataframe\">\n",
       "  <thead>\n",
       "    <tr style=\"text-align: right;\">\n",
       "      <th></th>\n",
       "      <th>MesCargue</th>\n",
       "      <th>Codigo</th>\n",
       "      <th>Agencia</th>\n",
       "      <th>Credito</th>\n",
       "      <th>Estado</th>\n",
       "      <th>SaldoFindeMes</th>\n",
       "      <th>DiasMoraFindeMes</th>\n",
       "      <th>SaldoActual</th>\n",
       "      <th>DiasmoraActual</th>\n",
       "      <th>FechaValor</th>\n",
       "      <th>...</th>\n",
       "      <th>PAGOSOTROS</th>\n",
       "      <th>TotalCancelado</th>\n",
       "      <th>VRgoech</th>\n",
       "      <th>CONDCAPITAL</th>\n",
       "      <th>CONDINTERES</th>\n",
       "      <th>CONDMORA</th>\n",
       "      <th>DiasMoraPago</th>\n",
       "      <th>Reverso</th>\n",
       "      <th>Concepto</th>\n",
       "      <th>rate</th>\n",
       "    </tr>\n",
       "  </thead>\n",
       "  <tbody>\n",
       "    <tr>\n",
       "      <th>0</th>\n",
       "      <td>2016-10</td>\n",
       "      <td>101</td>\n",
       "      <td>BUCARAMANGA AGENCIA PRINCIPAL</td>\n",
       "      <td>101101002728</td>\n",
       "      <td>Castigado</td>\n",
       "      <td>321631.0</td>\n",
       "      <td>2032</td>\n",
       "      <td>0</td>\n",
       "      <td>0</td>\n",
       "      <td>2016-10-18</td>\n",
       "      <td>...</td>\n",
       "      <td>10556</td>\n",
       "      <td>332187</td>\n",
       "      <td>321631</td>\n",
       "      <td>0</td>\n",
       "      <td>0</td>\n",
       "      <td>594634</td>\n",
       "      <td>2050</td>\n",
       "      <td>NaN</td>\n",
       "      <td>NaN</td>\n",
       "      <td>1.032820</td>\n",
       "    </tr>\n",
       "    <tr>\n",
       "      <th>1</th>\n",
       "      <td>2016-10</td>\n",
       "      <td>101</td>\n",
       "      <td>BUCARAMANGA AGENCIA PRINCIPAL</td>\n",
       "      <td>101104101267</td>\n",
       "      <td>Castigado</td>\n",
       "      <td>149159.0</td>\n",
       "      <td>2142</td>\n",
       "      <td>0</td>\n",
       "      <td>0</td>\n",
       "      <td>2016-10-31</td>\n",
       "      <td>...</td>\n",
       "      <td>4182</td>\n",
       "      <td>153341</td>\n",
       "      <td>149159</td>\n",
       "      <td>0</td>\n",
       "      <td>3498</td>\n",
       "      <td>356515</td>\n",
       "      <td>2172</td>\n",
       "      <td>NaN</td>\n",
       "      <td>NaN</td>\n",
       "      <td>1.028037</td>\n",
       "    </tr>\n",
       "    <tr>\n",
       "      <th>2</th>\n",
       "      <td>2016-10</td>\n",
       "      <td>101</td>\n",
       "      <td>BUCARAMANGA AGENCIA PRINCIPAL</td>\n",
       "      <td>101131041847</td>\n",
       "      <td>Castigado</td>\n",
       "      <td>384108.0</td>\n",
       "      <td>490</td>\n",
       "      <td>0</td>\n",
       "      <td>0</td>\n",
       "      <td>2016-10-20</td>\n",
       "      <td>...</td>\n",
       "      <td>9799</td>\n",
       "      <td>393907</td>\n",
       "      <td>384108</td>\n",
       "      <td>0</td>\n",
       "      <td>20307</td>\n",
       "      <td>233846</td>\n",
       "      <td>510</td>\n",
       "      <td>NaN</td>\n",
       "      <td>NaN</td>\n",
       "      <td>1.025511</td>\n",
       "    </tr>\n",
       "    <tr>\n",
       "      <th>3</th>\n",
       "      <td>2016-10</td>\n",
       "      <td>102</td>\n",
       "      <td>BUCARAMANGA AGENCIA ASTURIAS</td>\n",
       "      <td>102141028221</td>\n",
       "      <td>Castigado</td>\n",
       "      <td>291780.0</td>\n",
       "      <td>706</td>\n",
       "      <td>0</td>\n",
       "      <td>0</td>\n",
       "      <td>2016-10-21</td>\n",
       "      <td>...</td>\n",
       "      <td>20420</td>\n",
       "      <td>312200</td>\n",
       "      <td>291780</td>\n",
       "      <td>0</td>\n",
       "      <td>30678</td>\n",
       "      <td>226165</td>\n",
       "      <td>727</td>\n",
       "      <td>NaN</td>\n",
       "      <td>NaN</td>\n",
       "      <td>1.069984</td>\n",
       "    </tr>\n",
       "    <tr>\n",
       "      <th>4</th>\n",
       "      <td>2016-10</td>\n",
       "      <td>102</td>\n",
       "      <td>BUCARAMANGA AGENCIA ASTURIAS</td>\n",
       "      <td>102141028298</td>\n",
       "      <td>Castigado</td>\n",
       "      <td>1363613.0</td>\n",
       "      <td>803</td>\n",
       "      <td>1322611</td>\n",
       "      <td>803</td>\n",
       "      <td>2016-10-18</td>\n",
       "      <td>...</td>\n",
       "      <td>12549</td>\n",
       "      <td>100000</td>\n",
       "      <td>87451</td>\n",
       "      <td>0</td>\n",
       "      <td>0</td>\n",
       "      <td>52487</td>\n",
       "      <td>821</td>\n",
       "      <td>NaN</td>\n",
       "      <td>NaN</td>\n",
       "      <td>0.073335</td>\n",
       "    </tr>\n",
       "  </tbody>\n",
       "</table>\n",
       "<p>5 rows × 28 columns</p>\n",
       "</div>"
      ],
      "text/plain": [
       "  MesCargue  Codigo                        Agencia       Credito     Estado  \\\n",
       "0   2016-10     101  BUCARAMANGA AGENCIA PRINCIPAL  101101002728  Castigado   \n",
       "1   2016-10     101  BUCARAMANGA AGENCIA PRINCIPAL  101104101267  Castigado   \n",
       "2   2016-10     101  BUCARAMANGA AGENCIA PRINCIPAL  101131041847  Castigado   \n",
       "3   2016-10     102   BUCARAMANGA AGENCIA ASTURIAS  102141028221  Castigado   \n",
       "4   2016-10     102   BUCARAMANGA AGENCIA ASTURIAS  102141028298  Castigado   \n",
       "\n",
       "   SaldoFindeMes  DiasMoraFindeMes  SaldoActual  DiasmoraActual FechaValor  \\\n",
       "0       321631.0              2032            0               0 2016-10-18   \n",
       "1       149159.0              2142            0               0 2016-10-31   \n",
       "2       384108.0               490            0               0 2016-10-20   \n",
       "3       291780.0               706            0               0 2016-10-21   \n",
       "4      1363613.0               803      1322611             803 2016-10-18   \n",
       "\n",
       "   ... PAGOSOTROS TotalCancelado  VRgoech  CONDCAPITAL CONDINTERES  CONDMORA  \\\n",
       "0  ...      10556         332187   321631            0           0    594634   \n",
       "1  ...       4182         153341   149159            0        3498    356515   \n",
       "2  ...       9799         393907   384108            0       20307    233846   \n",
       "3  ...      20420         312200   291780            0       30678    226165   \n",
       "4  ...      12549         100000    87451            0           0     52487   \n",
       "\n",
       "   DiasMoraPago  Reverso  Concepto      rate  \n",
       "0          2050      NaN       NaN  1.032820  \n",
       "1          2172      NaN       NaN  1.028037  \n",
       "2           510      NaN       NaN  1.025511  \n",
       "3           727      NaN       NaN  1.069984  \n",
       "4           821      NaN       NaN  0.073335  \n",
       "\n",
       "[5 rows x 28 columns]"
      ]
     },
     "execution_count": 14,
     "metadata": {},
     "output_type": "execute_result"
    }
   ],
   "source": [
    "df_pagos_cleaned.head()"
   ]
  },
  {
   "cell_type": "code",
   "execution_count": 15,
   "id": "792eaa6e",
   "metadata": {
    "hidden": true
   },
   "outputs": [
    {
     "name": "stdout",
     "output_type": "stream",
     "text": [
      "<class 'pandas.core.series.Series'>\n",
      "Int64Index: 101172 entries, 0 to 101213\n",
      "Series name: SaldoFindeMes\n",
      "Non-Null Count   Dtype  \n",
      "--------------   -----  \n",
      "101172 non-null  float64\n",
      "dtypes: float64(1)\n",
      "memory usage: 1.5 MB\n"
     ]
    }
   ],
   "source": [
    "df_pagos_cleaned['SaldoFindeMes'].info()"
   ]
  },
  {
   "cell_type": "code",
   "execution_count": 16,
   "id": "1b1f159c",
   "metadata": {
    "hidden": true
   },
   "outputs": [
    {
     "data": {
      "text/plain": [
       "count    101172.000000\n",
       "mean          0.440709\n",
       "std           1.849641\n",
       "min           0.000002\n",
       "25%           0.103865\n",
       "50%           0.221439\n",
       "75%           0.591595\n",
       "max         518.687059\n",
       "Name: rate, dtype: float64"
      ]
     },
     "execution_count": 16,
     "metadata": {},
     "output_type": "execute_result"
    }
   ],
   "source": [
    "df_pagos_cleaned['rate'].describe()"
   ]
  },
  {
   "cell_type": "markdown",
   "id": "c1557b09",
   "metadata": {},
   "source": [
    "## Merging Dataset"
   ]
  },
  {
   "cell_type": "markdown",
   "id": "e7c98521",
   "metadata": {
    "heading_collapsed": true
   },
   "source": [
    "### Merging Individual Credit numbers (Total Cancelado / SaldoFindeMes)"
   ]
  },
  {
   "cell_type": "code",
   "execution_count": 50,
   "id": "c77e0dc6",
   "metadata": {
    "hidden": true
   },
   "outputs": [],
   "source": [
    "df_merged = df_pagos_cleaned.merge(df_asignacion_fdem, on='Credito', how='inner')\n"
   ]
  },
  {
   "cell_type": "code",
   "execution_count": 51,
   "id": "b7e77306",
   "metadata": {
    "hidden": true
   },
   "outputs": [
    {
     "data": {
      "text/html": [
       "<div>\n",
       "<style scoped>\n",
       "    .dataframe tbody tr th:only-of-type {\n",
       "        vertical-align: middle;\n",
       "    }\n",
       "\n",
       "    .dataframe tbody tr th {\n",
       "        vertical-align: top;\n",
       "    }\n",
       "\n",
       "    .dataframe thead th {\n",
       "        text-align: right;\n",
       "    }\n",
       "</style>\n",
       "<table border=\"1\" class=\"dataframe\">\n",
       "  <thead>\n",
       "    <tr style=\"text-align: right;\">\n",
       "      <th></th>\n",
       "      <th>MesCargue</th>\n",
       "      <th>Codigo</th>\n",
       "      <th>Agencia</th>\n",
       "      <th>Credito</th>\n",
       "      <th>Estado</th>\n",
       "      <th>SaldoFindeMes</th>\n",
       "      <th>DiasMoraFindeMes</th>\n",
       "      <th>SaldoActual</th>\n",
       "      <th>DiasmoraActual</th>\n",
       "      <th>FechaValor</th>\n",
       "      <th>...</th>\n",
       "      <th>inter_corri</th>\n",
       "      <th>inter_mora</th>\n",
       "      <th>hyc</th>\n",
       "      <th>seguro</th>\n",
       "      <th>iva</th>\n",
       "      <th>valor_cuota</th>\n",
       "      <th>nro_cuotas_atrasadas</th>\n",
       "      <th>cuotas_canceladas</th>\n",
       "      <th>cuotas_vencidas</th>\n",
       "      <th>vigente</th>\n",
       "    </tr>\n",
       "  </thead>\n",
       "  <tbody>\n",
       "    <tr>\n",
       "      <th>0</th>\n",
       "      <td>2016-10</td>\n",
       "      <td>102</td>\n",
       "      <td>BUCARAMANGA AGENCIA ASTURIAS</td>\n",
       "      <td>102141028298</td>\n",
       "      <td>Castigado</td>\n",
       "      <td>1363613.0</td>\n",
       "      <td>803</td>\n",
       "      <td>1322611</td>\n",
       "      <td>803</td>\n",
       "      <td>2016-10-18</td>\n",
       "      <td>...</td>\n",
       "      <td>328060</td>\n",
       "      <td>1600589</td>\n",
       "      <td>98329</td>\n",
       "      <td>3184</td>\n",
       "      <td>18686</td>\n",
       "      <td>121691</td>\n",
       "      <td>18</td>\n",
       "      <td>4</td>\n",
       "      <td>14</td>\n",
       "      <td>0</td>\n",
       "    </tr>\n",
       "    <tr>\n",
       "      <th>1</th>\n",
       "      <td>2016-10</td>\n",
       "      <td>104</td>\n",
       "      <td>BUCARAMANGA AGENCIA CABECERA</td>\n",
       "      <td>104131021163</td>\n",
       "      <td>Castigado</td>\n",
       "      <td>3999034.0</td>\n",
       "      <td>645</td>\n",
       "      <td>3999034</td>\n",
       "      <td>675</td>\n",
       "      <td>2016-10-05</td>\n",
       "      <td>...</td>\n",
       "      <td>0</td>\n",
       "      <td>66918</td>\n",
       "      <td>91812</td>\n",
       "      <td>4674</td>\n",
       "      <td>17448</td>\n",
       "      <td>205710</td>\n",
       "      <td>48</td>\n",
       "      <td>35</td>\n",
       "      <td>13</td>\n",
       "      <td>0</td>\n",
       "    </tr>\n",
       "    <tr>\n",
       "      <th>2</th>\n",
       "      <td>2016-11</td>\n",
       "      <td>104</td>\n",
       "      <td>BUCARAMANGA AGENCIA CABECERA</td>\n",
       "      <td>104131021163</td>\n",
       "      <td>Castigado</td>\n",
       "      <td>3999034.0</td>\n",
       "      <td>675</td>\n",
       "      <td>3839013</td>\n",
       "      <td>646</td>\n",
       "      <td>2016-11-09</td>\n",
       "      <td>...</td>\n",
       "      <td>0</td>\n",
       "      <td>66918</td>\n",
       "      <td>91812</td>\n",
       "      <td>4674</td>\n",
       "      <td>17448</td>\n",
       "      <td>205710</td>\n",
       "      <td>48</td>\n",
       "      <td>35</td>\n",
       "      <td>13</td>\n",
       "      <td>0</td>\n",
       "    </tr>\n",
       "    <tr>\n",
       "      <th>3</th>\n",
       "      <td>2016-11</td>\n",
       "      <td>104</td>\n",
       "      <td>BUCARAMANGA AGENCIA CABECERA</td>\n",
       "      <td>104131021163</td>\n",
       "      <td>Castigado</td>\n",
       "      <td>3999034.0</td>\n",
       "      <td>675</td>\n",
       "      <td>3839013</td>\n",
       "      <td>646</td>\n",
       "      <td>2016-11-30</td>\n",
       "      <td>...</td>\n",
       "      <td>0</td>\n",
       "      <td>66918</td>\n",
       "      <td>91812</td>\n",
       "      <td>4674</td>\n",
       "      <td>17448</td>\n",
       "      <td>205710</td>\n",
       "      <td>48</td>\n",
       "      <td>35</td>\n",
       "      <td>13</td>\n",
       "      <td>0</td>\n",
       "    </tr>\n",
       "    <tr>\n",
       "      <th>4</th>\n",
       "      <td>2017-01</td>\n",
       "      <td>104</td>\n",
       "      <td>BUCARAMANGA AGENCIA CABECERA</td>\n",
       "      <td>104131021163</td>\n",
       "      <td>Castigado</td>\n",
       "      <td>3839013.0</td>\n",
       "      <td>675</td>\n",
       "      <td>3760966</td>\n",
       "      <td>676</td>\n",
       "      <td>2017-01-11</td>\n",
       "      <td>...</td>\n",
       "      <td>0</td>\n",
       "      <td>66918</td>\n",
       "      <td>91812</td>\n",
       "      <td>4674</td>\n",
       "      <td>17448</td>\n",
       "      <td>205710</td>\n",
       "      <td>48</td>\n",
       "      <td>35</td>\n",
       "      <td>13</td>\n",
       "      <td>0</td>\n",
       "    </tr>\n",
       "  </tbody>\n",
       "</table>\n",
       "<p>5 rows × 68 columns</p>\n",
       "</div>"
      ],
      "text/plain": [
       "  MesCargue  Codigo                       Agencia       Credito     Estado  \\\n",
       "0   2016-10     102  BUCARAMANGA AGENCIA ASTURIAS  102141028298  Castigado   \n",
       "1   2016-10     104  BUCARAMANGA AGENCIA CABECERA  104131021163  Castigado   \n",
       "2   2016-11     104  BUCARAMANGA AGENCIA CABECERA  104131021163  Castigado   \n",
       "3   2016-11     104  BUCARAMANGA AGENCIA CABECERA  104131021163  Castigado   \n",
       "4   2017-01     104  BUCARAMANGA AGENCIA CABECERA  104131021163  Castigado   \n",
       "\n",
       "   SaldoFindeMes  DiasMoraFindeMes  SaldoActual  DiasmoraActual FechaValor  \\\n",
       "0      1363613.0               803      1322611             803 2016-10-18   \n",
       "1      3999034.0               645      3999034             675 2016-10-05   \n",
       "2      3999034.0               675      3839013             646 2016-11-09   \n",
       "3      3999034.0               675      3839013             646 2016-11-30   \n",
       "4      3839013.0               675      3760966             676 2017-01-11   \n",
       "\n",
       "   ... inter_corri inter_mora    hyc  seguro    iva  valor_cuota  \\\n",
       "0  ...      328060    1600589  98329    3184  18686       121691   \n",
       "1  ...           0      66918  91812    4674  17448       205710   \n",
       "2  ...           0      66918  91812    4674  17448       205710   \n",
       "3  ...           0      66918  91812    4674  17448       205710   \n",
       "4  ...           0      66918  91812    4674  17448       205710   \n",
       "\n",
       "   nro_cuotas_atrasadas  cuotas_canceladas  cuotas_vencidas  vigente  \n",
       "0                    18                  4               14        0  \n",
       "1                    48                 35               13        0  \n",
       "2                    48                 35               13        0  \n",
       "3                    48                 35               13        0  \n",
       "4                    48                 35               13        0  \n",
       "\n",
       "[5 rows x 68 columns]"
      ]
     },
     "execution_count": 51,
     "metadata": {},
     "output_type": "execute_result"
    }
   ],
   "source": [
    "df_merged.head()"
   ]
  },
  {
   "cell_type": "code",
   "execution_count": 52,
   "id": "f4e44ad0",
   "metadata": {
    "hidden": true
   },
   "outputs": [
    {
     "name": "stdout",
     "output_type": "stream",
     "text": [
      "<class 'pandas.core.frame.DataFrame'>\n",
      "Int64Index: 64713 entries, 0 to 64712\n",
      "Data columns (total 68 columns):\n",
      " #   Column                Non-Null Count  Dtype         \n",
      "---  ------                --------------  -----         \n",
      " 0   MesCargue             64713 non-null  object        \n",
      " 1   Codigo                64713 non-null  int64         \n",
      " 2   Agencia               64713 non-null  object        \n",
      " 3   Credito               64713 non-null  int64         \n",
      " 4   Estado                64713 non-null  object        \n",
      " 5   SaldoFindeMes         64713 non-null  float64       \n",
      " 6   DiasMoraFindeMes      64713 non-null  int64         \n",
      " 7   SaldoActual           64713 non-null  int64         \n",
      " 8   DiasmoraActual        64713 non-null  int64         \n",
      " 9   FechaValor            64713 non-null  datetime64[ns]\n",
      " 10  FechaPago             64713 non-null  datetime64[ns]\n",
      " 11  RangoCuotas           64713 non-null  object        \n",
      " 12  Cuotas                64713 non-null  int64         \n",
      " 13  ValorCuota            64713 non-null  int64         \n",
      " 14  TipoPago              64223 non-null  object        \n",
      " 15  CAPITAL               64713 non-null  int64         \n",
      " 16  INTERES               64713 non-null  int64         \n",
      " 17  MORA                  64713 non-null  int64         \n",
      " 18  PAGOSOTROS            64713 non-null  int64         \n",
      " 19  TotalCancelado        64713 non-null  int64         \n",
      " 20  VRgoech               64713 non-null  int64         \n",
      " 21  CONDCAPITAL           64713 non-null  int64         \n",
      " 22  CONDINTERES           64713 non-null  int64         \n",
      " 23  CONDMORA              64713 non-null  int64         \n",
      " 24  DiasMoraPago          64713 non-null  int64         \n",
      " 25  Reverso               64223 non-null  object        \n",
      " 26  Concepto              64223 non-null  object        \n",
      " 27  rate                  64713 non-null  float64       \n",
      " 28  Titular               64713 non-null  int64         \n",
      " 29  agencia               64713 non-null  int64         \n",
      " 30  tipo                  64713 non-null  object        \n",
      " 31  primera_asignacion    64713 non-null  datetime64[ns]\n",
      " 32  fecha_asignacion      64713 non-null  datetime64[ns]\n",
      " 33  fecha_desasignacion   64713 non-null  object        \n",
      " 34  nombre                64713 non-null  object        \n",
      " 35  ciudad                64713 non-null  object        \n",
      " 36  tel_casa              64713 non-null  int64         \n",
      " 37  tel_negocio           64713 non-null  int64         \n",
      " 38  celular               64713 non-null  int64         \n",
      " 39  cedula_conyuge        64713 non-null  int64         \n",
      " 40  nombre_conyuge        26985 non-null  object        \n",
      " 41  tel_casa_conyuge      64713 non-null  int64         \n",
      " 42  tel_negocio_conyuge   64713 non-null  int64         \n",
      " 43  celular_conyuge       64713 non-null  int64         \n",
      " 44  nombre_garante        27497 non-null  object        \n",
      " 45  cedula_garante        64713 non-null  int64         \n",
      " 46  tel_casa_garante      64713 non-null  int64         \n",
      " 47  tel_negocio_garante   64713 non-null  int64         \n",
      " 48  celular_garante       64713 non-null  int64         \n",
      " 49  producto              64713 non-null  object        \n",
      " 50  dias_atraso           64713 non-null  int64         \n",
      " 51  fecha_atraso          64713 non-null  object        \n",
      " 52  fecha_desembolso      64713 non-null  object        \n",
      " 53  fecha_castigo         64713 non-null  object        \n",
      " 54  grupo_castigo         64713 non-null  datetime64[ns]\n",
      " 55  ultimo_pago           64713 non-null  object        \n",
      " 56  monto                 64713 non-null  int64         \n",
      " 57  capital               64713 non-null  int64         \n",
      " 58  inter_corri           64713 non-null  int64         \n",
      " 59  inter_mora            64713 non-null  int64         \n",
      " 60  hyc                   64713 non-null  int64         \n",
      " 61  seguro                64713 non-null  int64         \n",
      " 62  iva                   64713 non-null  int64         \n",
      " 63  valor_cuota           64713 non-null  int64         \n",
      " 64  nro_cuotas_atrasadas  64713 non-null  int64         \n",
      " 65  cuotas_canceladas     64713 non-null  int64         \n",
      " 66  cuotas_vencidas       64713 non-null  int64         \n",
      " 67  vigente               64713 non-null  int64         \n",
      "dtypes: datetime64[ns](5), float64(2), int64(43), object(18)\n",
      "memory usage: 34.1+ MB\n"
     ]
    }
   ],
   "source": [
    "df_merged.info()"
   ]
  },
  {
   "cell_type": "code",
   "execution_count": 41,
   "id": "7a06307c",
   "metadata": {
    "hidden": true,
    "scrolled": true
   },
   "outputs": [
    {
     "data": {
      "text/plain": [
       "Index(['MesCargue', 'Codigo', 'Agencia', 'Credito', 'Estado', 'SaldoFindeMes',\n",
       "       'DiasMoraFindeMes', 'SaldoActual', 'DiasmoraActual', 'FechaValor',\n",
       "       'FechaPago', 'RangoCuotas', 'Cuotas', 'ValorCuota', 'TipoPago',\n",
       "       'CAPITAL', 'INTERES', 'MORA', 'PAGOSOTROS', 'TotalCancelado', 'VRgoech',\n",
       "       'CONDCAPITAL', 'CONDINTERES', 'CONDMORA', 'DiasMoraPago', 'Reverso',\n",
       "       'Concepto', 'rate', 'Titular', 'agencia', 'tipo', 'primera_asignacion',\n",
       "       'fecha_asignacion', 'fecha_desasignacion', 'nombre', 'ciudad',\n",
       "       'tel_casa', 'tel_negocio', 'celular', 'cedula_conyuge',\n",
       "       'nombre_conyuge', 'tel_casa_conyuge', 'tel_negocio_conyuge',\n",
       "       'celular_conyuge', 'nombre_garante', 'cedula_garante',\n",
       "       'tel_casa_garante', 'tel_negocio_garante', 'celular_garante',\n",
       "       'producto', 'dias_atraso', 'fecha_atraso', 'fecha_desembolso',\n",
       "       'fecha_castigo', 'grupo_castigo', 'ultimo_pago', 'monto', 'capital',\n",
       "       'inter_corri', 'inter_mora', 'hyc', 'seguro', 'iva', 'valor_cuota',\n",
       "       'nro_cuotas_atrasadas', 'cuotas_canceladas', 'cuotas_vencidas',\n",
       "       'vigente'],\n",
       "      dtype='object')"
      ]
     },
     "execution_count": 41,
     "metadata": {},
     "output_type": "execute_result"
    }
   ],
   "source": [
    "df_merged.columns"
   ]
  },
  {
   "cell_type": "code",
   "execution_count": 146,
   "id": "55026347",
   "metadata": {
    "hidden": true
   },
   "outputs": [
    {
     "data": {
      "text/plain": [
       "Index(['Credito', 'agencia', 'tipo', 'nombre', 'nombre_conyuge',\n",
       "       'nombre_garante', 'ciudad', 'producto', 'dias_atraso', 'grupo_castigo',\n",
       "       'ultimo_pago', 'monto', 'nro_cuotas_atrasadas', 'cuotas_canceladas',\n",
       "       'cuotas_vencidas', 'vigente', 'rate'],\n",
       "      dtype='object')"
      ]
     },
     "execution_count": 146,
     "metadata": {},
     "output_type": "execute_result"
    }
   ],
   "source": [
    "df_features = df_merged[['Credito','agencia','tipo','nombre','nombre_conyuge','nombre_garante','ciudad','producto', 'dias_atraso', 'grupo_castigo', 'ultimo_pago', 'monto', 'nro_cuotas_atrasadas', 'cuotas_canceladas', 'cuotas_vencidas','vigente','rate']]\n",
    "df_features.columns"
   ]
  },
  {
   "cell_type": "code",
   "execution_count": 147,
   "id": "77a2d5b4",
   "metadata": {
    "hidden": true,
    "scrolled": true
   },
   "outputs": [
    {
     "data": {
      "text/html": [
       "<div>\n",
       "<style scoped>\n",
       "    .dataframe tbody tr th:only-of-type {\n",
       "        vertical-align: middle;\n",
       "    }\n",
       "\n",
       "    .dataframe tbody tr th {\n",
       "        vertical-align: top;\n",
       "    }\n",
       "\n",
       "    .dataframe thead th {\n",
       "        text-align: right;\n",
       "    }\n",
       "</style>\n",
       "<table border=\"1\" class=\"dataframe\">\n",
       "  <thead>\n",
       "    <tr style=\"text-align: right;\">\n",
       "      <th></th>\n",
       "      <th>Credito</th>\n",
       "      <th>agencia</th>\n",
       "      <th>tipo</th>\n",
       "      <th>nombre</th>\n",
       "      <th>nombre_conyuge</th>\n",
       "      <th>nombre_garante</th>\n",
       "      <th>ciudad</th>\n",
       "      <th>producto</th>\n",
       "      <th>dias_atraso</th>\n",
       "      <th>grupo_castigo</th>\n",
       "      <th>ultimo_pago</th>\n",
       "      <th>monto</th>\n",
       "      <th>nro_cuotas_atrasadas</th>\n",
       "      <th>cuotas_canceladas</th>\n",
       "      <th>cuotas_vencidas</th>\n",
       "      <th>vigente</th>\n",
       "      <th>rate</th>\n",
       "    </tr>\n",
       "  </thead>\n",
       "  <tbody>\n",
       "    <tr>\n",
       "      <th>0</th>\n",
       "      <td>102141028298</td>\n",
       "      <td>102</td>\n",
       "      <td>NUEVO2</td>\n",
       "      <td>PIMIENTO  APARICIO TERESA</td>\n",
       "      <td>NaN</td>\n",
       "      <td>HERRERA   LUNA EDUARDO</td>\n",
       "      <td>FLORIDABLANCA</td>\n",
       "      <td>Fundacredito Maquinaria y Equipo con H y C Dif...</td>\n",
       "      <td>1763</td>\n",
       "      <td>2016-10-01</td>\n",
       "      <td>2016-10-18 00:00:00</td>\n",
       "      <td>1600000</td>\n",
       "      <td>18</td>\n",
       "      <td>4</td>\n",
       "      <td>14</td>\n",
       "      <td>0</td>\n",
       "      <td>0.073335</td>\n",
       "    </tr>\n",
       "    <tr>\n",
       "      <th>1</th>\n",
       "      <td>104131021163</td>\n",
       "      <td>104</td>\n",
       "      <td>MANTENIDO</td>\n",
       "      <td>PABON  RAMOS ANA  BENILDA</td>\n",
       "      <td>MORENO    PARMENIO</td>\n",
       "      <td>NaN</td>\n",
       "      <td>BUCARAMANGA</td>\n",
       "      <td>Fundacredito Reestructurado Microcrédito &gt; 30 ...</td>\n",
       "      <td>915</td>\n",
       "      <td>2016-10-01</td>\n",
       "      <td>2019-02-04 00:00:00</td>\n",
       "      <td>4960653</td>\n",
       "      <td>48</td>\n",
       "      <td>35</td>\n",
       "      <td>13</td>\n",
       "      <td>0</td>\n",
       "      <td>0.025006</td>\n",
       "    </tr>\n",
       "    <tr>\n",
       "      <th>2</th>\n",
       "      <td>104131021163</td>\n",
       "      <td>104</td>\n",
       "      <td>MANTENIDO</td>\n",
       "      <td>PABON  RAMOS ANA  BENILDA</td>\n",
       "      <td>MORENO    PARMENIO</td>\n",
       "      <td>NaN</td>\n",
       "      <td>BUCARAMANGA</td>\n",
       "      <td>Fundacredito Reestructurado Microcrédito &gt; 30 ...</td>\n",
       "      <td>915</td>\n",
       "      <td>2016-10-01</td>\n",
       "      <td>2019-02-04 00:00:00</td>\n",
       "      <td>4960653</td>\n",
       "      <td>48</td>\n",
       "      <td>35</td>\n",
       "      <td>13</td>\n",
       "      <td>0</td>\n",
       "      <td>0.025006</td>\n",
       "    </tr>\n",
       "    <tr>\n",
       "      <th>3</th>\n",
       "      <td>104131021163</td>\n",
       "      <td>104</td>\n",
       "      <td>MANTENIDO</td>\n",
       "      <td>PABON  RAMOS ANA  BENILDA</td>\n",
       "      <td>MORENO    PARMENIO</td>\n",
       "      <td>NaN</td>\n",
       "      <td>BUCARAMANGA</td>\n",
       "      <td>Fundacredito Reestructurado Microcrédito &gt; 30 ...</td>\n",
       "      <td>915</td>\n",
       "      <td>2016-10-01</td>\n",
       "      <td>2019-02-04 00:00:00</td>\n",
       "      <td>4960653</td>\n",
       "      <td>48</td>\n",
       "      <td>35</td>\n",
       "      <td>13</td>\n",
       "      <td>0</td>\n",
       "      <td>0.025006</td>\n",
       "    </tr>\n",
       "    <tr>\n",
       "      <th>4</th>\n",
       "      <td>104131021163</td>\n",
       "      <td>104</td>\n",
       "      <td>MANTENIDO</td>\n",
       "      <td>PABON  RAMOS ANA  BENILDA</td>\n",
       "      <td>MORENO    PARMENIO</td>\n",
       "      <td>NaN</td>\n",
       "      <td>BUCARAMANGA</td>\n",
       "      <td>Fundacredito Reestructurado Microcrédito &gt; 30 ...</td>\n",
       "      <td>915</td>\n",
       "      <td>2016-10-01</td>\n",
       "      <td>2019-02-04 00:00:00</td>\n",
       "      <td>4960653</td>\n",
       "      <td>48</td>\n",
       "      <td>35</td>\n",
       "      <td>13</td>\n",
       "      <td>0</td>\n",
       "      <td>0.025527</td>\n",
       "    </tr>\n",
       "  </tbody>\n",
       "</table>\n",
       "</div>"
      ],
      "text/plain": [
       "        Credito  agencia       tipo                       nombre  \\\n",
       "0  102141028298      102     NUEVO2  PIMIENTO  APARICIO TERESA     \n",
       "1  104131021163      104  MANTENIDO    PABON  RAMOS ANA  BENILDA   \n",
       "2  104131021163      104  MANTENIDO    PABON  RAMOS ANA  BENILDA   \n",
       "3  104131021163      104  MANTENIDO    PABON  RAMOS ANA  BENILDA   \n",
       "4  104131021163      104  MANTENIDO    PABON  RAMOS ANA  BENILDA   \n",
       "\n",
       "         nombre_conyuge          nombre_garante         ciudad  \\\n",
       "0                   NaN  HERRERA   LUNA EDUARDO  FLORIDABLANCA   \n",
       "1  MORENO    PARMENIO                       NaN    BUCARAMANGA   \n",
       "2  MORENO    PARMENIO                       NaN    BUCARAMANGA   \n",
       "3  MORENO    PARMENIO                       NaN    BUCARAMANGA   \n",
       "4  MORENO    PARMENIO                       NaN    BUCARAMANGA   \n",
       "\n",
       "                                            producto  dias_atraso  \\\n",
       "0  Fundacredito Maquinaria y Equipo con H y C Dif...         1763   \n",
       "1  Fundacredito Reestructurado Microcrédito > 30 ...          915   \n",
       "2  Fundacredito Reestructurado Microcrédito > 30 ...          915   \n",
       "3  Fundacredito Reestructurado Microcrédito > 30 ...          915   \n",
       "4  Fundacredito Reestructurado Microcrédito > 30 ...          915   \n",
       "\n",
       "  grupo_castigo          ultimo_pago    monto  nro_cuotas_atrasadas  \\\n",
       "0    2016-10-01  2016-10-18 00:00:00  1600000                    18   \n",
       "1    2016-10-01  2019-02-04 00:00:00  4960653                    48   \n",
       "2    2016-10-01  2019-02-04 00:00:00  4960653                    48   \n",
       "3    2016-10-01  2019-02-04 00:00:00  4960653                    48   \n",
       "4    2016-10-01  2019-02-04 00:00:00  4960653                    48   \n",
       "\n",
       "   cuotas_canceladas  cuotas_vencidas  vigente      rate  \n",
       "0                  4               14        0  0.073335  \n",
       "1                 35               13        0  0.025006  \n",
       "2                 35               13        0  0.025006  \n",
       "3                 35               13        0  0.025006  \n",
       "4                 35               13        0  0.025527  "
      ]
     },
     "execution_count": 147,
     "metadata": {},
     "output_type": "execute_result"
    }
   ],
   "source": [
    "df_features.head()"
   ]
  },
  {
   "cell_type": "markdown",
   "id": "cd2979b7",
   "metadata": {},
   "source": [
    "### Merging Total Cancelado"
   ]
  },
  {
   "cell_type": "code",
   "execution_count": 275,
   "id": "9d586ca4",
   "metadata": {},
   "outputs": [],
   "source": [
    "df_total = df_pagos.groupby('Credito')['TotalCancelado'].sum()"
   ]
  },
  {
   "cell_type": "code",
   "execution_count": 277,
   "id": "54867f2c",
   "metadata": {},
   "outputs": [
    {
     "data": {
      "text/plain": [
       "Credito\n",
       "10191138571    310000\n",
       "10191147413    506660\n",
       "10691417316    104829\n",
       "10691418568    256732\n",
       "10691419227    500000\n",
       "Name: TotalCancelado, dtype: int64"
      ]
     },
     "execution_count": 277,
     "metadata": {},
     "output_type": "execute_result"
    }
   ],
   "source": [
    "df_total.head()"
   ]
  },
  {
   "cell_type": "code",
   "execution_count": 279,
   "id": "b87994f0",
   "metadata": {},
   "outputs": [],
   "source": [
    "df_merge2 = df_asignacion_fdem.merge(df_total, on='Credito', how='inner')"
   ]
  },
  {
   "cell_type": "code",
   "execution_count": 282,
   "id": "84387b65",
   "metadata": {},
   "outputs": [
    {
     "data": {
      "text/html": [
       "<div>\n",
       "<style scoped>\n",
       "    .dataframe tbody tr th:only-of-type {\n",
       "        vertical-align: middle;\n",
       "    }\n",
       "\n",
       "    .dataframe tbody tr th {\n",
       "        vertical-align: top;\n",
       "    }\n",
       "\n",
       "    .dataframe thead th {\n",
       "        text-align: right;\n",
       "    }\n",
       "</style>\n",
       "<table border=\"1\" class=\"dataframe\">\n",
       "  <thead>\n",
       "    <tr style=\"text-align: right;\">\n",
       "      <th></th>\n",
       "      <th>Credito</th>\n",
       "      <th>Titular</th>\n",
       "      <th>agencia</th>\n",
       "      <th>tipo</th>\n",
       "      <th>primera_asignacion</th>\n",
       "      <th>fecha_asignacion</th>\n",
       "      <th>fecha_desasignacion</th>\n",
       "      <th>nombre</th>\n",
       "      <th>ciudad</th>\n",
       "      <th>tel_casa</th>\n",
       "      <th>...</th>\n",
       "      <th>inter_mora</th>\n",
       "      <th>hyc</th>\n",
       "      <th>seguro</th>\n",
       "      <th>iva</th>\n",
       "      <th>valor_cuota</th>\n",
       "      <th>nro_cuotas_atrasadas</th>\n",
       "      <th>cuotas_canceladas</th>\n",
       "      <th>cuotas_vencidas</th>\n",
       "      <th>vigente</th>\n",
       "      <th>TotalCancelado</th>\n",
       "    </tr>\n",
       "  </thead>\n",
       "  <tbody>\n",
       "    <tr>\n",
       "      <th>0</th>\n",
       "      <td>101104101421</td>\n",
       "      <td>95</td>\n",
       "      <td>101</td>\n",
       "      <td>MANTENIDO</td>\n",
       "      <td>2016-10-01</td>\n",
       "      <td>2016-10-01</td>\n",
       "      <td>\\N</td>\n",
       "      <td>ZAPATA JIMENEZ   NATHALI</td>\n",
       "      <td>BUCARAMANGA</td>\n",
       "      <td>3175220817</td>\n",
       "      <td>...</td>\n",
       "      <td>28001</td>\n",
       "      <td>0</td>\n",
       "      <td>69</td>\n",
       "      <td>0</td>\n",
       "      <td>79913</td>\n",
       "      <td>12</td>\n",
       "      <td>9</td>\n",
       "      <td>3</td>\n",
       "      <td>0</td>\n",
       "      <td>695000</td>\n",
       "    </tr>\n",
       "    <tr>\n",
       "      <th>1</th>\n",
       "      <td>101111013583</td>\n",
       "      <td>140</td>\n",
       "      <td>101</td>\n",
       "      <td>MANTENIDO</td>\n",
       "      <td>2016-10-01</td>\n",
       "      <td>2016-10-01</td>\n",
       "      <td>\\N</td>\n",
       "      <td>FUENTES   CARLOS  EDUARDO</td>\n",
       "      <td>FLORIDABLANCA</td>\n",
       "      <td>76190026</td>\n",
       "      <td>...</td>\n",
       "      <td>207345</td>\n",
       "      <td>22601</td>\n",
       "      <td>437</td>\n",
       "      <td>4292</td>\n",
       "      <td>91658</td>\n",
       "      <td>24</td>\n",
       "      <td>8</td>\n",
       "      <td>6</td>\n",
       "      <td>1</td>\n",
       "      <td>320000</td>\n",
       "    </tr>\n",
       "    <tr>\n",
       "      <th>2</th>\n",
       "      <td>101111014610</td>\n",
       "      <td>153</td>\n",
       "      <td>101</td>\n",
       "      <td>MANTENIDO</td>\n",
       "      <td>2016-10-01</td>\n",
       "      <td>2016-10-01</td>\n",
       "      <td>2020-07-03 00:00:00</td>\n",
       "      <td>GARCIA RODRIGUEZ FRANKLIN GEOVANNY</td>\n",
       "      <td>FLORIDABLANCA</td>\n",
       "      <td>76196665</td>\n",
       "      <td>...</td>\n",
       "      <td>1774888</td>\n",
       "      <td>0</td>\n",
       "      <td>622</td>\n",
       "      <td>0</td>\n",
       "      <td>99815</td>\n",
       "      <td>8</td>\n",
       "      <td>2</td>\n",
       "      <td>6</td>\n",
       "      <td>0</td>\n",
       "      <td>1300000</td>\n",
       "    </tr>\n",
       "    <tr>\n",
       "      <th>3</th>\n",
       "      <td>101111015376</td>\n",
       "      <td>161</td>\n",
       "      <td>101</td>\n",
       "      <td>MANTENIDO</td>\n",
       "      <td>2016-10-01</td>\n",
       "      <td>2016-10-01</td>\n",
       "      <td>2019-08-31 00:00:00</td>\n",
       "      <td>GOMEZ  LUIS RAMON</td>\n",
       "      <td>BUCARAMANGA</td>\n",
       "      <td>0</td>\n",
       "      <td>...</td>\n",
       "      <td>3448115</td>\n",
       "      <td>71755</td>\n",
       "      <td>1828</td>\n",
       "      <td>13636</td>\n",
       "      <td>132996</td>\n",
       "      <td>14</td>\n",
       "      <td>4</td>\n",
       "      <td>10</td>\n",
       "      <td>0</td>\n",
       "      <td>1886000</td>\n",
       "    </tr>\n",
       "    <tr>\n",
       "      <th>4</th>\n",
       "      <td>101111016438</td>\n",
       "      <td>180</td>\n",
       "      <td>101</td>\n",
       "      <td>MANTENIDO</td>\n",
       "      <td>2016-10-01</td>\n",
       "      <td>2016-10-01</td>\n",
       "      <td>2020-07-03 00:00:00</td>\n",
       "      <td>GONZALEZ RONDON MARIA DOLORES</td>\n",
       "      <td>BUCARAMANGA</td>\n",
       "      <td>76701592</td>\n",
       "      <td>...</td>\n",
       "      <td>153754</td>\n",
       "      <td>36059</td>\n",
       "      <td>825</td>\n",
       "      <td>6852</td>\n",
       "      <td>174804</td>\n",
       "      <td>15</td>\n",
       "      <td>9</td>\n",
       "      <td>6</td>\n",
       "      <td>0</td>\n",
       "      <td>150000</td>\n",
       "    </tr>\n",
       "  </tbody>\n",
       "</table>\n",
       "<p>5 rows × 42 columns</p>\n",
       "</div>"
      ],
      "text/plain": [
       "        Credito  Titular  agencia       tipo primera_asignacion  \\\n",
       "0  101104101421       95      101  MANTENIDO         2016-10-01   \n",
       "1  101111013583      140      101  MANTENIDO         2016-10-01   \n",
       "2  101111014610      153      101  MANTENIDO         2016-10-01   \n",
       "3  101111015376      161      101  MANTENIDO         2016-10-01   \n",
       "4  101111016438      180      101  MANTENIDO         2016-10-01   \n",
       "\n",
       "  fecha_asignacion  fecha_desasignacion                              nombre  \\\n",
       "0       2016-10-01                   \\N          ZAPATA JIMENEZ   NATHALI     \n",
       "1       2016-10-01                   \\N           FUENTES   CARLOS  EDUARDO   \n",
       "2       2016-10-01  2020-07-03 00:00:00  GARCIA RODRIGUEZ FRANKLIN GEOVANNY   \n",
       "3       2016-10-01  2019-08-31 00:00:00                   GOMEZ  LUIS RAMON   \n",
       "4       2016-10-01  2020-07-03 00:00:00       GONZALEZ RONDON MARIA DOLORES   \n",
       "\n",
       "          ciudad    tel_casa  ...  inter_mora    hyc  seguro    iva  \\\n",
       "0    BUCARAMANGA  3175220817  ...       28001      0      69      0   \n",
       "1  FLORIDABLANCA    76190026  ...      207345  22601     437   4292   \n",
       "2  FLORIDABLANCA    76196665  ...     1774888      0     622      0   \n",
       "3    BUCARAMANGA           0  ...     3448115  71755    1828  13636   \n",
       "4    BUCARAMANGA    76701592  ...      153754  36059     825   6852   \n",
       "\n",
       "   valor_cuota  nro_cuotas_atrasadas  cuotas_canceladas cuotas_vencidas  \\\n",
       "0        79913                    12                  9               3   \n",
       "1        91658                    24                  8               6   \n",
       "2        99815                     8                  2               6   \n",
       "3       132996                    14                  4              10   \n",
       "4       174804                    15                  9               6   \n",
       "\n",
       "   vigente  TotalCancelado  \n",
       "0        0          695000  \n",
       "1        1          320000  \n",
       "2        0         1300000  \n",
       "3        0         1886000  \n",
       "4        0          150000  \n",
       "\n",
       "[5 rows x 42 columns]"
      ]
     },
     "execution_count": 282,
     "metadata": {},
     "output_type": "execute_result"
    }
   ],
   "source": [
    "df_merge2.head()\n"
   ]
  },
  {
   "cell_type": "code",
   "execution_count": 284,
   "id": "78645ffb",
   "metadata": {},
   "outputs": [
    {
     "name": "stdout",
     "output_type": "stream",
     "text": [
      "<class 'pandas.core.frame.DataFrame'>\n",
      "Int64Index: 15289 entries, 0 to 15288\n",
      "Data columns (total 18 columns):\n",
      " #   Column                Non-Null Count  Dtype         \n",
      "---  ------                --------------  -----         \n",
      " 0   Credito               15289 non-null  int64         \n",
      " 1   agencia               15289 non-null  int64         \n",
      " 2   tipo                  15289 non-null  object        \n",
      " 3   primera_asignacion    15289 non-null  datetime64[ns]\n",
      " 4   nombre                15289 non-null  object        \n",
      " 5   nombre_conyuge        6355 non-null   object        \n",
      " 6   nombre_garante        6497 non-null   object        \n",
      " 7   ciudad                15289 non-null  object        \n",
      " 8   producto              15289 non-null  object        \n",
      " 9   dias_atraso           15289 non-null  int64         \n",
      " 10  grupo_castigo         15289 non-null  datetime64[ns]\n",
      " 11  ultimo_pago           15289 non-null  object        \n",
      " 12  monto                 15289 non-null  int64         \n",
      " 13  nro_cuotas_atrasadas  15289 non-null  int64         \n",
      " 14  cuotas_canceladas     15289 non-null  int64         \n",
      " 15  cuotas_vencidas       15289 non-null  int64         \n",
      " 16  vigente               15289 non-null  int64         \n",
      " 17  TotalCancelado        15289 non-null  int64         \n",
      "dtypes: datetime64[ns](2), int64(9), object(7)\n",
      "memory usage: 2.2+ MB\n"
     ]
    }
   ],
   "source": [
    "df_features2 = df_merge2[['Credito','agencia','tipo','primera_asignacion','nombre','nombre_conyuge','nombre_garante','ciudad','producto', 'dias_atraso', 'grupo_castigo', 'ultimo_pago', 'monto', 'nro_cuotas_atrasadas', 'cuotas_canceladas', 'cuotas_vencidas','vigente','TotalCancelado']]\n",
    "df_features2.info()"
   ]
  },
  {
   "cell_type": "markdown",
   "id": "6769125b",
   "metadata": {},
   "source": [
    "## Data Preprocessing"
   ]
  },
  {
   "cell_type": "markdown",
   "id": "f5e6902e",
   "metadata": {},
   "source": [
    "### RATE Outliers "
   ]
  },
  {
   "cell_type": "code",
   "execution_count": 286,
   "id": "7c68d47b",
   "metadata": {},
   "outputs": [
    {
     "data": {
      "text/plain": [
       "count    64713.000000\n",
       "mean         0.340399\n",
       "std          2.146244\n",
       "min          0.000002\n",
       "25%          0.079822\n",
       "50%          0.152514\n",
       "75%          0.361664\n",
       "max        518.687059\n",
       "Name: rate, dtype: float64"
      ]
     },
     "execution_count": 286,
     "metadata": {},
     "output_type": "execute_result"
    }
   ],
   "source": [
    "df_features['rate'].describe()"
   ]
  },
  {
   "cell_type": "code",
   "execution_count": 149,
   "id": "e5c16d02",
   "metadata": {
    "scrolled": true
   },
   "outputs": [
    {
     "data": {
      "text/plain": [
       "Credito                                   201181008168\n",
       "agencia                                            201\n",
       "tipo                                           NUEVO11\n",
       "nombre                  LAGUADO SALDARRIAGA FELIX OMAR\n",
       "nombre_conyuge                                     NaN\n",
       "nombre_garante                                     NaN\n",
       "ciudad                                          CUCUTA\n",
       "producto                    Fundacredito Activos Fijos\n",
       "dias_atraso                                        190\n",
       "grupo_castigo                      2020-12-31 00:00:00\n",
       "ultimo_pago                        2020-03-20 00:00:00\n",
       "monto                                          3000000\n",
       "nro_cuotas_atrasadas                                 3\n",
       "cuotas_canceladas                                   17\n",
       "cuotas_vencidas                                      7\n",
       "vigente                                              0\n",
       "rate                                        518.687059\n",
       "Name: 50122, dtype: object"
      ]
     },
     "execution_count": 149,
     "metadata": {},
     "output_type": "execute_result"
    }
   ],
   "source": [
    "df_features.loc[df_features['rate'].idxmax()]"
   ]
  },
  {
   "cell_type": "code",
   "execution_count": 150,
   "id": "af21b837",
   "metadata": {},
   "outputs": [
    {
     "data": {
      "text/plain": [
       "<AxesSubplot:>"
      ]
     },
     "execution_count": 150,
     "metadata": {},
     "output_type": "execute_result"
    },
    {
     "data": {
      "image/png": "[encoded data removed]",
      "text/plain": [
       "<Figure size 432x288 with 1 Axes>"
      ]
     },
     "metadata": {
      "needs_background": "light"
     },
     "output_type": "display_data"
    }
   ],
   "source": [
    "df_features['rate'].plot(kind='box')"
   ]
  },
  {
   "cell_type": "code",
   "execution_count": 237,
   "id": "56db9461",
   "metadata": {},
   "outputs": [],
   "source": [
    "df_out = df_features[df_features['rate'] < 1.3]  "
   ]
  },
  {
   "cell_type": "code",
   "execution_count": 238,
   "id": "3a6ed587",
   "metadata": {
    "scrolled": true
   },
   "outputs": [
    {
     "name": "stdout",
     "output_type": "stream",
     "text": [
      "<class 'pandas.core.frame.DataFrame'>\n",
      "Int64Index: 62687 entries, 0 to 64712\n",
      "Data columns (total 17 columns):\n",
      " #   Column                Non-Null Count  Dtype         \n",
      "---  ------                --------------  -----         \n",
      " 0   Credito               62687 non-null  int64         \n",
      " 1   agencia               62687 non-null  int64         \n",
      " 2   tipo                  62687 non-null  object        \n",
      " 3   nombre                62687 non-null  object        \n",
      " 4   nombre_conyuge        26108 non-null  object        \n",
      " 5   nombre_garante        26609 non-null  object        \n",
      " 6   ciudad                62687 non-null  object        \n",
      " 7   producto              62687 non-null  object        \n",
      " 8   dias_atraso           62687 non-null  int64         \n",
      " 9   grupo_castigo         62687 non-null  datetime64[ns]\n",
      " 10  ultimo_pago           62687 non-null  object        \n",
      " 11  monto                 62687 non-null  int64         \n",
      " 12  nro_cuotas_atrasadas  62687 non-null  int64         \n",
      " 13  cuotas_canceladas     62687 non-null  int64         \n",
      " 14  cuotas_vencidas       62687 non-null  int64         \n",
      " 15  vigente               62687 non-null  int64         \n",
      " 16  rate                  62687 non-null  float64       \n",
      "dtypes: datetime64[ns](1), float64(1), int64(8), object(7)\n",
      "memory usage: 8.6+ MB\n"
     ]
    }
   ],
   "source": [
    "df_out.info()"
   ]
  },
  {
   "cell_type": "code",
   "execution_count": 239,
   "id": "4810c039",
   "metadata": {},
   "outputs": [
    {
     "data": {
      "text/plain": [
       "<AxesSubplot:>"
      ]
     },
     "execution_count": 239,
     "metadata": {},
     "output_type": "execute_result"
    },
    {
     "data": {
      "image/png": "[encoded data removed]",
      "text/plain": [
       "<Figure size 432x288 with 1 Axes>"
      ]
     },
     "metadata": {
      "needs_background": "light"
     },
     "output_type": "display_data"
    }
   ],
   "source": [
    "df_out['rate'].plot(kind='box')"
   ]
  },
  {
   "cell_type": "code",
   "execution_count": 240,
   "id": "0e8b1441",
   "metadata": {
    "scrolled": true
   },
   "outputs": [
    {
     "data": {
      "text/plain": [
       "count    62687.000000\n",
       "mean         0.281815\n",
       "std          0.321138\n",
       "min          0.000002\n",
       "25%          0.078167\n",
       "50%          0.146126\n",
       "75%          0.324532\n",
       "max          1.299883\n",
       "Name: rate, dtype: float64"
      ]
     },
     "execution_count": 240,
     "metadata": {},
     "output_type": "execute_result"
    }
   ],
   "source": [
    "df_out['rate'].describe()"
   ]
  },
  {
   "cell_type": "markdown",
   "id": "80d4a543",
   "metadata": {},
   "source": [
    "### Conyuge \n",
    "\n",
    "Determinar si usuarios tienen conyuge o en caso contrario calificarlos como solteros"
   ]
  },
  {
   "cell_type": "code",
   "execution_count": 291,
   "id": "6398132f",
   "metadata": {
    "scrolled": true
   },
   "outputs": [
    {
     "data": {
      "text/plain": [
       "7871                            Soltero\n",
       "12004                           Soltero\n",
       "2708     Casado   Casado  Casado Casado\n",
       "3414                            Soltero\n",
       "13073                           Soltero\n",
       "13445                           Soltero\n",
       "1686       Casado  Casado Casado Casado\n",
       "5922           Casado   Casado Casado  \n",
       "8407                            Soltero\n",
       "7073                            Soltero\n",
       "Name: nombre_conyuge, dtype: object"
      ]
     },
     "execution_count": 291,
     "metadata": {},
     "output_type": "execute_result"
    }
   ],
   "source": [
    "df_features2['nombre_conyuge'].sample(10)"
   ]
  },
  {
   "cell_type": "code",
   "execution_count": 288,
   "id": "3c59e474",
   "metadata": {},
   "outputs": [
    {
     "name": "stderr",
     "output_type": "stream",
     "text": [
      "/tmp/ipykernel_769/685860107.py:1: SettingWithCopyWarning: \n",
      "A value is trying to be set on a copy of a slice from a DataFrame\n",
      "\n",
      "See the caveats in the documentation: https://pandas.pydata.org/pandas-docs/stable/user_guide/indexing.html#returning-a-view-versus-a-copy\n",
      "  df_features2['nombre_conyuge'].replace(to_replace=r\"[\\w'-]+\", value='Casado', regex = True, inplace=True)\n"
     ]
    }
   ],
   "source": [
    "df_features2['nombre_conyuge'].replace(to_replace=r\"[\\w'-]+\", value='Casado', regex = True, inplace=True)"
   ]
  },
  {
   "cell_type": "code",
   "execution_count": 289,
   "id": "68d3aa0a",
   "metadata": {},
   "outputs": [
    {
     "name": "stderr",
     "output_type": "stream",
     "text": [
      "/tmp/ipykernel_769/1737581884.py:1: SettingWithCopyWarning: \n",
      "A value is trying to be set on a copy of a slice from a DataFrame\n",
      "\n",
      "See the caveats in the documentation: https://pandas.pydata.org/pandas-docs/stable/user_guide/indexing.html#returning-a-view-versus-a-copy\n",
      "  df_features2['nombre_conyuge'].fillna('Soltero', inplace=True)\n"
     ]
    }
   ],
   "source": [
    "df_features2['nombre_conyuge'].fillna('Soltero', inplace=True)"
   ]
  },
  {
   "cell_type": "code",
   "execution_count": 293,
   "id": "3696e603",
   "metadata": {},
   "outputs": [],
   "source": [
    "df_features2.loc[df_features2['nombre_conyuge'].str.contains('Casado'), 'nombre_conyuge'] = 'Casado'\n"
   ]
  },
  {
   "cell_type": "code",
   "execution_count": 294,
   "id": "8469f996",
   "metadata": {},
   "outputs": [
    {
     "data": {
      "text/plain": [
       "1274      Casado\n",
       "3117      Casado\n",
       "10324    Soltero\n",
       "8420     Soltero\n",
       "7731      Casado\n",
       "15257     Casado\n",
       "15120    Soltero\n",
       "2922     Soltero\n",
       "1866      Casado\n",
       "11012    Soltero\n",
       "Name: nombre_conyuge, dtype: object"
      ]
     },
     "execution_count": 294,
     "metadata": {},
     "output_type": "execute_result"
    }
   ],
   "source": [
    "df_features2['nombre_conyuge'].sample(10)"
   ]
  },
  {
   "cell_type": "markdown",
   "id": "3c5dc2ca",
   "metadata": {},
   "source": [
    "### Garante\n",
    "\n",
    "Determinar si usuarios tienen garante"
   ]
  },
  {
   "cell_type": "code",
   "execution_count": 295,
   "id": "13ea1326",
   "metadata": {},
   "outputs": [
    {
     "name": "stderr",
     "output_type": "stream",
     "text": [
      "/tmp/ipykernel_769/3084327447.py:1: SettingWithCopyWarning: \n",
      "A value is trying to be set on a copy of a slice from a DataFrame\n",
      "\n",
      "See the caveats in the documentation: https://pandas.pydata.org/pandas-docs/stable/user_guide/indexing.html#returning-a-view-versus-a-copy\n",
      "  df_features2['nombre_garante'].replace(to_replace=r\"[\\w'-]+\", value='Si', regex = True, inplace=True)\n"
     ]
    }
   ],
   "source": [
    "df_features2['nombre_garante'].replace(to_replace=r\"[\\w'-]+\", value='Si', regex = True, inplace=True)"
   ]
  },
  {
   "cell_type": "code",
   "execution_count": 296,
   "id": "1987830a",
   "metadata": {},
   "outputs": [
    {
     "name": "stderr",
     "output_type": "stream",
     "text": [
      "/tmp/ipykernel_769/1469585608.py:1: SettingWithCopyWarning: \n",
      "A value is trying to be set on a copy of a slice from a DataFrame\n",
      "\n",
      "See the caveats in the documentation: https://pandas.pydata.org/pandas-docs/stable/user_guide/indexing.html#returning-a-view-versus-a-copy\n",
      "  df_features2['nombre_garante'].fillna('No', inplace=True)\n"
     ]
    }
   ],
   "source": [
    "df_features2['nombre_garante'].fillna('No', inplace=True)\n",
    "df_features2.loc[df_features2['nombre_garante'].str.contains('Si'), 'nombre_garante'] = 'Si'\n"
   ]
  },
  {
   "cell_type": "code",
   "execution_count": 297,
   "id": "c44518fa",
   "metadata": {},
   "outputs": [
    {
     "data": {
      "text/plain": [
       "3149     No\n",
       "14351    No\n",
       "8930     Si\n",
       "3281     Si\n",
       "2366     Si\n",
       "6278     No\n",
       "14851    Si\n",
       "10725    No\n",
       "5001     No\n",
       "7969     No\n",
       "Name: nombre_garante, dtype: object"
      ]
     },
     "execution_count": 297,
     "metadata": {},
     "output_type": "execute_result"
    }
   ],
   "source": [
    "df_features2['nombre_garante'].sample(10)"
   ]
  },
  {
   "cell_type": "code",
   "execution_count": 298,
   "id": "2f27a0ea",
   "metadata": {},
   "outputs": [
    {
     "data": {
      "text/html": [
       "<div>\n",
       "<style scoped>\n",
       "    .dataframe tbody tr th:only-of-type {\n",
       "        vertical-align: middle;\n",
       "    }\n",
       "\n",
       "    .dataframe tbody tr th {\n",
       "        vertical-align: top;\n",
       "    }\n",
       "\n",
       "    .dataframe thead th {\n",
       "        text-align: right;\n",
       "    }\n",
       "</style>\n",
       "<table border=\"1\" class=\"dataframe\">\n",
       "  <thead>\n",
       "    <tr style=\"text-align: right;\">\n",
       "      <th></th>\n",
       "      <th>Credito</th>\n",
       "      <th>agencia</th>\n",
       "      <th>tipo</th>\n",
       "      <th>primera_asignacion</th>\n",
       "      <th>nombre</th>\n",
       "      <th>nombre_conyuge</th>\n",
       "      <th>nombre_garante</th>\n",
       "      <th>ciudad</th>\n",
       "      <th>producto</th>\n",
       "      <th>dias_atraso</th>\n",
       "      <th>grupo_castigo</th>\n",
       "      <th>ultimo_pago</th>\n",
       "      <th>monto</th>\n",
       "      <th>nro_cuotas_atrasadas</th>\n",
       "      <th>cuotas_canceladas</th>\n",
       "      <th>cuotas_vencidas</th>\n",
       "      <th>vigente</th>\n",
       "      <th>TotalCancelado</th>\n",
       "    </tr>\n",
       "  </thead>\n",
       "  <tbody>\n",
       "    <tr>\n",
       "      <th>0</th>\n",
       "      <td>101104101421</td>\n",
       "      <td>101</td>\n",
       "      <td>MANTENIDO</td>\n",
       "      <td>2016-10-01</td>\n",
       "      <td>ZAPATA JIMENEZ   NATHALI</td>\n",
       "      <td>Casado</td>\n",
       "      <td>No</td>\n",
       "      <td>BUCARAMANGA</td>\n",
       "      <td>Fundacredito Empresarial Cedula</td>\n",
       "      <td>3157</td>\n",
       "      <td>2016-10-01</td>\n",
       "      <td>2018-11-01 00:00:00</td>\n",
       "      <td>820000</td>\n",
       "      <td>12</td>\n",
       "      <td>9</td>\n",
       "      <td>3</td>\n",
       "      <td>0</td>\n",
       "      <td>695000</td>\n",
       "    </tr>\n",
       "    <tr>\n",
       "      <th>1</th>\n",
       "      <td>101111013583</td>\n",
       "      <td>101</td>\n",
       "      <td>MANTENIDO</td>\n",
       "      <td>2016-10-01</td>\n",
       "      <td>FUENTES   CARLOS  EDUARDO</td>\n",
       "      <td>Casado</td>\n",
       "      <td>No</td>\n",
       "      <td>FLORIDABLANCA</td>\n",
       "      <td>Fundacredito Master Diferido</td>\n",
       "      <td>2117</td>\n",
       "      <td>2016-10-01</td>\n",
       "      <td>2018-01-30 00:00:00</td>\n",
       "      <td>1038863</td>\n",
       "      <td>24</td>\n",
       "      <td>8</td>\n",
       "      <td>6</td>\n",
       "      <td>1</td>\n",
       "      <td>320000</td>\n",
       "    </tr>\n",
       "    <tr>\n",
       "      <th>2</th>\n",
       "      <td>101111014610</td>\n",
       "      <td>101</td>\n",
       "      <td>MANTENIDO</td>\n",
       "      <td>2016-10-01</td>\n",
       "      <td>GARCIA RODRIGUEZ FRANKLIN GEOVANNY</td>\n",
       "      <td>Soltero</td>\n",
       "      <td>Si</td>\n",
       "      <td>FLORIDABLANCA</td>\n",
       "      <td>Fundacredito Empresarial Cedula</td>\n",
       "      <td>2727</td>\n",
       "      <td>2016-10-01</td>\n",
       "      <td>2011-07-11 00:00:00</td>\n",
       "      <td>700000</td>\n",
       "      <td>8</td>\n",
       "      <td>2</td>\n",
       "      <td>6</td>\n",
       "      <td>0</td>\n",
       "      <td>1300000</td>\n",
       "    </tr>\n",
       "    <tr>\n",
       "      <th>3</th>\n",
       "      <td>101111015376</td>\n",
       "      <td>101</td>\n",
       "      <td>MANTENIDO</td>\n",
       "      <td>2016-10-01</td>\n",
       "      <td>GOMEZ  LUIS RAMON</td>\n",
       "      <td>Soltero</td>\n",
       "      <td>Si</td>\n",
       "      <td>BUCARAMANGA</td>\n",
       "      <td>Fundacredito Empresarial Cedula con H y C Dife...</td>\n",
       "      <td>2635</td>\n",
       "      <td>2016-10-01</td>\n",
       "      <td>2012-03-31 00:00:00</td>\n",
       "      <td>1500000</td>\n",
       "      <td>14</td>\n",
       "      <td>4</td>\n",
       "      <td>10</td>\n",
       "      <td>0</td>\n",
       "      <td>1886000</td>\n",
       "    </tr>\n",
       "    <tr>\n",
       "      <th>4</th>\n",
       "      <td>101111016438</td>\n",
       "      <td>101</td>\n",
       "      <td>MANTENIDO</td>\n",
       "      <td>2016-10-01</td>\n",
       "      <td>GONZALEZ RONDON MARIA DOLORES</td>\n",
       "      <td>Casado</td>\n",
       "      <td>No</td>\n",
       "      <td>BUCARAMANGA</td>\n",
       "      <td>Fundacredito Empresarial Cedula con H y C Dife...</td>\n",
       "      <td>2449</td>\n",
       "      <td>2016-10-01</td>\n",
       "      <td>2018-10-16 00:00:00</td>\n",
       "      <td>2030000</td>\n",
       "      <td>15</td>\n",
       "      <td>9</td>\n",
       "      <td>6</td>\n",
       "      <td>0</td>\n",
       "      <td>150000</td>\n",
       "    </tr>\n",
       "  </tbody>\n",
       "</table>\n",
       "</div>"
      ],
      "text/plain": [
       "        Credito  agencia       tipo primera_asignacion  \\\n",
       "0  101104101421      101  MANTENIDO         2016-10-01   \n",
       "1  101111013583      101  MANTENIDO         2016-10-01   \n",
       "2  101111014610      101  MANTENIDO         2016-10-01   \n",
       "3  101111015376      101  MANTENIDO         2016-10-01   \n",
       "4  101111016438      101  MANTENIDO         2016-10-01   \n",
       "\n",
       "                               nombre nombre_conyuge nombre_garante  \\\n",
       "0          ZAPATA JIMENEZ   NATHALI           Casado             No   \n",
       "1           FUENTES   CARLOS  EDUARDO         Casado             No   \n",
       "2  GARCIA RODRIGUEZ FRANKLIN GEOVANNY        Soltero             Si   \n",
       "3                   GOMEZ  LUIS RAMON        Soltero             Si   \n",
       "4       GONZALEZ RONDON MARIA DOLORES         Casado             No   \n",
       "\n",
       "          ciudad                                           producto  \\\n",
       "0    BUCARAMANGA                    Fundacredito Empresarial Cedula   \n",
       "1  FLORIDABLANCA                       Fundacredito Master Diferido   \n",
       "2  FLORIDABLANCA                    Fundacredito Empresarial Cedula   \n",
       "3    BUCARAMANGA  Fundacredito Empresarial Cedula con H y C Dife...   \n",
       "4    BUCARAMANGA  Fundacredito Empresarial Cedula con H y C Dife...   \n",
       "\n",
       "   dias_atraso grupo_castigo          ultimo_pago    monto  \\\n",
       "0         3157    2016-10-01  2018-11-01 00:00:00   820000   \n",
       "1         2117    2016-10-01  2018-01-30 00:00:00  1038863   \n",
       "2         2727    2016-10-01  2011-07-11 00:00:00   700000   \n",
       "3         2635    2016-10-01  2012-03-31 00:00:00  1500000   \n",
       "4         2449    2016-10-01  2018-10-16 00:00:00  2030000   \n",
       "\n",
       "   nro_cuotas_atrasadas  cuotas_canceladas  cuotas_vencidas  vigente  \\\n",
       "0                    12                  9                3        0   \n",
       "1                    24                  8                6        1   \n",
       "2                     8                  2                6        0   \n",
       "3                    14                  4               10        0   \n",
       "4                    15                  9                6        0   \n",
       "\n",
       "   TotalCancelado  \n",
       "0          695000  \n",
       "1          320000  \n",
       "2         1300000  \n",
       "3         1886000  \n",
       "4          150000  "
      ]
     },
     "execution_count": 298,
     "metadata": {},
     "output_type": "execute_result"
    }
   ],
   "source": [
    "df_features2.head()"
   ]
  },
  {
   "cell_type": "code",
   "execution_count": 299,
   "id": "d6d0d339",
   "metadata": {},
   "outputs": [
    {
     "data": {
      "text/plain": [
       "Credito                 15289\n",
       "agencia                   253\n",
       "tipo                       21\n",
       "primera_asignacion         27\n",
       "nombre                  13918\n",
       "nombre_conyuge              2\n",
       "nombre_garante              2\n",
       "ciudad                    790\n",
       "producto                   86\n",
       "dias_atraso              1932\n",
       "grupo_castigo              44\n",
       "ultimo_pago              2356\n",
       "monto                    5937\n",
       "nro_cuotas_atrasadas       42\n",
       "cuotas_canceladas          47\n",
       "cuotas_vencidas            44\n",
       "vigente                     2\n",
       "TotalCancelado           6856\n",
       "dtype: int64"
      ]
     },
     "execution_count": 299,
     "metadata": {},
     "output_type": "execute_result"
    }
   ],
   "source": [
    "df_features2.nunique()"
   ]
  },
  {
   "cell_type": "markdown",
   "id": "509b9a58",
   "metadata": {},
   "source": [
    "## Defining Target Variable - Rate of Recovery"
   ]
  },
  {
   "cell_type": "markdown",
   "id": "fdeea1c2",
   "metadata": {},
   "source": [
    "Objetivo: Predecir cuales factores influyen más en el pago de una mayor proporción de la deuda."
   ]
  },
  {
   "cell_type": "code",
   "execution_count": 301,
   "id": "ee455ac0",
   "metadata": {
    "scrolled": true
   },
   "outputs": [
    {
     "name": "stderr",
     "output_type": "stream",
     "text": [
      "/tmp/ipykernel_769/2522963334.py:1: SettingWithCopyWarning: \n",
      "A value is trying to be set on a copy of a slice from a DataFrame.\n",
      "Try using .loc[row_indexer,col_indexer] = value instead\n",
      "\n",
      "See the caveats in the documentation: https://pandas.pydata.org/pandas-docs/stable/user_guide/indexing.html#returning-a-view-versus-a-copy\n",
      "  df_features2['rate'] = df_features2['TotalCancelado'] / df_features2['monto']\n"
     ]
    }
   ],
   "source": [
    "df_features2['rate'] = df_features2['TotalCancelado'] / df_features2['monto']"
   ]
  },
  {
   "cell_type": "code",
   "execution_count": 302,
   "id": "2577e90c",
   "metadata": {},
   "outputs": [
    {
     "data": {
      "text/html": [
       "<div>\n",
       "<style scoped>\n",
       "    .dataframe tbody tr th:only-of-type {\n",
       "        vertical-align: middle;\n",
       "    }\n",
       "\n",
       "    .dataframe tbody tr th {\n",
       "        vertical-align: top;\n",
       "    }\n",
       "\n",
       "    .dataframe thead th {\n",
       "        text-align: right;\n",
       "    }\n",
       "</style>\n",
       "<table border=\"1\" class=\"dataframe\">\n",
       "  <thead>\n",
       "    <tr style=\"text-align: right;\">\n",
       "      <th></th>\n",
       "      <th>Credito</th>\n",
       "      <th>agencia</th>\n",
       "      <th>tipo</th>\n",
       "      <th>primera_asignacion</th>\n",
       "      <th>nombre</th>\n",
       "      <th>nombre_conyuge</th>\n",
       "      <th>nombre_garante</th>\n",
       "      <th>ciudad</th>\n",
       "      <th>producto</th>\n",
       "      <th>dias_atraso</th>\n",
       "      <th>grupo_castigo</th>\n",
       "      <th>ultimo_pago</th>\n",
       "      <th>monto</th>\n",
       "      <th>nro_cuotas_atrasadas</th>\n",
       "      <th>cuotas_canceladas</th>\n",
       "      <th>cuotas_vencidas</th>\n",
       "      <th>vigente</th>\n",
       "      <th>TotalCancelado</th>\n",
       "      <th>rate</th>\n",
       "    </tr>\n",
       "  </thead>\n",
       "  <tbody>\n",
       "    <tr>\n",
       "      <th>0</th>\n",
       "      <td>101104101421</td>\n",
       "      <td>101</td>\n",
       "      <td>MANTENIDO</td>\n",
       "      <td>2016-10-01</td>\n",
       "      <td>ZAPATA JIMENEZ   NATHALI</td>\n",
       "      <td>Casado</td>\n",
       "      <td>No</td>\n",
       "      <td>BUCARAMANGA</td>\n",
       "      <td>Fundacredito Empresarial Cedula</td>\n",
       "      <td>3157</td>\n",
       "      <td>2016-10-01</td>\n",
       "      <td>2018-11-01 00:00:00</td>\n",
       "      <td>820000</td>\n",
       "      <td>12</td>\n",
       "      <td>9</td>\n",
       "      <td>3</td>\n",
       "      <td>0</td>\n",
       "      <td>695000</td>\n",
       "      <td>0.847561</td>\n",
       "    </tr>\n",
       "    <tr>\n",
       "      <th>1</th>\n",
       "      <td>101111013583</td>\n",
       "      <td>101</td>\n",
       "      <td>MANTENIDO</td>\n",
       "      <td>2016-10-01</td>\n",
       "      <td>FUENTES   CARLOS  EDUARDO</td>\n",
       "      <td>Casado</td>\n",
       "      <td>No</td>\n",
       "      <td>FLORIDABLANCA</td>\n",
       "      <td>Fundacredito Master Diferido</td>\n",
       "      <td>2117</td>\n",
       "      <td>2016-10-01</td>\n",
       "      <td>2018-01-30 00:00:00</td>\n",
       "      <td>1038863</td>\n",
       "      <td>24</td>\n",
       "      <td>8</td>\n",
       "      <td>6</td>\n",
       "      <td>1</td>\n",
       "      <td>320000</td>\n",
       "      <td>0.308029</td>\n",
       "    </tr>\n",
       "    <tr>\n",
       "      <th>2</th>\n",
       "      <td>101111014610</td>\n",
       "      <td>101</td>\n",
       "      <td>MANTENIDO</td>\n",
       "      <td>2016-10-01</td>\n",
       "      <td>GARCIA RODRIGUEZ FRANKLIN GEOVANNY</td>\n",
       "      <td>Soltero</td>\n",
       "      <td>Si</td>\n",
       "      <td>FLORIDABLANCA</td>\n",
       "      <td>Fundacredito Empresarial Cedula</td>\n",
       "      <td>2727</td>\n",
       "      <td>2016-10-01</td>\n",
       "      <td>2011-07-11 00:00:00</td>\n",
       "      <td>700000</td>\n",
       "      <td>8</td>\n",
       "      <td>2</td>\n",
       "      <td>6</td>\n",
       "      <td>0</td>\n",
       "      <td>1300000</td>\n",
       "      <td>1.857143</td>\n",
       "    </tr>\n",
       "    <tr>\n",
       "      <th>3</th>\n",
       "      <td>101111015376</td>\n",
       "      <td>101</td>\n",
       "      <td>MANTENIDO</td>\n",
       "      <td>2016-10-01</td>\n",
       "      <td>GOMEZ  LUIS RAMON</td>\n",
       "      <td>Soltero</td>\n",
       "      <td>Si</td>\n",
       "      <td>BUCARAMANGA</td>\n",
       "      <td>Fundacredito Empresarial Cedula con H y C Dife...</td>\n",
       "      <td>2635</td>\n",
       "      <td>2016-10-01</td>\n",
       "      <td>2012-03-31 00:00:00</td>\n",
       "      <td>1500000</td>\n",
       "      <td>14</td>\n",
       "      <td>4</td>\n",
       "      <td>10</td>\n",
       "      <td>0</td>\n",
       "      <td>1886000</td>\n",
       "      <td>1.257333</td>\n",
       "    </tr>\n",
       "    <tr>\n",
       "      <th>4</th>\n",
       "      <td>101111016438</td>\n",
       "      <td>101</td>\n",
       "      <td>MANTENIDO</td>\n",
       "      <td>2016-10-01</td>\n",
       "      <td>GONZALEZ RONDON MARIA DOLORES</td>\n",
       "      <td>Casado</td>\n",
       "      <td>No</td>\n",
       "      <td>BUCARAMANGA</td>\n",
       "      <td>Fundacredito Empresarial Cedula con H y C Dife...</td>\n",
       "      <td>2449</td>\n",
       "      <td>2016-10-01</td>\n",
       "      <td>2018-10-16 00:00:00</td>\n",
       "      <td>2030000</td>\n",
       "      <td>15</td>\n",
       "      <td>9</td>\n",
       "      <td>6</td>\n",
       "      <td>0</td>\n",
       "      <td>150000</td>\n",
       "      <td>0.073892</td>\n",
       "    </tr>\n",
       "  </tbody>\n",
       "</table>\n",
       "</div>"
      ],
      "text/plain": [
       "        Credito  agencia       tipo primera_asignacion  \\\n",
       "0  101104101421      101  MANTENIDO         2016-10-01   \n",
       "1  101111013583      101  MANTENIDO         2016-10-01   \n",
       "2  101111014610      101  MANTENIDO         2016-10-01   \n",
       "3  101111015376      101  MANTENIDO         2016-10-01   \n",
       "4  101111016438      101  MANTENIDO         2016-10-01   \n",
       "\n",
       "                               nombre nombre_conyuge nombre_garante  \\\n",
       "0          ZAPATA JIMENEZ   NATHALI           Casado             No   \n",
       "1           FUENTES   CARLOS  EDUARDO         Casado             No   \n",
       "2  GARCIA RODRIGUEZ FRANKLIN GEOVANNY        Soltero             Si   \n",
       "3                   GOMEZ  LUIS RAMON        Soltero             Si   \n",
       "4       GONZALEZ RONDON MARIA DOLORES         Casado             No   \n",
       "\n",
       "          ciudad                                           producto  \\\n",
       "0    BUCARAMANGA                    Fundacredito Empresarial Cedula   \n",
       "1  FLORIDABLANCA                       Fundacredito Master Diferido   \n",
       "2  FLORIDABLANCA                    Fundacredito Empresarial Cedula   \n",
       "3    BUCARAMANGA  Fundacredito Empresarial Cedula con H y C Dife...   \n",
       "4    BUCARAMANGA  Fundacredito Empresarial Cedula con H y C Dife...   \n",
       "\n",
       "   dias_atraso grupo_castigo          ultimo_pago    monto  \\\n",
       "0         3157    2016-10-01  2018-11-01 00:00:00   820000   \n",
       "1         2117    2016-10-01  2018-01-30 00:00:00  1038863   \n",
       "2         2727    2016-10-01  2011-07-11 00:00:00   700000   \n",
       "3         2635    2016-10-01  2012-03-31 00:00:00  1500000   \n",
       "4         2449    2016-10-01  2018-10-16 00:00:00  2030000   \n",
       "\n",
       "   nro_cuotas_atrasadas  cuotas_canceladas  cuotas_vencidas  vigente  \\\n",
       "0                    12                  9                3        0   \n",
       "1                    24                  8                6        1   \n",
       "2                     8                  2                6        0   \n",
       "3                    14                  4               10        0   \n",
       "4                    15                  9                6        0   \n",
       "\n",
       "   TotalCancelado      rate  \n",
       "0          695000  0.847561  \n",
       "1          320000  0.308029  \n",
       "2         1300000  1.857143  \n",
       "3         1886000  1.257333  \n",
       "4          150000  0.073892  "
      ]
     },
     "execution_count": 302,
     "metadata": {},
     "output_type": "execute_result"
    }
   ],
   "source": [
    "df_features2.head()"
   ]
  },
  {
   "cell_type": "code",
   "execution_count": null,
   "id": "8cad0c11",
   "metadata": {},
   "outputs": [],
   "source": []
  },
  {
   "cell_type": "markdown",
   "id": "ca6529f0",
   "metadata": {},
   "source": [
    "### Rate of Recovery - Outliers"
   ]
  },
  {
   "cell_type": "code",
   "execution_count": 303,
   "id": "b4d069f5",
   "metadata": {},
   "outputs": [
    {
     "data": {
      "text/plain": [
       "count    15289.000000\n",
       "mean         0.590670\n",
       "std          1.002412\n",
       "min          0.000241\n",
       "25%          0.185185\n",
       "50%          0.446138\n",
       "75%          0.803030\n",
       "max         34.978472\n",
       "Name: rate, dtype: float64"
      ]
     },
     "execution_count": 303,
     "metadata": {},
     "output_type": "execute_result"
    }
   ],
   "source": [
    "df_features2['rate'].describe()"
   ]
  },
  {
   "cell_type": "code",
   "execution_count": 305,
   "id": "7d2bab39",
   "metadata": {
    "scrolled": true
   },
   "outputs": [
    {
     "data": {
      "text/plain": [
       "<AxesSubplot:>"
      ]
     },
     "execution_count": 305,
     "metadata": {},
     "output_type": "execute_result"
    },
    {
     "data": {
      "image/png": "[encoded data removed]",
      "text/plain": [
       "<Figure size 432x288 with 1 Axes>"
      ]
     },
     "metadata": {
      "needs_background": "light"
     },
     "output_type": "display_data"
    }
   ],
   "source": [
    "df_features2['rate'].plot(kind='box')"
   ]
  },
  {
   "cell_type": "code",
   "execution_count": 317,
   "id": "d89061d8",
   "metadata": {},
   "outputs": [
    {
     "name": "stdout",
     "output_type": "stream",
     "text": [
      "<class 'pandas.core.frame.DataFrame'>\n",
      "Int64Index: 14563 entries, 0 to 15288\n",
      "Data columns (total 19 columns):\n",
      " #   Column                Non-Null Count  Dtype         \n",
      "---  ------                --------------  -----         \n",
      " 0   Credito               14563 non-null  int64         \n",
      " 1   agencia               14563 non-null  int64         \n",
      " 2   tipo                  14563 non-null  object        \n",
      " 3   primera_asignacion    14563 non-null  datetime64[ns]\n",
      " 4   nombre                14563 non-null  object        \n",
      " 5   nombre_conyuge        14563 non-null  object        \n",
      " 6   nombre_garante        14563 non-null  object        \n",
      " 7   ciudad                14563 non-null  object        \n",
      " 8   producto              14563 non-null  object        \n",
      " 9   dias_atraso           14563 non-null  int64         \n",
      " 10  grupo_castigo         14563 non-null  datetime64[ns]\n",
      " 11  ultimo_pago           14563 non-null  object        \n",
      " 12  monto                 14563 non-null  int64         \n",
      " 13  nro_cuotas_atrasadas  14563 non-null  int64         \n",
      " 14  cuotas_canceladas     14563 non-null  int64         \n",
      " 15  cuotas_vencidas       14563 non-null  int64         \n",
      " 16  vigente               14563 non-null  int64         \n",
      " 17  TotalCancelado        14563 non-null  int64         \n",
      " 18  rate                  14563 non-null  float64       \n",
      "dtypes: datetime64[ns](2), float64(1), int64(9), object(7)\n",
      "memory usage: 2.2+ MB\n"
     ]
    }
   ],
   "source": [
    "df_out2 = df_features2[df_features2['rate'] < 1.3]  \n",
    "df_out2.info()"
   ]
  },
  {
   "cell_type": "code",
   "execution_count": 318,
   "id": "b1f4db4b",
   "metadata": {},
   "outputs": [
    {
     "data": {
      "text/plain": [
       "<AxesSubplot:>"
      ]
     },
     "execution_count": 318,
     "metadata": {},
     "output_type": "execute_result"
    },
    {
     "data": {
      "image/png": "[encoded data removed]",
      "text/plain": [
       "<Figure size 432x288 with 1 Axes>"
      ]
     },
     "metadata": {
      "needs_background": "light"
     },
     "output_type": "display_data"
    }
   ],
   "source": [
    "df_out2['rate'].plot(kind='box')"
   ]
  },
  {
   "cell_type": "markdown",
   "id": "878dc000",
   "metadata": {},
   "source": [
    "## Exploratory Data Analysis"
   ]
  },
  {
   "cell_type": "code",
   "execution_count": 319,
   "id": "145da5c6",
   "metadata": {},
   "outputs": [
    {
     "name": "stderr",
     "output_type": "stream",
     "text": [
      "/tmp/ipykernel_769/220051646.py:2: FutureWarning: The default value of numeric_only in DataFrame.corr is deprecated. In a future version, it will default to False. Select only valid columns or specify the value of numeric_only to silence this warning.\n",
      "  dataplot = sns.heatmap(df_out2.corr(), cmap=\"YlGnBu\", annot=True)\n"
     ]
    },
    {
     "data": {
      "image/png": "[encoded data removed]",
      "text/plain": [
       "<Figure size 432x288 with 2 Axes>"
      ]
     },
     "metadata": {
      "needs_background": "light"
     },
     "output_type": "display_data"
    }
   ],
   "source": [
    "import seaborn as sns\n",
    "dataplot = sns.heatmap(df_out2.corr(), cmap=\"YlGnBu\", annot=True)\n"
   ]
  },
  {
   "cell_type": "code",
   "execution_count": 320,
   "id": "eff5986a",
   "metadata": {},
   "outputs": [
    {
     "data": {
      "text/html": [
       "<div>\n",
       "<style scoped>\n",
       "    .dataframe tbody tr th:only-of-type {\n",
       "        vertical-align: middle;\n",
       "    }\n",
       "\n",
       "    .dataframe tbody tr th {\n",
       "        vertical-align: top;\n",
       "    }\n",
       "\n",
       "    .dataframe thead th {\n",
       "        text-align: right;\n",
       "    }\n",
       "</style>\n",
       "<table border=\"1\" class=\"dataframe\">\n",
       "  <thead>\n",
       "    <tr style=\"text-align: right;\">\n",
       "      <th></th>\n",
       "      <th>dias_atraso</th>\n",
       "      <th>rate</th>\n",
       "    </tr>\n",
       "  </thead>\n",
       "  <tbody>\n",
       "    <tr>\n",
       "      <th>0</th>\n",
       "      <td>3157</td>\n",
       "      <td>0.847561</td>\n",
       "    </tr>\n",
       "    <tr>\n",
       "      <th>1</th>\n",
       "      <td>2117</td>\n",
       "      <td>0.308029</td>\n",
       "    </tr>\n",
       "    <tr>\n",
       "      <th>3</th>\n",
       "      <td>2635</td>\n",
       "      <td>1.257333</td>\n",
       "    </tr>\n",
       "    <tr>\n",
       "      <th>4</th>\n",
       "      <td>2449</td>\n",
       "      <td>0.073892</td>\n",
       "    </tr>\n",
       "    <tr>\n",
       "      <th>5</th>\n",
       "      <td>2185</td>\n",
       "      <td>0.339806</td>\n",
       "    </tr>\n",
       "  </tbody>\n",
       "</table>\n",
       "</div>"
      ],
      "text/plain": [
       "   dias_atraso      rate\n",
       "0         3157  0.847561\n",
       "1         2117  0.308029\n",
       "3         2635  1.257333\n",
       "4         2449  0.073892\n",
       "5         2185  0.339806"
      ]
     },
     "execution_count": 320,
     "metadata": {},
     "output_type": "execute_result"
    }
   ],
   "source": [
    "df_atraso_rate = df_out2[['dias_atraso','rate']]\n",
    "df_atraso_rate.head()"
   ]
  },
  {
   "cell_type": "code",
   "execution_count": 325,
   "id": "a26735d1",
   "metadata": {},
   "outputs": [
    {
     "data": {
      "image/png": "[encoded data removed]",
      "text/plain": [
       "<Figure size 432x288 with 1 Axes>"
      ]
     },
     "metadata": {
      "needs_background": "light"
     },
     "output_type": "display_data"
    }
   ],
   "source": [
    "import matplotlib.pyplot as plt\n",
    "\n",
    "# Plot dias atraso vs rate\n",
    "plt.scatter(df_out2['cuotas_canceladas'], df_out2['rate'])\n",
    "\n",
    "# Labels\n",
    "plt.xlabel(\"dias atraso\")\n",
    "plt.ylabel(\"rate\")\n",
    "\n",
    "plt.show()"
   ]
  },
  {
   "cell_type": "code",
   "execution_count": 327,
   "id": "a3d721f2",
   "metadata": {},
   "outputs": [
    {
     "data": {
      "text/plain": [
       "count    14563.000000\n",
       "mean        10.536771\n",
       "std          6.652081\n",
       "min          0.000000\n",
       "25%          6.000000\n",
       "50%         10.000000\n",
       "75%         15.000000\n",
       "max         47.000000\n",
       "Name: cuotas_canceladas, dtype: float64"
      ]
     },
     "execution_count": 327,
     "metadata": {},
     "output_type": "execute_result"
    }
   ],
   "source": [
    " df_out2['cuotas_canceladas'].describe()"
   ]
  },
  {
   "cell_type": "code",
   "execution_count": null,
   "id": "02acc6c5",
   "metadata": {},
   "outputs": [],
   "source": []
  },
  {
   "cell_type": "code",
   "execution_count": null,
   "id": "b13af61b",
   "metadata": {},
   "outputs": [],
   "source": []
  },
  {
   "cell_type": "code",
   "execution_count": null,
   "id": "d63cc7c0",
   "metadata": {},
   "outputs": [],
   "source": []
  },
  {
   "cell_type": "code",
   "execution_count": null,
   "id": "482a104f",
   "metadata": {},
   "outputs": [],
   "source": []
  },
  {
   "cell_type": "code",
   "execution_count": null,
   "id": "8c5bbad0",
   "metadata": {},
   "outputs": [],
   "source": []
  },
  {
   "cell_type": "code",
   "execution_count": null,
   "id": "6ecf20ba",
   "metadata": {},
   "outputs": [],
   "source": []
  },
  {
   "cell_type": "code",
   "execution_count": null,
   "id": "eb5cd7c6",
   "metadata": {},
   "outputs": [],
   "source": []
  },
  {
   "cell_type": "code",
   "execution_count": 5,
   "id": "40141840",
   "metadata": {},
   "outputs": [],
   "source": [
    "df_resumen_creditos.to_csv(\"resumen_creditos.csv\",index=False)"
   ]
  },
  {
   "cell_type": "code",
   "execution_count": 3,
   "id": "9962311f",
   "metadata": {},
   "outputs": [
    {
     "data": {
      "text/html": [
       "<div>\n",
       "<style scoped>\n",
       "    .dataframe tbody tr th:only-of-type {\n",
       "        vertical-align: middle;\n",
       "    }\n",
       "\n",
       "    .dataframe tbody tr th {\n",
       "        vertical-align: top;\n",
       "    }\n",
       "\n",
       "    .dataframe thead th {\n",
       "        text-align: right;\n",
       "    }\n",
       "</style>\n",
       "<table border=\"1\" class=\"dataframe\">\n",
       "  <thead>\n",
       "    <tr style=\"text-align: right;\">\n",
       "      <th></th>\n",
       "      <th>Consecutivo_Seguimiento</th>\n",
       "      <th>Consecutivo</th>\n",
       "      <th>Numero_De_Obligacion</th>\n",
       "      <th>Fecha_Seguimiento</th>\n",
       "      <th>Dias_de_Mora</th>\n",
       "      <th>Asesor</th>\n",
       "      <th>Estado_De_Cobro</th>\n",
       "      <th>Clase de Gestion</th>\n",
       "      <th>Telefonos</th>\n",
       "      <th>Nota</th>\n",
       "      <th>Grabador</th>\n",
       "      <th>Hora_Inicial</th>\n",
       "      <th>Hora_Final</th>\n",
       "      <th>Duración</th>\n",
       "      <th>Nombre /descripcion Plantilla</th>\n",
       "      <th>Hora De Compromiso</th>\n",
       "      <th>Fecha_Promesa</th>\n",
       "      <th>Codigo_De_Cobro_Anterior</th>\n",
       "      <th>Codigo_de_gestión_causal</th>\n",
       "      <th>Control</th>\n",
       "    </tr>\n",
       "  </thead>\n",
       "  <tbody>\n",
       "    <tr>\n",
       "      <th>0</th>\n",
       "      <td>18881632</td>\n",
       "      <td>1375683</td>\n",
       "      <td>677161005062</td>\n",
       "      <td>2022-01-03 08:03:25</td>\n",
       "      <td>1135</td>\n",
       "      <td>goech</td>\n",
       "      <td>titular interesado pero no genera acuerdo</td>\n",
       "      <td>TEL</td>\n",
       "      <td>3.506130e+09</td>\n",
       "      <td>3177054605 : tt cancelo 100.000 en cds\\t</td>\n",
       "      <td>andrybolivar</td>\n",
       "      <td>08:01:43</td>\n",
       "      <td>08:03:14</td>\n",
       "      <td>00:01:31</td>\n",
       "      <td>NaN</td>\n",
       "      <td>00:00:00</td>\n",
       "      <td>0000-00-00</td>\n",
       "      <td>1</td>\n",
       "      <td>5061</td>\n",
       "      <td>0</td>\n",
       "    </tr>\n",
       "    <tr>\n",
       "      <th>1</th>\n",
       "      <td>18881638</td>\n",
       "      <td>1400772</td>\n",
       "      <td>636171011538</td>\n",
       "      <td>2022-01-03 08:07:41</td>\n",
       "      <td>1040</td>\n",
       "      <td>goech</td>\n",
       "      <td>recordaciÃ³n efectiva</td>\n",
       "      <td>TEL</td>\n",
       "      <td>3.125378e+09</td>\n",
       "      <td>3125378052  Nadie contesta se deja mensaje de ...</td>\n",
       "      <td>mcaicedo</td>\n",
       "      <td>08:03:59</td>\n",
       "      <td>08:07:39</td>\n",
       "      <td>00:03:40</td>\n",
       "      <td>NaN</td>\n",
       "      <td>00:00:00</td>\n",
       "      <td>0000-00-00</td>\n",
       "      <td>1</td>\n",
       "      <td>702</td>\n",
       "      <td>0</td>\n",
       "    </tr>\n",
       "    <tr>\n",
       "      <th>2</th>\n",
       "      <td>18881641</td>\n",
       "      <td>1265673</td>\n",
       "      <td>615161010256</td>\n",
       "      <td>2022-01-03 08:07:46</td>\n",
       "      <td>1883</td>\n",
       "      <td>goech</td>\n",
       "      <td>recordaciÃ³n efectiva</td>\n",
       "      <td>TEL</td>\n",
       "      <td>3.205884e+09</td>\n",
       "      <td>3103474359 $ 3,860,065.00 cod Marcial Andres A...</td>\n",
       "      <td>luzrey</td>\n",
       "      <td>07:59:40</td>\n",
       "      <td>08:07:03</td>\n",
       "      <td>00:07:23</td>\n",
       "      <td>NaN</td>\n",
       "      <td>00:00:00</td>\n",
       "      <td>0000-00-00</td>\n",
       "      <td>1</td>\n",
       "      <td>703</td>\n",
       "      <td>0</td>\n",
       "    </tr>\n",
       "    <tr>\n",
       "      <th>3</th>\n",
       "      <td>18881642</td>\n",
       "      <td>1335862</td>\n",
       "      <td>668171005546</td>\n",
       "      <td>2022-01-03 08:08:49</td>\n",
       "      <td>1240</td>\n",
       "      <td>goech</td>\n",
       "      <td>recordaciÃ³n efectiva</td>\n",
       "      <td>TEL</td>\n",
       "      <td>3.192947e+09</td>\n",
       "      <td>Blanca Libia Moreno Montoya\\tCel\\t\\t\\t31929472...</td>\n",
       "      <td>xorozco</td>\n",
       "      <td>08:03:42</td>\n",
       "      <td>08:08:44</td>\n",
       "      <td>00:05:02</td>\n",
       "      <td>NaN</td>\n",
       "      <td>00:00:00</td>\n",
       "      <td>0000-00-00</td>\n",
       "      <td>1</td>\n",
       "      <td>702</td>\n",
       "      <td>0</td>\n",
       "    </tr>\n",
       "    <tr>\n",
       "      <th>4</th>\n",
       "      <td>18881643</td>\n",
       "      <td>1708150</td>\n",
       "      <td>646181010441</td>\n",
       "      <td>2022-01-03 08:09:03</td>\n",
       "      <td>524</td>\n",
       "      <td>goech</td>\n",
       "      <td>recordaciÃ³n efectiva</td>\n",
       "      <td>TEL</td>\n",
       "      <td>3.184301e+09</td>\n",
       "      <td>3117550804 se confirma pago\\t</td>\n",
       "      <td>andrybolivar</td>\n",
       "      <td>08:04:11</td>\n",
       "      <td>08:08:27</td>\n",
       "      <td>00:04:16</td>\n",
       "      <td>NaN</td>\n",
       "      <td>00:00:00</td>\n",
       "      <td>0000-00-00</td>\n",
       "      <td>1</td>\n",
       "      <td>703</td>\n",
       "      <td>0</td>\n",
       "    </tr>\n",
       "  </tbody>\n",
       "</table>\n",
       "</div>"
      ],
      "text/plain": [
       "   Consecutivo_Seguimiento  Consecutivo  Numero_De_Obligacion  \\\n",
       "0                 18881632      1375683          677161005062   \n",
       "1                 18881638      1400772          636171011538   \n",
       "2                 18881641      1265673          615161010256   \n",
       "3                 18881642      1335862          668171005546   \n",
       "4                 18881643      1708150          646181010441   \n",
       "\n",
       "    Fecha_Seguimiento  Dias_de_Mora Asesor  \\\n",
       "0 2022-01-03 08:03:25          1135  goech   \n",
       "1 2022-01-03 08:07:41          1040  goech   \n",
       "2 2022-01-03 08:07:46          1883  goech   \n",
       "3 2022-01-03 08:08:49          1240  goech   \n",
       "4 2022-01-03 08:09:03           524  goech   \n",
       "\n",
       "                              Estado_De_Cobro Clase de Gestion     Telefonos  \\\n",
       "0  titular interesado pero no genera acuerdo               TEL  3.506130e+09   \n",
       "1                       recordaciÃ³n efectiva              TEL  3.125378e+09   \n",
       "2                       recordaciÃ³n efectiva              TEL  3.205884e+09   \n",
       "3                       recordaciÃ³n efectiva              TEL  3.192947e+09   \n",
       "4                       recordaciÃ³n efectiva              TEL  3.184301e+09   \n",
       "\n",
       "                                                Nota      Grabador  \\\n",
       "0           3177054605 : tt cancelo 100.000 en cds\\t  andrybolivar   \n",
       "1  3125378052  Nadie contesta se deja mensaje de ...      mcaicedo   \n",
       "2  3103474359 $ 3,860,065.00 cod Marcial Andres A...        luzrey   \n",
       "3  Blanca Libia Moreno Montoya\\tCel\\t\\t\\t31929472...       xorozco   \n",
       "4                      3117550804 se confirma pago\\t  andrybolivar   \n",
       "\n",
       "  Hora_Inicial Hora_Final  Duración  Nombre /descripcion Plantilla  \\\n",
       "0     08:01:43   08:03:14  00:01:31                            NaN   \n",
       "1     08:03:59   08:07:39  00:03:40                            NaN   \n",
       "2     07:59:40   08:07:03  00:07:23                            NaN   \n",
       "3     08:03:42   08:08:44  00:05:02                            NaN   \n",
       "4     08:04:11   08:08:27  00:04:16                            NaN   \n",
       "\n",
       "  Hora De Compromiso Fecha_Promesa Codigo_De_Cobro_Anterior  \\\n",
       "0           00:00:00    0000-00-00                        1   \n",
       "1           00:00:00    0000-00-00                        1   \n",
       "2           00:00:00    0000-00-00                        1   \n",
       "3           00:00:00    0000-00-00                        1   \n",
       "4           00:00:00    0000-00-00                        1   \n",
       "\n",
       "  Codigo_de_gestión_causal Control  \n",
       "0                     5061       0  \n",
       "1                      702       0  \n",
       "2                      703       0  \n",
       "3                      702       0  \n",
       "4                      703       0  "
      ]
     },
     "execution_count": 3,
     "metadata": {},
     "output_type": "execute_result"
    }
   ],
   "source": [
    "df_gestiones_2022 =pd.read_excel(f'datos_avance.xlsx',sheet_name='gestiones_2022')\n",
    "df_gestiones_2022.head()\n",
    "\n"
   ]
  },
  {
   "cell_type": "code",
   "execution_count": 6,
   "id": "4efa413a",
   "metadata": {},
   "outputs": [],
   "source": [
    "df_gestiones_2022.to_csv(\"gestiones_2022.csv\",index=False)"
   ]
  },
  {
   "cell_type": "code",
   "execution_count": null,
   "id": "e755e2f8",
   "metadata": {},
   "outputs": [],
   "source": []
  },
  {
   "cell_type": "code",
   "execution_count": null,
   "id": "dda5c00d",
   "metadata": {},
   "outputs": [],
   "source": []
  },
  {
   "cell_type": "code",
   "execution_count": 9,
   "id": "fb3984d3",
   "metadata": {},
   "outputs": [
    {
     "data": {
      "text/plain": [
       "Index(['FechaCaptura', 'Credito', 'FechaAPagar', 'VRCancelar', 'PuntoPago',\n",
       "       'TipoPago', 'Asesor', 'VrTotalObligacion', 'VrTotalNegociado',\n",
       "       'Condonacion', 'TipoPago2', 'Cuotas', 'VrCuota1', 'VrOtrasCuotas',\n",
       "       'CuotaNumero', 'Estado', 'FechaPago'],\n",
       "      dtype='object')"
      ]
     },
     "execution_count": 9,
     "metadata": {},
     "output_type": "execute_result"
    }
   ],
   "source": [
    "df.columns"
   ]
  },
  {
   "cell_type": "code",
   "execution_count": 10,
   "id": "5439c25a",
   "metadata": {
    "scrolled": true
   },
   "outputs": [
    {
     "name": "stdout",
     "output_type": "stream",
     "text": [
      "<class 'pandas.core.frame.DataFrame'>\n",
      "RangeIndex: 2643 entries, 0 to 2642\n",
      "Data columns (total 17 columns):\n",
      " #   Column             Non-Null Count  Dtype         \n",
      "---  ------             --------------  -----         \n",
      " 0   FechaCaptura       2643 non-null   datetime64[ns]\n",
      " 1   Credito            2643 non-null   int64         \n",
      " 2   FechaAPagar        2643 non-null   datetime64[ns]\n",
      " 3   VRCancelar         2643 non-null   int64         \n",
      " 4   PuntoPago          2643 non-null   object        \n",
      " 5   TipoPago           2640 non-null   object        \n",
      " 6   Asesor             324 non-null    object        \n",
      " 7   VrTotalObligacion  2643 non-null   int64         \n",
      " 8   VrTotalNegociado   2643 non-null   int64         \n",
      " 9   Condonacion        2643 non-null   int64         \n",
      " 10  TipoPago2          0 non-null      float64       \n",
      " 11  Cuotas             2643 non-null   int64         \n",
      " 12  VrCuota1           2643 non-null   int64         \n",
      " 13  VrOtrasCuotas      2643 non-null   int64         \n",
      " 14  CuotaNumero        2643 non-null   int64         \n",
      " 15  Estado             204 non-null    object        \n",
      " 16  FechaPago          2643 non-null   datetime64[ns]\n",
      "dtypes: datetime64[ns](3), float64(1), int64(9), object(4)\n",
      "memory usage: 351.1+ KB\n"
     ]
    }
   ],
   "source": [
    "df.info()"
   ]
  },
  {
   "cell_type": "code",
   "execution_count": 13,
   "id": "26a3453e",
   "metadata": {},
   "outputs": [
    {
     "data": {
      "text/plain": [
       "<AxesSubplot:>"
      ]
     },
     "execution_count": 13,
     "metadata": {},
     "output_type": "execute_result"
    },
    {
     "data": {
      "image/png": "[encoded data removed]",
      "text/plain": [
       "<Figure size 432x288 with 1 Axes>"
      ]
     },
     "metadata": {
      "needs_background": "light"
     },
     "output_type": "display_data"
    }
   ],
   "source": [
    "df['FechaPago'].plot()"
   ]
  },
  {
   "cell_type": "code",
   "execution_count": 16,
   "id": "f02f2024",
   "metadata": {},
   "outputs": [
    {
     "ename": "AttributeError",
     "evalue": "'int' object has no attribute 'value_counts'",
     "output_type": "error",
     "traceback": [
      "\u001b[0;31m---------------------------------------------------------------------------\u001b[0m",
      "\u001b[0;31mAttributeError\u001b[0m                            Traceback (most recent call last)",
      "\u001b[0;32m/tmp/ipykernel_17814/718718329.py\u001b[0m in \u001b[0;36m<module>\u001b[0;34m\u001b[0m\n\u001b[0;32m----> 1\u001b[0;31m \u001b[0mdf\u001b[0m\u001b[0;34m[\u001b[0m\u001b[0;34m'FechaPago'\u001b[0m\u001b[0;34m]\u001b[0m\u001b[0;34m.\u001b[0m\u001b[0mnunique\u001b[0m\u001b[0;34m(\u001b[0m\u001b[0;34m)\u001b[0m\u001b[0;34m.\u001b[0m\u001b[0mvalue_counts\u001b[0m\u001b[0;34m(\u001b[0m\u001b[0;34m)\u001b[0m\u001b[0;34m\u001b[0m\u001b[0;34m\u001b[0m\u001b[0m\n\u001b[0m",
      "\u001b[0;31mAttributeError\u001b[0m: 'int' object has no attribute 'value_counts'"
     ]
    }
   ],
   "source": [
    "df['FechaPago'].nunique().value_counts()"
   ]
  },
  {
   "cell_type": "code",
   "execution_count": null,
   "id": "423a3fc2",
   "metadata": {},
   "outputs": [],
   "source": [
    "x = df['FechaPago']\n",
    "\n"
   ]
  }
 ],
 "metadata": {
  "kernelspec": {
   "display_name": "Python 3 (ipykernel)",
   "language": "python",
   "name": "python3"
  },
  "language_info": {
   "codemirror_mode": {
    "name": "ipython",
    "version": 3
   },
   "file_extension": ".py",
   "mimetype": "text/x-python",
   "name": "python",
   "nbconvert_exporter": "python",
   "pygments_lexer": "ipython3",
   "version": "3.8.12"
  },
  "toc": {
   "base_numbering": 1,
   "nav_menu": {},
   "number_sections": true,
   "sideBar": true,
   "skip_h1_title": false,
   "title_cell": "Table of Contents",
   "title_sidebar": "Contents",
   "toc_cell": false,
   "toc_position": {},
   "toc_section_display": true,
   "toc_window_display": false
  }
 },
 "nbformat": 4,
 "nbformat_minor": 5
}
