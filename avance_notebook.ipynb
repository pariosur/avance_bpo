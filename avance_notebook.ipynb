{
 "cells": [
  {
   "cell_type": "code",
   "execution_count": 2,
   "id": "32e5a3d1",
   "metadata": {},
   "outputs": [
    {
     "name": "stderr",
     "output_type": "stream",
     "text": [
      "/home/proctor/.pyenv/versions/3.8.12/envs/lewagon/lib/python3.8/site-packages/scipy/__init__.py:146: UserWarning: A NumPy version >=1.16.5 and <1.23.0 is required for this version of SciPy (detected version 1.23.3\n",
      "  warnings.warn(f\"A NumPy version >={np_minversion} and <{np_maxversion}\"\n"
     ]
    }
   ],
   "source": [
    "import pandas as pd\n",
    "import numpy as np\n",
    "import matplotlib as plt\n",
    "import seaborn as sns"
   ]
  },
  {
   "cell_type": "markdown",
   "id": "4b939714",
   "metadata": {},
   "source": [
    "## Importing Datasets"
   ]
  },
  {
   "cell_type": "code",
   "execution_count": 1,
   "id": "6a18ddef",
   "metadata": {
    "scrolled": true
   },
   "outputs": [
    {
     "ename": "NameError",
     "evalue": "name 'pd' is not defined",
     "output_type": "error",
     "traceback": [
      "\u001b[0;31m---------------------------------------------------------------------------\u001b[0m",
      "\u001b[0;31mNameError\u001b[0m                                 Traceback (most recent call last)",
      "\u001b[0;32m/tmp/ipykernel_769/504460809.py\u001b[0m in \u001b[0;36m<module>\u001b[0;34m\u001b[0m\n\u001b[1;32m      1\u001b[0m \u001b[0;31m# df = pd.read_excel('datos_avance.xlxs', sheet_name=None)\u001b[0m\u001b[0;34m\u001b[0m\u001b[0;34m\u001b[0m\u001b[0;34m\u001b[0m\u001b[0m\n\u001b[0;32m----> 2\u001b[0;31m \u001b[0mdf\u001b[0m \u001b[0;34m=\u001b[0m \u001b[0mpd\u001b[0m\u001b[0;34m.\u001b[0m\u001b[0mread_excel\u001b[0m\u001b[0;34m(\u001b[0m\u001b[0;34m'datos_avance.xlsx'\u001b[0m\u001b[0;34m)\u001b[0m\u001b[0;34m\u001b[0m\u001b[0;34m\u001b[0m\u001b[0m\n\u001b[0m\u001b[1;32m      3\u001b[0m \u001b[0mdf\u001b[0m\u001b[0;34m.\u001b[0m\u001b[0mhead\u001b[0m\u001b[0;34m(\u001b[0m\u001b[0;34m)\u001b[0m\u001b[0;34m\u001b[0m\u001b[0;34m\u001b[0m\u001b[0m\n",
      "\u001b[0;31mNameError\u001b[0m: name 'pd' is not defined"
     ]
    }
   ],
   "source": [
    "\n",
    "# df = pd.read_excel('datos_avance.xlxs', sheet_name=None)\n",
    "df = pd.read_excel('datos_avance.xlsx') \n",
    "df.head()\n"
   ]
  },
  {
   "cell_type": "code",
   "execution_count": 5,
   "id": "5db7c7d1",
   "metadata": {},
   "outputs": [
    {
     "name": "stdout",
     "output_type": "stream",
     "text": [
      "['acuerdos', 'payment_params', 'pagos', 'asignacion_fdem', 'resumen_creditos', 'gestiones_2022']\n"
     ]
    }
   ],
   "source": [
    "dfname=pd.ExcelFile('datos_avance.xlsx')\n",
    "print(dfname.sheet_names)\n"
   ]
  },
  {
   "cell_type": "code",
   "execution_count": 6,
   "id": "c7e334a9",
   "metadata": {
    "scrolled": true
   },
   "outputs": [
    {
     "data": {
      "text/html": [
       "<div>\n",
       "<style scoped>\n",
       "    .dataframe tbody tr th:only-of-type {\n",
       "        vertical-align: middle;\n",
       "    }\n",
       "\n",
       "    .dataframe tbody tr th {\n",
       "        vertical-align: top;\n",
       "    }\n",
       "\n",
       "    .dataframe thead th {\n",
       "        text-align: right;\n",
       "    }\n",
       "</style>\n",
       "<table border=\"1\" class=\"dataframe\">\n",
       "  <thead>\n",
       "    <tr style=\"text-align: right;\">\n",
       "      <th></th>\n",
       "      <th>FechaCaptura</th>\n",
       "      <th>Credito</th>\n",
       "      <th>FechaAPagar</th>\n",
       "      <th>VRCancelar</th>\n",
       "      <th>PuntoPago</th>\n",
       "      <th>TipoPago</th>\n",
       "      <th>Asesor</th>\n",
       "      <th>VrTotalObligacion</th>\n",
       "      <th>VrTotalNegociado</th>\n",
       "      <th>Condonacion</th>\n",
       "      <th>TipoPago2</th>\n",
       "      <th>Cuotas</th>\n",
       "      <th>VrCuota1</th>\n",
       "      <th>VrOtrasCuotas</th>\n",
       "      <th>CuotaNumero</th>\n",
       "      <th>Estado</th>\n",
       "      <th>FechaPago</th>\n",
       "    </tr>\n",
       "  </thead>\n",
       "  <tbody>\n",
       "    <tr>\n",
       "      <th>0</th>\n",
       "      <td>2016-11-08</td>\n",
       "      <td>904141001352</td>\n",
       "      <td>2016-11-30</td>\n",
       "      <td>100000</td>\n",
       "      <td>CDS o Efecty</td>\n",
       "      <td>Pago Parcial</td>\n",
       "      <td>Si</td>\n",
       "      <td>0</td>\n",
       "      <td>0</td>\n",
       "      <td>0</td>\n",
       "      <td>NaN</td>\n",
       "      <td>0</td>\n",
       "      <td>0</td>\n",
       "      <td>0</td>\n",
       "      <td>0</td>\n",
       "      <td>NaN</td>\n",
       "      <td>1900-01-01</td>\n",
       "    </tr>\n",
       "    <tr>\n",
       "      <th>1</th>\n",
       "      <td>2016-11-23</td>\n",
       "      <td>904141001295</td>\n",
       "      <td>2016-12-21</td>\n",
       "      <td>260000</td>\n",
       "      <td>Oficina Fundaci¢n de la Mujer</td>\n",
       "      <td>Pago Parcial con Condonaci¢n</td>\n",
       "      <td>Si</td>\n",
       "      <td>0</td>\n",
       "      <td>0</td>\n",
       "      <td>0</td>\n",
       "      <td>NaN</td>\n",
       "      <td>0</td>\n",
       "      <td>0</td>\n",
       "      <td>0</td>\n",
       "      <td>0</td>\n",
       "      <td>NaN</td>\n",
       "      <td>1900-01-01</td>\n",
       "    </tr>\n",
       "    <tr>\n",
       "      <th>2</th>\n",
       "      <td>2016-11-28</td>\n",
       "      <td>904141000816</td>\n",
       "      <td>2016-12-15</td>\n",
       "      <td>844000</td>\n",
       "      <td>Oficina Fundaci¢n de la Mujer</td>\n",
       "      <td>Pago Parcial con Condonaci¢n</td>\n",
       "      <td>NaN</td>\n",
       "      <td>0</td>\n",
       "      <td>0</td>\n",
       "      <td>0</td>\n",
       "      <td>NaN</td>\n",
       "      <td>0</td>\n",
       "      <td>0</td>\n",
       "      <td>0</td>\n",
       "      <td>0</td>\n",
       "      <td>NaN</td>\n",
       "      <td>1900-01-01</td>\n",
       "    </tr>\n",
       "    <tr>\n",
       "      <th>3</th>\n",
       "      <td>2016-11-19</td>\n",
       "      <td>904141000465</td>\n",
       "      <td>2016-11-30</td>\n",
       "      <td>75000</td>\n",
       "      <td>CDS o Efecty</td>\n",
       "      <td>Pago Parcial con Condonaci¢n</td>\n",
       "      <td>NaN</td>\n",
       "      <td>0</td>\n",
       "      <td>0</td>\n",
       "      <td>0</td>\n",
       "      <td>NaN</td>\n",
       "      <td>0</td>\n",
       "      <td>0</td>\n",
       "      <td>0</td>\n",
       "      <td>0</td>\n",
       "      <td>NaN</td>\n",
       "      <td>1900-01-01</td>\n",
       "    </tr>\n",
       "    <tr>\n",
       "      <th>4</th>\n",
       "      <td>2016-11-09</td>\n",
       "      <td>904141000343</td>\n",
       "      <td>2016-11-30</td>\n",
       "      <td>55000</td>\n",
       "      <td>CDS o Efecty</td>\n",
       "      <td>Pago Parcial con Condonaci¢n</td>\n",
       "      <td>NaN</td>\n",
       "      <td>0</td>\n",
       "      <td>0</td>\n",
       "      <td>0</td>\n",
       "      <td>NaN</td>\n",
       "      <td>0</td>\n",
       "      <td>0</td>\n",
       "      <td>0</td>\n",
       "      <td>0</td>\n",
       "      <td>NaN</td>\n",
       "      <td>1900-01-01</td>\n",
       "    </tr>\n",
       "  </tbody>\n",
       "</table>\n",
       "</div>"
      ],
      "text/plain": [
       "  FechaCaptura       Credito FechaAPagar  VRCancelar  \\\n",
       "0   2016-11-08  904141001352  2016-11-30      100000   \n",
       "1   2016-11-23  904141001295  2016-12-21      260000   \n",
       "2   2016-11-28  904141000816  2016-12-15      844000   \n",
       "3   2016-11-19  904141000465  2016-11-30       75000   \n",
       "4   2016-11-09  904141000343  2016-11-30       55000   \n",
       "\n",
       "                       PuntoPago                      TipoPago Asesor  \\\n",
       "0                   CDS o Efecty                  Pago Parcial     Si   \n",
       "1  Oficina Fundaci¢n de la Mujer  Pago Parcial con Condonaci¢n     Si   \n",
       "2  Oficina Fundaci¢n de la Mujer  Pago Parcial con Condonaci¢n    NaN   \n",
       "3                   CDS o Efecty  Pago Parcial con Condonaci¢n    NaN   \n",
       "4                   CDS o Efecty  Pago Parcial con Condonaci¢n    NaN   \n",
       "\n",
       "   VrTotalObligacion  VrTotalNegociado  Condonacion  TipoPago2  Cuotas  \\\n",
       "0                  0                 0            0        NaN       0   \n",
       "1                  0                 0            0        NaN       0   \n",
       "2                  0                 0            0        NaN       0   \n",
       "3                  0                 0            0        NaN       0   \n",
       "4                  0                 0            0        NaN       0   \n",
       "\n",
       "   VrCuota1  VrOtrasCuotas  CuotaNumero Estado  FechaPago  \n",
       "0         0              0            0    NaN 1900-01-01  \n",
       "1         0              0            0    NaN 1900-01-01  \n",
       "2         0              0            0    NaN 1900-01-01  \n",
       "3         0              0            0    NaN 1900-01-01  \n",
       "4         0              0            0    NaN 1900-01-01  "
      ]
     },
     "execution_count": 6,
     "metadata": {},
     "output_type": "execute_result"
    }
   ],
   "source": [
    "df_acuerdos =pd.read_excel(f'datos_avance.xlsx',sheet_name='acuerdos')\n",
    "df_acuerdos.head()"
   ]
  },
  {
   "cell_type": "code",
   "execution_count": 5,
   "id": "6a9bdc69",
   "metadata": {},
   "outputs": [],
   "source": [
    "# df_acuerdos.to_csv(\"acuerdos.csv\",index=False)"
   ]
  },
  {
   "cell_type": "code",
   "execution_count": 7,
   "id": "28dab7f6",
   "metadata": {
    "scrolled": true
   },
   "outputs": [
    {
     "data": {
      "text/html": [
       "<div>\n",
       "<style scoped>\n",
       "    .dataframe tbody tr th:only-of-type {\n",
       "        vertical-align: middle;\n",
       "    }\n",
       "\n",
       "    .dataframe tbody tr th {\n",
       "        vertical-align: top;\n",
       "    }\n",
       "\n",
       "    .dataframe thead th {\n",
       "        text-align: right;\n",
       "    }\n",
       "</style>\n",
       "<table border=\"1\" class=\"dataframe\">\n",
       "  <thead>\n",
       "    <tr style=\"text-align: right;\">\n",
       "      <th></th>\n",
       "      <th>id</th>\n",
       "      <th>user_id</th>\n",
       "      <th>credit_number</th>\n",
       "      <th>value</th>\n",
       "      <th>description</th>\n",
       "      <th>pay_location_id</th>\n",
       "      <th>on_site</th>\n",
       "      <th>agreement_type_id</th>\n",
       "      <th>date</th>\n",
       "      <th>time</th>\n",
       "      <th>active</th>\n",
       "      <th>confirmed_user</th>\n",
       "      <th>confirmed_found</th>\n",
       "      <th>accesed_at</th>\n",
       "      <th>created_at</th>\n",
       "      <th>updated_at</th>\n",
       "    </tr>\n",
       "  </thead>\n",
       "  <tbody>\n",
       "    <tr>\n",
       "      <th>0</th>\n",
       "      <td>2</td>\n",
       "      <td>1</td>\n",
       "      <td>641131002666</td>\n",
       "      <td>15000</td>\n",
       "      <td>NaN</td>\n",
       "      <td>1</td>\n",
       "      <td>0</td>\n",
       "      <td>1</td>\n",
       "      <td>\\N</td>\n",
       "      <td>\\N</td>\n",
       "      <td>0</td>\n",
       "      <td>0</td>\n",
       "      <td>0</td>\n",
       "      <td>\\N</td>\n",
       "      <td>2017-02-28 19:05:29</td>\n",
       "      <td>2017-03-01 09:39:56</td>\n",
       "    </tr>\n",
       "    <tr>\n",
       "      <th>1</th>\n",
       "      <td>3</td>\n",
       "      <td>16</td>\n",
       "      <td>1490</td>\n",
       "      <td>200000</td>\n",
       "      <td>transcurso del dia</td>\n",
       "      <td>1</td>\n",
       "      <td>0</td>\n",
       "      <td>4</td>\n",
       "      <td>\\N</td>\n",
       "      <td>\\N</td>\n",
       "      <td>0</td>\n",
       "      <td>0</td>\n",
       "      <td>0</td>\n",
       "      <td>\\N</td>\n",
       "      <td>2017-03-01 08:08:31</td>\n",
       "      <td>2017-03-01 09:35:55</td>\n",
       "    </tr>\n",
       "    <tr>\n",
       "      <th>2</th>\n",
       "      <td>4</td>\n",
       "      <td>16</td>\n",
       "      <td>1676</td>\n",
       "      <td>1420000</td>\n",
       "      <td>cancela en 15 minutos.</td>\n",
       "      <td>1</td>\n",
       "      <td>0</td>\n",
       "      <td>4</td>\n",
       "      <td>\\N</td>\n",
       "      <td>\\N</td>\n",
       "      <td>0</td>\n",
       "      <td>0</td>\n",
       "      <td>0</td>\n",
       "      <td>\\N</td>\n",
       "      <td>2017-03-01 08:20:07</td>\n",
       "      <td>2017-03-01 09:35:04</td>\n",
       "    </tr>\n",
       "    <tr>\n",
       "      <th>3</th>\n",
       "      <td>5</td>\n",
       "      <td>21</td>\n",
       "      <td>614151006615</td>\n",
       "      <td>98000</td>\n",
       "      <td>cancelara en el transcurso del dia</td>\n",
       "      <td>1</td>\n",
       "      <td>0</td>\n",
       "      <td>3</td>\n",
       "      <td>\\N</td>\n",
       "      <td>\\N</td>\n",
       "      <td>0</td>\n",
       "      <td>0</td>\n",
       "      <td>0</td>\n",
       "      <td>\\N</td>\n",
       "      <td>2017-03-01 08:50:36</td>\n",
       "      <td>2017-03-01 09:36:38</td>\n",
       "    </tr>\n",
       "    <tr>\n",
       "      <th>4</th>\n",
       "      <td>6</td>\n",
       "      <td>1</td>\n",
       "      <td>822141001963</td>\n",
       "      <td>1980000</td>\n",
       "      <td>NaN</td>\n",
       "      <td>1</td>\n",
       "      <td>0</td>\n",
       "      <td>1</td>\n",
       "      <td>\\N</td>\n",
       "      <td>\\N</td>\n",
       "      <td>0</td>\n",
       "      <td>0</td>\n",
       "      <td>0</td>\n",
       "      <td>\\N</td>\n",
       "      <td>2017-03-01 08:54:19</td>\n",
       "      <td>2017-03-01 09:40:45</td>\n",
       "    </tr>\n",
       "  </tbody>\n",
       "</table>\n",
       "</div>"
      ],
      "text/plain": [
       "   id  user_id  credit_number    value                         description  \\\n",
       "0   2        1   641131002666    15000                                 NaN   \n",
       "1   3       16           1490   200000                  transcurso del dia   \n",
       "2   4       16           1676  1420000              cancela en 15 minutos.   \n",
       "3   5       21   614151006615    98000  cancelara en el transcurso del dia   \n",
       "4   6        1   822141001963  1980000                                 NaN   \n",
       "\n",
       "   pay_location_id  on_site  agreement_type_id date time  active  \\\n",
       "0                1        0                  1   \\N   \\N       0   \n",
       "1                1        0                  4   \\N   \\N       0   \n",
       "2                1        0                  4   \\N   \\N       0   \n",
       "3                1        0                  3   \\N   \\N       0   \n",
       "4                1        0                  1   \\N   \\N       0   \n",
       "\n",
       "  confirmed_user  confirmed_found accesed_at          created_at  \\\n",
       "0              0                0         \\N 2017-02-28 19:05:29   \n",
       "1              0                0         \\N 2017-03-01 08:08:31   \n",
       "2              0                0         \\N 2017-03-01 08:20:07   \n",
       "3              0                0         \\N 2017-03-01 08:50:36   \n",
       "4              0                0         \\N 2017-03-01 08:54:19   \n",
       "\n",
       "           updated_at  \n",
       "0 2017-03-01 09:39:56  \n",
       "1 2017-03-01 09:35:55  \n",
       "2 2017-03-01 09:35:04  \n",
       "3 2017-03-01 09:36:38  \n",
       "4 2017-03-01 09:40:45  "
      ]
     },
     "execution_count": 7,
     "metadata": {},
     "output_type": "execute_result"
    }
   ],
   "source": [
    "df_payment_params =pd.read_excel(f'datos_avance.xlsx',sheet_name='payment_params')\n",
    "df_payment_params.head()"
   ]
  },
  {
   "cell_type": "code",
   "execution_count": 8,
   "id": "7c258d51",
   "metadata": {},
   "outputs": [],
   "source": [
    "# df_payment_params.to_csv(\"payment_params.csv\",index=False)"
   ]
  },
  {
   "cell_type": "code",
   "execution_count": 3,
   "id": "27e25a13",
   "metadata": {
    "scrolled": false
   },
   "outputs": [
    {
     "data": {
      "text/html": [
       "<div>\n",
       "<style scoped>\n",
       "    .dataframe tbody tr th:only-of-type {\n",
       "        vertical-align: middle;\n",
       "    }\n",
       "\n",
       "    .dataframe tbody tr th {\n",
       "        vertical-align: top;\n",
       "    }\n",
       "\n",
       "    .dataframe thead th {\n",
       "        text-align: right;\n",
       "    }\n",
       "</style>\n",
       "<table border=\"1\" class=\"dataframe\">\n",
       "  <thead>\n",
       "    <tr style=\"text-align: right;\">\n",
       "      <th></th>\n",
       "      <th>MesCargue</th>\n",
       "      <th>Codigo</th>\n",
       "      <th>Agencia</th>\n",
       "      <th>Credito</th>\n",
       "      <th>Estado</th>\n",
       "      <th>SaldoFindeMes</th>\n",
       "      <th>DiasMoraFindeMes</th>\n",
       "      <th>SaldoActual</th>\n",
       "      <th>DiasmoraActual</th>\n",
       "      <th>FechaValor</th>\n",
       "      <th>...</th>\n",
       "      <th>MORA</th>\n",
       "      <th>PAGOSOTROS</th>\n",
       "      <th>TotalCancelado</th>\n",
       "      <th>VRgoech</th>\n",
       "      <th>CONDCAPITAL</th>\n",
       "      <th>CONDINTERES</th>\n",
       "      <th>CONDMORA</th>\n",
       "      <th>DiasMoraPago</th>\n",
       "      <th>Reverso</th>\n",
       "      <th>Concepto</th>\n",
       "    </tr>\n",
       "  </thead>\n",
       "  <tbody>\n",
       "    <tr>\n",
       "      <th>0</th>\n",
       "      <td>2016-10</td>\n",
       "      <td>101</td>\n",
       "      <td>BUCARAMANGA AGENCIA PRINCIPAL</td>\n",
       "      <td>101101002728</td>\n",
       "      <td>Castigado</td>\n",
       "      <td>321631</td>\n",
       "      <td>2032</td>\n",
       "      <td>0</td>\n",
       "      <td>0</td>\n",
       "      <td>2016-10-18</td>\n",
       "      <td>...</td>\n",
       "      <td>0</td>\n",
       "      <td>10556</td>\n",
       "      <td>332187</td>\n",
       "      <td>321631</td>\n",
       "      <td>0</td>\n",
       "      <td>0</td>\n",
       "      <td>594634</td>\n",
       "      <td>2050</td>\n",
       "      <td>NaN</td>\n",
       "      <td>NaN</td>\n",
       "    </tr>\n",
       "    <tr>\n",
       "      <th>1</th>\n",
       "      <td>2016-10</td>\n",
       "      <td>101</td>\n",
       "      <td>BUCARAMANGA AGENCIA PRINCIPAL</td>\n",
       "      <td>101104101267</td>\n",
       "      <td>Castigado</td>\n",
       "      <td>149159</td>\n",
       "      <td>2142</td>\n",
       "      <td>0</td>\n",
       "      <td>0</td>\n",
       "      <td>2016-10-31</td>\n",
       "      <td>...</td>\n",
       "      <td>0</td>\n",
       "      <td>4182</td>\n",
       "      <td>153341</td>\n",
       "      <td>149159</td>\n",
       "      <td>0</td>\n",
       "      <td>3498</td>\n",
       "      <td>356515</td>\n",
       "      <td>2172</td>\n",
       "      <td>NaN</td>\n",
       "      <td>NaN</td>\n",
       "    </tr>\n",
       "    <tr>\n",
       "      <th>2</th>\n",
       "      <td>2016-10</td>\n",
       "      <td>101</td>\n",
       "      <td>BUCARAMANGA AGENCIA PRINCIPAL</td>\n",
       "      <td>101131041847</td>\n",
       "      <td>Castigado</td>\n",
       "      <td>384108</td>\n",
       "      <td>490</td>\n",
       "      <td>0</td>\n",
       "      <td>0</td>\n",
       "      <td>2016-10-20</td>\n",
       "      <td>...</td>\n",
       "      <td>0</td>\n",
       "      <td>9799</td>\n",
       "      <td>393907</td>\n",
       "      <td>384108</td>\n",
       "      <td>0</td>\n",
       "      <td>20307</td>\n",
       "      <td>233846</td>\n",
       "      <td>510</td>\n",
       "      <td>NaN</td>\n",
       "      <td>NaN</td>\n",
       "    </tr>\n",
       "    <tr>\n",
       "      <th>3</th>\n",
       "      <td>2016-10</td>\n",
       "      <td>102</td>\n",
       "      <td>BUCARAMANGA AGENCIA ASTURIAS</td>\n",
       "      <td>102141028221</td>\n",
       "      <td>Castigado</td>\n",
       "      <td>291780</td>\n",
       "      <td>706</td>\n",
       "      <td>0</td>\n",
       "      <td>0</td>\n",
       "      <td>2016-10-21</td>\n",
       "      <td>...</td>\n",
       "      <td>0</td>\n",
       "      <td>20420</td>\n",
       "      <td>312200</td>\n",
       "      <td>291780</td>\n",
       "      <td>0</td>\n",
       "      <td>30678</td>\n",
       "      <td>226165</td>\n",
       "      <td>727</td>\n",
       "      <td>NaN</td>\n",
       "      <td>NaN</td>\n",
       "    </tr>\n",
       "    <tr>\n",
       "      <th>4</th>\n",
       "      <td>2016-10</td>\n",
       "      <td>102</td>\n",
       "      <td>BUCARAMANGA AGENCIA ASTURIAS</td>\n",
       "      <td>102141028298</td>\n",
       "      <td>Castigado</td>\n",
       "      <td>1363613</td>\n",
       "      <td>803</td>\n",
       "      <td>1322611</td>\n",
       "      <td>803</td>\n",
       "      <td>2016-10-18</td>\n",
       "      <td>...</td>\n",
       "      <td>0</td>\n",
       "      <td>12549</td>\n",
       "      <td>100000</td>\n",
       "      <td>87451</td>\n",
       "      <td>0</td>\n",
       "      <td>0</td>\n",
       "      <td>52487</td>\n",
       "      <td>821</td>\n",
       "      <td>NaN</td>\n",
       "      <td>NaN</td>\n",
       "    </tr>\n",
       "  </tbody>\n",
       "</table>\n",
       "<p>5 rows × 27 columns</p>\n",
       "</div>"
      ],
      "text/plain": [
       "  MesCargue  Codigo                        Agencia       Credito     Estado  \\\n",
       "0   2016-10     101  BUCARAMANGA AGENCIA PRINCIPAL  101101002728  Castigado   \n",
       "1   2016-10     101  BUCARAMANGA AGENCIA PRINCIPAL  101104101267  Castigado   \n",
       "2   2016-10     101  BUCARAMANGA AGENCIA PRINCIPAL  101131041847  Castigado   \n",
       "3   2016-10     102   BUCARAMANGA AGENCIA ASTURIAS  102141028221  Castigado   \n",
       "4   2016-10     102   BUCARAMANGA AGENCIA ASTURIAS  102141028298  Castigado   \n",
       "\n",
       "   SaldoFindeMes  DiasMoraFindeMes  SaldoActual  DiasmoraActual FechaValor  \\\n",
       "0         321631              2032            0               0 2016-10-18   \n",
       "1         149159              2142            0               0 2016-10-31   \n",
       "2         384108               490            0               0 2016-10-20   \n",
       "3         291780               706            0               0 2016-10-21   \n",
       "4        1363613               803      1322611             803 2016-10-18   \n",
       "\n",
       "   ... MORA PAGOSOTROS  TotalCancelado  VRgoech CONDCAPITAL  CONDINTERES  \\\n",
       "0  ...    0      10556          332187   321631           0            0   \n",
       "1  ...    0       4182          153341   149159           0         3498   \n",
       "2  ...    0       9799          393907   384108           0        20307   \n",
       "3  ...    0      20420          312200   291780           0        30678   \n",
       "4  ...    0      12549          100000    87451           0            0   \n",
       "\n",
       "   CONDMORA  DiasMoraPago  Reverso  Concepto  \n",
       "0    594634          2050      NaN       NaN  \n",
       "1    356515          2172      NaN       NaN  \n",
       "2    233846           510      NaN       NaN  \n",
       "3    226165           727      NaN       NaN  \n",
       "4     52487           821      NaN       NaN  \n",
       "\n",
       "[5 rows x 27 columns]"
      ]
     },
     "execution_count": 3,
     "metadata": {},
     "output_type": "execute_result"
    }
   ],
   "source": [
    "df_pagos =pd.read_excel(f'datos_avance.xlsx',sheet_name='pagos')\n",
    "df_pagos.head()"
   ]
  },
  {
   "cell_type": "code",
   "execution_count": 10,
   "id": "dea8a2d5",
   "metadata": {},
   "outputs": [],
   "source": [
    "# df_pagos.to_csv(\"pagos.csv\",index=False)"
   ]
  },
  {
   "cell_type": "code",
   "execution_count": 4,
   "id": "80ebab69",
   "metadata": {
    "scrolled": true
   },
   "outputs": [
    {
     "data": {
      "text/html": [
       "<div>\n",
       "<style scoped>\n",
       "    .dataframe tbody tr th:only-of-type {\n",
       "        vertical-align: middle;\n",
       "    }\n",
       "\n",
       "    .dataframe tbody tr th {\n",
       "        vertical-align: top;\n",
       "    }\n",
       "\n",
       "    .dataframe thead th {\n",
       "        text-align: right;\n",
       "    }\n",
       "</style>\n",
       "<table border=\"1\" class=\"dataframe\">\n",
       "  <thead>\n",
       "    <tr style=\"text-align: right;\">\n",
       "      <th></th>\n",
       "      <th>obligacion</th>\n",
       "      <th>Titular</th>\n",
       "      <th>agencia</th>\n",
       "      <th>tipo</th>\n",
       "      <th>primera_asignacion</th>\n",
       "      <th>fecha_asignacion</th>\n",
       "      <th>fecha_desasignacion</th>\n",
       "      <th>nombre</th>\n",
       "      <th>ciudad</th>\n",
       "      <th>tel_casa</th>\n",
       "      <th>...</th>\n",
       "      <th>inter_corri</th>\n",
       "      <th>inter_mora</th>\n",
       "      <th>hyc</th>\n",
       "      <th>seguro</th>\n",
       "      <th>iva</th>\n",
       "      <th>valor_cuota</th>\n",
       "      <th>nro_cuotas_atrasadas</th>\n",
       "      <th>cuotas_canceladas</th>\n",
       "      <th>cuotas_vencidas</th>\n",
       "      <th>vigente</th>\n",
       "    </tr>\n",
       "  </thead>\n",
       "  <tbody>\n",
       "    <tr>\n",
       "      <th>0</th>\n",
       "      <td>201917264</td>\n",
       "      <td>1</td>\n",
       "      <td>201</td>\n",
       "      <td>MANTENIDO</td>\n",
       "      <td>2016-10-01</td>\n",
       "      <td>2016-10-01</td>\n",
       "      <td>2019-07-22 00:00:00</td>\n",
       "      <td>SALAZAR ECHAVARRIA   CARMEN ADRIANA</td>\n",
       "      <td>CUCUTA</td>\n",
       "      <td>75702725</td>\n",
       "      <td>...</td>\n",
       "      <td>29994</td>\n",
       "      <td>2397521</td>\n",
       "      <td>0</td>\n",
       "      <td>0</td>\n",
       "      <td>0</td>\n",
       "      <td>0</td>\n",
       "      <td>8</td>\n",
       "      <td>2</td>\n",
       "      <td>6</td>\n",
       "      <td>0</td>\n",
       "    </tr>\n",
       "    <tr>\n",
       "      <th>1</th>\n",
       "      <td>10191142053</td>\n",
       "      <td>2</td>\n",
       "      <td>101</td>\n",
       "      <td>MANTENIDO</td>\n",
       "      <td>2016-10-01</td>\n",
       "      <td>2016-10-01</td>\n",
       "      <td>2019-07-22 00:00:00</td>\n",
       "      <td>GONZALEZ GONZALEZ   EFRAIN</td>\n",
       "      <td>BUCARAMANGA</td>\n",
       "      <td>76731342</td>\n",
       "      <td>...</td>\n",
       "      <td>0</td>\n",
       "      <td>118354</td>\n",
       "      <td>0</td>\n",
       "      <td>0</td>\n",
       "      <td>0</td>\n",
       "      <td>0</td>\n",
       "      <td>12</td>\n",
       "      <td>11</td>\n",
       "      <td>1</td>\n",
       "      <td>0</td>\n",
       "    </tr>\n",
       "    <tr>\n",
       "      <th>2</th>\n",
       "      <td>10191144858</td>\n",
       "      <td>3</td>\n",
       "      <td>101</td>\n",
       "      <td>MANTENIDO</td>\n",
       "      <td>2016-10-01</td>\n",
       "      <td>2016-10-01</td>\n",
       "      <td>2019-07-22 00:00:00</td>\n",
       "      <td>LANDAZABAL SANTANDER   MILENA</td>\n",
       "      <td>BUCARAMANGA</td>\n",
       "      <td>76417311</td>\n",
       "      <td>...</td>\n",
       "      <td>10928</td>\n",
       "      <td>1297810</td>\n",
       "      <td>0</td>\n",
       "      <td>0</td>\n",
       "      <td>0</td>\n",
       "      <td>0</td>\n",
       "      <td>8</td>\n",
       "      <td>4</td>\n",
       "      <td>4</td>\n",
       "      <td>0</td>\n",
       "    </tr>\n",
       "    <tr>\n",
       "      <th>3</th>\n",
       "      <td>10191146050</td>\n",
       "      <td>4</td>\n",
       "      <td>101</td>\n",
       "      <td>MANTENIDO</td>\n",
       "      <td>2016-10-01</td>\n",
       "      <td>2016-10-01</td>\n",
       "      <td>2019-07-22 00:00:00</td>\n",
       "      <td>ESTUPIÑAN LOPEZ   ARMANDO</td>\n",
       "      <td>BUCARAMANGA</td>\n",
       "      <td>76710070</td>\n",
       "      <td>...</td>\n",
       "      <td>20805</td>\n",
       "      <td>1987240</td>\n",
       "      <td>0</td>\n",
       "      <td>0</td>\n",
       "      <td>0</td>\n",
       "      <td>0</td>\n",
       "      <td>8</td>\n",
       "      <td>3</td>\n",
       "      <td>5</td>\n",
       "      <td>0</td>\n",
       "    </tr>\n",
       "    <tr>\n",
       "      <th>4</th>\n",
       "      <td>10191150337</td>\n",
       "      <td>5</td>\n",
       "      <td>101</td>\n",
       "      <td>MANTENIDO</td>\n",
       "      <td>2016-10-01</td>\n",
       "      <td>2016-10-01</td>\n",
       "      <td>2020-07-03 00:00:00</td>\n",
       "      <td>OSMA   MARTHA ADELINA</td>\n",
       "      <td>BUCARAMANGA</td>\n",
       "      <td>76732213</td>\n",
       "      <td>...</td>\n",
       "      <td>66677</td>\n",
       "      <td>4464796</td>\n",
       "      <td>2125</td>\n",
       "      <td>0</td>\n",
       "      <td>340</td>\n",
       "      <td>0</td>\n",
       "      <td>14</td>\n",
       "      <td>6</td>\n",
       "      <td>8</td>\n",
       "      <td>0</td>\n",
       "    </tr>\n",
       "  </tbody>\n",
       "</table>\n",
       "<p>5 rows × 41 columns</p>\n",
       "</div>"
      ],
      "text/plain": [
       "    obligacion  Titular  agencia       tipo primera_asignacion  \\\n",
       "0    201917264        1      201  MANTENIDO         2016-10-01   \n",
       "1  10191142053        2      101  MANTENIDO         2016-10-01   \n",
       "2  10191144858        3      101  MANTENIDO         2016-10-01   \n",
       "3  10191146050        4      101  MANTENIDO         2016-10-01   \n",
       "4  10191150337        5      101  MANTENIDO         2016-10-01   \n",
       "\n",
       "  fecha_asignacion  fecha_desasignacion  \\\n",
       "0       2016-10-01  2019-07-22 00:00:00   \n",
       "1       2016-10-01  2019-07-22 00:00:00   \n",
       "2       2016-10-01  2019-07-22 00:00:00   \n",
       "3       2016-10-01  2019-07-22 00:00:00   \n",
       "4       2016-10-01  2020-07-03 00:00:00   \n",
       "\n",
       "                                  nombre       ciudad  tel_casa  ...  \\\n",
       "0  SALAZAR ECHAVARRIA   CARMEN ADRIANA         CUCUTA  75702725  ...   \n",
       "1           GONZALEZ GONZALEZ   EFRAIN    BUCARAMANGA  76731342  ...   \n",
       "2        LANDAZABAL SANTANDER   MILENA    BUCARAMANGA  76417311  ...   \n",
       "3            ESTUPIÑAN LOPEZ   ARMANDO    BUCARAMANGA  76710070  ...   \n",
       "4                OSMA   MARTHA ADELINA    BUCARAMANGA  76732213  ...   \n",
       "\n",
       "   inter_corri  inter_mora   hyc seguro  iva  valor_cuota  \\\n",
       "0        29994     2397521     0      0    0            0   \n",
       "1            0      118354     0      0    0            0   \n",
       "2        10928     1297810     0      0    0            0   \n",
       "3        20805     1987240     0      0    0            0   \n",
       "4        66677     4464796  2125      0  340            0   \n",
       "\n",
       "   nro_cuotas_atrasadas cuotas_canceladas  cuotas_vencidas  vigente  \n",
       "0                     8                 2                6        0  \n",
       "1                    12                11                1        0  \n",
       "2                     8                 4                4        0  \n",
       "3                     8                 3                5        0  \n",
       "4                    14                 6                8        0  \n",
       "\n",
       "[5 rows x 41 columns]"
      ]
     },
     "execution_count": 4,
     "metadata": {},
     "output_type": "execute_result"
    }
   ],
   "source": [
    "df_asignacion_fdem =pd.read_excel(f'datos_avance.xlsx',sheet_name='asignacion_fdem')\n",
    "df_asignacion_fdem.head()"
   ]
  },
  {
   "cell_type": "code",
   "execution_count": 18,
   "id": "c57128cb",
   "metadata": {},
   "outputs": [],
   "source": [
    "df_asignacion_fdem.rename({'obligacion':'Credito'},axis = 1, inplace = True)"
   ]
  },
  {
   "cell_type": "code",
   "execution_count": null,
   "id": "6d47bbc5",
   "metadata": {},
   "outputs": [],
   "source": []
  },
  {
   "cell_type": "code",
   "execution_count": 19,
   "id": "8ac7c709",
   "metadata": {},
   "outputs": [
    {
     "data": {
      "text/plain": [
       "Index(['Credito', 'Titular', 'agencia', 'tipo', 'primera_asignacion',\n",
       "       'fecha_asignacion', 'fecha_desasignacion', 'nombre', 'ciudad',\n",
       "       'tel_casa', 'tel_negocio', 'celular', 'cedula_conyuge',\n",
       "       'nombre_conyuge', 'tel_casa_conyuge', 'tel_negocio_conyuge',\n",
       "       'celular_conyuge', 'nombre_garante', 'cedula_garante',\n",
       "       'tel_casa_garante', 'tel_negocio_garante', 'celular_garante',\n",
       "       'producto', 'dias_atraso', 'fecha_atraso', 'fecha_desembolso',\n",
       "       'fecha_castigo', 'grupo_castigo', 'ultimo_pago', 'monto', 'capital',\n",
       "       'inter_corri', 'inter_mora', 'hyc', 'seguro', 'iva', 'valor_cuota',\n",
       "       'nro_cuotas_atrasadas', 'cuotas_canceladas', 'cuotas_vencidas',\n",
       "       'vigente'],\n",
       "      dtype='object')"
      ]
     },
     "execution_count": 19,
     "metadata": {},
     "output_type": "execute_result"
    }
   ],
   "source": [
    "df_asignacion_fdem.columns"
   ]
  },
  {
   "cell_type": "code",
   "execution_count": 11,
   "id": "2840efa0",
   "metadata": {
    "scrolled": true
   },
   "outputs": [
    {
     "name": "stdout",
     "output_type": "stream",
     "text": [
      "<class 'pandas.core.frame.DataFrame'>\n",
      "RangeIndex: 165200 entries, 0 to 165199\n",
      "Data columns (total 41 columns):\n",
      " #   Column                Non-Null Count   Dtype         \n",
      "---  ------                --------------   -----         \n",
      " 0   obligacion            165200 non-null  int64         \n",
      " 1   Titular               165200 non-null  int64         \n",
      " 2   agencia               165200 non-null  int64         \n",
      " 3   tipo                  165200 non-null  object        \n",
      " 4   primera_asignacion    165200 non-null  datetime64[ns]\n",
      " 5   fecha_asignacion      165200 non-null  datetime64[ns]\n",
      " 6   fecha_desasignacion   165200 non-null  object        \n",
      " 7   nombre                165200 non-null  object        \n",
      " 8   ciudad                165200 non-null  object        \n",
      " 9   tel_casa              165200 non-null  int64         \n",
      " 10  tel_negocio           165200 non-null  int64         \n",
      " 11  celular               165200 non-null  int64         \n",
      " 12  cedula_conyuge        165200 non-null  int64         \n",
      " 13  nombre_conyuge        71967 non-null   object        \n",
      " 14  tel_casa_conyuge      165200 non-null  int64         \n",
      " 15  tel_negocio_conyuge   165200 non-null  int64         \n",
      " 16  celular_conyuge       165200 non-null  int64         \n",
      " 17  nombre_garante        55074 non-null   object        \n",
      " 18  cedula_garante        165200 non-null  int64         \n",
      " 19  tel_casa_garante      165200 non-null  int64         \n",
      " 20  tel_negocio_garante   165200 non-null  int64         \n",
      " 21  celular_garante       165200 non-null  int64         \n",
      " 22  producto              165194 non-null  object        \n",
      " 23  dias_atraso           165200 non-null  int64         \n",
      " 24  fecha_atraso          165200 non-null  object        \n",
      " 25  fecha_desembolso      165200 non-null  object        \n",
      " 26  fecha_castigo         165200 non-null  object        \n",
      " 27  grupo_castigo         165200 non-null  datetime64[ns]\n",
      " 28  ultimo_pago           165200 non-null  object        \n",
      " 29  monto                 165200 non-null  int64         \n",
      " 30  capital               165200 non-null  int64         \n",
      " 31  inter_corri           165200 non-null  int64         \n",
      " 32  inter_mora            165200 non-null  int64         \n",
      " 33  hyc                   165200 non-null  int64         \n",
      " 34  seguro                165200 non-null  int64         \n",
      " 35  iva                   165200 non-null  int64         \n",
      " 36  valor_cuota           165200 non-null  int64         \n",
      " 37  nro_cuotas_atrasadas  165200 non-null  int64         \n",
      " 38  cuotas_canceladas     165200 non-null  int64         \n",
      " 39  cuotas_vencidas       165200 non-null  int64         \n",
      " 40  vigente               165200 non-null  int64         \n",
      "dtypes: datetime64[ns](3), int64(27), object(11)\n",
      "memory usage: 51.7+ MB\n"
     ]
    }
   ],
   "source": [
    "df_asignacion_fdem.info()"
   ]
  },
  {
   "cell_type": "code",
   "execution_count": 273,
   "id": "1de59c43",
   "metadata": {},
   "outputs": [
    {
     "data": {
      "text/plain": [
       "Credito                 165200\n",
       "Titular                 134933\n",
       "agencia                    258\n",
       "tipo                        21\n",
       "primera_asignacion          27\n",
       "fecha_asignacion            26\n",
       "fecha_desasignacion         37\n",
       "nombre                  134889\n",
       "ciudad                     917\n",
       "tel_casa                 27086\n",
       "tel_negocio              67789\n",
       "celular                 126751\n",
       "cedula_conyuge           59920\n",
       "nombre_conyuge           59913\n",
       "tel_casa_conyuge          9392\n",
       "tel_negocio_conyuge       8701\n",
       "celular_conyuge          53610\n",
       "nombre_garante           48559\n",
       "cedula_garante           48668\n",
       "tel_casa_garante          8717\n",
       "tel_negocio_garante      10224\n",
       "celular_garante          42677\n",
       "producto                   111\n",
       "dias_atraso               4043\n",
       "fecha_atraso              5758\n",
       "fecha_desembolso          4418\n",
       "fecha_castigo               73\n",
       "grupo_castigo               64\n",
       "ultimo_pago               4437\n",
       "monto                    36795\n",
       "capital                 125973\n",
       "inter_corri             105073\n",
       "inter_mora              154567\n",
       "hyc                      75621\n",
       "seguro                   20088\n",
       "iva                      38908\n",
       "valor_cuota              62115\n",
       "nro_cuotas_atrasadas        54\n",
       "cuotas_canceladas           50\n",
       "cuotas_vencidas             61\n",
       "vigente                      2\n",
       "dtype: int64"
      ]
     },
     "execution_count": 273,
     "metadata": {},
     "output_type": "execute_result"
    }
   ],
   "source": [
    "df_asignacion_fdem.nunique()"
   ]
  },
  {
   "cell_type": "code",
   "execution_count": 12,
   "id": "ee9955a6",
   "metadata": {},
   "outputs": [],
   "source": [
    "# df_asignacion_fdem.to_csv(\"asignacion_fdem.csv\",index=False)"
   ]
  },
  {
   "cell_type": "code",
   "execution_count": 4,
   "id": "d89dd71d",
   "metadata": {
    "scrolled": true
   },
   "outputs": [
    {
     "data": {
      "text/html": [
       "<div>\n",
       "<style scoped>\n",
       "    .dataframe tbody tr th:only-of-type {\n",
       "        vertical-align: middle;\n",
       "    }\n",
       "\n",
       "    .dataframe tbody tr th {\n",
       "        vertical-align: top;\n",
       "    }\n",
       "\n",
       "    .dataframe thead th {\n",
       "        text-align: right;\n",
       "    }\n",
       "</style>\n",
       "<table border=\"1\" class=\"dataframe\">\n",
       "  <thead>\n",
       "    <tr style=\"text-align: right;\">\n",
       "      <th></th>\n",
       "      <th>credito</th>\n",
       "      <th>fecha_primera_asignacion</th>\n",
       "      <th>fecha_desasignacion</th>\n",
       "      <th>fecha_entrega</th>\n",
       "      <th>ultima_entrega</th>\n",
       "      <th>tipo</th>\n",
       "      <th>fecha_castigo</th>\n",
       "      <th>fecha_desembolso</th>\n",
       "      <th>capital_desembolso</th>\n",
       "      <th>cuotas_aprobadas</th>\n",
       "      <th>...</th>\n",
       "      <th>garantes</th>\n",
       "      <th>dir_domicilio_garante</th>\n",
       "      <th>dir_negocio_garante</th>\n",
       "      <th>tel_celular_garante</th>\n",
       "      <th>tel_casa_garante</th>\n",
       "      <th>tel_negocio_garante</th>\n",
       "      <th>tel_fijo_garante</th>\n",
       "      <th>tarea_asignada</th>\n",
       "      <th>f_proceso</th>\n",
       "      <th>hora_contactar</th>\n",
       "    </tr>\n",
       "  </thead>\n",
       "  <tbody>\n",
       "    <tr>\n",
       "      <th>0</th>\n",
       "      <td>628131002696</td>\n",
       "      <td>2019-12-05</td>\n",
       "      <td>2022-08-11 00:00:00</td>\n",
       "      <td>2022-03-09</td>\n",
       "      <td>2022-08-11 00:00:00</td>\n",
       "      <td>\\N</td>\n",
       "      <td>2016-10-01</td>\n",
       "      <td>2013-12-16 00:00:00</td>\n",
       "      <td>1780245</td>\n",
       "      <td>0</td>\n",
       "      <td>...</td>\n",
       "      <td>\\N</td>\n",
       "      <td>\\N</td>\n",
       "      <td>\\N</td>\n",
       "      <td>\\N</td>\n",
       "      <td>\\N</td>\n",
       "      <td>\\N</td>\n",
       "      <td>\\N</td>\n",
       "      <td>NaN</td>\n",
       "      <td>2022-10-04 10:05:08</td>\n",
       "      <td>\\N</td>\n",
       "    </tr>\n",
       "    <tr>\n",
       "      <th>1</th>\n",
       "      <td>402911602288</td>\n",
       "      <td>2019-07-19</td>\n",
       "      <td>2019-08-31 00:00:00</td>\n",
       "      <td>2019-07-19</td>\n",
       "      <td>2022-02-18 00:00:00</td>\n",
       "      <td>\\N</td>\n",
       "      <td>2016-10-01</td>\n",
       "      <td>2007-02-28 00:00:00</td>\n",
       "      <td>10800000</td>\n",
       "      <td>0</td>\n",
       "      <td>...</td>\n",
       "      <td>\\N</td>\n",
       "      <td>\\N</td>\n",
       "      <td>\\N</td>\n",
       "      <td>\\N</td>\n",
       "      <td>\\N</td>\n",
       "      <td>\\N</td>\n",
       "      <td>\\N</td>\n",
       "      <td>NaN</td>\n",
       "      <td>2022-10-04 10:05:08</td>\n",
       "      <td>\\N</td>\n",
       "    </tr>\n",
       "    <tr>\n",
       "      <th>2</th>\n",
       "      <td>619131006104</td>\n",
       "      <td>2016-10-01</td>\n",
       "      <td>2020-07-03 00:00:00</td>\n",
       "      <td>2016-10-01</td>\n",
       "      <td>2022-02-18 00:00:00</td>\n",
       "      <td>\\N</td>\n",
       "      <td>2016-10-01</td>\n",
       "      <td>2013-11-28 00:00:00</td>\n",
       "      <td>1075100</td>\n",
       "      <td>0</td>\n",
       "      <td>...</td>\n",
       "      <td>\\N</td>\n",
       "      <td>\\N</td>\n",
       "      <td>\\N</td>\n",
       "      <td>\\N</td>\n",
       "      <td>\\N</td>\n",
       "      <td>\\N</td>\n",
       "      <td>\\N</td>\n",
       "      <td>NaN</td>\n",
       "      <td>2022-10-04 10:05:08</td>\n",
       "      <td>\\N</td>\n",
       "    </tr>\n",
       "    <tr>\n",
       "      <th>3</th>\n",
       "      <td>209131030884</td>\n",
       "      <td>2016-10-01</td>\n",
       "      <td>2019-07-22 00:00:00</td>\n",
       "      <td>2016-10-01</td>\n",
       "      <td>2022-02-18 00:00:00</td>\n",
       "      <td>\\N</td>\n",
       "      <td>2016-10-01</td>\n",
       "      <td>2013-11-19 00:00:00</td>\n",
       "      <td>1690000</td>\n",
       "      <td>0</td>\n",
       "      <td>...</td>\n",
       "      <td>\\N</td>\n",
       "      <td>\\N</td>\n",
       "      <td>\\N</td>\n",
       "      <td>\\N</td>\n",
       "      <td>\\N</td>\n",
       "      <td>\\N</td>\n",
       "      <td>\\N</td>\n",
       "      <td>NaN</td>\n",
       "      <td>2022-10-04 10:05:08</td>\n",
       "      <td>\\N</td>\n",
       "    </tr>\n",
       "    <tr>\n",
       "      <th>4</th>\n",
       "      <td>623171011326</td>\n",
       "      <td>2019-07-19</td>\n",
       "      <td>2022-03-09 00:00:00</td>\n",
       "      <td>2019-07-19</td>\n",
       "      <td>2022-02-18 00:00:00</td>\n",
       "      <td>\\N</td>\n",
       "      <td>2019-06-29</td>\n",
       "      <td>2017-01-27 00:00:00</td>\n",
       "      <td>8035240</td>\n",
       "      <td>0</td>\n",
       "      <td>...</td>\n",
       "      <td>\\N</td>\n",
       "      <td>\\N</td>\n",
       "      <td>\\N</td>\n",
       "      <td>\\N</td>\n",
       "      <td>\\N</td>\n",
       "      <td>\\N</td>\n",
       "      <td>\\N</td>\n",
       "      <td>NaN</td>\n",
       "      <td>2022-10-04 10:05:08</td>\n",
       "      <td>\\N</td>\n",
       "    </tr>\n",
       "  </tbody>\n",
       "</table>\n",
       "<p>5 rows × 146 columns</p>\n",
       "</div>"
      ],
      "text/plain": [
       "        credito fecha_primera_asignacion  fecha_desasignacion fecha_entrega  \\\n",
       "0  628131002696               2019-12-05  2022-08-11 00:00:00    2022-03-09   \n",
       "1  402911602288               2019-07-19  2019-08-31 00:00:00    2019-07-19   \n",
       "2  619131006104               2016-10-01  2020-07-03 00:00:00    2016-10-01   \n",
       "3  209131030884               2016-10-01  2019-07-22 00:00:00    2016-10-01   \n",
       "4  623171011326               2019-07-19  2022-03-09 00:00:00    2019-07-19   \n",
       "\n",
       "        ultima_entrega tipo fecha_castigo     fecha_desembolso  \\\n",
       "0  2022-08-11 00:00:00   \\N    2016-10-01  2013-12-16 00:00:00   \n",
       "1  2022-02-18 00:00:00   \\N    2016-10-01  2007-02-28 00:00:00   \n",
       "2  2022-02-18 00:00:00   \\N    2016-10-01  2013-11-28 00:00:00   \n",
       "3  2022-02-18 00:00:00   \\N    2016-10-01  2013-11-19 00:00:00   \n",
       "4  2022-02-18 00:00:00   \\N    2019-06-29  2017-01-27 00:00:00   \n",
       "\n",
       "   capital_desembolso  cuotas_aprobadas  ...  garantes  dir_domicilio_garante  \\\n",
       "0             1780245                 0  ...        \\N                     \\N   \n",
       "1            10800000                 0  ...        \\N                     \\N   \n",
       "2             1075100                 0  ...        \\N                     \\N   \n",
       "3             1690000                 0  ...        \\N                     \\N   \n",
       "4             8035240                 0  ...        \\N                     \\N   \n",
       "\n",
       "   dir_negocio_garante  tel_celular_garante  tel_casa_garante  \\\n",
       "0                   \\N                   \\N                \\N   \n",
       "1                   \\N                   \\N                \\N   \n",
       "2                   \\N                   \\N                \\N   \n",
       "3                   \\N                   \\N                \\N   \n",
       "4                   \\N                   \\N                \\N   \n",
       "\n",
       "  tel_negocio_garante  tel_fijo_garante tarea_asignada           f_proceso  \\\n",
       "0                  \\N                \\N            NaN 2022-10-04 10:05:08   \n",
       "1                  \\N                \\N            NaN 2022-10-04 10:05:08   \n",
       "2                  \\N                \\N            NaN 2022-10-04 10:05:08   \n",
       "3                  \\N                \\N            NaN 2022-10-04 10:05:08   \n",
       "4                  \\N                \\N            NaN 2022-10-04 10:05:08   \n",
       "\n",
       "  hora_contactar  \n",
       "0             \\N  \n",
       "1             \\N  \n",
       "2             \\N  \n",
       "3             \\N  \n",
       "4             \\N  \n",
       "\n",
       "[5 rows x 146 columns]"
      ]
     },
     "execution_count": 4,
     "metadata": {},
     "output_type": "execute_result"
    }
   ],
   "source": [
    "df_resumen_creditos =pd.read_excel(f'datos_avance.xlsx',sheet_name='resumen_creditos')\n",
    "df_resumen_creditos.head()\n"
   ]
  },
  {
   "cell_type": "code",
   "execution_count": null,
   "id": "c1fa0ba5",
   "metadata": {},
   "outputs": [],
   "source": [
    "df_resumen_creditos.columns"
   ]
  },
  {
   "cell_type": "code",
   "execution_count": null,
   "id": "38b0538e",
   "metadata": {},
   "outputs": [],
   "source": [
    "df_resumen_creditos.info()\n"
   ]
  },
  {
   "cell_type": "code",
   "execution_count": null,
   "id": "7807e196",
   "metadata": {},
   "outputs": [],
   "source": [
    "df_resumen_creditos['credito'].info()"
   ]
  },
  {
   "cell_type": "markdown",
   "id": "590294ea",
   "metadata": {
    "heading_collapsed": true
   },
   "source": [
    "### Rate of Recovery (Test #1)\n"
   ]
  },
  {
   "cell_type": "markdown",
   "id": "a3fa7a7d",
   "metadata": {
    "hidden": true
   },
   "source": [
    "Objetivo: Predecir cuales factores influyen más en el pago de una mayor proporción de la deuda."
   ]
  },
  {
   "cell_type": "code",
   "execution_count": 5,
   "id": "ed3149a1",
   "metadata": {
    "hidden": true
   },
   "outputs": [
    {
     "data": {
      "text/html": [
       "<div>\n",
       "<style scoped>\n",
       "    .dataframe tbody tr th:only-of-type {\n",
       "        vertical-align: middle;\n",
       "    }\n",
       "\n",
       "    .dataframe tbody tr th {\n",
       "        vertical-align: top;\n",
       "    }\n",
       "\n",
       "    .dataframe thead th {\n",
       "        text-align: right;\n",
       "    }\n",
       "</style>\n",
       "<table border=\"1\" class=\"dataframe\">\n",
       "  <thead>\n",
       "    <tr style=\"text-align: right;\">\n",
       "      <th></th>\n",
       "      <th>MesCargue</th>\n",
       "      <th>Codigo</th>\n",
       "      <th>Agencia</th>\n",
       "      <th>Credito</th>\n",
       "      <th>Estado</th>\n",
       "      <th>SaldoFindeMes</th>\n",
       "      <th>DiasMoraFindeMes</th>\n",
       "      <th>SaldoActual</th>\n",
       "      <th>DiasmoraActual</th>\n",
       "      <th>FechaValor</th>\n",
       "      <th>...</th>\n",
       "      <th>MORA</th>\n",
       "      <th>PAGOSOTROS</th>\n",
       "      <th>TotalCancelado</th>\n",
       "      <th>VRgoech</th>\n",
       "      <th>CONDCAPITAL</th>\n",
       "      <th>CONDINTERES</th>\n",
       "      <th>CONDMORA</th>\n",
       "      <th>DiasMoraPago</th>\n",
       "      <th>Reverso</th>\n",
       "      <th>Concepto</th>\n",
       "    </tr>\n",
       "  </thead>\n",
       "  <tbody>\n",
       "    <tr>\n",
       "      <th>0</th>\n",
       "      <td>2016-10</td>\n",
       "      <td>101</td>\n",
       "      <td>BUCARAMANGA AGENCIA PRINCIPAL</td>\n",
       "      <td>101101002728</td>\n",
       "      <td>Castigado</td>\n",
       "      <td>321631</td>\n",
       "      <td>2032</td>\n",
       "      <td>0</td>\n",
       "      <td>0</td>\n",
       "      <td>2016-10-18</td>\n",
       "      <td>...</td>\n",
       "      <td>0</td>\n",
       "      <td>10556</td>\n",
       "      <td>332187</td>\n",
       "      <td>321631</td>\n",
       "      <td>0</td>\n",
       "      <td>0</td>\n",
       "      <td>594634</td>\n",
       "      <td>2050</td>\n",
       "      <td>NaN</td>\n",
       "      <td>NaN</td>\n",
       "    </tr>\n",
       "    <tr>\n",
       "      <th>1</th>\n",
       "      <td>2016-10</td>\n",
       "      <td>101</td>\n",
       "      <td>BUCARAMANGA AGENCIA PRINCIPAL</td>\n",
       "      <td>101104101267</td>\n",
       "      <td>Castigado</td>\n",
       "      <td>149159</td>\n",
       "      <td>2142</td>\n",
       "      <td>0</td>\n",
       "      <td>0</td>\n",
       "      <td>2016-10-31</td>\n",
       "      <td>...</td>\n",
       "      <td>0</td>\n",
       "      <td>4182</td>\n",
       "      <td>153341</td>\n",
       "      <td>149159</td>\n",
       "      <td>0</td>\n",
       "      <td>3498</td>\n",
       "      <td>356515</td>\n",
       "      <td>2172</td>\n",
       "      <td>NaN</td>\n",
       "      <td>NaN</td>\n",
       "    </tr>\n",
       "    <tr>\n",
       "      <th>2</th>\n",
       "      <td>2016-10</td>\n",
       "      <td>101</td>\n",
       "      <td>BUCARAMANGA AGENCIA PRINCIPAL</td>\n",
       "      <td>101131041847</td>\n",
       "      <td>Castigado</td>\n",
       "      <td>384108</td>\n",
       "      <td>490</td>\n",
       "      <td>0</td>\n",
       "      <td>0</td>\n",
       "      <td>2016-10-20</td>\n",
       "      <td>...</td>\n",
       "      <td>0</td>\n",
       "      <td>9799</td>\n",
       "      <td>393907</td>\n",
       "      <td>384108</td>\n",
       "      <td>0</td>\n",
       "      <td>20307</td>\n",
       "      <td>233846</td>\n",
       "      <td>510</td>\n",
       "      <td>NaN</td>\n",
       "      <td>NaN</td>\n",
       "    </tr>\n",
       "    <tr>\n",
       "      <th>3</th>\n",
       "      <td>2016-10</td>\n",
       "      <td>102</td>\n",
       "      <td>BUCARAMANGA AGENCIA ASTURIAS</td>\n",
       "      <td>102141028221</td>\n",
       "      <td>Castigado</td>\n",
       "      <td>291780</td>\n",
       "      <td>706</td>\n",
       "      <td>0</td>\n",
       "      <td>0</td>\n",
       "      <td>2016-10-21</td>\n",
       "      <td>...</td>\n",
       "      <td>0</td>\n",
       "      <td>20420</td>\n",
       "      <td>312200</td>\n",
       "      <td>291780</td>\n",
       "      <td>0</td>\n",
       "      <td>30678</td>\n",
       "      <td>226165</td>\n",
       "      <td>727</td>\n",
       "      <td>NaN</td>\n",
       "      <td>NaN</td>\n",
       "    </tr>\n",
       "    <tr>\n",
       "      <th>4</th>\n",
       "      <td>2016-10</td>\n",
       "      <td>102</td>\n",
       "      <td>BUCARAMANGA AGENCIA ASTURIAS</td>\n",
       "      <td>102141028298</td>\n",
       "      <td>Castigado</td>\n",
       "      <td>1363613</td>\n",
       "      <td>803</td>\n",
       "      <td>1322611</td>\n",
       "      <td>803</td>\n",
       "      <td>2016-10-18</td>\n",
       "      <td>...</td>\n",
       "      <td>0</td>\n",
       "      <td>12549</td>\n",
       "      <td>100000</td>\n",
       "      <td>87451</td>\n",
       "      <td>0</td>\n",
       "      <td>0</td>\n",
       "      <td>52487</td>\n",
       "      <td>821</td>\n",
       "      <td>NaN</td>\n",
       "      <td>NaN</td>\n",
       "    </tr>\n",
       "  </tbody>\n",
       "</table>\n",
       "<p>5 rows × 27 columns</p>\n",
       "</div>"
      ],
      "text/plain": [
       "  MesCargue  Codigo                        Agencia       Credito     Estado  \\\n",
       "0   2016-10     101  BUCARAMANGA AGENCIA PRINCIPAL  101101002728  Castigado   \n",
       "1   2016-10     101  BUCARAMANGA AGENCIA PRINCIPAL  101104101267  Castigado   \n",
       "2   2016-10     101  BUCARAMANGA AGENCIA PRINCIPAL  101131041847  Castigado   \n",
       "3   2016-10     102   BUCARAMANGA AGENCIA ASTURIAS  102141028221  Castigado   \n",
       "4   2016-10     102   BUCARAMANGA AGENCIA ASTURIAS  102141028298  Castigado   \n",
       "\n",
       "   SaldoFindeMes  DiasMoraFindeMes  SaldoActual  DiasmoraActual FechaValor  \\\n",
       "0         321631              2032            0               0 2016-10-18   \n",
       "1         149159              2142            0               0 2016-10-31   \n",
       "2         384108               490            0               0 2016-10-20   \n",
       "3         291780               706            0               0 2016-10-21   \n",
       "4        1363613               803      1322611             803 2016-10-18   \n",
       "\n",
       "   ... MORA PAGOSOTROS  TotalCancelado  VRgoech CONDCAPITAL  CONDINTERES  \\\n",
       "0  ...    0      10556          332187   321631           0            0   \n",
       "1  ...    0       4182          153341   149159           0         3498   \n",
       "2  ...    0       9799          393907   384108           0        20307   \n",
       "3  ...    0      20420          312200   291780           0        30678   \n",
       "4  ...    0      12549          100000    87451           0            0   \n",
       "\n",
       "   CONDMORA  DiasMoraPago  Reverso  Concepto  \n",
       "0    594634          2050      NaN       NaN  \n",
       "1    356515          2172      NaN       NaN  \n",
       "2    233846           510      NaN       NaN  \n",
       "3    226165           727      NaN       NaN  \n",
       "4     52487           821      NaN       NaN  \n",
       "\n",
       "[5 rows x 27 columns]"
      ]
     },
     "execution_count": 5,
     "metadata": {},
     "output_type": "execute_result"
    }
   ],
   "source": [
    "df_pagos.head(5)"
   ]
  },
  {
   "cell_type": "code",
   "execution_count": 274,
   "id": "3beeef39",
   "metadata": {
    "hidden": true
   },
   "outputs": [
    {
     "data": {
      "text/plain": [
       "MesCargue              71\n",
       "Codigo                267\n",
       "Agencia               529\n",
       "Credito             28870\n",
       "Estado                  5\n",
       "SaldoFindeMes       80968\n",
       "DiasMoraFindeMes     2827\n",
       "SaldoActual         64306\n",
       "DiasmoraActual       2789\n",
       "FechaValor           1743\n",
       "FechaPago            1716\n",
       "RangoCuotas             6\n",
       "Cuotas               2811\n",
       "ValorCuota          15922\n",
       "TipoPago                3\n",
       "CAPITAL             69489\n",
       "INTERES             33970\n",
       "MORA                21099\n",
       "PAGOSOTROS          31796\n",
       "TotalCancelado      12794\n",
       "VRgoech             61958\n",
       "CONDCAPITAL          1777\n",
       "CONDINTERES         10964\n",
       "CONDMORA            62106\n",
       "DiasMoraPago         4318\n",
       "Reverso              2124\n",
       "Concepto                5\n",
       "dtype: int64"
      ]
     },
     "execution_count": 274,
     "metadata": {},
     "output_type": "execute_result"
    }
   ],
   "source": [
    "df_pagos.nunique()"
   ]
  },
  {
   "cell_type": "code",
   "execution_count": null,
   "id": "da3c4c48",
   "metadata": {
    "hidden": true
   },
   "outputs": [],
   "source": []
  },
  {
   "cell_type": "code",
   "execution_count": 8,
   "id": "88c09413",
   "metadata": {
    "hidden": true
   },
   "outputs": [
    {
     "data": {
      "text/plain": [
       "False    101214\n",
       "Name: SaldoFindeMes, dtype: int64"
      ]
     },
     "execution_count": 8,
     "metadata": {},
     "output_type": "execute_result"
    }
   ],
   "source": [
    "df_pagos['SaldoFindeMes'].isna().value_counts()"
   ]
  },
  {
   "cell_type": "code",
   "execution_count": 7,
   "id": "06acff86",
   "metadata": {
    "hidden": true
   },
   "outputs": [
    {
     "data": {
      "text/plain": [
       "True"
      ]
     },
     "execution_count": 7,
     "metadata": {},
     "output_type": "execute_result"
    }
   ],
   "source": [
    "isinstance(df_pagos, pd.DataFrame)"
   ]
  },
  {
   "cell_type": "code",
   "execution_count": 9,
   "id": "64615c82",
   "metadata": {
    "hidden": true
   },
   "outputs": [],
   "source": [
    "df_pagos['SaldoFindeMes'] = df_pagos['SaldoFindeMes'].replace(0, np.nan)\n",
    "\n"
   ]
  },
  {
   "cell_type": "code",
   "execution_count": 10,
   "id": "9c7d9a5d",
   "metadata": {
    "hidden": true
   },
   "outputs": [
    {
     "data": {
      "text/plain": [
       "False    101172\n",
       "True         42\n",
       "Name: SaldoFindeMes, dtype: int64"
      ]
     },
     "execution_count": 10,
     "metadata": {},
     "output_type": "execute_result"
    }
   ],
   "source": [
    "df_pagos['SaldoFindeMes'].isna().value_counts()"
   ]
  },
  {
   "cell_type": "code",
   "execution_count": 11,
   "id": "a8acead6",
   "metadata": {
    "hidden": true
   },
   "outputs": [],
   "source": [
    "df_pagos_cleaned = df_pagos.dropna(subset = [\"SaldoFindeMes\"]) "
   ]
  },
  {
   "cell_type": "code",
   "execution_count": 12,
   "id": "c35aa807",
   "metadata": {
    "hidden": true
   },
   "outputs": [
    {
     "data": {
      "text/plain": [
       "False    101172\n",
       "Name: SaldoFindeMes, dtype: int64"
      ]
     },
     "execution_count": 12,
     "metadata": {},
     "output_type": "execute_result"
    }
   ],
   "source": [
    "df_pagos_cleaned[\"SaldoFindeMes\"].isna().value_counts()"
   ]
  },
  {
   "cell_type": "code",
   "execution_count": 13,
   "id": "c2697252",
   "metadata": {
    "hidden": true
   },
   "outputs": [
    {
     "name": "stderr",
     "output_type": "stream",
     "text": [
      "/tmp/ipykernel_769/3106164577.py:1: SettingWithCopyWarning: \n",
      "A value is trying to be set on a copy of a slice from a DataFrame.\n",
      "Try using .loc[row_indexer,col_indexer] = value instead\n",
      "\n",
      "See the caveats in the documentation: https://pandas.pydata.org/pandas-docs/stable/user_guide/indexing.html#returning-a-view-versus-a-copy\n",
      "  df_pagos_cleaned['rate'] = df_pagos_cleaned['TotalCancelado']/df_pagos_cleaned['SaldoFindeMes']\n"
     ]
    }
   ],
   "source": [
    "df_pagos_cleaned['rate'] = df_pagos_cleaned['TotalCancelado']/df_pagos_cleaned['SaldoFindeMes']"
   ]
  },
  {
   "cell_type": "code",
   "execution_count": 14,
   "id": "7f226c8d",
   "metadata": {
    "hidden": true
   },
   "outputs": [
    {
     "data": {
      "text/html": [
       "<div>\n",
       "<style scoped>\n",
       "    .dataframe tbody tr th:only-of-type {\n",
       "        vertical-align: middle;\n",
       "    }\n",
       "\n",
       "    .dataframe tbody tr th {\n",
       "        vertical-align: top;\n",
       "    }\n",
       "\n",
       "    .dataframe thead th {\n",
       "        text-align: right;\n",
       "    }\n",
       "</style>\n",
       "<table border=\"1\" class=\"dataframe\">\n",
       "  <thead>\n",
       "    <tr style=\"text-align: right;\">\n",
       "      <th></th>\n",
       "      <th>MesCargue</th>\n",
       "      <th>Codigo</th>\n",
       "      <th>Agencia</th>\n",
       "      <th>Credito</th>\n",
       "      <th>Estado</th>\n",
       "      <th>SaldoFindeMes</th>\n",
       "      <th>DiasMoraFindeMes</th>\n",
       "      <th>SaldoActual</th>\n",
       "      <th>DiasmoraActual</th>\n",
       "      <th>FechaValor</th>\n",
       "      <th>...</th>\n",
       "      <th>PAGOSOTROS</th>\n",
       "      <th>TotalCancelado</th>\n",
       "      <th>VRgoech</th>\n",
       "      <th>CONDCAPITAL</th>\n",
       "      <th>CONDINTERES</th>\n",
       "      <th>CONDMORA</th>\n",
       "      <th>DiasMoraPago</th>\n",
       "      <th>Reverso</th>\n",
       "      <th>Concepto</th>\n",
       "      <th>rate</th>\n",
       "    </tr>\n",
       "  </thead>\n",
       "  <tbody>\n",
       "    <tr>\n",
       "      <th>0</th>\n",
       "      <td>2016-10</td>\n",
       "      <td>101</td>\n",
       "      <td>BUCARAMANGA AGENCIA PRINCIPAL</td>\n",
       "      <td>101101002728</td>\n",
       "      <td>Castigado</td>\n",
       "      <td>321631.0</td>\n",
       "      <td>2032</td>\n",
       "      <td>0</td>\n",
       "      <td>0</td>\n",
       "      <td>2016-10-18</td>\n",
       "      <td>...</td>\n",
       "      <td>10556</td>\n",
       "      <td>332187</td>\n",
       "      <td>321631</td>\n",
       "      <td>0</td>\n",
       "      <td>0</td>\n",
       "      <td>594634</td>\n",
       "      <td>2050</td>\n",
       "      <td>NaN</td>\n",
       "      <td>NaN</td>\n",
       "      <td>1.032820</td>\n",
       "    </tr>\n",
       "    <tr>\n",
       "      <th>1</th>\n",
       "      <td>2016-10</td>\n",
       "      <td>101</td>\n",
       "      <td>BUCARAMANGA AGENCIA PRINCIPAL</td>\n",
       "      <td>101104101267</td>\n",
       "      <td>Castigado</td>\n",
       "      <td>149159.0</td>\n",
       "      <td>2142</td>\n",
       "      <td>0</td>\n",
       "      <td>0</td>\n",
       "      <td>2016-10-31</td>\n",
       "      <td>...</td>\n",
       "      <td>4182</td>\n",
       "      <td>153341</td>\n",
       "      <td>149159</td>\n",
       "      <td>0</td>\n",
       "      <td>3498</td>\n",
       "      <td>356515</td>\n",
       "      <td>2172</td>\n",
       "      <td>NaN</td>\n",
       "      <td>NaN</td>\n",
       "      <td>1.028037</td>\n",
       "    </tr>\n",
       "    <tr>\n",
       "      <th>2</th>\n",
       "      <td>2016-10</td>\n",
       "      <td>101</td>\n",
       "      <td>BUCARAMANGA AGENCIA PRINCIPAL</td>\n",
       "      <td>101131041847</td>\n",
       "      <td>Castigado</td>\n",
       "      <td>384108.0</td>\n",
       "      <td>490</td>\n",
       "      <td>0</td>\n",
       "      <td>0</td>\n",
       "      <td>2016-10-20</td>\n",
       "      <td>...</td>\n",
       "      <td>9799</td>\n",
       "      <td>393907</td>\n",
       "      <td>384108</td>\n",
       "      <td>0</td>\n",
       "      <td>20307</td>\n",
       "      <td>233846</td>\n",
       "      <td>510</td>\n",
       "      <td>NaN</td>\n",
       "      <td>NaN</td>\n",
       "      <td>1.025511</td>\n",
       "    </tr>\n",
       "    <tr>\n",
       "      <th>3</th>\n",
       "      <td>2016-10</td>\n",
       "      <td>102</td>\n",
       "      <td>BUCARAMANGA AGENCIA ASTURIAS</td>\n",
       "      <td>102141028221</td>\n",
       "      <td>Castigado</td>\n",
       "      <td>291780.0</td>\n",
       "      <td>706</td>\n",
       "      <td>0</td>\n",
       "      <td>0</td>\n",
       "      <td>2016-10-21</td>\n",
       "      <td>...</td>\n",
       "      <td>20420</td>\n",
       "      <td>312200</td>\n",
       "      <td>291780</td>\n",
       "      <td>0</td>\n",
       "      <td>30678</td>\n",
       "      <td>226165</td>\n",
       "      <td>727</td>\n",
       "      <td>NaN</td>\n",
       "      <td>NaN</td>\n",
       "      <td>1.069984</td>\n",
       "    </tr>\n",
       "    <tr>\n",
       "      <th>4</th>\n",
       "      <td>2016-10</td>\n",
       "      <td>102</td>\n",
       "      <td>BUCARAMANGA AGENCIA ASTURIAS</td>\n",
       "      <td>102141028298</td>\n",
       "      <td>Castigado</td>\n",
       "      <td>1363613.0</td>\n",
       "      <td>803</td>\n",
       "      <td>1322611</td>\n",
       "      <td>803</td>\n",
       "      <td>2016-10-18</td>\n",
       "      <td>...</td>\n",
       "      <td>12549</td>\n",
       "      <td>100000</td>\n",
       "      <td>87451</td>\n",
       "      <td>0</td>\n",
       "      <td>0</td>\n",
       "      <td>52487</td>\n",
       "      <td>821</td>\n",
       "      <td>NaN</td>\n",
       "      <td>NaN</td>\n",
       "      <td>0.073335</td>\n",
       "    </tr>\n",
       "  </tbody>\n",
       "</table>\n",
       "<p>5 rows × 28 columns</p>\n",
       "</div>"
      ],
      "text/plain": [
       "  MesCargue  Codigo                        Agencia       Credito     Estado  \\\n",
       "0   2016-10     101  BUCARAMANGA AGENCIA PRINCIPAL  101101002728  Castigado   \n",
       "1   2016-10     101  BUCARAMANGA AGENCIA PRINCIPAL  101104101267  Castigado   \n",
       "2   2016-10     101  BUCARAMANGA AGENCIA PRINCIPAL  101131041847  Castigado   \n",
       "3   2016-10     102   BUCARAMANGA AGENCIA ASTURIAS  102141028221  Castigado   \n",
       "4   2016-10     102   BUCARAMANGA AGENCIA ASTURIAS  102141028298  Castigado   \n",
       "\n",
       "   SaldoFindeMes  DiasMoraFindeMes  SaldoActual  DiasmoraActual FechaValor  \\\n",
       "0       321631.0              2032            0               0 2016-10-18   \n",
       "1       149159.0              2142            0               0 2016-10-31   \n",
       "2       384108.0               490            0               0 2016-10-20   \n",
       "3       291780.0               706            0               0 2016-10-21   \n",
       "4      1363613.0               803      1322611             803 2016-10-18   \n",
       "\n",
       "   ... PAGOSOTROS TotalCancelado  VRgoech  CONDCAPITAL CONDINTERES  CONDMORA  \\\n",
       "0  ...      10556         332187   321631            0           0    594634   \n",
       "1  ...       4182         153341   149159            0        3498    356515   \n",
       "2  ...       9799         393907   384108            0       20307    233846   \n",
       "3  ...      20420         312200   291780            0       30678    226165   \n",
       "4  ...      12549         100000    87451            0           0     52487   \n",
       "\n",
       "   DiasMoraPago  Reverso  Concepto      rate  \n",
       "0          2050      NaN       NaN  1.032820  \n",
       "1          2172      NaN       NaN  1.028037  \n",
       "2           510      NaN       NaN  1.025511  \n",
       "3           727      NaN       NaN  1.069984  \n",
       "4           821      NaN       NaN  0.073335  \n",
       "\n",
       "[5 rows x 28 columns]"
      ]
     },
     "execution_count": 14,
     "metadata": {},
     "output_type": "execute_result"
    }
   ],
   "source": [
    "df_pagos_cleaned.head()"
   ]
  },
  {
   "cell_type": "code",
   "execution_count": 15,
   "id": "792eaa6e",
   "metadata": {
    "hidden": true
   },
   "outputs": [
    {
     "name": "stdout",
     "output_type": "stream",
     "text": [
      "<class 'pandas.core.series.Series'>\n",
      "Int64Index: 101172 entries, 0 to 101213\n",
      "Series name: SaldoFindeMes\n",
      "Non-Null Count   Dtype  \n",
      "--------------   -----  \n",
      "101172 non-null  float64\n",
      "dtypes: float64(1)\n",
      "memory usage: 1.5 MB\n"
     ]
    }
   ],
   "source": [
    "df_pagos_cleaned['SaldoFindeMes'].info()"
   ]
  },
  {
   "cell_type": "code",
   "execution_count": 16,
   "id": "1b1f159c",
   "metadata": {
    "hidden": true
   },
   "outputs": [
    {
     "data": {
      "text/plain": [
       "count    101172.000000\n",
       "mean          0.440709\n",
       "std           1.849641\n",
       "min           0.000002\n",
       "25%           0.103865\n",
       "50%           0.221439\n",
       "75%           0.591595\n",
       "max         518.687059\n",
       "Name: rate, dtype: float64"
      ]
     },
     "execution_count": 16,
     "metadata": {},
     "output_type": "execute_result"
    }
   ],
   "source": [
    "df_pagos_cleaned['rate'].describe()"
   ]
  },
  {
   "cell_type": "markdown",
   "id": "c1557b09",
   "metadata": {},
   "source": [
    "## Merging Dataset"
   ]
  },
  {
   "cell_type": "markdown",
   "id": "2cb14324",
   "metadata": {
    "heading_collapsed": true
   },
   "source": [
    "### Merging Individual Credit numbers (Total Cancelado / SaldoFindeMes)"
   ]
  },
  {
   "cell_type": "code",
   "execution_count": 50,
   "id": "c77e0dc6",
   "metadata": {
    "hidden": true
   },
   "outputs": [],
   "source": [
    "df_merged = df_pagos_cleaned.merge(df_asignacion_fdem, on='Credito', how='inner')\n"
   ]
  },
  {
   "cell_type": "code",
   "execution_count": 51,
   "id": "e3f93cb1",
   "metadata": {
    "hidden": true
   },
   "outputs": [
    {
     "data": {
      "text/html": [
       "<div>\n",
       "<style scoped>\n",
       "    .dataframe tbody tr th:only-of-type {\n",
       "        vertical-align: middle;\n",
       "    }\n",
       "\n",
       "    .dataframe tbody tr th {\n",
       "        vertical-align: top;\n",
       "    }\n",
       "\n",
       "    .dataframe thead th {\n",
       "        text-align: right;\n",
       "    }\n",
       "</style>\n",
       "<table border=\"1\" class=\"dataframe\">\n",
       "  <thead>\n",
       "    <tr style=\"text-align: right;\">\n",
       "      <th></th>\n",
       "      <th>MesCargue</th>\n",
       "      <th>Codigo</th>\n",
       "      <th>Agencia</th>\n",
       "      <th>Credito</th>\n",
       "      <th>Estado</th>\n",
       "      <th>SaldoFindeMes</th>\n",
       "      <th>DiasMoraFindeMes</th>\n",
       "      <th>SaldoActual</th>\n",
       "      <th>DiasmoraActual</th>\n",
       "      <th>FechaValor</th>\n",
       "      <th>...</th>\n",
       "      <th>inter_corri</th>\n",
       "      <th>inter_mora</th>\n",
       "      <th>hyc</th>\n",
       "      <th>seguro</th>\n",
       "      <th>iva</th>\n",
       "      <th>valor_cuota</th>\n",
       "      <th>nro_cuotas_atrasadas</th>\n",
       "      <th>cuotas_canceladas</th>\n",
       "      <th>cuotas_vencidas</th>\n",
       "      <th>vigente</th>\n",
       "    </tr>\n",
       "  </thead>\n",
       "  <tbody>\n",
       "    <tr>\n",
       "      <th>0</th>\n",
       "      <td>2016-10</td>\n",
       "      <td>102</td>\n",
       "      <td>BUCARAMANGA AGENCIA ASTURIAS</td>\n",
       "      <td>102141028298</td>\n",
       "      <td>Castigado</td>\n",
       "      <td>1363613.0</td>\n",
       "      <td>803</td>\n",
       "      <td>1322611</td>\n",
       "      <td>803</td>\n",
       "      <td>2016-10-18</td>\n",
       "      <td>...</td>\n",
       "      <td>328060</td>\n",
       "      <td>1600589</td>\n",
       "      <td>98329</td>\n",
       "      <td>3184</td>\n",
       "      <td>18686</td>\n",
       "      <td>121691</td>\n",
       "      <td>18</td>\n",
       "      <td>4</td>\n",
       "      <td>14</td>\n",
       "      <td>0</td>\n",
       "    </tr>\n",
       "    <tr>\n",
       "      <th>1</th>\n",
       "      <td>2016-10</td>\n",
       "      <td>104</td>\n",
       "      <td>BUCARAMANGA AGENCIA CABECERA</td>\n",
       "      <td>104131021163</td>\n",
       "      <td>Castigado</td>\n",
       "      <td>3999034.0</td>\n",
       "      <td>645</td>\n",
       "      <td>3999034</td>\n",
       "      <td>675</td>\n",
       "      <td>2016-10-05</td>\n",
       "      <td>...</td>\n",
       "      <td>0</td>\n",
       "      <td>66918</td>\n",
       "      <td>91812</td>\n",
       "      <td>4674</td>\n",
       "      <td>17448</td>\n",
       "      <td>205710</td>\n",
       "      <td>48</td>\n",
       "      <td>35</td>\n",
       "      <td>13</td>\n",
       "      <td>0</td>\n",
       "    </tr>\n",
       "    <tr>\n",
       "      <th>2</th>\n",
       "      <td>2016-11</td>\n",
       "      <td>104</td>\n",
       "      <td>BUCARAMANGA AGENCIA CABECERA</td>\n",
       "      <td>104131021163</td>\n",
       "      <td>Castigado</td>\n",
       "      <td>3999034.0</td>\n",
       "      <td>675</td>\n",
       "      <td>3839013</td>\n",
       "      <td>646</td>\n",
       "      <td>2016-11-09</td>\n",
       "      <td>...</td>\n",
       "      <td>0</td>\n",
       "      <td>66918</td>\n",
       "      <td>91812</td>\n",
       "      <td>4674</td>\n",
       "      <td>17448</td>\n",
       "      <td>205710</td>\n",
       "      <td>48</td>\n",
       "      <td>35</td>\n",
       "      <td>13</td>\n",
       "      <td>0</td>\n",
       "    </tr>\n",
       "    <tr>\n",
       "      <th>3</th>\n",
       "      <td>2016-11</td>\n",
       "      <td>104</td>\n",
       "      <td>BUCARAMANGA AGENCIA CABECERA</td>\n",
       "      <td>104131021163</td>\n",
       "      <td>Castigado</td>\n",
       "      <td>3999034.0</td>\n",
       "      <td>675</td>\n",
       "      <td>3839013</td>\n",
       "      <td>646</td>\n",
       "      <td>2016-11-30</td>\n",
       "      <td>...</td>\n",
       "      <td>0</td>\n",
       "      <td>66918</td>\n",
       "      <td>91812</td>\n",
       "      <td>4674</td>\n",
       "      <td>17448</td>\n",
       "      <td>205710</td>\n",
       "      <td>48</td>\n",
       "      <td>35</td>\n",
       "      <td>13</td>\n",
       "      <td>0</td>\n",
       "    </tr>\n",
       "    <tr>\n",
       "      <th>4</th>\n",
       "      <td>2017-01</td>\n",
       "      <td>104</td>\n",
       "      <td>BUCARAMANGA AGENCIA CABECERA</td>\n",
       "      <td>104131021163</td>\n",
       "      <td>Castigado</td>\n",
       "      <td>3839013.0</td>\n",
       "      <td>675</td>\n",
       "      <td>3760966</td>\n",
       "      <td>676</td>\n",
       "      <td>2017-01-11</td>\n",
       "      <td>...</td>\n",
       "      <td>0</td>\n",
       "      <td>66918</td>\n",
       "      <td>91812</td>\n",
       "      <td>4674</td>\n",
       "      <td>17448</td>\n",
       "      <td>205710</td>\n",
       "      <td>48</td>\n",
       "      <td>35</td>\n",
       "      <td>13</td>\n",
       "      <td>0</td>\n",
       "    </tr>\n",
       "  </tbody>\n",
       "</table>\n",
       "<p>5 rows × 68 columns</p>\n",
       "</div>"
      ],
      "text/plain": [
       "  MesCargue  Codigo                       Agencia       Credito     Estado  \\\n",
       "0   2016-10     102  BUCARAMANGA AGENCIA ASTURIAS  102141028298  Castigado   \n",
       "1   2016-10     104  BUCARAMANGA AGENCIA CABECERA  104131021163  Castigado   \n",
       "2   2016-11     104  BUCARAMANGA AGENCIA CABECERA  104131021163  Castigado   \n",
       "3   2016-11     104  BUCARAMANGA AGENCIA CABECERA  104131021163  Castigado   \n",
       "4   2017-01     104  BUCARAMANGA AGENCIA CABECERA  104131021163  Castigado   \n",
       "\n",
       "   SaldoFindeMes  DiasMoraFindeMes  SaldoActual  DiasmoraActual FechaValor  \\\n",
       "0      1363613.0               803      1322611             803 2016-10-18   \n",
       "1      3999034.0               645      3999034             675 2016-10-05   \n",
       "2      3999034.0               675      3839013             646 2016-11-09   \n",
       "3      3999034.0               675      3839013             646 2016-11-30   \n",
       "4      3839013.0               675      3760966             676 2017-01-11   \n",
       "\n",
       "   ... inter_corri inter_mora    hyc  seguro    iva  valor_cuota  \\\n",
       "0  ...      328060    1600589  98329    3184  18686       121691   \n",
       "1  ...           0      66918  91812    4674  17448       205710   \n",
       "2  ...           0      66918  91812    4674  17448       205710   \n",
       "3  ...           0      66918  91812    4674  17448       205710   \n",
       "4  ...           0      66918  91812    4674  17448       205710   \n",
       "\n",
       "   nro_cuotas_atrasadas  cuotas_canceladas  cuotas_vencidas  vigente  \n",
       "0                    18                  4               14        0  \n",
       "1                    48                 35               13        0  \n",
       "2                    48                 35               13        0  \n",
       "3                    48                 35               13        0  \n",
       "4                    48                 35               13        0  \n",
       "\n",
       "[5 rows x 68 columns]"
      ]
     },
     "execution_count": 51,
     "metadata": {},
     "output_type": "execute_result"
    }
   ],
   "source": [
    "df_merged.head()"
   ]
  },
  {
   "cell_type": "code",
   "execution_count": 52,
   "id": "8033f24b",
   "metadata": {
    "hidden": true
   },
   "outputs": [
    {
     "name": "stdout",
     "output_type": "stream",
     "text": [
      "<class 'pandas.core.frame.DataFrame'>\n",
      "Int64Index: 64713 entries, 0 to 64712\n",
      "Data columns (total 68 columns):\n",
      " #   Column                Non-Null Count  Dtype         \n",
      "---  ------                --------------  -----         \n",
      " 0   MesCargue             64713 non-null  object        \n",
      " 1   Codigo                64713 non-null  int64         \n",
      " 2   Agencia               64713 non-null  object        \n",
      " 3   Credito               64713 non-null  int64         \n",
      " 4   Estado                64713 non-null  object        \n",
      " 5   SaldoFindeMes         64713 non-null  float64       \n",
      " 6   DiasMoraFindeMes      64713 non-null  int64         \n",
      " 7   SaldoActual           64713 non-null  int64         \n",
      " 8   DiasmoraActual        64713 non-null  int64         \n",
      " 9   FechaValor            64713 non-null  datetime64[ns]\n",
      " 10  FechaPago             64713 non-null  datetime64[ns]\n",
      " 11  RangoCuotas           64713 non-null  object        \n",
      " 12  Cuotas                64713 non-null  int64         \n",
      " 13  ValorCuota            64713 non-null  int64         \n",
      " 14  TipoPago              64223 non-null  object        \n",
      " 15  CAPITAL               64713 non-null  int64         \n",
      " 16  INTERES               64713 non-null  int64         \n",
      " 17  MORA                  64713 non-null  int64         \n",
      " 18  PAGOSOTROS            64713 non-null  int64         \n",
      " 19  TotalCancelado        64713 non-null  int64         \n",
      " 20  VRgoech               64713 non-null  int64         \n",
      " 21  CONDCAPITAL           64713 non-null  int64         \n",
      " 22  CONDINTERES           64713 non-null  int64         \n",
      " 23  CONDMORA              64713 non-null  int64         \n",
      " 24  DiasMoraPago          64713 non-null  int64         \n",
      " 25  Reverso               64223 non-null  object        \n",
      " 26  Concepto              64223 non-null  object        \n",
      " 27  rate                  64713 non-null  float64       \n",
      " 28  Titular               64713 non-null  int64         \n",
      " 29  agencia               64713 non-null  int64         \n",
      " 30  tipo                  64713 non-null  object        \n",
      " 31  primera_asignacion    64713 non-null  datetime64[ns]\n",
      " 32  fecha_asignacion      64713 non-null  datetime64[ns]\n",
      " 33  fecha_desasignacion   64713 non-null  object        \n",
      " 34  nombre                64713 non-null  object        \n",
      " 35  ciudad                64713 non-null  object        \n",
      " 36  tel_casa              64713 non-null  int64         \n",
      " 37  tel_negocio           64713 non-null  int64         \n",
      " 38  celular               64713 non-null  int64         \n",
      " 39  cedula_conyuge        64713 non-null  int64         \n",
      " 40  nombre_conyuge        26985 non-null  object        \n",
      " 41  tel_casa_conyuge      64713 non-null  int64         \n",
      " 42  tel_negocio_conyuge   64713 non-null  int64         \n",
      " 43  celular_conyuge       64713 non-null  int64         \n",
      " 44  nombre_garante        27497 non-null  object        \n",
      " 45  cedula_garante        64713 non-null  int64         \n",
      " 46  tel_casa_garante      64713 non-null  int64         \n",
      " 47  tel_negocio_garante   64713 non-null  int64         \n",
      " 48  celular_garante       64713 non-null  int64         \n",
      " 49  producto              64713 non-null  object        \n",
      " 50  dias_atraso           64713 non-null  int64         \n",
      " 51  fecha_atraso          64713 non-null  object        \n",
      " 52  fecha_desembolso      64713 non-null  object        \n",
      " 53  fecha_castigo         64713 non-null  object        \n",
      " 54  grupo_castigo         64713 non-null  datetime64[ns]\n",
      " 55  ultimo_pago           64713 non-null  object        \n",
      " 56  monto                 64713 non-null  int64         \n",
      " 57  capital               64713 non-null  int64         \n",
      " 58  inter_corri           64713 non-null  int64         \n",
      " 59  inter_mora            64713 non-null  int64         \n",
      " 60  hyc                   64713 non-null  int64         \n",
      " 61  seguro                64713 non-null  int64         \n",
      " 62  iva                   64713 non-null  int64         \n",
      " 63  valor_cuota           64713 non-null  int64         \n",
      " 64  nro_cuotas_atrasadas  64713 non-null  int64         \n",
      " 65  cuotas_canceladas     64713 non-null  int64         \n",
      " 66  cuotas_vencidas       64713 non-null  int64         \n",
      " 67  vigente               64713 non-null  int64         \n",
      "dtypes: datetime64[ns](5), float64(2), int64(43), object(18)\n",
      "memory usage: 34.1+ MB\n"
     ]
    }
   ],
   "source": [
    "df_merged.info()"
   ]
  },
  {
   "cell_type": "code",
   "execution_count": 41,
   "id": "f3aa8319",
   "metadata": {
    "hidden": true,
    "scrolled": true
   },
   "outputs": [
    {
     "data": {
      "text/plain": [
       "Index(['MesCargue', 'Codigo', 'Agencia', 'Credito', 'Estado', 'SaldoFindeMes',\n",
       "       'DiasMoraFindeMes', 'SaldoActual', 'DiasmoraActual', 'FechaValor',\n",
       "       'FechaPago', 'RangoCuotas', 'Cuotas', 'ValorCuota', 'TipoPago',\n",
       "       'CAPITAL', 'INTERES', 'MORA', 'PAGOSOTROS', 'TotalCancelado', 'VRgoech',\n",
       "       'CONDCAPITAL', 'CONDINTERES', 'CONDMORA', 'DiasMoraPago', 'Reverso',\n",
       "       'Concepto', 'rate', 'Titular', 'agencia', 'tipo', 'primera_asignacion',\n",
       "       'fecha_asignacion', 'fecha_desasignacion', 'nombre', 'ciudad',\n",
       "       'tel_casa', 'tel_negocio', 'celular', 'cedula_conyuge',\n",
       "       'nombre_conyuge', 'tel_casa_conyuge', 'tel_negocio_conyuge',\n",
       "       'celular_conyuge', 'nombre_garante', 'cedula_garante',\n",
       "       'tel_casa_garante', 'tel_negocio_garante', 'celular_garante',\n",
       "       'producto', 'dias_atraso', 'fecha_atraso', 'fecha_desembolso',\n",
       "       'fecha_castigo', 'grupo_castigo', 'ultimo_pago', 'monto', 'capital',\n",
       "       'inter_corri', 'inter_mora', 'hyc', 'seguro', 'iva', 'valor_cuota',\n",
       "       'nro_cuotas_atrasadas', 'cuotas_canceladas', 'cuotas_vencidas',\n",
       "       'vigente'],\n",
       "      dtype='object')"
      ]
     },
     "execution_count": 41,
     "metadata": {},
     "output_type": "execute_result"
    }
   ],
   "source": [
    "df_merged.columns"
   ]
  },
  {
   "cell_type": "code",
   "execution_count": 146,
   "id": "f0605243",
   "metadata": {
    "hidden": true
   },
   "outputs": [
    {
     "data": {
      "text/plain": [
       "Index(['Credito', 'agencia', 'tipo', 'nombre', 'nombre_conyuge',\n",
       "       'nombre_garante', 'ciudad', 'producto', 'dias_atraso', 'grupo_castigo',\n",
       "       'ultimo_pago', 'monto', 'nro_cuotas_atrasadas', 'cuotas_canceladas',\n",
       "       'cuotas_vencidas', 'vigente', 'rate'],\n",
       "      dtype='object')"
      ]
     },
     "execution_count": 146,
     "metadata": {},
     "output_type": "execute_result"
    }
   ],
   "source": [
    "df_features = df_merged[['Credito','agencia','tipo','nombre','nombre_conyuge','nombre_garante','ciudad','producto', 'dias_atraso', 'grupo_castigo', 'ultimo_pago', 'monto', 'nro_cuotas_atrasadas', 'cuotas_canceladas', 'cuotas_vencidas','vigente','rate']]\n",
    "df_features.columns"
   ]
  },
  {
   "cell_type": "code",
   "execution_count": 147,
   "id": "bc859ebb",
   "metadata": {
    "hidden": true,
    "scrolled": true
   },
   "outputs": [
    {
     "data": {
      "text/html": [
       "<div>\n",
       "<style scoped>\n",
       "    .dataframe tbody tr th:only-of-type {\n",
       "        vertical-align: middle;\n",
       "    }\n",
       "\n",
       "    .dataframe tbody tr th {\n",
       "        vertical-align: top;\n",
       "    }\n",
       "\n",
       "    .dataframe thead th {\n",
       "        text-align: right;\n",
       "    }\n",
       "</style>\n",
       "<table border=\"1\" class=\"dataframe\">\n",
       "  <thead>\n",
       "    <tr style=\"text-align: right;\">\n",
       "      <th></th>\n",
       "      <th>Credito</th>\n",
       "      <th>agencia</th>\n",
       "      <th>tipo</th>\n",
       "      <th>nombre</th>\n",
       "      <th>nombre_conyuge</th>\n",
       "      <th>nombre_garante</th>\n",
       "      <th>ciudad</th>\n",
       "      <th>producto</th>\n",
       "      <th>dias_atraso</th>\n",
       "      <th>grupo_castigo</th>\n",
       "      <th>ultimo_pago</th>\n",
       "      <th>monto</th>\n",
       "      <th>nro_cuotas_atrasadas</th>\n",
       "      <th>cuotas_canceladas</th>\n",
       "      <th>cuotas_vencidas</th>\n",
       "      <th>vigente</th>\n",
       "      <th>rate</th>\n",
       "    </tr>\n",
       "  </thead>\n",
       "  <tbody>\n",
       "    <tr>\n",
       "      <th>0</th>\n",
       "      <td>102141028298</td>\n",
       "      <td>102</td>\n",
       "      <td>NUEVO2</td>\n",
       "      <td>PIMIENTO  APARICIO TERESA</td>\n",
       "      <td>NaN</td>\n",
       "      <td>HERRERA   LUNA EDUARDO</td>\n",
       "      <td>FLORIDABLANCA</td>\n",
       "      <td>Fundacredito Maquinaria y Equipo con H y C Dif...</td>\n",
       "      <td>1763</td>\n",
       "      <td>2016-10-01</td>\n",
       "      <td>2016-10-18 00:00:00</td>\n",
       "      <td>1600000</td>\n",
       "      <td>18</td>\n",
       "      <td>4</td>\n",
       "      <td>14</td>\n",
       "      <td>0</td>\n",
       "      <td>0.073335</td>\n",
       "    </tr>\n",
       "    <tr>\n",
       "      <th>1</th>\n",
       "      <td>104131021163</td>\n",
       "      <td>104</td>\n",
       "      <td>MANTENIDO</td>\n",
       "      <td>PABON  RAMOS ANA  BENILDA</td>\n",
       "      <td>MORENO    PARMENIO</td>\n",
       "      <td>NaN</td>\n",
       "      <td>BUCARAMANGA</td>\n",
       "      <td>Fundacredito Reestructurado Microcrédito &gt; 30 ...</td>\n",
       "      <td>915</td>\n",
       "      <td>2016-10-01</td>\n",
       "      <td>2019-02-04 00:00:00</td>\n",
       "      <td>4960653</td>\n",
       "      <td>48</td>\n",
       "      <td>35</td>\n",
       "      <td>13</td>\n",
       "      <td>0</td>\n",
       "      <td>0.025006</td>\n",
       "    </tr>\n",
       "    <tr>\n",
       "      <th>2</th>\n",
       "      <td>104131021163</td>\n",
       "      <td>104</td>\n",
       "      <td>MANTENIDO</td>\n",
       "      <td>PABON  RAMOS ANA  BENILDA</td>\n",
       "      <td>MORENO    PARMENIO</td>\n",
       "      <td>NaN</td>\n",
       "      <td>BUCARAMANGA</td>\n",
       "      <td>Fundacredito Reestructurado Microcrédito &gt; 30 ...</td>\n",
       "      <td>915</td>\n",
       "      <td>2016-10-01</td>\n",
       "      <td>2019-02-04 00:00:00</td>\n",
       "      <td>4960653</td>\n",
       "      <td>48</td>\n",
       "      <td>35</td>\n",
       "      <td>13</td>\n",
       "      <td>0</td>\n",
       "      <td>0.025006</td>\n",
       "    </tr>\n",
       "    <tr>\n",
       "      <th>3</th>\n",
       "      <td>104131021163</td>\n",
       "      <td>104</td>\n",
       "      <td>MANTENIDO</td>\n",
       "      <td>PABON  RAMOS ANA  BENILDA</td>\n",
       "      <td>MORENO    PARMENIO</td>\n",
       "      <td>NaN</td>\n",
       "      <td>BUCARAMANGA</td>\n",
       "      <td>Fundacredito Reestructurado Microcrédito &gt; 30 ...</td>\n",
       "      <td>915</td>\n",
       "      <td>2016-10-01</td>\n",
       "      <td>2019-02-04 00:00:00</td>\n",
       "      <td>4960653</td>\n",
       "      <td>48</td>\n",
       "      <td>35</td>\n",
       "      <td>13</td>\n",
       "      <td>0</td>\n",
       "      <td>0.025006</td>\n",
       "    </tr>\n",
       "    <tr>\n",
       "      <th>4</th>\n",
       "      <td>104131021163</td>\n",
       "      <td>104</td>\n",
       "      <td>MANTENIDO</td>\n",
       "      <td>PABON  RAMOS ANA  BENILDA</td>\n",
       "      <td>MORENO    PARMENIO</td>\n",
       "      <td>NaN</td>\n",
       "      <td>BUCARAMANGA</td>\n",
       "      <td>Fundacredito Reestructurado Microcrédito &gt; 30 ...</td>\n",
       "      <td>915</td>\n",
       "      <td>2016-10-01</td>\n",
       "      <td>2019-02-04 00:00:00</td>\n",
       "      <td>4960653</td>\n",
       "      <td>48</td>\n",
       "      <td>35</td>\n",
       "      <td>13</td>\n",
       "      <td>0</td>\n",
       "      <td>0.025527</td>\n",
       "    </tr>\n",
       "  </tbody>\n",
       "</table>\n",
       "</div>"
      ],
      "text/plain": [
       "        Credito  agencia       tipo                       nombre  \\\n",
       "0  102141028298      102     NUEVO2  PIMIENTO  APARICIO TERESA     \n",
       "1  104131021163      104  MANTENIDO    PABON  RAMOS ANA  BENILDA   \n",
       "2  104131021163      104  MANTENIDO    PABON  RAMOS ANA  BENILDA   \n",
       "3  104131021163      104  MANTENIDO    PABON  RAMOS ANA  BENILDA   \n",
       "4  104131021163      104  MANTENIDO    PABON  RAMOS ANA  BENILDA   \n",
       "\n",
       "         nombre_conyuge          nombre_garante         ciudad  \\\n",
       "0                   NaN  HERRERA   LUNA EDUARDO  FLORIDABLANCA   \n",
       "1  MORENO    PARMENIO                       NaN    BUCARAMANGA   \n",
       "2  MORENO    PARMENIO                       NaN    BUCARAMANGA   \n",
       "3  MORENO    PARMENIO                       NaN    BUCARAMANGA   \n",
       "4  MORENO    PARMENIO                       NaN    BUCARAMANGA   \n",
       "\n",
       "                                            producto  dias_atraso  \\\n",
       "0  Fundacredito Maquinaria y Equipo con H y C Dif...         1763   \n",
       "1  Fundacredito Reestructurado Microcrédito > 30 ...          915   \n",
       "2  Fundacredito Reestructurado Microcrédito > 30 ...          915   \n",
       "3  Fundacredito Reestructurado Microcrédito > 30 ...          915   \n",
       "4  Fundacredito Reestructurado Microcrédito > 30 ...          915   \n",
       "\n",
       "  grupo_castigo          ultimo_pago    monto  nro_cuotas_atrasadas  \\\n",
       "0    2016-10-01  2016-10-18 00:00:00  1600000                    18   \n",
       "1    2016-10-01  2019-02-04 00:00:00  4960653                    48   \n",
       "2    2016-10-01  2019-02-04 00:00:00  4960653                    48   \n",
       "3    2016-10-01  2019-02-04 00:00:00  4960653                    48   \n",
       "4    2016-10-01  2019-02-04 00:00:00  4960653                    48   \n",
       "\n",
       "   cuotas_canceladas  cuotas_vencidas  vigente      rate  \n",
       "0                  4               14        0  0.073335  \n",
       "1                 35               13        0  0.025006  \n",
       "2                 35               13        0  0.025006  \n",
       "3                 35               13        0  0.025006  \n",
       "4                 35               13        0  0.025527  "
      ]
     },
     "execution_count": 147,
     "metadata": {},
     "output_type": "execute_result"
    }
   ],
   "source": [
    "df_features.head()"
   ]
  },
  {
   "cell_type": "markdown",
   "id": "990ed01d",
   "metadata": {},
   "source": [
    "### Merging Total Cancelado"
   ]
  },
  {
   "cell_type": "code",
   "execution_count": 275,
   "id": "f12f28ce",
   "metadata": {},
   "outputs": [],
   "source": [
    "df_total = df_pagos.groupby('Credito')['TotalCancelado'].sum()"
   ]
  },
  {
   "cell_type": "code",
   "execution_count": 277,
   "id": "ef9942aa",
   "metadata": {},
   "outputs": [
    {
     "data": {
      "text/plain": [
       "Credito\n",
       "10191138571    310000\n",
       "10191147413    506660\n",
       "10691417316    104829\n",
       "10691418568    256732\n",
       "10691419227    500000\n",
       "Name: TotalCancelado, dtype: int64"
      ]
     },
     "execution_count": 277,
     "metadata": {},
     "output_type": "execute_result"
    }
   ],
   "source": [
    "df_total.head()"
   ]
  },
  {
   "cell_type": "code",
   "execution_count": 279,
   "id": "aa372173",
   "metadata": {},
   "outputs": [],
   "source": [
    "df_merge2 = df_asignacion_fdem.merge(df_total, on='Credito', how='inner')"
   ]
  },
  {
   "cell_type": "code",
   "execution_count": 282,
   "id": "2fa7dd1e",
   "metadata": {},
   "outputs": [
    {
     "data": {
      "text/html": [
       "<div>\n",
       "<style scoped>\n",
       "    .dataframe tbody tr th:only-of-type {\n",
       "        vertical-align: middle;\n",
       "    }\n",
       "\n",
       "    .dataframe tbody tr th {\n",
       "        vertical-align: top;\n",
       "    }\n",
       "\n",
       "    .dataframe thead th {\n",
       "        text-align: right;\n",
       "    }\n",
       "</style>\n",
       "<table border=\"1\" class=\"dataframe\">\n",
       "  <thead>\n",
       "    <tr style=\"text-align: right;\">\n",
       "      <th></th>\n",
       "      <th>Credito</th>\n",
       "      <th>Titular</th>\n",
       "      <th>agencia</th>\n",
       "      <th>tipo</th>\n",
       "      <th>primera_asignacion</th>\n",
       "      <th>fecha_asignacion</th>\n",
       "      <th>fecha_desasignacion</th>\n",
       "      <th>nombre</th>\n",
       "      <th>ciudad</th>\n",
       "      <th>tel_casa</th>\n",
       "      <th>...</th>\n",
       "      <th>inter_mora</th>\n",
       "      <th>hyc</th>\n",
       "      <th>seguro</th>\n",
       "      <th>iva</th>\n",
       "      <th>valor_cuota</th>\n",
       "      <th>nro_cuotas_atrasadas</th>\n",
       "      <th>cuotas_canceladas</th>\n",
       "      <th>cuotas_vencidas</th>\n",
       "      <th>vigente</th>\n",
       "      <th>TotalCancelado</th>\n",
       "    </tr>\n",
       "  </thead>\n",
       "  <tbody>\n",
       "    <tr>\n",
       "      <th>0</th>\n",
       "      <td>101104101421</td>\n",
       "      <td>95</td>\n",
       "      <td>101</td>\n",
       "      <td>MANTENIDO</td>\n",
       "      <td>2016-10-01</td>\n",
       "      <td>2016-10-01</td>\n",
       "      <td>\\N</td>\n",
       "      <td>ZAPATA JIMENEZ   NATHALI</td>\n",
       "      <td>BUCARAMANGA</td>\n",
       "      <td>3175220817</td>\n",
       "      <td>...</td>\n",
       "      <td>28001</td>\n",
       "      <td>0</td>\n",
       "      <td>69</td>\n",
       "      <td>0</td>\n",
       "      <td>79913</td>\n",
       "      <td>12</td>\n",
       "      <td>9</td>\n",
       "      <td>3</td>\n",
       "      <td>0</td>\n",
       "      <td>695000</td>\n",
       "    </tr>\n",
       "    <tr>\n",
       "      <th>1</th>\n",
       "      <td>101111013583</td>\n",
       "      <td>140</td>\n",
       "      <td>101</td>\n",
       "      <td>MANTENIDO</td>\n",
       "      <td>2016-10-01</td>\n",
       "      <td>2016-10-01</td>\n",
       "      <td>\\N</td>\n",
       "      <td>FUENTES   CARLOS  EDUARDO</td>\n",
       "      <td>FLORIDABLANCA</td>\n",
       "      <td>76190026</td>\n",
       "      <td>...</td>\n",
       "      <td>207345</td>\n",
       "      <td>22601</td>\n",
       "      <td>437</td>\n",
       "      <td>4292</td>\n",
       "      <td>91658</td>\n",
       "      <td>24</td>\n",
       "      <td>8</td>\n",
       "      <td>6</td>\n",
       "      <td>1</td>\n",
       "      <td>320000</td>\n",
       "    </tr>\n",
       "    <tr>\n",
       "      <th>2</th>\n",
       "      <td>101111014610</td>\n",
       "      <td>153</td>\n",
       "      <td>101</td>\n",
       "      <td>MANTENIDO</td>\n",
       "      <td>2016-10-01</td>\n",
       "      <td>2016-10-01</td>\n",
       "      <td>2020-07-03 00:00:00</td>\n",
       "      <td>GARCIA RODRIGUEZ FRANKLIN GEOVANNY</td>\n",
       "      <td>FLORIDABLANCA</td>\n",
       "      <td>76196665</td>\n",
       "      <td>...</td>\n",
       "      <td>1774888</td>\n",
       "      <td>0</td>\n",
       "      <td>622</td>\n",
       "      <td>0</td>\n",
       "      <td>99815</td>\n",
       "      <td>8</td>\n",
       "      <td>2</td>\n",
       "      <td>6</td>\n",
       "      <td>0</td>\n",
       "      <td>1300000</td>\n",
       "    </tr>\n",
       "    <tr>\n",
       "      <th>3</th>\n",
       "      <td>101111015376</td>\n",
       "      <td>161</td>\n",
       "      <td>101</td>\n",
       "      <td>MANTENIDO</td>\n",
       "      <td>2016-10-01</td>\n",
       "      <td>2016-10-01</td>\n",
       "      <td>2019-08-31 00:00:00</td>\n",
       "      <td>GOMEZ  LUIS RAMON</td>\n",
       "      <td>BUCARAMANGA</td>\n",
       "      <td>0</td>\n",
       "      <td>...</td>\n",
       "      <td>3448115</td>\n",
       "      <td>71755</td>\n",
       "      <td>1828</td>\n",
       "      <td>13636</td>\n",
       "      <td>132996</td>\n",
       "      <td>14</td>\n",
       "      <td>4</td>\n",
       "      <td>10</td>\n",
       "      <td>0</td>\n",
       "      <td>1886000</td>\n",
       "    </tr>\n",
       "    <tr>\n",
       "      <th>4</th>\n",
       "      <td>101111016438</td>\n",
       "      <td>180</td>\n",
       "      <td>101</td>\n",
       "      <td>MANTENIDO</td>\n",
       "      <td>2016-10-01</td>\n",
       "      <td>2016-10-01</td>\n",
       "      <td>2020-07-03 00:00:00</td>\n",
       "      <td>GONZALEZ RONDON MARIA DOLORES</td>\n",
       "      <td>BUCARAMANGA</td>\n",
       "      <td>76701592</td>\n",
       "      <td>...</td>\n",
       "      <td>153754</td>\n",
       "      <td>36059</td>\n",
       "      <td>825</td>\n",
       "      <td>6852</td>\n",
       "      <td>174804</td>\n",
       "      <td>15</td>\n",
       "      <td>9</td>\n",
       "      <td>6</td>\n",
       "      <td>0</td>\n",
       "      <td>150000</td>\n",
       "    </tr>\n",
       "  </tbody>\n",
       "</table>\n",
       "<p>5 rows × 42 columns</p>\n",
       "</div>"
      ],
      "text/plain": [
       "        Credito  Titular  agencia       tipo primera_asignacion  \\\n",
       "0  101104101421       95      101  MANTENIDO         2016-10-01   \n",
       "1  101111013583      140      101  MANTENIDO         2016-10-01   \n",
       "2  101111014610      153      101  MANTENIDO         2016-10-01   \n",
       "3  101111015376      161      101  MANTENIDO         2016-10-01   \n",
       "4  101111016438      180      101  MANTENIDO         2016-10-01   \n",
       "\n",
       "  fecha_asignacion  fecha_desasignacion                              nombre  \\\n",
       "0       2016-10-01                   \\N          ZAPATA JIMENEZ   NATHALI     \n",
       "1       2016-10-01                   \\N           FUENTES   CARLOS  EDUARDO   \n",
       "2       2016-10-01  2020-07-03 00:00:00  GARCIA RODRIGUEZ FRANKLIN GEOVANNY   \n",
       "3       2016-10-01  2019-08-31 00:00:00                   GOMEZ  LUIS RAMON   \n",
       "4       2016-10-01  2020-07-03 00:00:00       GONZALEZ RONDON MARIA DOLORES   \n",
       "\n",
       "          ciudad    tel_casa  ...  inter_mora    hyc  seguro    iva  \\\n",
       "0    BUCARAMANGA  3175220817  ...       28001      0      69      0   \n",
       "1  FLORIDABLANCA    76190026  ...      207345  22601     437   4292   \n",
       "2  FLORIDABLANCA    76196665  ...     1774888      0     622      0   \n",
       "3    BUCARAMANGA           0  ...     3448115  71755    1828  13636   \n",
       "4    BUCARAMANGA    76701592  ...      153754  36059     825   6852   \n",
       "\n",
       "   valor_cuota  nro_cuotas_atrasadas  cuotas_canceladas cuotas_vencidas  \\\n",
       "0        79913                    12                  9               3   \n",
       "1        91658                    24                  8               6   \n",
       "2        99815                     8                  2               6   \n",
       "3       132996                    14                  4              10   \n",
       "4       174804                    15                  9               6   \n",
       "\n",
       "   vigente  TotalCancelado  \n",
       "0        0          695000  \n",
       "1        1          320000  \n",
       "2        0         1300000  \n",
       "3        0         1886000  \n",
       "4        0          150000  \n",
       "\n",
       "[5 rows x 42 columns]"
      ]
     },
     "execution_count": 282,
     "metadata": {},
     "output_type": "execute_result"
    }
   ],
   "source": [
    "df_merge2.head()\n"
   ]
  },
  {
   "cell_type": "code",
   "execution_count": 472,
   "id": "bade14fa",
   "metadata": {},
   "outputs": [
    {
     "name": "stdout",
     "output_type": "stream",
     "text": [
      "<class 'pandas.core.frame.DataFrame'>\n",
      "Int64Index: 15289 entries, 0 to 15288\n",
      "Data columns (total 10 columns):\n",
      " #   Column                Non-Null Count  Dtype \n",
      "---  ------                --------------  ----- \n",
      " 0   Credito               15289 non-null  int64 \n",
      " 1   nombre_conyuge        6355 non-null   object\n",
      " 2   nombre_garante        6497 non-null   object\n",
      " 3   dias_atraso           15289 non-null  int64 \n",
      " 4   monto                 15289 non-null  int64 \n",
      " 5   nro_cuotas_atrasadas  15289 non-null  int64 \n",
      " 6   cuotas_canceladas     15289 non-null  int64 \n",
      " 7   cuotas_vencidas       15289 non-null  int64 \n",
      " 8   vigente               15289 non-null  int64 \n",
      " 9   TotalCancelado        15289 non-null  int64 \n",
      "dtypes: int64(8), object(2)\n",
      "memory usage: 1.8+ MB\n"
     ]
    }
   ],
   "source": [
    "df_features2 = df_merge2[['Credito','nombre_conyuge','nombre_garante', 'dias_atraso', 'monto', 'nro_cuotas_atrasadas', 'cuotas_canceladas', 'cuotas_vencidas','vigente','TotalCancelado']]\n",
    "df_features2.info()"
   ]
  },
  {
   "cell_type": "markdown",
   "id": "6769125b",
   "metadata": {},
   "source": [
    "## Data Preprocessing"
   ]
  },
  {
   "cell_type": "markdown",
   "id": "b6c285d4",
   "metadata": {
    "heading_collapsed": true
   },
   "source": [
    "### RATE Outliers "
   ]
  },
  {
   "cell_type": "code",
   "execution_count": 473,
   "id": "01743e0d",
   "metadata": {
    "hidden": true
   },
   "outputs": [
    {
     "data": {
      "text/plain": [
       "count    64713.000000\n",
       "mean         0.340399\n",
       "std          2.146244\n",
       "min          0.000002\n",
       "25%          0.079822\n",
       "50%          0.152514\n",
       "75%          0.361664\n",
       "max        518.687059\n",
       "Name: rate, dtype: float64"
      ]
     },
     "execution_count": 473,
     "metadata": {},
     "output_type": "execute_result"
    }
   ],
   "source": [
    "df_features['rate'].describe()"
   ]
  },
  {
   "cell_type": "code",
   "execution_count": 149,
   "id": "164b5940",
   "metadata": {
    "hidden": true,
    "scrolled": true
   },
   "outputs": [
    {
     "data": {
      "text/plain": [
       "Credito                                   201181008168\n",
       "agencia                                            201\n",
       "tipo                                           NUEVO11\n",
       "nombre                  LAGUADO SALDARRIAGA FELIX OMAR\n",
       "nombre_conyuge                                     NaN\n",
       "nombre_garante                                     NaN\n",
       "ciudad                                          CUCUTA\n",
       "producto                    Fundacredito Activos Fijos\n",
       "dias_atraso                                        190\n",
       "grupo_castigo                      2020-12-31 00:00:00\n",
       "ultimo_pago                        2020-03-20 00:00:00\n",
       "monto                                          3000000\n",
       "nro_cuotas_atrasadas                                 3\n",
       "cuotas_canceladas                                   17\n",
       "cuotas_vencidas                                      7\n",
       "vigente                                              0\n",
       "rate                                        518.687059\n",
       "Name: 50122, dtype: object"
      ]
     },
     "execution_count": 149,
     "metadata": {},
     "output_type": "execute_result"
    }
   ],
   "source": [
    "df_features.loc[df_features['rate'].idxmax()]"
   ]
  },
  {
   "cell_type": "code",
   "execution_count": 150,
   "id": "665e4065",
   "metadata": {
    "hidden": true
   },
   "outputs": [
    {
     "data": {
      "text/plain": [
       "<AxesSubplot:>"
      ]
     },
     "execution_count": 150,
     "metadata": {},
     "output_type": "execute_result"
    },
    {
     "data": {
      "image/png": "[encoded data removed]",
      "text/plain": [
       "<Figure size 432x288 with 1 Axes>"
      ]
     },
     "metadata": {
      "needs_background": "light"
     },
     "output_type": "display_data"
    }
   ],
   "source": [
    "df_features['rate'].plot(kind='box')"
   ]
  },
  {
   "cell_type": "code",
   "execution_count": 237,
   "id": "beaa728b",
   "metadata": {
    "hidden": true
   },
   "outputs": [],
   "source": [
    "df_out = df_features[df_features['rate'] < 1.3]  "
   ]
  },
  {
   "cell_type": "code",
   "execution_count": 238,
   "id": "31e1f017",
   "metadata": {
    "hidden": true,
    "scrolled": true
   },
   "outputs": [
    {
     "name": "stdout",
     "output_type": "stream",
     "text": [
      "<class 'pandas.core.frame.DataFrame'>\n",
      "Int64Index: 62687 entries, 0 to 64712\n",
      "Data columns (total 17 columns):\n",
      " #   Column                Non-Null Count  Dtype         \n",
      "---  ------                --------------  -----         \n",
      " 0   Credito               62687 non-null  int64         \n",
      " 1   agencia               62687 non-null  int64         \n",
      " 2   tipo                  62687 non-null  object        \n",
      " 3   nombre                62687 non-null  object        \n",
      " 4   nombre_conyuge        26108 non-null  object        \n",
      " 5   nombre_garante        26609 non-null  object        \n",
      " 6   ciudad                62687 non-null  object        \n",
      " 7   producto              62687 non-null  object        \n",
      " 8   dias_atraso           62687 non-null  int64         \n",
      " 9   grupo_castigo         62687 non-null  datetime64[ns]\n",
      " 10  ultimo_pago           62687 non-null  object        \n",
      " 11  monto                 62687 non-null  int64         \n",
      " 12  nro_cuotas_atrasadas  62687 non-null  int64         \n",
      " 13  cuotas_canceladas     62687 non-null  int64         \n",
      " 14  cuotas_vencidas       62687 non-null  int64         \n",
      " 15  vigente               62687 non-null  int64         \n",
      " 16  rate                  62687 non-null  float64       \n",
      "dtypes: datetime64[ns](1), float64(1), int64(8), object(7)\n",
      "memory usage: 8.6+ MB\n"
     ]
    }
   ],
   "source": [
    "df_out.info()"
   ]
  },
  {
   "cell_type": "code",
   "execution_count": 239,
   "id": "dd68fb09",
   "metadata": {
    "hidden": true
   },
   "outputs": [
    {
     "data": {
      "text/plain": [
       "<AxesSubplot:>"
      ]
     },
     "execution_count": 239,
     "metadata": {},
     "output_type": "execute_result"
    },
    {
     "data": {
      "image/png": "[encoded data removed]",
      "text/plain": [
       "<Figure size 432x288 with 1 Axes>"
      ]
     },
     "metadata": {
      "needs_background": "light"
     },
     "output_type": "display_data"
    }
   ],
   "source": [
    "df_out['rate'].plot(kind='box')"
   ]
  },
  {
   "cell_type": "code",
   "execution_count": 240,
   "id": "125c17d8",
   "metadata": {
    "hidden": true,
    "scrolled": true
   },
   "outputs": [
    {
     "data": {
      "text/plain": [
       "count    62687.000000\n",
       "mean         0.281815\n",
       "std          0.321138\n",
       "min          0.000002\n",
       "25%          0.078167\n",
       "50%          0.146126\n",
       "75%          0.324532\n",
       "max          1.299883\n",
       "Name: rate, dtype: float64"
      ]
     },
     "execution_count": 240,
     "metadata": {},
     "output_type": "execute_result"
    }
   ],
   "source": [
    "df_out['rate'].describe()"
   ]
  },
  {
   "cell_type": "markdown",
   "id": "2c90e6da",
   "metadata": {},
   "source": [
    "### Conyuge \n",
    "\n",
    "Determinar si usuarios tienen conyuge o en caso contrario calificarlos como solteros"
   ]
  },
  {
   "cell_type": "code",
   "execution_count": 474,
   "id": "6398132f",
   "metadata": {
    "scrolled": true
   },
   "outputs": [
    {
     "data": {
      "text/plain": [
       "2036                                NaN\n",
       "4427            OROZCO   CARMEN   SOFIA\n",
       "8222                                NaN\n",
       "14016                               NaN\n",
       "4082                                NaN\n",
       "8084                                NaN\n",
       "7319     ZABALETA  PAYARES MARTHA LIGIA\n",
       "5062        TOVAR  MOLINARES INGRID LUZ\n",
       "528       GOMEZ   HERNANDEZ  ELIZABETH \n",
       "13400                               NaN\n",
       "Name: nombre_conyuge, dtype: object"
      ]
     },
     "execution_count": 474,
     "metadata": {},
     "output_type": "execute_result"
    }
   ],
   "source": [
    "df_features2['nombre_conyuge'].sample(10)"
   ]
  },
  {
   "cell_type": "code",
   "execution_count": 475,
   "id": "3c59e474",
   "metadata": {},
   "outputs": [
    {
     "name": "stderr",
     "output_type": "stream",
     "text": [
      "/tmp/ipykernel_769/685860107.py:1: SettingWithCopyWarning: \n",
      "A value is trying to be set on a copy of a slice from a DataFrame\n",
      "\n",
      "See the caveats in the documentation: https://pandas.pydata.org/pandas-docs/stable/user_guide/indexing.html#returning-a-view-versus-a-copy\n",
      "  df_features2['nombre_conyuge'].replace(to_replace=r\"[\\w'-]+\", value='Casado', regex = True, inplace=True)\n"
     ]
    }
   ],
   "source": [
    "df_features2['nombre_conyuge'].replace(to_replace=r\"[\\w'-]+\", value='Casado', regex = True, inplace=True)"
   ]
  },
  {
   "cell_type": "code",
   "execution_count": 476,
   "id": "734461c5",
   "metadata": {},
   "outputs": [
    {
     "name": "stderr",
     "output_type": "stream",
     "text": [
      "/tmp/ipykernel_769/1737581884.py:1: SettingWithCopyWarning: \n",
      "A value is trying to be set on a copy of a slice from a DataFrame\n",
      "\n",
      "See the caveats in the documentation: https://pandas.pydata.org/pandas-docs/stable/user_guide/indexing.html#returning-a-view-versus-a-copy\n",
      "  df_features2['nombre_conyuge'].fillna('Soltero', inplace=True)\n"
     ]
    }
   ],
   "source": [
    "df_features2['nombre_conyuge'].fillna('Soltero', inplace=True)"
   ]
  },
  {
   "cell_type": "code",
   "execution_count": 477,
   "id": "a2363822",
   "metadata": {},
   "outputs": [],
   "source": [
    "df_features2.loc[df_features2['nombre_conyuge'].str.contains('Casado'), 'nombre_conyuge'] = 'Casado'\n"
   ]
  },
  {
   "cell_type": "code",
   "execution_count": 478,
   "id": "8469f996",
   "metadata": {},
   "outputs": [
    {
     "data": {
      "text/plain": [
       "13459    Soltero\n",
       "6518      Casado\n",
       "7852      Casado\n",
       "13709     Casado\n",
       "1274      Casado\n",
       "12876    Soltero\n",
       "13789     Casado\n",
       "10482    Soltero\n",
       "6747      Casado\n",
       "532       Casado\n",
       "Name: nombre_conyuge, dtype: object"
      ]
     },
     "execution_count": 478,
     "metadata": {},
     "output_type": "execute_result"
    }
   ],
   "source": [
    "df_features2['nombre_conyuge'].sample(10)"
   ]
  },
  {
   "cell_type": "markdown",
   "id": "16a75fc7",
   "metadata": {},
   "source": [
    "### Garante\n",
    "\n",
    "Determinar si usuarios tienen garante"
   ]
  },
  {
   "cell_type": "code",
   "execution_count": 479,
   "id": "2c4cac53",
   "metadata": {},
   "outputs": [
    {
     "name": "stderr",
     "output_type": "stream",
     "text": [
      "/tmp/ipykernel_769/3084327447.py:1: SettingWithCopyWarning: \n",
      "A value is trying to be set on a copy of a slice from a DataFrame\n",
      "\n",
      "See the caveats in the documentation: https://pandas.pydata.org/pandas-docs/stable/user_guide/indexing.html#returning-a-view-versus-a-copy\n",
      "  df_features2['nombre_garante'].replace(to_replace=r\"[\\w'-]+\", value='Si', regex = True, inplace=True)\n"
     ]
    }
   ],
   "source": [
    "df_features2['nombre_garante'].replace(to_replace=r\"[\\w'-]+\", value='Si', regex = True, inplace=True)"
   ]
  },
  {
   "cell_type": "code",
   "execution_count": 480,
   "id": "a62a3182",
   "metadata": {},
   "outputs": [
    {
     "name": "stderr",
     "output_type": "stream",
     "text": [
      "/tmp/ipykernel_769/1469585608.py:1: SettingWithCopyWarning: \n",
      "A value is trying to be set on a copy of a slice from a DataFrame\n",
      "\n",
      "See the caveats in the documentation: https://pandas.pydata.org/pandas-docs/stable/user_guide/indexing.html#returning-a-view-versus-a-copy\n",
      "  df_features2['nombre_garante'].fillna('No', inplace=True)\n"
     ]
    }
   ],
   "source": [
    "df_features2['nombre_garante'].fillna('No', inplace=True)\n",
    "df_features2.loc[df_features2['nombre_garante'].str.contains('Si'), 'nombre_garante'] = 'Si'\n"
   ]
  },
  {
   "cell_type": "code",
   "execution_count": 481,
   "id": "3ecc8e7e",
   "metadata": {},
   "outputs": [
    {
     "data": {
      "text/plain": [
       "8785     No\n",
       "14766    Si\n",
       "1933     No\n",
       "14018    No\n",
       "5073     No\n",
       "10167    Si\n",
       "6794     No\n",
       "3321     Si\n",
       "618      No\n",
       "7979     Si\n",
       "Name: nombre_garante, dtype: object"
      ]
     },
     "execution_count": 481,
     "metadata": {},
     "output_type": "execute_result"
    }
   ],
   "source": [
    "df_features2['nombre_garante'].sample(10)"
   ]
  },
  {
   "cell_type": "code",
   "execution_count": 482,
   "id": "e807c5b2",
   "metadata": {},
   "outputs": [
    {
     "data": {
      "text/html": [
       "<div>\n",
       "<style scoped>\n",
       "    .dataframe tbody tr th:only-of-type {\n",
       "        vertical-align: middle;\n",
       "    }\n",
       "\n",
       "    .dataframe tbody tr th {\n",
       "        vertical-align: top;\n",
       "    }\n",
       "\n",
       "    .dataframe thead th {\n",
       "        text-align: right;\n",
       "    }\n",
       "</style>\n",
       "<table border=\"1\" class=\"dataframe\">\n",
       "  <thead>\n",
       "    <tr style=\"text-align: right;\">\n",
       "      <th></th>\n",
       "      <th>Credito</th>\n",
       "      <th>nombre_conyuge</th>\n",
       "      <th>nombre_garante</th>\n",
       "      <th>dias_atraso</th>\n",
       "      <th>monto</th>\n",
       "      <th>nro_cuotas_atrasadas</th>\n",
       "      <th>cuotas_canceladas</th>\n",
       "      <th>cuotas_vencidas</th>\n",
       "      <th>vigente</th>\n",
       "      <th>TotalCancelado</th>\n",
       "    </tr>\n",
       "  </thead>\n",
       "  <tbody>\n",
       "    <tr>\n",
       "      <th>0</th>\n",
       "      <td>101104101421</td>\n",
       "      <td>Casado</td>\n",
       "      <td>No</td>\n",
       "      <td>3157</td>\n",
       "      <td>820000</td>\n",
       "      <td>12</td>\n",
       "      <td>9</td>\n",
       "      <td>3</td>\n",
       "      <td>0</td>\n",
       "      <td>695000</td>\n",
       "    </tr>\n",
       "    <tr>\n",
       "      <th>1</th>\n",
       "      <td>101111013583</td>\n",
       "      <td>Casado</td>\n",
       "      <td>No</td>\n",
       "      <td>2117</td>\n",
       "      <td>1038863</td>\n",
       "      <td>24</td>\n",
       "      <td>8</td>\n",
       "      <td>6</td>\n",
       "      <td>1</td>\n",
       "      <td>320000</td>\n",
       "    </tr>\n",
       "    <tr>\n",
       "      <th>2</th>\n",
       "      <td>101111014610</td>\n",
       "      <td>Soltero</td>\n",
       "      <td>Si</td>\n",
       "      <td>2727</td>\n",
       "      <td>700000</td>\n",
       "      <td>8</td>\n",
       "      <td>2</td>\n",
       "      <td>6</td>\n",
       "      <td>0</td>\n",
       "      <td>1300000</td>\n",
       "    </tr>\n",
       "    <tr>\n",
       "      <th>3</th>\n",
       "      <td>101111015376</td>\n",
       "      <td>Soltero</td>\n",
       "      <td>Si</td>\n",
       "      <td>2635</td>\n",
       "      <td>1500000</td>\n",
       "      <td>14</td>\n",
       "      <td>4</td>\n",
       "      <td>10</td>\n",
       "      <td>0</td>\n",
       "      <td>1886000</td>\n",
       "    </tr>\n",
       "    <tr>\n",
       "      <th>4</th>\n",
       "      <td>101111016438</td>\n",
       "      <td>Casado</td>\n",
       "      <td>No</td>\n",
       "      <td>2449</td>\n",
       "      <td>2030000</td>\n",
       "      <td>15</td>\n",
       "      <td>9</td>\n",
       "      <td>6</td>\n",
       "      <td>0</td>\n",
       "      <td>150000</td>\n",
       "    </tr>\n",
       "  </tbody>\n",
       "</table>\n",
       "</div>"
      ],
      "text/plain": [
       "        Credito nombre_conyuge nombre_garante  dias_atraso    monto  \\\n",
       "0  101104101421         Casado             No         3157   820000   \n",
       "1  101111013583         Casado             No         2117  1038863   \n",
       "2  101111014610        Soltero             Si         2727   700000   \n",
       "3  101111015376        Soltero             Si         2635  1500000   \n",
       "4  101111016438         Casado             No         2449  2030000   \n",
       "\n",
       "   nro_cuotas_atrasadas  cuotas_canceladas  cuotas_vencidas  vigente  \\\n",
       "0                    12                  9                3        0   \n",
       "1                    24                  8                6        1   \n",
       "2                     8                  2                6        0   \n",
       "3                    14                  4               10        0   \n",
       "4                    15                  9                6        0   \n",
       "\n",
       "   TotalCancelado  \n",
       "0          695000  \n",
       "1          320000  \n",
       "2         1300000  \n",
       "3         1886000  \n",
       "4          150000  "
      ]
     },
     "execution_count": 482,
     "metadata": {},
     "output_type": "execute_result"
    }
   ],
   "source": [
    "df_features2.head()"
   ]
  },
  {
   "cell_type": "code",
   "execution_count": 483,
   "id": "b244f04f",
   "metadata": {},
   "outputs": [
    {
     "data": {
      "text/plain": [
       "Credito                 15289\n",
       "nombre_conyuge              2\n",
       "nombre_garante              2\n",
       "dias_atraso              1932\n",
       "monto                    5937\n",
       "nro_cuotas_atrasadas       42\n",
       "cuotas_canceladas          47\n",
       "cuotas_vencidas            44\n",
       "vigente                     2\n",
       "TotalCancelado           6856\n",
       "dtype: int64"
      ]
     },
     "execution_count": 483,
     "metadata": {},
     "output_type": "execute_result"
    }
   ],
   "source": [
    "df_features2.nunique()"
   ]
  },
  {
   "cell_type": "markdown",
   "id": "8affcc83",
   "metadata": {},
   "source": [
    "## Defining Target Variable - Rate of Recovery"
   ]
  },
  {
   "cell_type": "markdown",
   "id": "4de6bc9c",
   "metadata": {},
   "source": [
    "Objetivo: Predecir cuales factores influyen más en el pago de una mayor proporción de la deuda."
   ]
  },
  {
   "cell_type": "code",
   "execution_count": 484,
   "id": "d3838d22",
   "metadata": {
    "scrolled": true
   },
   "outputs": [
    {
     "name": "stderr",
     "output_type": "stream",
     "text": [
      "/tmp/ipykernel_769/2522963334.py:1: SettingWithCopyWarning: \n",
      "A value is trying to be set on a copy of a slice from a DataFrame.\n",
      "Try using .loc[row_indexer,col_indexer] = value instead\n",
      "\n",
      "See the caveats in the documentation: https://pandas.pydata.org/pandas-docs/stable/user_guide/indexing.html#returning-a-view-versus-a-copy\n",
      "  df_features2['rate'] = df_features2['TotalCancelado'] / df_features2['monto']\n"
     ]
    }
   ],
   "source": [
    "df_features2['rate'] = df_features2['TotalCancelado'] / df_features2['monto']"
   ]
  },
  {
   "cell_type": "code",
   "execution_count": 485,
   "id": "d7de9fd3",
   "metadata": {},
   "outputs": [
    {
     "data": {
      "text/html": [
       "<div>\n",
       "<style scoped>\n",
       "    .dataframe tbody tr th:only-of-type {\n",
       "        vertical-align: middle;\n",
       "    }\n",
       "\n",
       "    .dataframe tbody tr th {\n",
       "        vertical-align: top;\n",
       "    }\n",
       "\n",
       "    .dataframe thead th {\n",
       "        text-align: right;\n",
       "    }\n",
       "</style>\n",
       "<table border=\"1\" class=\"dataframe\">\n",
       "  <thead>\n",
       "    <tr style=\"text-align: right;\">\n",
       "      <th></th>\n",
       "      <th>Credito</th>\n",
       "      <th>nombre_conyuge</th>\n",
       "      <th>nombre_garante</th>\n",
       "      <th>dias_atraso</th>\n",
       "      <th>monto</th>\n",
       "      <th>nro_cuotas_atrasadas</th>\n",
       "      <th>cuotas_canceladas</th>\n",
       "      <th>cuotas_vencidas</th>\n",
       "      <th>vigente</th>\n",
       "      <th>TotalCancelado</th>\n",
       "      <th>rate</th>\n",
       "    </tr>\n",
       "  </thead>\n",
       "  <tbody>\n",
       "    <tr>\n",
       "      <th>0</th>\n",
       "      <td>101104101421</td>\n",
       "      <td>Casado</td>\n",
       "      <td>No</td>\n",
       "      <td>3157</td>\n",
       "      <td>820000</td>\n",
       "      <td>12</td>\n",
       "      <td>9</td>\n",
       "      <td>3</td>\n",
       "      <td>0</td>\n",
       "      <td>695000</td>\n",
       "      <td>0.847561</td>\n",
       "    </tr>\n",
       "    <tr>\n",
       "      <th>1</th>\n",
       "      <td>101111013583</td>\n",
       "      <td>Casado</td>\n",
       "      <td>No</td>\n",
       "      <td>2117</td>\n",
       "      <td>1038863</td>\n",
       "      <td>24</td>\n",
       "      <td>8</td>\n",
       "      <td>6</td>\n",
       "      <td>1</td>\n",
       "      <td>320000</td>\n",
       "      <td>0.308029</td>\n",
       "    </tr>\n",
       "    <tr>\n",
       "      <th>2</th>\n",
       "      <td>101111014610</td>\n",
       "      <td>Soltero</td>\n",
       "      <td>Si</td>\n",
       "      <td>2727</td>\n",
       "      <td>700000</td>\n",
       "      <td>8</td>\n",
       "      <td>2</td>\n",
       "      <td>6</td>\n",
       "      <td>0</td>\n",
       "      <td>1300000</td>\n",
       "      <td>1.857143</td>\n",
       "    </tr>\n",
       "    <tr>\n",
       "      <th>3</th>\n",
       "      <td>101111015376</td>\n",
       "      <td>Soltero</td>\n",
       "      <td>Si</td>\n",
       "      <td>2635</td>\n",
       "      <td>1500000</td>\n",
       "      <td>14</td>\n",
       "      <td>4</td>\n",
       "      <td>10</td>\n",
       "      <td>0</td>\n",
       "      <td>1886000</td>\n",
       "      <td>1.257333</td>\n",
       "    </tr>\n",
       "    <tr>\n",
       "      <th>4</th>\n",
       "      <td>101111016438</td>\n",
       "      <td>Casado</td>\n",
       "      <td>No</td>\n",
       "      <td>2449</td>\n",
       "      <td>2030000</td>\n",
       "      <td>15</td>\n",
       "      <td>9</td>\n",
       "      <td>6</td>\n",
       "      <td>0</td>\n",
       "      <td>150000</td>\n",
       "      <td>0.073892</td>\n",
       "    </tr>\n",
       "  </tbody>\n",
       "</table>\n",
       "</div>"
      ],
      "text/plain": [
       "        Credito nombre_conyuge nombre_garante  dias_atraso    monto  \\\n",
       "0  101104101421         Casado             No         3157   820000   \n",
       "1  101111013583         Casado             No         2117  1038863   \n",
       "2  101111014610        Soltero             Si         2727   700000   \n",
       "3  101111015376        Soltero             Si         2635  1500000   \n",
       "4  101111016438         Casado             No         2449  2030000   \n",
       "\n",
       "   nro_cuotas_atrasadas  cuotas_canceladas  cuotas_vencidas  vigente  \\\n",
       "0                    12                  9                3        0   \n",
       "1                    24                  8                6        1   \n",
       "2                     8                  2                6        0   \n",
       "3                    14                  4               10        0   \n",
       "4                    15                  9                6        0   \n",
       "\n",
       "   TotalCancelado      rate  \n",
       "0          695000  0.847561  \n",
       "1          320000  0.308029  \n",
       "2         1300000  1.857143  \n",
       "3         1886000  1.257333  \n",
       "4          150000  0.073892  "
      ]
     },
     "execution_count": 485,
     "metadata": {},
     "output_type": "execute_result"
    }
   ],
   "source": [
    "df_features2.head()"
   ]
  },
  {
   "cell_type": "code",
   "execution_count": null,
   "id": "6e19924a",
   "metadata": {},
   "outputs": [],
   "source": []
  },
  {
   "cell_type": "markdown",
   "id": "cec966de",
   "metadata": {},
   "source": [
    "### Rate of Recovery - Outliers"
   ]
  },
  {
   "cell_type": "code",
   "execution_count": 486,
   "id": "cb20c2dc",
   "metadata": {},
   "outputs": [
    {
     "data": {
      "text/plain": [
       "count    15289.000000\n",
       "mean         0.590670\n",
       "std          1.002412\n",
       "min          0.000241\n",
       "25%          0.185185\n",
       "50%          0.446138\n",
       "75%          0.803030\n",
       "max         34.978472\n",
       "Name: rate, dtype: float64"
      ]
     },
     "execution_count": 486,
     "metadata": {},
     "output_type": "execute_result"
    }
   ],
   "source": [
    "df_features2['rate'].describe()"
   ]
  },
  {
   "cell_type": "code",
   "execution_count": 487,
   "id": "65d55e0b",
   "metadata": {
    "scrolled": true
   },
   "outputs": [
    {
     "data": {
      "text/plain": [
       "<AxesSubplot:>"
      ]
     },
     "execution_count": 487,
     "metadata": {},
     "output_type": "execute_result"
    },
    {
     "data": {
      "image/png": "[encoded data removed]",
      "text/plain": [
       "<Figure size 432x288 with 1 Axes>"
      ]
     },
     "metadata": {
      "needs_background": "light"
     },
     "output_type": "display_data"
    }
   ],
   "source": [
    "df_features2['rate'].plot(kind='box')"
   ]
  },
  {
   "cell_type": "code",
   "execution_count": 488,
   "id": "bfef27dc",
   "metadata": {},
   "outputs": [
    {
     "name": "stdout",
     "output_type": "stream",
     "text": [
      "<class 'pandas.core.frame.DataFrame'>\n",
      "Int64Index: 14563 entries, 0 to 15288\n",
      "Data columns (total 11 columns):\n",
      " #   Column                Non-Null Count  Dtype  \n",
      "---  ------                --------------  -----  \n",
      " 0   Credito               14563 non-null  int64  \n",
      " 1   nombre_conyuge        14563 non-null  object \n",
      " 2   nombre_garante        14563 non-null  object \n",
      " 3   dias_atraso           14563 non-null  int64  \n",
      " 4   monto                 14563 non-null  int64  \n",
      " 5   nro_cuotas_atrasadas  14563 non-null  int64  \n",
      " 6   cuotas_canceladas     14563 non-null  int64  \n",
      " 7   cuotas_vencidas       14563 non-null  int64  \n",
      " 8   vigente               14563 non-null  int64  \n",
      " 9   TotalCancelado        14563 non-null  int64  \n",
      " 10  rate                  14563 non-null  float64\n",
      "dtypes: float64(1), int64(8), object(2)\n",
      "memory usage: 1.3+ MB\n"
     ]
    }
   ],
   "source": [
    "df_out2 = df_features2[df_features2['rate'] < 1.3]  \n",
    "df_out2.info()"
   ]
  },
  {
   "cell_type": "code",
   "execution_count": 489,
   "id": "73f0f5c6",
   "metadata": {},
   "outputs": [
    {
     "data": {
      "text/plain": [
       "<AxesSubplot:>"
      ]
     },
     "execution_count": 489,
     "metadata": {},
     "output_type": "execute_result"
    },
    {
     "data": {
      "image/png": "[encoded data removed]",
      "text/plain": [
       "<Figure size 432x288 with 1 Axes>"
      ]
     },
     "metadata": {
      "needs_background": "light"
     },
     "output_type": "display_data"
    }
   ],
   "source": [
    "df_out2['rate'].plot(kind='box')"
   ]
  },
  {
   "cell_type": "markdown",
   "id": "a549ba32",
   "metadata": {},
   "source": [
    "## Exploratory Data Analysis"
   ]
  },
  {
   "cell_type": "code",
   "execution_count": 490,
   "id": "8245153d",
   "metadata": {},
   "outputs": [
    {
     "name": "stderr",
     "output_type": "stream",
     "text": [
      "/tmp/ipykernel_769/220051646.py:2: FutureWarning: The default value of numeric_only in DataFrame.corr is deprecated. In a future version, it will default to False. Select only valid columns or specify the value of numeric_only to silence this warning.\n",
      "  dataplot = sns.heatmap(df_out2.corr(), cmap=\"YlGnBu\", annot=True)\n"
     ]
    },
    {
     "data": {
      "image/png": "[encoded data removed]",
      "text/plain": [
       "<Figure size 432x288 with 2 Axes>"
      ]
     },
     "metadata": {
      "needs_background": "light"
     },
     "output_type": "display_data"
    }
   ],
   "source": [
    "import seaborn as sns\n",
    "dataplot = sns.heatmap(df_out2.corr(), cmap=\"YlGnBu\", annot=True)\n"
   ]
  },
  {
   "cell_type": "code",
   "execution_count": 491,
   "id": "48ca1331",
   "metadata": {},
   "outputs": [
    {
     "data": {
      "text/html": [
       "<div>\n",
       "<style scoped>\n",
       "    .dataframe tbody tr th:only-of-type {\n",
       "        vertical-align: middle;\n",
       "    }\n",
       "\n",
       "    .dataframe tbody tr th {\n",
       "        vertical-align: top;\n",
       "    }\n",
       "\n",
       "    .dataframe thead th {\n",
       "        text-align: right;\n",
       "    }\n",
       "</style>\n",
       "<table border=\"1\" class=\"dataframe\">\n",
       "  <thead>\n",
       "    <tr style=\"text-align: right;\">\n",
       "      <th></th>\n",
       "      <th>dias_atraso</th>\n",
       "      <th>rate</th>\n",
       "    </tr>\n",
       "  </thead>\n",
       "  <tbody>\n",
       "    <tr>\n",
       "      <th>0</th>\n",
       "      <td>3157</td>\n",
       "      <td>0.847561</td>\n",
       "    </tr>\n",
       "    <tr>\n",
       "      <th>1</th>\n",
       "      <td>2117</td>\n",
       "      <td>0.308029</td>\n",
       "    </tr>\n",
       "    <tr>\n",
       "      <th>3</th>\n",
       "      <td>2635</td>\n",
       "      <td>1.257333</td>\n",
       "    </tr>\n",
       "    <tr>\n",
       "      <th>4</th>\n",
       "      <td>2449</td>\n",
       "      <td>0.073892</td>\n",
       "    </tr>\n",
       "    <tr>\n",
       "      <th>5</th>\n",
       "      <td>2185</td>\n",
       "      <td>0.339806</td>\n",
       "    </tr>\n",
       "  </tbody>\n",
       "</table>\n",
       "</div>"
      ],
      "text/plain": [
       "   dias_atraso      rate\n",
       "0         3157  0.847561\n",
       "1         2117  0.308029\n",
       "3         2635  1.257333\n",
       "4         2449  0.073892\n",
       "5         2185  0.339806"
      ]
     },
     "execution_count": 491,
     "metadata": {},
     "output_type": "execute_result"
    }
   ],
   "source": [
    "df_atraso_rate = df_out2[['dias_atraso','rate']]\n",
    "df_atraso_rate.head()"
   ]
  },
  {
   "cell_type": "code",
   "execution_count": 492,
   "id": "fb7336a1",
   "metadata": {},
   "outputs": [
    {
     "data": {
      "image/png": "[encoded data removed]",
      "text/plain": [
       "<Figure size 432x288 with 1 Axes>"
      ]
     },
     "metadata": {
      "needs_background": "light"
     },
     "output_type": "display_data"
    }
   ],
   "source": [
    "import matplotlib.pyplot as plt\n",
    "\n",
    "# Plot dias atraso vs rate\n",
    "plt.scatter(df_out2['cuotas_canceladas'], df_out2['rate'])\n",
    "\n",
    "# Labels\n",
    "plt.xlabel(\"dias atraso\")\n",
    "plt.ylabel(\"rate\")\n",
    "\n",
    "plt.show()"
   ]
  },
  {
   "cell_type": "code",
   "execution_count": 493,
   "id": "117b448c",
   "metadata": {},
   "outputs": [
    {
     "data": {
      "text/plain": [
       "count    14563.000000\n",
       "mean        10.536771\n",
       "std          6.652081\n",
       "min          0.000000\n",
       "25%          6.000000\n",
       "50%         10.000000\n",
       "75%         15.000000\n",
       "max         47.000000\n",
       "Name: cuotas_canceladas, dtype: float64"
      ]
     },
     "execution_count": 493,
     "metadata": {},
     "output_type": "execute_result"
    }
   ],
   "source": [
    " df_out2['cuotas_canceladas'].describe()"
   ]
  },
  {
   "cell_type": "markdown",
   "id": "c116d791",
   "metadata": {},
   "source": [
    "## Baseline"
   ]
  },
  {
   "cell_type": "code",
   "execution_count": 494,
   "id": "b81f1040",
   "metadata": {},
   "outputs": [
    {
     "name": "stdout",
     "output_type": "stream",
     "text": [
      "<class 'pandas.core.frame.DataFrame'>\n",
      "Int64Index: 14563 entries, 0 to 15288\n",
      "Data columns (total 11 columns):\n",
      " #   Column                Non-Null Count  Dtype  \n",
      "---  ------                --------------  -----  \n",
      " 0   Credito               14563 non-null  int64  \n",
      " 1   nombre_conyuge        14563 non-null  object \n",
      " 2   nombre_garante        14563 non-null  object \n",
      " 3   dias_atraso           14563 non-null  int64  \n",
      " 4   monto                 14563 non-null  int64  \n",
      " 5   nro_cuotas_atrasadas  14563 non-null  int64  \n",
      " 6   cuotas_canceladas     14563 non-null  int64  \n",
      " 7   cuotas_vencidas       14563 non-null  int64  \n",
      " 8   vigente               14563 non-null  int64  \n",
      " 9   TotalCancelado        14563 non-null  int64  \n",
      " 10  rate                  14563 non-null  float64\n",
      "dtypes: float64(1), int64(8), object(2)\n",
      "memory usage: 1.3+ MB\n"
     ]
    }
   ],
   "source": [
    "df_out2.info()"
   ]
  },
  {
   "cell_type": "code",
   "execution_count": 495,
   "id": "428f1efd",
   "metadata": {},
   "outputs": [
    {
     "data": {
      "text/html": [
       "<div>\n",
       "<style scoped>\n",
       "    .dataframe tbody tr th:only-of-type {\n",
       "        vertical-align: middle;\n",
       "    }\n",
       "\n",
       "    .dataframe tbody tr th {\n",
       "        vertical-align: top;\n",
       "    }\n",
       "\n",
       "    .dataframe thead th {\n",
       "        text-align: right;\n",
       "    }\n",
       "</style>\n",
       "<table border=\"1\" class=\"dataframe\">\n",
       "  <thead>\n",
       "    <tr style=\"text-align: right;\">\n",
       "      <th></th>\n",
       "      <th>Credito</th>\n",
       "      <th>nombre_conyuge</th>\n",
       "      <th>nombre_garante</th>\n",
       "      <th>dias_atraso</th>\n",
       "      <th>monto</th>\n",
       "      <th>nro_cuotas_atrasadas</th>\n",
       "      <th>cuotas_canceladas</th>\n",
       "      <th>cuotas_vencidas</th>\n",
       "      <th>vigente</th>\n",
       "      <th>TotalCancelado</th>\n",
       "      <th>rate</th>\n",
       "    </tr>\n",
       "  </thead>\n",
       "  <tbody>\n",
       "    <tr>\n",
       "      <th>0</th>\n",
       "      <td>101104101421</td>\n",
       "      <td>Casado</td>\n",
       "      <td>No</td>\n",
       "      <td>3157</td>\n",
       "      <td>820000</td>\n",
       "      <td>12</td>\n",
       "      <td>9</td>\n",
       "      <td>3</td>\n",
       "      <td>0</td>\n",
       "      <td>695000</td>\n",
       "      <td>0.847561</td>\n",
       "    </tr>\n",
       "    <tr>\n",
       "      <th>1</th>\n",
       "      <td>101111013583</td>\n",
       "      <td>Casado</td>\n",
       "      <td>No</td>\n",
       "      <td>2117</td>\n",
       "      <td>1038863</td>\n",
       "      <td>24</td>\n",
       "      <td>8</td>\n",
       "      <td>6</td>\n",
       "      <td>1</td>\n",
       "      <td>320000</td>\n",
       "      <td>0.308029</td>\n",
       "    </tr>\n",
       "    <tr>\n",
       "      <th>3</th>\n",
       "      <td>101111015376</td>\n",
       "      <td>Soltero</td>\n",
       "      <td>Si</td>\n",
       "      <td>2635</td>\n",
       "      <td>1500000</td>\n",
       "      <td>14</td>\n",
       "      <td>4</td>\n",
       "      <td>10</td>\n",
       "      <td>0</td>\n",
       "      <td>1886000</td>\n",
       "      <td>1.257333</td>\n",
       "    </tr>\n",
       "    <tr>\n",
       "      <th>4</th>\n",
       "      <td>101111016438</td>\n",
       "      <td>Casado</td>\n",
       "      <td>No</td>\n",
       "      <td>2449</td>\n",
       "      <td>2030000</td>\n",
       "      <td>15</td>\n",
       "      <td>9</td>\n",
       "      <td>6</td>\n",
       "      <td>0</td>\n",
       "      <td>150000</td>\n",
       "      <td>0.073892</td>\n",
       "    </tr>\n",
       "    <tr>\n",
       "      <th>5</th>\n",
       "      <td>101121021847</td>\n",
       "      <td>Soltero</td>\n",
       "      <td>Si</td>\n",
       "      <td>2185</td>\n",
       "      <td>1030000</td>\n",
       "      <td>13</td>\n",
       "      <td>11</td>\n",
       "      <td>2</td>\n",
       "      <td>0</td>\n",
       "      <td>350000</td>\n",
       "      <td>0.339806</td>\n",
       "    </tr>\n",
       "  </tbody>\n",
       "</table>\n",
       "</div>"
      ],
      "text/plain": [
       "        Credito nombre_conyuge nombre_garante  dias_atraso    monto  \\\n",
       "0  101104101421         Casado             No         3157   820000   \n",
       "1  101111013583         Casado             No         2117  1038863   \n",
       "3  101111015376        Soltero             Si         2635  1500000   \n",
       "4  101111016438         Casado             No         2449  2030000   \n",
       "5  101121021847        Soltero             Si         2185  1030000   \n",
       "\n",
       "   nro_cuotas_atrasadas  cuotas_canceladas  cuotas_vencidas  vigente  \\\n",
       "0                    12                  9                3        0   \n",
       "1                    24                  8                6        1   \n",
       "3                    14                  4               10        0   \n",
       "4                    15                  9                6        0   \n",
       "5                    13                 11                2        0   \n",
       "\n",
       "   TotalCancelado      rate  \n",
       "0          695000  0.847561  \n",
       "1          320000  0.308029  \n",
       "3         1886000  1.257333  \n",
       "4          150000  0.073892  \n",
       "5          350000  0.339806  "
      ]
     },
     "execution_count": 495,
     "metadata": {},
     "output_type": "execute_result"
    }
   ],
   "source": [
    "df_out2.head()"
   ]
  },
  {
   "cell_type": "code",
   "execution_count": 496,
   "id": "b597601a",
   "metadata": {},
   "outputs": [
    {
     "data": {
      "text/plain": [
       "Index(['Credito', 'nombre_conyuge', 'nombre_garante', 'dias_atraso', 'monto',\n",
       "       'nro_cuotas_atrasadas', 'cuotas_canceladas', 'cuotas_vencidas',\n",
       "       'vigente', 'TotalCancelado', 'rate'],\n",
       "      dtype='object')"
      ]
     },
     "execution_count": 496,
     "metadata": {},
     "output_type": "execute_result"
    }
   ],
   "source": [
    "df_out2.columns"
   ]
  },
  {
   "cell_type": "code",
   "execution_count": 497,
   "id": "482a104f",
   "metadata": {},
   "outputs": [
    {
     "data": {
      "text/plain": [
       "Credito                 14563\n",
       "nombre_conyuge              2\n",
       "nombre_garante              2\n",
       "dias_atraso              1901\n",
       "monto                    5604\n",
       "nro_cuotas_atrasadas       42\n",
       "cuotas_canceladas          47\n",
       "cuotas_vencidas            43\n",
       "vigente                     2\n",
       "TotalCancelado           6418\n",
       "rate                    12301\n",
       "dtype: int64"
      ]
     },
     "execution_count": 497,
     "metadata": {},
     "output_type": "execute_result"
    }
   ],
   "source": [
    "df_out2.nunique()"
   ]
  },
  {
   "cell_type": "markdown",
   "id": "acf24774",
   "metadata": {},
   "source": [
    "### Split Train and Test"
   ]
  },
  {
   "cell_type": "markdown",
   "id": "1bcbecf0",
   "metadata": {},
   "source": [
    "Define X and y"
   ]
  },
  {
   "cell_type": "code",
   "execution_count": 498,
   "id": "cbc8a53c",
   "metadata": {},
   "outputs": [],
   "source": [
    "X = df_out2.drop(columns=['rate','TotalCancelado'])\n",
    "y = df_out2['rate']"
   ]
  },
  {
   "cell_type": "code",
   "execution_count": 499,
   "id": "404e28f4",
   "metadata": {},
   "outputs": [],
   "source": [
    "from sklearn.model_selection import train_test_split\n",
    "\n",
    "X_train, X_test, y_train, y_test = train_test_split(X, y, test_size=0.3, random_state=88)"
   ]
  },
  {
   "cell_type": "code",
   "execution_count": 500,
   "id": "85aff683",
   "metadata": {},
   "outputs": [
    {
     "data": {
      "text/plain": [
       "(10194, 9)"
      ]
     },
     "execution_count": 500,
     "metadata": {},
     "output_type": "execute_result"
    }
   ],
   "source": [
    "X_train.shape"
   ]
  },
  {
   "cell_type": "markdown",
   "id": "09a8cc51",
   "metadata": {},
   "source": [
    "#### Numerical Features"
   ]
  },
  {
   "cell_type": "code",
   "execution_count": 501,
   "id": "4d1e0299",
   "metadata": {},
   "outputs": [
    {
     "data": {
      "text/plain": [
       "array(['dias_atraso', 'monto', 'nro_cuotas_atrasadas',\n",
       "       'cuotas_canceladas', 'cuotas_vencidas', 'vigente'], dtype=object)"
      ]
     },
     "execution_count": 501,
     "metadata": {},
     "output_type": "execute_result"
    }
   ],
   "source": [
    "feat_pre = X_train.drop(columns='Credito')\n",
    "feat_numerical_names = feat_pre.select_dtypes(include=['int64','float64']).nunique()\n",
    "feat_numerical_names = feat_numerical_names.index.values\n",
    "feat_numerical_names"
   ]
  },
  {
   "cell_type": "markdown",
   "id": "c5365cae",
   "metadata": {},
   "source": [
    "#### Categorical Features"
   ]
  },
  {
   "cell_type": "code",
   "execution_count": 502,
   "id": "4b2be5e2",
   "metadata": {},
   "outputs": [
    {
     "data": {
      "text/plain": [
       "nombre_conyuge    2\n",
       "nombre_garante    2\n",
       "dtype: int64"
      ]
     },
     "execution_count": 502,
     "metadata": {},
     "output_type": "execute_result"
    }
   ],
   "source": [
    "feat_categorical_nunique = X_train.select_dtypes(include=['object']).nunique()\n",
    "feat_categorical_nunique"
   ]
  },
  {
   "cell_type": "code",
   "execution_count": 503,
   "id": "1ac1a98e",
   "metadata": {},
   "outputs": [
    {
     "data": {
      "text/plain": [
       "array(['nombre_conyuge', 'nombre_garante'], dtype=object)"
      ]
     },
     "execution_count": 503,
     "metadata": {},
     "output_type": "execute_result"
    }
   ],
   "source": [
    "features_cat = feat_categorical_nunique.index.values\n",
    "features_cat"
   ]
  },
  {
   "cell_type": "markdown",
   "id": "8d7718e9",
   "metadata": {},
   "source": [
    "### Baseline Pipe"
   ]
  },
  {
   "cell_type": "code",
   "execution_count": 504,
   "id": "5f8f50c4",
   "metadata": {},
   "outputs": [],
   "source": [
    "from sklearn.pipeline import Pipeline, FeatureUnion, make_union, make_pipeline\n",
    "from sklearn.preprocessing import MinMaxScaler\n",
    "from sklearn.preprocessing import RobustScaler\n",
    "from sklearn.preprocessing import OneHotEncoder\n",
    "from sklearn.compose import ColumnTransformer\n",
    "from sklearn import set_config; set_config(display='diagram')\n",
    "from sklearn.tree import DecisionTreeClassifier"
   ]
  },
  {
   "cell_type": "code",
   "execution_count": 505,
   "id": "da73d2a6",
   "metadata": {},
   "outputs": [
    {
     "data": {
      "text/html": [
       "<style>#sk-50c78d9a-e661-46a1-9815-5fc5c26fd906 {color: black;background-color: white;}#sk-50c78d9a-e661-46a1-9815-5fc5c26fd906 pre{padding: 0;}#sk-50c78d9a-e661-46a1-9815-5fc5c26fd906 div.sk-toggleable {background-color: white;}#sk-50c78d9a-e661-46a1-9815-5fc5c26fd906 label.sk-toggleable__label {cursor: pointer;display: block;width: 100%;margin-bottom: 0;padding: 0.3em;box-sizing: border-box;text-align: center;}#sk-50c78d9a-e661-46a1-9815-5fc5c26fd906 label.sk-toggleable__label-arrow:before {content: \"▸\";float: left;margin-right: 0.25em;color: #696969;}#sk-50c78d9a-e661-46a1-9815-5fc5c26fd906 label.sk-toggleable__label-arrow:hover:before {color: black;}#sk-50c78d9a-e661-46a1-9815-5fc5c26fd906 div.sk-estimator:hover label.sk-toggleable__label-arrow:before {color: black;}#sk-50c78d9a-e661-46a1-9815-5fc5c26fd906 div.sk-toggleable__content {max-height: 0;max-width: 0;overflow: hidden;text-align: left;background-color: #f0f8ff;}#sk-50c78d9a-e661-46a1-9815-5fc5c26fd906 div.sk-toggleable__content pre {margin: 0.2em;color: black;border-radius: 0.25em;background-color: #f0f8ff;}#sk-50c78d9a-e661-46a1-9815-5fc5c26fd906 input.sk-toggleable__control:checked~div.sk-toggleable__content {max-height: 200px;max-width: 100%;overflow: auto;}#sk-50c78d9a-e661-46a1-9815-5fc5c26fd906 input.sk-toggleable__control:checked~label.sk-toggleable__label-arrow:before {content: \"▾\";}#sk-50c78d9a-e661-46a1-9815-5fc5c26fd906 div.sk-estimator input.sk-toggleable__control:checked~label.sk-toggleable__label {background-color: #d4ebff;}#sk-50c78d9a-e661-46a1-9815-5fc5c26fd906 div.sk-label input.sk-toggleable__control:checked~label.sk-toggleable__label {background-color: #d4ebff;}#sk-50c78d9a-e661-46a1-9815-5fc5c26fd906 input.sk-hidden--visually {border: 0;clip: rect(1px 1px 1px 1px);clip: rect(1px, 1px, 1px, 1px);height: 1px;margin: -1px;overflow: hidden;padding: 0;position: absolute;width: 1px;}#sk-50c78d9a-e661-46a1-9815-5fc5c26fd906 div.sk-estimator {font-family: monospace;background-color: #f0f8ff;border: 1px dotted black;border-radius: 0.25em;box-sizing: border-box;margin-bottom: 0.5em;}#sk-50c78d9a-e661-46a1-9815-5fc5c26fd906 div.sk-estimator:hover {background-color: #d4ebff;}#sk-50c78d9a-e661-46a1-9815-5fc5c26fd906 div.sk-parallel-item::after {content: \"\";width: 100%;border-bottom: 1px solid gray;flex-grow: 1;}#sk-50c78d9a-e661-46a1-9815-5fc5c26fd906 div.sk-label:hover label.sk-toggleable__label {background-color: #d4ebff;}#sk-50c78d9a-e661-46a1-9815-5fc5c26fd906 div.sk-serial::before {content: \"\";position: absolute;border-left: 1px solid gray;box-sizing: border-box;top: 2em;bottom: 0;left: 50%;}#sk-50c78d9a-e661-46a1-9815-5fc5c26fd906 div.sk-serial {display: flex;flex-direction: column;align-items: center;background-color: white;padding-right: 0.2em;padding-left: 0.2em;}#sk-50c78d9a-e661-46a1-9815-5fc5c26fd906 div.sk-item {z-index: 1;}#sk-50c78d9a-e661-46a1-9815-5fc5c26fd906 div.sk-parallel {display: flex;align-items: stretch;justify-content: center;background-color: white;}#sk-50c78d9a-e661-46a1-9815-5fc5c26fd906 div.sk-parallel::before {content: \"\";position: absolute;border-left: 1px solid gray;box-sizing: border-box;top: 2em;bottom: 0;left: 50%;}#sk-50c78d9a-e661-46a1-9815-5fc5c26fd906 div.sk-parallel-item {display: flex;flex-direction: column;position: relative;background-color: white;}#sk-50c78d9a-e661-46a1-9815-5fc5c26fd906 div.sk-parallel-item:first-child::after {align-self: flex-end;width: 50%;}#sk-50c78d9a-e661-46a1-9815-5fc5c26fd906 div.sk-parallel-item:last-child::after {align-self: flex-start;width: 50%;}#sk-50c78d9a-e661-46a1-9815-5fc5c26fd906 div.sk-parallel-item:only-child::after {width: 0;}#sk-50c78d9a-e661-46a1-9815-5fc5c26fd906 div.sk-dashed-wrapped {border: 1px dashed gray;margin: 0 0.4em 0.5em 0.4em;box-sizing: border-box;padding-bottom: 0.4em;background-color: white;position: relative;}#sk-50c78d9a-e661-46a1-9815-5fc5c26fd906 div.sk-label label {font-family: monospace;font-weight: bold;background-color: white;display: inline-block;line-height: 1.2em;}#sk-50c78d9a-e661-46a1-9815-5fc5c26fd906 div.sk-label-container {position: relative;z-index: 2;text-align: center;}#sk-50c78d9a-e661-46a1-9815-5fc5c26fd906 div.sk-container {/* jupyter's `normalize.less` sets `[hidden] { display: none; }` but bootstrap.min.css set `[hidden] { display: none !important; }` so we also need the `!important` here to be able to override the default hidden behavior on the sphinx rendered scikit-learn.org. See: https://github.com/scikit-learn/scikit-learn/issues/21755 */display: inline-block !important;position: relative;}#sk-50c78d9a-e661-46a1-9815-5fc5c26fd906 div.sk-text-repr-fallback {display: none;}</style><div id=\"sk-50c78d9a-e661-46a1-9815-5fc5c26fd906\" class=\"sk-top-container\"><div class=\"sk-text-repr-fallback\"><pre>ColumnTransformer(transformers=[(&#x27;num_tr&#x27;,\n",
       "                                 Pipeline(steps=[(&#x27;scaler&#x27;, MinMaxScaler())]),\n",
       "                                 array([&#x27;dias_atraso&#x27;, &#x27;monto&#x27;, &#x27;nro_cuotas_atrasadas&#x27;,\n",
       "       &#x27;cuotas_canceladas&#x27;, &#x27;cuotas_vencidas&#x27;, &#x27;vigente&#x27;], dtype=object)),\n",
       "                                (&#x27;cat_tr&#x27;,\n",
       "                                 Pipeline(steps=[(&#x27;encoder&#x27;,\n",
       "                                                  OneHotEncoder(handle_unknown=&#x27;ignore&#x27;))]),\n",
       "                                 array([&#x27;nombre_conyuge&#x27;, &#x27;nombre_garante&#x27;], dtype=object))])</pre><b>Please rerun this cell to show the HTML repr or trust the notebook.</b></div><div class=\"sk-container\" hidden><div class=\"sk-item sk-dashed-wrapped\"><div class=\"sk-label-container\"><div class=\"sk-label sk-toggleable\"><input class=\"sk-toggleable__control sk-hidden--visually\" id=\"4157100f-aa2b-459e-8d22-2bbd08116db1\" type=\"checkbox\" ><label for=\"4157100f-aa2b-459e-8d22-2bbd08116db1\" class=\"sk-toggleable__label sk-toggleable__label-arrow\">ColumnTransformer</label><div class=\"sk-toggleable__content\"><pre>ColumnTransformer(transformers=[(&#x27;num_tr&#x27;,\n",
       "                                 Pipeline(steps=[(&#x27;scaler&#x27;, MinMaxScaler())]),\n",
       "                                 array([&#x27;dias_atraso&#x27;, &#x27;monto&#x27;, &#x27;nro_cuotas_atrasadas&#x27;,\n",
       "       &#x27;cuotas_canceladas&#x27;, &#x27;cuotas_vencidas&#x27;, &#x27;vigente&#x27;], dtype=object)),\n",
       "                                (&#x27;cat_tr&#x27;,\n",
       "                                 Pipeline(steps=[(&#x27;encoder&#x27;,\n",
       "                                                  OneHotEncoder(handle_unknown=&#x27;ignore&#x27;))]),\n",
       "                                 array([&#x27;nombre_conyuge&#x27;, &#x27;nombre_garante&#x27;], dtype=object))])</pre></div></div></div><div class=\"sk-parallel\"><div class=\"sk-parallel-item\"><div class=\"sk-item\"><div class=\"sk-label-container\"><div class=\"sk-label sk-toggleable\"><input class=\"sk-toggleable__control sk-hidden--visually\" id=\"b092a898-908a-4fd7-9e7c-0c24f004680d\" type=\"checkbox\" ><label for=\"b092a898-908a-4fd7-9e7c-0c24f004680d\" class=\"sk-toggleable__label sk-toggleable__label-arrow\">num_tr</label><div class=\"sk-toggleable__content\"><pre>[&#x27;dias_atraso&#x27; &#x27;monto&#x27; &#x27;nro_cuotas_atrasadas&#x27; &#x27;cuotas_canceladas&#x27;\n",
       " &#x27;cuotas_vencidas&#x27; &#x27;vigente&#x27;]</pre></div></div></div><div class=\"sk-serial\"><div class=\"sk-item\"><div class=\"sk-serial\"><div class=\"sk-item\"><div class=\"sk-estimator sk-toggleable\"><input class=\"sk-toggleable__control sk-hidden--visually\" id=\"a9856c31-efad-48f9-92ad-29bb77cf6c0e\" type=\"checkbox\" ><label for=\"a9856c31-efad-48f9-92ad-29bb77cf6c0e\" class=\"sk-toggleable__label sk-toggleable__label-arrow\">MinMaxScaler</label><div class=\"sk-toggleable__content\"><pre>MinMaxScaler()</pre></div></div></div></div></div></div></div></div><div class=\"sk-parallel-item\"><div class=\"sk-item\"><div class=\"sk-label-container\"><div class=\"sk-label sk-toggleable\"><input class=\"sk-toggleable__control sk-hidden--visually\" id=\"83ae2d5a-e381-4014-bf8b-03759cf8440f\" type=\"checkbox\" ><label for=\"83ae2d5a-e381-4014-bf8b-03759cf8440f\" class=\"sk-toggleable__label sk-toggleable__label-arrow\">cat_tr</label><div class=\"sk-toggleable__content\"><pre>[&#x27;nombre_conyuge&#x27; &#x27;nombre_garante&#x27;]</pre></div></div></div><div class=\"sk-serial\"><div class=\"sk-item\"><div class=\"sk-serial\"><div class=\"sk-item\"><div class=\"sk-estimator sk-toggleable\"><input class=\"sk-toggleable__control sk-hidden--visually\" id=\"2d507a0b-6650-4778-89eb-3052679d643e\" type=\"checkbox\" ><label for=\"2d507a0b-6650-4778-89eb-3052679d643e\" class=\"sk-toggleable__label sk-toggleable__label-arrow\">OneHotEncoder</label><div class=\"sk-toggleable__content\"><pre>OneHotEncoder(handle_unknown=&#x27;ignore&#x27;)</pre></div></div></div></div></div></div></div></div></div></div></div></div>"
      ],
      "text/plain": [
       "ColumnTransformer(transformers=[('num_tr',\n",
       "                                 Pipeline(steps=[('scaler', MinMaxScaler())]),\n",
       "                                 array(['dias_atraso', 'monto', 'nro_cuotas_atrasadas',\n",
       "       'cuotas_canceladas', 'cuotas_vencidas', 'vigente'], dtype=object)),\n",
       "                                ('cat_tr',\n",
       "                                 Pipeline(steps=[('encoder',\n",
       "                                                  OneHotEncoder(handle_unknown='ignore'))]),\n",
       "                                 array(['nombre_conyuge', 'nombre_garante'], dtype=object))])"
      ]
     },
     "execution_count": 505,
     "metadata": {},
     "output_type": "execute_result"
    }
   ],
   "source": [
    "# Encode categorical values\n",
    "cat_transformer = Pipeline([\n",
    "    ('encoder', OneHotEncoder(handle_unknown='ignore'))\n",
    "     ])\n",
    "\n",
    "# Scale numerical values: \n",
    "num_transformer = Pipeline([\n",
    "    ('scaler', MinMaxScaler()),\n",
    "])\n",
    "\n",
    "# Parallelize \"num_transformer\" and \"cat_transfomer\"\n",
    "prepoc_baseline = ColumnTransformer([\n",
    "    ('num_tr', num_transformer, feat_numerical_names),\n",
    "    ('cat_tr', cat_transformer, features_cat)],\n",
    "    remainder='drop'\n",
    ")\n",
    "\n",
    "prepoc_baseline"
   ]
  },
  {
   "cell_type": "code",
   "execution_count": 506,
   "id": "9409c0d2",
   "metadata": {},
   "outputs": [
    {
     "data": {
      "text/plain": [
       "array([[0.06711288, 0.19740481, 0.4       , ..., 0.        , 1.        ,\n",
       "        0.        ],\n",
       "       [0.04214906, 0.05610284, 0.4       , ..., 1.        , 0.        ,\n",
       "        1.        ],\n",
       "       [0.11685962, 0.02899745, 0.1       , ..., 0.        , 1.        ,\n",
       "        0.        ],\n",
       "       ...,\n",
       "       [0.09569465, 0.08436324, 0.4       , ..., 0.        , 1.        ,\n",
       "        0.        ],\n",
       "       [0.06783647, 0.00579991, 0.        , ..., 0.        , 1.        ,\n",
       "        0.        ],\n",
       "       [0.03491317, 0.08718928, 0.4       , ..., 1.        , 0.        ,\n",
       "        1.        ]])"
      ]
     },
     "execution_count": 506,
     "metadata": {},
     "output_type": "execute_result"
    }
   ],
   "source": [
    "X_transformed = prepoc_baseline.fit_transform(X_train)\n",
    "X_transformed"
   ]
  },
  {
   "cell_type": "code",
   "execution_count": 507,
   "id": "7a9f4fe8",
   "metadata": {},
   "outputs": [
    {
     "data": {
      "text/html": [
       "<div>\n",
       "<style scoped>\n",
       "    .dataframe tbody tr th:only-of-type {\n",
       "        vertical-align: middle;\n",
       "    }\n",
       "\n",
       "    .dataframe tbody tr th {\n",
       "        vertical-align: top;\n",
       "    }\n",
       "\n",
       "    .dataframe thead th {\n",
       "        text-align: right;\n",
       "    }\n",
       "</style>\n",
       "<table border=\"1\" class=\"dataframe\">\n",
       "  <thead>\n",
       "    <tr style=\"text-align: right;\">\n",
       "      <th></th>\n",
       "      <th>0</th>\n",
       "      <th>1</th>\n",
       "      <th>2</th>\n",
       "      <th>3</th>\n",
       "      <th>4</th>\n",
       "      <th>5</th>\n",
       "      <th>6</th>\n",
       "      <th>7</th>\n",
       "      <th>8</th>\n",
       "      <th>9</th>\n",
       "    </tr>\n",
       "  </thead>\n",
       "  <tbody>\n",
       "    <tr>\n",
       "      <th>0</th>\n",
       "      <td>0.067113</td>\n",
       "      <td>0.197405</td>\n",
       "      <td>0.40</td>\n",
       "      <td>0.190476</td>\n",
       "      <td>0.270833</td>\n",
       "      <td>1.0</td>\n",
       "      <td>1.0</td>\n",
       "      <td>0.0</td>\n",
       "      <td>1.0</td>\n",
       "      <td>0.0</td>\n",
       "    </tr>\n",
       "    <tr>\n",
       "      <th>1</th>\n",
       "      <td>0.042149</td>\n",
       "      <td>0.056103</td>\n",
       "      <td>0.40</td>\n",
       "      <td>0.428571</td>\n",
       "      <td>0.125000</td>\n",
       "      <td>0.0</td>\n",
       "      <td>0.0</td>\n",
       "      <td>1.0</td>\n",
       "      <td>0.0</td>\n",
       "      <td>1.0</td>\n",
       "    </tr>\n",
       "    <tr>\n",
       "      <th>2</th>\n",
       "      <td>0.116860</td>\n",
       "      <td>0.028997</td>\n",
       "      <td>0.10</td>\n",
       "      <td>0.095238</td>\n",
       "      <td>0.041667</td>\n",
       "      <td>0.0</td>\n",
       "      <td>1.0</td>\n",
       "      <td>0.0</td>\n",
       "      <td>1.0</td>\n",
       "      <td>0.0</td>\n",
       "    </tr>\n",
       "    <tr>\n",
       "      <th>3</th>\n",
       "      <td>0.058792</td>\n",
       "      <td>0.593508</td>\n",
       "      <td>0.75</td>\n",
       "      <td>0.428571</td>\n",
       "      <td>0.229167</td>\n",
       "      <td>1.0</td>\n",
       "      <td>1.0</td>\n",
       "      <td>0.0</td>\n",
       "      <td>0.0</td>\n",
       "      <td>1.0</td>\n",
       "    </tr>\n",
       "    <tr>\n",
       "      <th>4</th>\n",
       "      <td>0.477026</td>\n",
       "      <td>0.072422</td>\n",
       "      <td>0.40</td>\n",
       "      <td>0.071429</td>\n",
       "      <td>0.437500</td>\n",
       "      <td>0.0</td>\n",
       "      <td>1.0</td>\n",
       "      <td>0.0</td>\n",
       "      <td>0.0</td>\n",
       "      <td>1.0</td>\n",
       "    </tr>\n",
       "    <tr>\n",
       "      <th>...</th>\n",
       "      <td>...</td>\n",
       "      <td>...</td>\n",
       "      <td>...</td>\n",
       "      <td>...</td>\n",
       "      <td>...</td>\n",
       "      <td>...</td>\n",
       "      <td>...</td>\n",
       "      <td>...</td>\n",
       "      <td>...</td>\n",
       "      <td>...</td>\n",
       "    </tr>\n",
       "    <tr>\n",
       "      <th>10189</th>\n",
       "      <td>0.024602</td>\n",
       "      <td>0.070233</td>\n",
       "      <td>0.40</td>\n",
       "      <td>0.071429</td>\n",
       "      <td>0.104167</td>\n",
       "      <td>0.0</td>\n",
       "      <td>0.0</td>\n",
       "      <td>1.0</td>\n",
       "      <td>1.0</td>\n",
       "      <td>0.0</td>\n",
       "    </tr>\n",
       "    <tr>\n",
       "      <th>10190</th>\n",
       "      <td>0.033466</td>\n",
       "      <td>0.466438</td>\n",
       "      <td>0.40</td>\n",
       "      <td>0.000000</td>\n",
       "      <td>0.145833</td>\n",
       "      <td>0.0</td>\n",
       "      <td>0.0</td>\n",
       "      <td>1.0</td>\n",
       "      <td>1.0</td>\n",
       "      <td>0.0</td>\n",
       "    </tr>\n",
       "    <tr>\n",
       "      <th>10191</th>\n",
       "      <td>0.095695</td>\n",
       "      <td>0.084363</td>\n",
       "      <td>0.40</td>\n",
       "      <td>0.476190</td>\n",
       "      <td>0.083333</td>\n",
       "      <td>0.0</td>\n",
       "      <td>1.0</td>\n",
       "      <td>0.0</td>\n",
       "      <td>1.0</td>\n",
       "      <td>0.0</td>\n",
       "    </tr>\n",
       "    <tr>\n",
       "      <th>10192</th>\n",
       "      <td>0.067836</td>\n",
       "      <td>0.005800</td>\n",
       "      <td>0.00</td>\n",
       "      <td>0.023810</td>\n",
       "      <td>0.270833</td>\n",
       "      <td>0.0</td>\n",
       "      <td>1.0</td>\n",
       "      <td>0.0</td>\n",
       "      <td>1.0</td>\n",
       "      <td>0.0</td>\n",
       "    </tr>\n",
       "    <tr>\n",
       "      <th>10193</th>\n",
       "      <td>0.034913</td>\n",
       "      <td>0.087189</td>\n",
       "      <td>0.40</td>\n",
       "      <td>0.142857</td>\n",
       "      <td>0.145833</td>\n",
       "      <td>0.0</td>\n",
       "      <td>0.0</td>\n",
       "      <td>1.0</td>\n",
       "      <td>0.0</td>\n",
       "      <td>1.0</td>\n",
       "    </tr>\n",
       "  </tbody>\n",
       "</table>\n",
       "<p>10194 rows × 10 columns</p>\n",
       "</div>"
      ],
      "text/plain": [
       "              0         1     2         3         4    5    6    7    8    9\n",
       "0      0.067113  0.197405  0.40  0.190476  0.270833  1.0  1.0  0.0  1.0  0.0\n",
       "1      0.042149  0.056103  0.40  0.428571  0.125000  0.0  0.0  1.0  0.0  1.0\n",
       "2      0.116860  0.028997  0.10  0.095238  0.041667  0.0  1.0  0.0  1.0  0.0\n",
       "3      0.058792  0.593508  0.75  0.428571  0.229167  1.0  1.0  0.0  0.0  1.0\n",
       "4      0.477026  0.072422  0.40  0.071429  0.437500  0.0  1.0  0.0  0.0  1.0\n",
       "...         ...       ...   ...       ...       ...  ...  ...  ...  ...  ...\n",
       "10189  0.024602  0.070233  0.40  0.071429  0.104167  0.0  0.0  1.0  1.0  0.0\n",
       "10190  0.033466  0.466438  0.40  0.000000  0.145833  0.0  0.0  1.0  1.0  0.0\n",
       "10191  0.095695  0.084363  0.40  0.476190  0.083333  0.0  1.0  0.0  1.0  0.0\n",
       "10192  0.067836  0.005800  0.00  0.023810  0.270833  0.0  1.0  0.0  1.0  0.0\n",
       "10193  0.034913  0.087189  0.40  0.142857  0.145833  0.0  0.0  1.0  0.0  1.0\n",
       "\n",
       "[10194 rows x 10 columns]"
      ]
     },
     "metadata": {},
     "output_type": "display_data"
    }
   ],
   "source": [
    "display(pd.DataFrame(X_transformed))\n"
   ]
  },
  {
   "cell_type": "code",
   "execution_count": 508,
   "id": "122c09dd",
   "metadata": {},
   "outputs": [
    {
     "data": {
      "text/plain": [
       "(10194, 10)"
      ]
     },
     "execution_count": 508,
     "metadata": {},
     "output_type": "execute_result"
    }
   ],
   "source": [
    "shape_preproc_baseline = X_transformed.shape\n",
    "shape_preproc_baseline"
   ]
  },
  {
   "cell_type": "markdown",
   "id": "c9fca930",
   "metadata": {},
   "source": [
    "#### Adding estimator"
   ]
  },
  {
   "cell_type": "code",
   "execution_count": 509,
   "id": "f5a8bd9a",
   "metadata": {},
   "outputs": [
    {
     "data": {
      "text/html": [
       "<style>#sk-87262eb5-d686-4d71-8aae-bc166cc3d7dd {color: black;background-color: white;}#sk-87262eb5-d686-4d71-8aae-bc166cc3d7dd pre{padding: 0;}#sk-87262eb5-d686-4d71-8aae-bc166cc3d7dd div.sk-toggleable {background-color: white;}#sk-87262eb5-d686-4d71-8aae-bc166cc3d7dd label.sk-toggleable__label {cursor: pointer;display: block;width: 100%;margin-bottom: 0;padding: 0.3em;box-sizing: border-box;text-align: center;}#sk-87262eb5-d686-4d71-8aae-bc166cc3d7dd label.sk-toggleable__label-arrow:before {content: \"▸\";float: left;margin-right: 0.25em;color: #696969;}#sk-87262eb5-d686-4d71-8aae-bc166cc3d7dd label.sk-toggleable__label-arrow:hover:before {color: black;}#sk-87262eb5-d686-4d71-8aae-bc166cc3d7dd div.sk-estimator:hover label.sk-toggleable__label-arrow:before {color: black;}#sk-87262eb5-d686-4d71-8aae-bc166cc3d7dd div.sk-toggleable__content {max-height: 0;max-width: 0;overflow: hidden;text-align: left;background-color: #f0f8ff;}#sk-87262eb5-d686-4d71-8aae-bc166cc3d7dd div.sk-toggleable__content pre {margin: 0.2em;color: black;border-radius: 0.25em;background-color: #f0f8ff;}#sk-87262eb5-d686-4d71-8aae-bc166cc3d7dd input.sk-toggleable__control:checked~div.sk-toggleable__content {max-height: 200px;max-width: 100%;overflow: auto;}#sk-87262eb5-d686-4d71-8aae-bc166cc3d7dd input.sk-toggleable__control:checked~label.sk-toggleable__label-arrow:before {content: \"▾\";}#sk-87262eb5-d686-4d71-8aae-bc166cc3d7dd div.sk-estimator input.sk-toggleable__control:checked~label.sk-toggleable__label {background-color: #d4ebff;}#sk-87262eb5-d686-4d71-8aae-bc166cc3d7dd div.sk-label input.sk-toggleable__control:checked~label.sk-toggleable__label {background-color: #d4ebff;}#sk-87262eb5-d686-4d71-8aae-bc166cc3d7dd input.sk-hidden--visually {border: 0;clip: rect(1px 1px 1px 1px);clip: rect(1px, 1px, 1px, 1px);height: 1px;margin: -1px;overflow: hidden;padding: 0;position: absolute;width: 1px;}#sk-87262eb5-d686-4d71-8aae-bc166cc3d7dd div.sk-estimator {font-family: monospace;background-color: #f0f8ff;border: 1px dotted black;border-radius: 0.25em;box-sizing: border-box;margin-bottom: 0.5em;}#sk-87262eb5-d686-4d71-8aae-bc166cc3d7dd div.sk-estimator:hover {background-color: #d4ebff;}#sk-87262eb5-d686-4d71-8aae-bc166cc3d7dd div.sk-parallel-item::after {content: \"\";width: 100%;border-bottom: 1px solid gray;flex-grow: 1;}#sk-87262eb5-d686-4d71-8aae-bc166cc3d7dd div.sk-label:hover label.sk-toggleable__label {background-color: #d4ebff;}#sk-87262eb5-d686-4d71-8aae-bc166cc3d7dd div.sk-serial::before {content: \"\";position: absolute;border-left: 1px solid gray;box-sizing: border-box;top: 2em;bottom: 0;left: 50%;}#sk-87262eb5-d686-4d71-8aae-bc166cc3d7dd div.sk-serial {display: flex;flex-direction: column;align-items: center;background-color: white;padding-right: 0.2em;padding-left: 0.2em;}#sk-87262eb5-d686-4d71-8aae-bc166cc3d7dd div.sk-item {z-index: 1;}#sk-87262eb5-d686-4d71-8aae-bc166cc3d7dd div.sk-parallel {display: flex;align-items: stretch;justify-content: center;background-color: white;}#sk-87262eb5-d686-4d71-8aae-bc166cc3d7dd div.sk-parallel::before {content: \"\";position: absolute;border-left: 1px solid gray;box-sizing: border-box;top: 2em;bottom: 0;left: 50%;}#sk-87262eb5-d686-4d71-8aae-bc166cc3d7dd div.sk-parallel-item {display: flex;flex-direction: column;position: relative;background-color: white;}#sk-87262eb5-d686-4d71-8aae-bc166cc3d7dd div.sk-parallel-item:first-child::after {align-self: flex-end;width: 50%;}#sk-87262eb5-d686-4d71-8aae-bc166cc3d7dd div.sk-parallel-item:last-child::after {align-self: flex-start;width: 50%;}#sk-87262eb5-d686-4d71-8aae-bc166cc3d7dd div.sk-parallel-item:only-child::after {width: 0;}#sk-87262eb5-d686-4d71-8aae-bc166cc3d7dd div.sk-dashed-wrapped {border: 1px dashed gray;margin: 0 0.4em 0.5em 0.4em;box-sizing: border-box;padding-bottom: 0.4em;background-color: white;position: relative;}#sk-87262eb5-d686-4d71-8aae-bc166cc3d7dd div.sk-label label {font-family: monospace;font-weight: bold;background-color: white;display: inline-block;line-height: 1.2em;}#sk-87262eb5-d686-4d71-8aae-bc166cc3d7dd div.sk-label-container {position: relative;z-index: 2;text-align: center;}#sk-87262eb5-d686-4d71-8aae-bc166cc3d7dd div.sk-container {/* jupyter's `normalize.less` sets `[hidden] { display: none; }` but bootstrap.min.css set `[hidden] { display: none !important; }` so we also need the `!important` here to be able to override the default hidden behavior on the sphinx rendered scikit-learn.org. See: https://github.com/scikit-learn/scikit-learn/issues/21755 */display: inline-block !important;position: relative;}#sk-87262eb5-d686-4d71-8aae-bc166cc3d7dd div.sk-text-repr-fallback {display: none;}</style><div id=\"sk-87262eb5-d686-4d71-8aae-bc166cc3d7dd\" class=\"sk-top-container\"><div class=\"sk-text-repr-fallback\"><pre>Pipeline(steps=[(&#x27;columntransformer&#x27;,\n",
       "                 ColumnTransformer(transformers=[(&#x27;num_tr&#x27;,\n",
       "                                                  Pipeline(steps=[(&#x27;scaler&#x27;,\n",
       "                                                                   MinMaxScaler())]),\n",
       "                                                  array([&#x27;dias_atraso&#x27;, &#x27;monto&#x27;, &#x27;nro_cuotas_atrasadas&#x27;,\n",
       "       &#x27;cuotas_canceladas&#x27;, &#x27;cuotas_vencidas&#x27;, &#x27;vigente&#x27;], dtype=object)),\n",
       "                                                 (&#x27;cat_tr&#x27;,\n",
       "                                                  Pipeline(steps=[(&#x27;encoder&#x27;,\n",
       "                                                                   OneHotEncoder(handle_unknown=&#x27;ignore&#x27;))]),\n",
       "                                                  array([&#x27;nombre_conyuge&#x27;, &#x27;nombre_garante&#x27;], dtype=object))])),\n",
       "                (&#x27;gradientboostingregressor&#x27;, GradientBoostingRegressor())])</pre><b>Please rerun this cell to show the HTML repr or trust the notebook.</b></div><div class=\"sk-container\" hidden><div class=\"sk-item sk-dashed-wrapped\"><div class=\"sk-label-container\"><div class=\"sk-label sk-toggleable\"><input class=\"sk-toggleable__control sk-hidden--visually\" id=\"fcc56ce3-6712-441b-83fa-6028c8d826a2\" type=\"checkbox\" ><label for=\"fcc56ce3-6712-441b-83fa-6028c8d826a2\" class=\"sk-toggleable__label sk-toggleable__label-arrow\">Pipeline</label><div class=\"sk-toggleable__content\"><pre>Pipeline(steps=[(&#x27;columntransformer&#x27;,\n",
       "                 ColumnTransformer(transformers=[(&#x27;num_tr&#x27;,\n",
       "                                                  Pipeline(steps=[(&#x27;scaler&#x27;,\n",
       "                                                                   MinMaxScaler())]),\n",
       "                                                  array([&#x27;dias_atraso&#x27;, &#x27;monto&#x27;, &#x27;nro_cuotas_atrasadas&#x27;,\n",
       "       &#x27;cuotas_canceladas&#x27;, &#x27;cuotas_vencidas&#x27;, &#x27;vigente&#x27;], dtype=object)),\n",
       "                                                 (&#x27;cat_tr&#x27;,\n",
       "                                                  Pipeline(steps=[(&#x27;encoder&#x27;,\n",
       "                                                                   OneHotEncoder(handle_unknown=&#x27;ignore&#x27;))]),\n",
       "                                                  array([&#x27;nombre_conyuge&#x27;, &#x27;nombre_garante&#x27;], dtype=object))])),\n",
       "                (&#x27;gradientboostingregressor&#x27;, GradientBoostingRegressor())])</pre></div></div></div><div class=\"sk-serial\"><div class=\"sk-item sk-dashed-wrapped\"><div class=\"sk-label-container\"><div class=\"sk-label sk-toggleable\"><input class=\"sk-toggleable__control sk-hidden--visually\" id=\"1a96c056-824f-467a-8e42-512404c43c25\" type=\"checkbox\" ><label for=\"1a96c056-824f-467a-8e42-512404c43c25\" class=\"sk-toggleable__label sk-toggleable__label-arrow\">columntransformer: ColumnTransformer</label><div class=\"sk-toggleable__content\"><pre>ColumnTransformer(transformers=[(&#x27;num_tr&#x27;,\n",
       "                                 Pipeline(steps=[(&#x27;scaler&#x27;, MinMaxScaler())]),\n",
       "                                 array([&#x27;dias_atraso&#x27;, &#x27;monto&#x27;, &#x27;nro_cuotas_atrasadas&#x27;,\n",
       "       &#x27;cuotas_canceladas&#x27;, &#x27;cuotas_vencidas&#x27;, &#x27;vigente&#x27;], dtype=object)),\n",
       "                                (&#x27;cat_tr&#x27;,\n",
       "                                 Pipeline(steps=[(&#x27;encoder&#x27;,\n",
       "                                                  OneHotEncoder(handle_unknown=&#x27;ignore&#x27;))]),\n",
       "                                 array([&#x27;nombre_conyuge&#x27;, &#x27;nombre_garante&#x27;], dtype=object))])</pre></div></div></div><div class=\"sk-parallel\"><div class=\"sk-parallel-item\"><div class=\"sk-item\"><div class=\"sk-label-container\"><div class=\"sk-label sk-toggleable\"><input class=\"sk-toggleable__control sk-hidden--visually\" id=\"74732675-3627-45f9-8414-8d49eeba3ebb\" type=\"checkbox\" ><label for=\"74732675-3627-45f9-8414-8d49eeba3ebb\" class=\"sk-toggleable__label sk-toggleable__label-arrow\">num_tr</label><div class=\"sk-toggleable__content\"><pre>[&#x27;dias_atraso&#x27; &#x27;monto&#x27; &#x27;nro_cuotas_atrasadas&#x27; &#x27;cuotas_canceladas&#x27;\n",
       " &#x27;cuotas_vencidas&#x27; &#x27;vigente&#x27;]</pre></div></div></div><div class=\"sk-serial\"><div class=\"sk-item\"><div class=\"sk-serial\"><div class=\"sk-item\"><div class=\"sk-estimator sk-toggleable\"><input class=\"sk-toggleable__control sk-hidden--visually\" id=\"3ad1ff64-e204-4ad7-b0f6-c7141e3a644f\" type=\"checkbox\" ><label for=\"3ad1ff64-e204-4ad7-b0f6-c7141e3a644f\" class=\"sk-toggleable__label sk-toggleable__label-arrow\">MinMaxScaler</label><div class=\"sk-toggleable__content\"><pre>MinMaxScaler()</pre></div></div></div></div></div></div></div></div><div class=\"sk-parallel-item\"><div class=\"sk-item\"><div class=\"sk-label-container\"><div class=\"sk-label sk-toggleable\"><input class=\"sk-toggleable__control sk-hidden--visually\" id=\"19d3b5f6-8fdd-4de9-9a37-23cac83a89f3\" type=\"checkbox\" ><label for=\"19d3b5f6-8fdd-4de9-9a37-23cac83a89f3\" class=\"sk-toggleable__label sk-toggleable__label-arrow\">cat_tr</label><div class=\"sk-toggleable__content\"><pre>[&#x27;nombre_conyuge&#x27; &#x27;nombre_garante&#x27;]</pre></div></div></div><div class=\"sk-serial\"><div class=\"sk-item\"><div class=\"sk-serial\"><div class=\"sk-item\"><div class=\"sk-estimator sk-toggleable\"><input class=\"sk-toggleable__control sk-hidden--visually\" id=\"cd56d3a4-ddd9-4926-8291-9abe8b50536b\" type=\"checkbox\" ><label for=\"cd56d3a4-ddd9-4926-8291-9abe8b50536b\" class=\"sk-toggleable__label sk-toggleable__label-arrow\">OneHotEncoder</label><div class=\"sk-toggleable__content\"><pre>OneHotEncoder(handle_unknown=&#x27;ignore&#x27;)</pre></div></div></div></div></div></div></div></div></div></div><div class=\"sk-item\"><div class=\"sk-estimator sk-toggleable\"><input class=\"sk-toggleable__control sk-hidden--visually\" id=\"51960062-4716-49b2-bc1b-8c80c845c8be\" type=\"checkbox\" ><label for=\"51960062-4716-49b2-bc1b-8c80c845c8be\" class=\"sk-toggleable__label sk-toggleable__label-arrow\">GradientBoostingRegressor</label><div class=\"sk-toggleable__content\"><pre>GradientBoostingRegressor()</pre></div></div></div></div></div></div></div>"
      ],
      "text/plain": [
       "Pipeline(steps=[('columntransformer',\n",
       "                 ColumnTransformer(transformers=[('num_tr',\n",
       "                                                  Pipeline(steps=[('scaler',\n",
       "                                                                   MinMaxScaler())]),\n",
       "                                                  array(['dias_atraso', 'monto', 'nro_cuotas_atrasadas',\n",
       "       'cuotas_canceladas', 'cuotas_vencidas', 'vigente'], dtype=object)),\n",
       "                                                 ('cat_tr',\n",
       "                                                  Pipeline(steps=[('encoder',\n",
       "                                                                   OneHotEncoder(handle_unknown='ignore'))]),\n",
       "                                                  array(['nombre_conyuge', 'nombre_garante'], dtype=object))])),\n",
       "                ('gradientboostingregressor', GradientBoostingRegressor())])"
      ]
     },
     "execution_count": 509,
     "metadata": {},
     "output_type": "execute_result"
    }
   ],
   "source": [
    "from sklearn.tree import DecisionTreeRegressor\n",
    "from sklearn.linear_model import LassoCV\n",
    "from sklearn.neighbors import KNeighborsClassifier\n",
    "from sklearn.model_selection import KFold\n",
    "from sklearn.ensemble import GradientBoostingRegressor\n",
    "\n",
    "# alphas2 = [0.0001, 0.0002, 0.0003, 0.0004, 0.0005, 0.0006, 0.0007, 0.0008]\n",
    "# kfolds = KFold(n_splits=10, shuffle=True, random_state=42)\n",
    "\n",
    "pipe_baseline = make_pipeline(prepoc_baseline, GradientBoostingRegressor(n_estimators=100, verbose=0))\n",
    "\n",
    "pipe_baseline"
   ]
  },
  {
   "cell_type": "markdown",
   "id": "221e2608",
   "metadata": {},
   "source": [
    "#### Cross-Validate"
   ]
  },
  {
   "cell_type": "code",
   "execution_count": 510,
   "id": "e5443384",
   "metadata": {},
   "outputs": [
    {
     "data": {
      "text/plain": [
       "make_scorer(mean_squared_log_error, squared=False)"
      ]
     },
     "execution_count": 510,
     "metadata": {},
     "output_type": "execute_result"
    }
   ],
   "source": [
    "from sklearn.metrics import mean_squared_error, make_scorer\n",
    "from sklearn.metrics import mean_squared_log_error\n",
    "\n",
    "\n",
    "rmsle = make_scorer(mean_squared_log_error,squared=False)\n",
    "rmsle"
   ]
  },
  {
   "cell_type": "code",
   "execution_count": 511,
   "id": "f47c9291",
   "metadata": {},
   "outputs": [],
   "source": [
    "rmsle_neg = make_scorer(mean_squared_log_error,squared=False,greater_is_better=False)\n"
   ]
  },
  {
   "cell_type": "code",
   "execution_count": 512,
   "id": "e18746a7",
   "metadata": {},
   "outputs": [],
   "source": [
    "X_transformed =pd.DataFrame(X_transformed)\n"
   ]
  },
  {
   "cell_type": "code",
   "execution_count": 513,
   "id": "615255e5",
   "metadata": {},
   "outputs": [
    {
     "data": {
      "text/plain": [
       "0.205346946420733"
      ]
     },
     "execution_count": 513,
     "metadata": {},
     "output_type": "execute_result"
    }
   ],
   "source": [
    "from sklearn.model_selection import cross_val_score\n",
    "from sklearn.model_selection import cross_validate\n",
    "\n",
    "score_baseline = cross_val_score(pipe_baseline, X_train, y_train, cv=5, scoring=rmsle).mean()\n",
    "score_baseline"
   ]
  },
  {
   "cell_type": "code",
   "execution_count": null,
   "id": "92ddb8a5",
   "metadata": {},
   "outputs": [],
   "source": [
    "model = GradientBoostingRegressor()\n",
    "cross_validate(model, X_train, y_test, cv = 5)"
   ]
  },
  {
   "cell_type": "markdown",
   "id": "74934899",
   "metadata": {},
   "source": [
    "#### Predict baseline\n"
   ]
  },
  {
   "cell_type": "code",
   "execution_count": 514,
   "id": "98ddff34",
   "metadata": {},
   "outputs": [
    {
     "data": {
      "text/html": [
       "<div>\n",
       "<style scoped>\n",
       "    .dataframe tbody tr th:only-of-type {\n",
       "        vertical-align: middle;\n",
       "    }\n",
       "\n",
       "    .dataframe tbody tr th {\n",
       "        vertical-align: top;\n",
       "    }\n",
       "\n",
       "    .dataframe thead th {\n",
       "        text-align: right;\n",
       "    }\n",
       "</style>\n",
       "<table border=\"1\" class=\"dataframe\">\n",
       "  <thead>\n",
       "    <tr style=\"text-align: right;\">\n",
       "      <th></th>\n",
       "      <th>Credito</th>\n",
       "      <th>nombre_conyuge</th>\n",
       "      <th>nombre_garante</th>\n",
       "      <th>dias_atraso</th>\n",
       "      <th>monto</th>\n",
       "      <th>nro_cuotas_atrasadas</th>\n",
       "      <th>cuotas_canceladas</th>\n",
       "      <th>cuotas_vencidas</th>\n",
       "      <th>vigente</th>\n",
       "    </tr>\n",
       "  </thead>\n",
       "  <tbody>\n",
       "    <tr>\n",
       "      <th>8909</th>\n",
       "      <td>616171014086</td>\n",
       "      <td>Casado</td>\n",
       "      <td>No</td>\n",
       "      <td>770</td>\n",
       "      <td>5901736</td>\n",
       "      <td>36</td>\n",
       "      <td>17</td>\n",
       "      <td>19</td>\n",
       "      <td>0</td>\n",
       "    </tr>\n",
       "    <tr>\n",
       "      <th>7520</th>\n",
       "      <td>521161006996</td>\n",
       "      <td>Casado</td>\n",
       "      <td>No</td>\n",
       "      <td>415</td>\n",
       "      <td>2500000</td>\n",
       "      <td>24</td>\n",
       "      <td>15</td>\n",
       "      <td>9</td>\n",
       "      <td>0</td>\n",
       "    </tr>\n",
       "    <tr>\n",
       "      <th>12784</th>\n",
       "      <td>715172013511</td>\n",
       "      <td>Soltero</td>\n",
       "      <td>Si</td>\n",
       "      <td>550</td>\n",
       "      <td>206168</td>\n",
       "      <td>0</td>\n",
       "      <td>5</td>\n",
       "      <td>13</td>\n",
       "      <td>0</td>\n",
       "    </tr>\n",
       "    <tr>\n",
       "      <th>6174</th>\n",
       "      <td>502141092220</td>\n",
       "      <td>Soltero</td>\n",
       "      <td>No</td>\n",
       "      <td>1015</td>\n",
       "      <td>2500000</td>\n",
       "      <td>20</td>\n",
       "      <td>15</td>\n",
       "      <td>5</td>\n",
       "      <td>0</td>\n",
       "    </tr>\n",
       "    <tr>\n",
       "      <th>6763</th>\n",
       "      <td>505151059373</td>\n",
       "      <td>Soltero</td>\n",
       "      <td>Si</td>\n",
       "      <td>565</td>\n",
       "      <td>2000000</td>\n",
       "      <td>24</td>\n",
       "      <td>18</td>\n",
       "      <td>6</td>\n",
       "      <td>0</td>\n",
       "    </tr>\n",
       "    <tr>\n",
       "      <th>...</th>\n",
       "      <td>...</td>\n",
       "      <td>...</td>\n",
       "      <td>...</td>\n",
       "      <td>...</td>\n",
       "      <td>...</td>\n",
       "      <td>...</td>\n",
       "      <td>...</td>\n",
       "      <td>...</td>\n",
       "      <td>...</td>\n",
       "    </tr>\n",
       "    <tr>\n",
       "      <th>10097</th>\n",
       "      <td>640141002901</td>\n",
       "      <td>Casado</td>\n",
       "      <td>No</td>\n",
       "      <td>1766</td>\n",
       "      <td>1797750</td>\n",
       "      <td>15</td>\n",
       "      <td>1</td>\n",
       "      <td>14</td>\n",
       "      <td>0</td>\n",
       "    </tr>\n",
       "    <tr>\n",
       "      <th>10280</th>\n",
       "      <td>643181010716</td>\n",
       "      <td>Casado</td>\n",
       "      <td>No</td>\n",
       "      <td>104</td>\n",
       "      <td>5000000</td>\n",
       "      <td>24</td>\n",
       "      <td>9</td>\n",
       "      <td>4</td>\n",
       "      <td>0</td>\n",
       "    </tr>\n",
       "    <tr>\n",
       "      <th>7805</th>\n",
       "      <td>527141006934</td>\n",
       "      <td>Casado</td>\n",
       "      <td>No</td>\n",
       "      <td>1045</td>\n",
       "      <td>1600000</td>\n",
       "      <td>20</td>\n",
       "      <td>14</td>\n",
       "      <td>6</td>\n",
       "      <td>0</td>\n",
       "    </tr>\n",
       "    <tr>\n",
       "      <th>4083</th>\n",
       "      <td>212171047241</td>\n",
       "      <td>Soltero</td>\n",
       "      <td>Si</td>\n",
       "      <td>177</td>\n",
       "      <td>2500000</td>\n",
       "      <td>24</td>\n",
       "      <td>19</td>\n",
       "      <td>5</td>\n",
       "      <td>0</td>\n",
       "    </tr>\n",
       "    <tr>\n",
       "      <th>4048</th>\n",
       "      <td>212151032245</td>\n",
       "      <td>Soltero</td>\n",
       "      <td>Si</td>\n",
       "      <td>1394</td>\n",
       "      <td>3710000</td>\n",
       "      <td>24</td>\n",
       "      <td>6</td>\n",
       "      <td>18</td>\n",
       "      <td>0</td>\n",
       "    </tr>\n",
       "  </tbody>\n",
       "</table>\n",
       "<p>4369 rows × 9 columns</p>\n",
       "</div>"
      ],
      "text/plain": [
       "            Credito nombre_conyuge nombre_garante  dias_atraso    monto  \\\n",
       "8909   616171014086         Casado             No          770  5901736   \n",
       "7520   521161006996         Casado             No          415  2500000   \n",
       "12784  715172013511        Soltero             Si          550   206168   \n",
       "6174   502141092220        Soltero             No         1015  2500000   \n",
       "6763   505151059373        Soltero             Si          565  2000000   \n",
       "...             ...            ...            ...          ...      ...   \n",
       "10097  640141002901         Casado             No         1766  1797750   \n",
       "10280  643181010716         Casado             No          104  5000000   \n",
       "7805   527141006934         Casado             No         1045  1600000   \n",
       "4083   212171047241        Soltero             Si          177  2500000   \n",
       "4048   212151032245        Soltero             Si         1394  3710000   \n",
       "\n",
       "       nro_cuotas_atrasadas  cuotas_canceladas  cuotas_vencidas  vigente  \n",
       "8909                     36                 17               19        0  \n",
       "7520                     24                 15                9        0  \n",
       "12784                     0                  5               13        0  \n",
       "6174                     20                 15                5        0  \n",
       "6763                     24                 18                6        0  \n",
       "...                     ...                ...              ...      ...  \n",
       "10097                    15                  1               14        0  \n",
       "10280                    24                  9                4        0  \n",
       "7805                     20                 14                6        0  \n",
       "4083                     24                 19                5        0  \n",
       "4048                     24                  6               18        0  \n",
       "\n",
       "[4369 rows x 9 columns]"
      ]
     },
     "execution_count": 514,
     "metadata": {},
     "output_type": "execute_result"
    }
   ],
   "source": [
    "X_test"
   ]
  },
  {
   "cell_type": "code",
   "execution_count": 515,
   "id": "7ffbacf4",
   "metadata": {},
   "outputs": [
    {
     "data": {
      "text/plain": [
       "array([0.5086658 , 0.47766942, 0.73814013, ..., 0.39379561, 0.36692746,\n",
       "       0.54223077])"
      ]
     },
     "execution_count": 515,
     "metadata": {},
     "output_type": "execute_result"
    }
   ],
   "source": [
    "pipe_baseline.fit(X_train,y_train)\n",
    "y_pred_baseline = pipe_baseline.predict(X_test)\n",
    "y_pred_baseline"
   ]
  },
  {
   "cell_type": "code",
   "execution_count": 524,
   "id": "441e4100",
   "metadata": {},
   "outputs": [
    {
     "data": {
      "text/plain": [
       "(4369,)"
      ]
     },
     "execution_count": 524,
     "metadata": {},
     "output_type": "execute_result"
    }
   ],
   "source": [
    "y_pred_baseline.shape"
   ]
  },
  {
   "cell_type": "code",
   "execution_count": 525,
   "id": "eadc5eb3",
   "metadata": {},
   "outputs": [],
   "source": [
    "X_test.Credito.reset_index(drop=True, inplace=True)"
   ]
  },
  {
   "cell_type": "code",
   "execution_count": 526,
   "id": "108425cd",
   "metadata": {
    "scrolled": true
   },
   "outputs": [
    {
     "data": {
      "text/html": [
       "<div>\n",
       "<style scoped>\n",
       "    .dataframe tbody tr th:only-of-type {\n",
       "        vertical-align: middle;\n",
       "    }\n",
       "\n",
       "    .dataframe tbody tr th {\n",
       "        vertical-align: top;\n",
       "    }\n",
       "\n",
       "    .dataframe thead th {\n",
       "        text-align: right;\n",
       "    }\n",
       "</style>\n",
       "<table border=\"1\" class=\"dataframe\">\n",
       "  <thead>\n",
       "    <tr style=\"text-align: right;\">\n",
       "      <th></th>\n",
       "      <th>Credito</th>\n",
       "      <th>rate</th>\n",
       "    </tr>\n",
       "  </thead>\n",
       "  <tbody>\n",
       "    <tr>\n",
       "      <th>0</th>\n",
       "      <td>616171014086</td>\n",
       "      <td>0.508666</td>\n",
       "    </tr>\n",
       "    <tr>\n",
       "      <th>1</th>\n",
       "      <td>521161006996</td>\n",
       "      <td>0.477669</td>\n",
       "    </tr>\n",
       "    <tr>\n",
       "      <th>2</th>\n",
       "      <td>715172013511</td>\n",
       "      <td>0.738140</td>\n",
       "    </tr>\n",
       "    <tr>\n",
       "      <th>3</th>\n",
       "      <td>502141092220</td>\n",
       "      <td>0.364979</td>\n",
       "    </tr>\n",
       "    <tr>\n",
       "      <th>4</th>\n",
       "      <td>505151059373</td>\n",
       "      <td>0.432713</td>\n",
       "    </tr>\n",
       "    <tr>\n",
       "      <th>...</th>\n",
       "      <td>...</td>\n",
       "      <td>...</td>\n",
       "    </tr>\n",
       "    <tr>\n",
       "      <th>4364</th>\n",
       "      <td>640141002901</td>\n",
       "      <td>0.776888</td>\n",
       "    </tr>\n",
       "    <tr>\n",
       "      <th>4365</th>\n",
       "      <td>643181010716</td>\n",
       "      <td>0.515221</td>\n",
       "    </tr>\n",
       "    <tr>\n",
       "      <th>4366</th>\n",
       "      <td>527141006934</td>\n",
       "      <td>0.393796</td>\n",
       "    </tr>\n",
       "    <tr>\n",
       "      <th>4367</th>\n",
       "      <td>212171047241</td>\n",
       "      <td>0.366927</td>\n",
       "    </tr>\n",
       "    <tr>\n",
       "      <th>4368</th>\n",
       "      <td>212151032245</td>\n",
       "      <td>0.542231</td>\n",
       "    </tr>\n",
       "  </tbody>\n",
       "</table>\n",
       "<p>4369 rows × 2 columns</p>\n",
       "</div>"
      ],
      "text/plain": [
       "           Credito      rate\n",
       "0     616171014086  0.508666\n",
       "1     521161006996  0.477669\n",
       "2     715172013511  0.738140\n",
       "3     502141092220  0.364979\n",
       "4     505151059373  0.432713\n",
       "...            ...       ...\n",
       "4364  640141002901  0.776888\n",
       "4365  643181010716  0.515221\n",
       "4366  527141006934  0.393796\n",
       "4367  212171047241  0.366927\n",
       "4368  212151032245  0.542231\n",
       "\n",
       "[4369 rows x 2 columns]"
      ]
     },
     "execution_count": 526,
     "metadata": {},
     "output_type": "execute_result"
    }
   ],
   "source": [
    "submission_baseline = pd.concat([X_test['Credito'], \n",
    "                     pd.Series(y_pred_baseline, \n",
    "                               name=\"rate\")], \n",
    "                    axis=1)\n",
    "submission_baseline"
   ]
  },
  {
   "cell_type": "code",
   "execution_count": 540,
   "id": "3834ca4f",
   "metadata": {},
   "outputs": [],
   "source": [
    "df_final = submission_baseline"
   ]
  },
  {
   "cell_type": "code",
   "execution_count": 542,
   "id": "9c43e257",
   "metadata": {},
   "outputs": [
    {
     "data": {
      "text/html": [
       "<div>\n",
       "<style scoped>\n",
       "    .dataframe tbody tr th:only-of-type {\n",
       "        vertical-align: middle;\n",
       "    }\n",
       "\n",
       "    .dataframe tbody tr th {\n",
       "        vertical-align: top;\n",
       "    }\n",
       "\n",
       "    .dataframe thead th {\n",
       "        text-align: right;\n",
       "    }\n",
       "</style>\n",
       "<table border=\"1\" class=\"dataframe\">\n",
       "  <thead>\n",
       "    <tr style=\"text-align: right;\">\n",
       "      <th></th>\n",
       "      <th>Credito</th>\n",
       "      <th>rate</th>\n",
       "    </tr>\n",
       "  </thead>\n",
       "  <tbody>\n",
       "    <tr>\n",
       "      <th>1661</th>\n",
       "      <td>707111001139</td>\n",
       "      <td>0.935793</td>\n",
       "    </tr>\n",
       "    <tr>\n",
       "      <th>1562</th>\n",
       "      <td>677162005193</td>\n",
       "      <td>0.913425</td>\n",
       "    </tr>\n",
       "    <tr>\n",
       "      <th>2901</th>\n",
       "      <td>603121005579</td>\n",
       "      <td>0.909846</td>\n",
       "    </tr>\n",
       "    <tr>\n",
       "      <th>2493</th>\n",
       "      <td>101172069044</td>\n",
       "      <td>0.885655</td>\n",
       "    </tr>\n",
       "    <tr>\n",
       "      <th>361</th>\n",
       "      <td>502162024382</td>\n",
       "      <td>0.870023</td>\n",
       "    </tr>\n",
       "    <tr>\n",
       "      <th>...</th>\n",
       "      <td>...</td>\n",
       "      <td>...</td>\n",
       "    </tr>\n",
       "    <tr>\n",
       "      <th>1866</th>\n",
       "      <td>405172017120</td>\n",
       "      <td>0.088488</td>\n",
       "    </tr>\n",
       "    <tr>\n",
       "      <th>2556</th>\n",
       "      <td>601141030343</td>\n",
       "      <td>0.082747</td>\n",
       "    </tr>\n",
       "    <tr>\n",
       "      <th>41</th>\n",
       "      <td>721171016836</td>\n",
       "      <td>0.075157</td>\n",
       "    </tr>\n",
       "    <tr>\n",
       "      <th>3614</th>\n",
       "      <td>107201083664</td>\n",
       "      <td>0.037398</td>\n",
       "    </tr>\n",
       "    <tr>\n",
       "      <th>926</th>\n",
       "      <td>110162093031</td>\n",
       "      <td>-0.005955</td>\n",
       "    </tr>\n",
       "  </tbody>\n",
       "</table>\n",
       "<p>4369 rows × 2 columns</p>\n",
       "</div>"
      ],
      "text/plain": [
       "           Credito      rate\n",
       "1661  707111001139  0.935793\n",
       "1562  677162005193  0.913425\n",
       "2901  603121005579  0.909846\n",
       "2493  101172069044  0.885655\n",
       "361   502162024382  0.870023\n",
       "...            ...       ...\n",
       "1866  405172017120  0.088488\n",
       "2556  601141030343  0.082747\n",
       "41    721171016836  0.075157\n",
       "3614  107201083664  0.037398\n",
       "926   110162093031 -0.005955\n",
       "\n",
       "[4369 rows x 2 columns]"
      ]
     },
     "execution_count": 542,
     "metadata": {},
     "output_type": "execute_result"
    }
   ],
   "source": [
    "df_sorted = df_final.sort_values(by=['rate'],ascending=False)\n",
    "df_sorted"
   ]
  },
  {
   "cell_type": "code",
   "execution_count": null,
   "id": "8a1b9ea1",
   "metadata": {},
   "outputs": [],
   "source": []
  },
  {
   "cell_type": "code",
   "execution_count": null,
   "id": "bc7e296a",
   "metadata": {},
   "outputs": [],
   "source": []
  },
  {
   "cell_type": "code",
   "execution_count": 546,
   "id": "6646c7b5",
   "metadata": {},
   "outputs": [
    {
     "data": {
      "text/html": [
       "<div>\n",
       "<style scoped>\n",
       "    .dataframe tbody tr th:only-of-type {\n",
       "        vertical-align: middle;\n",
       "    }\n",
       "\n",
       "    .dataframe tbody tr th {\n",
       "        vertical-align: top;\n",
       "    }\n",
       "\n",
       "    .dataframe thead th {\n",
       "        text-align: right;\n",
       "    }\n",
       "</style>\n",
       "<table border=\"1\" class=\"dataframe\">\n",
       "  <thead>\n",
       "    <tr style=\"text-align: right;\">\n",
       "      <th></th>\n",
       "      <th>Credito</th>\n",
       "      <th>nombre_conyuge</th>\n",
       "      <th>nombre_garante</th>\n",
       "      <th>dias_atraso</th>\n",
       "      <th>monto</th>\n",
       "      <th>nro_cuotas_atrasadas</th>\n",
       "      <th>cuotas_canceladas</th>\n",
       "      <th>cuotas_vencidas</th>\n",
       "      <th>vigente</th>\n",
       "      <th>TotalCancelado</th>\n",
       "      <th>rate</th>\n",
       "    </tr>\n",
       "  </thead>\n",
       "  <tbody>\n",
       "    <tr>\n",
       "      <th>12323</th>\n",
       "      <td>707111001139</td>\n",
       "      <td>Soltero</td>\n",
       "      <td>Si</td>\n",
       "      <td>2605</td>\n",
       "      <td>1030000</td>\n",
       "      <td>12</td>\n",
       "      <td>2</td>\n",
       "      <td>10</td>\n",
       "      <td>0</td>\n",
       "      <td>924300</td>\n",
       "      <td>0.897379</td>\n",
       "    </tr>\n",
       "  </tbody>\n",
       "</table>\n",
       "</div>"
      ],
      "text/plain": [
       "            Credito nombre_conyuge nombre_garante  dias_atraso    monto  \\\n",
       "12323  707111001139        Soltero             Si         2605  1030000   \n",
       "\n",
       "       nro_cuotas_atrasadas  cuotas_canceladas  cuotas_vencidas  vigente  \\\n",
       "12323                    12                  2               10        0   \n",
       "\n",
       "       TotalCancelado      rate  \n",
       "12323          924300  0.897379  "
      ]
     },
     "execution_count": 546,
     "metadata": {},
     "output_type": "execute_result"
    }
   ],
   "source": [
    "df_out2.loc[df_out2['Credito'] == 707111001139]"
   ]
  },
  {
   "cell_type": "code",
   "execution_count": null,
   "id": "6e0b853e",
   "metadata": {},
   "outputs": [],
   "source": []
  },
  {
   "cell_type": "code",
   "execution_count": null,
   "id": "8b8a9f96",
   "metadata": {},
   "outputs": [],
   "source": []
  },
  {
   "cell_type": "code",
   "execution_count": null,
   "id": "7d3cabf0",
   "metadata": {},
   "outputs": [],
   "source": []
  },
  {
   "cell_type": "code",
   "execution_count": null,
   "id": "a5613fe2",
   "metadata": {},
   "outputs": [],
   "source": []
  },
  {
   "cell_type": "code",
   "execution_count": null,
   "id": "f7875a60",
   "metadata": {},
   "outputs": [],
   "source": []
  },
  {
   "cell_type": "code",
   "execution_count": null,
   "id": "8d521592",
   "metadata": {},
   "outputs": [],
   "source": []
  },
  {
   "cell_type": "code",
   "execution_count": null,
   "id": "889694c6",
   "metadata": {},
   "outputs": [],
   "source": []
  },
  {
   "cell_type": "code",
   "execution_count": null,
   "id": "6351d882",
   "metadata": {},
   "outputs": [],
   "source": []
  },
  {
   "cell_type": "code",
   "execution_count": null,
   "id": "32971854",
   "metadata": {},
   "outputs": [],
   "source": []
  },
  {
   "cell_type": "code",
   "execution_count": null,
   "id": "1d463556",
   "metadata": {},
   "outputs": [],
   "source": []
  },
  {
   "cell_type": "code",
   "execution_count": null,
   "id": "e0de6c10",
   "metadata": {},
   "outputs": [],
   "source": []
  },
  {
   "cell_type": "code",
   "execution_count": null,
   "id": "ce5e9898",
   "metadata": {},
   "outputs": [],
   "source": []
  },
  {
   "cell_type": "code",
   "execution_count": null,
   "id": "a4f23ce4",
   "metadata": {},
   "outputs": [],
   "source": []
  },
  {
   "cell_type": "code",
   "execution_count": null,
   "id": "0314e1a9",
   "metadata": {},
   "outputs": [],
   "source": []
  },
  {
   "cell_type": "code",
   "execution_count": null,
   "id": "dd94baff",
   "metadata": {},
   "outputs": [],
   "source": []
  },
  {
   "cell_type": "code",
   "execution_count": null,
   "id": "1c11167d",
   "metadata": {},
   "outputs": [],
   "source": []
  },
  {
   "cell_type": "code",
   "execution_count": null,
   "id": "b4278d60",
   "metadata": {},
   "outputs": [],
   "source": []
  },
  {
   "cell_type": "code",
   "execution_count": null,
   "id": "2d0568d3",
   "metadata": {},
   "outputs": [],
   "source": []
  },
  {
   "cell_type": "code",
   "execution_count": null,
   "id": "be6af74d",
   "metadata": {},
   "outputs": [],
   "source": []
  },
  {
   "cell_type": "code",
   "execution_count": null,
   "id": "b05c0778",
   "metadata": {},
   "outputs": [],
   "source": []
  },
  {
   "cell_type": "code",
   "execution_count": null,
   "id": "283c5a34",
   "metadata": {},
   "outputs": [],
   "source": []
  },
  {
   "cell_type": "code",
   "execution_count": null,
   "id": "474c8119",
   "metadata": {},
   "outputs": [],
   "source": []
  },
  {
   "cell_type": "code",
   "execution_count": null,
   "id": "117867b2",
   "metadata": {},
   "outputs": [],
   "source": []
  },
  {
   "cell_type": "code",
   "execution_count": null,
   "id": "e0318ab4",
   "metadata": {},
   "outputs": [],
   "source": []
  },
  {
   "cell_type": "code",
   "execution_count": null,
   "id": "f5544d8b",
   "metadata": {},
   "outputs": [],
   "source": []
  },
  {
   "cell_type": "code",
   "execution_count": null,
   "id": "091677e6",
   "metadata": {},
   "outputs": [],
   "source": []
  },
  {
   "cell_type": "code",
   "execution_count": 528,
   "id": "5dede96f",
   "metadata": {},
   "outputs": [
    {
     "data": {
      "text/html": [
       "<div>\n",
       "<style scoped>\n",
       "    .dataframe tbody tr th:only-of-type {\n",
       "        vertical-align: middle;\n",
       "    }\n",
       "\n",
       "    .dataframe tbody tr th {\n",
       "        vertical-align: top;\n",
       "    }\n",
       "\n",
       "    .dataframe thead th {\n",
       "        text-align: right;\n",
       "    }\n",
       "</style>\n",
       "<table border=\"1\" class=\"dataframe\">\n",
       "  <thead>\n",
       "    <tr style=\"text-align: right;\">\n",
       "      <th></th>\n",
       "      <th>Credito</th>\n",
       "      <th>nombre_conyuge</th>\n",
       "      <th>nombre_garante</th>\n",
       "      <th>dias_atraso</th>\n",
       "      <th>monto</th>\n",
       "      <th>nro_cuotas_atrasadas</th>\n",
       "      <th>cuotas_canceladas</th>\n",
       "      <th>cuotas_vencidas</th>\n",
       "      <th>vigente</th>\n",
       "      <th>TotalCancelado</th>\n",
       "      <th>rate</th>\n",
       "    </tr>\n",
       "  </thead>\n",
       "  <tbody>\n",
       "    <tr>\n",
       "      <th>0</th>\n",
       "      <td>101104101421</td>\n",
       "      <td>Casado</td>\n",
       "      <td>No</td>\n",
       "      <td>3157</td>\n",
       "      <td>820000</td>\n",
       "      <td>12</td>\n",
       "      <td>9</td>\n",
       "      <td>3</td>\n",
       "      <td>0</td>\n",
       "      <td>695000</td>\n",
       "      <td>0.847561</td>\n",
       "    </tr>\n",
       "    <tr>\n",
       "      <th>1</th>\n",
       "      <td>101111013583</td>\n",
       "      <td>Casado</td>\n",
       "      <td>No</td>\n",
       "      <td>2117</td>\n",
       "      <td>1038863</td>\n",
       "      <td>24</td>\n",
       "      <td>8</td>\n",
       "      <td>6</td>\n",
       "      <td>1</td>\n",
       "      <td>320000</td>\n",
       "      <td>0.308029</td>\n",
       "    </tr>\n",
       "    <tr>\n",
       "      <th>3</th>\n",
       "      <td>101111015376</td>\n",
       "      <td>Soltero</td>\n",
       "      <td>Si</td>\n",
       "      <td>2635</td>\n",
       "      <td>1500000</td>\n",
       "      <td>14</td>\n",
       "      <td>4</td>\n",
       "      <td>10</td>\n",
       "      <td>0</td>\n",
       "      <td>1886000</td>\n",
       "      <td>1.257333</td>\n",
       "    </tr>\n",
       "    <tr>\n",
       "      <th>4</th>\n",
       "      <td>101111016438</td>\n",
       "      <td>Casado</td>\n",
       "      <td>No</td>\n",
       "      <td>2449</td>\n",
       "      <td>2030000</td>\n",
       "      <td>15</td>\n",
       "      <td>9</td>\n",
       "      <td>6</td>\n",
       "      <td>0</td>\n",
       "      <td>150000</td>\n",
       "      <td>0.073892</td>\n",
       "    </tr>\n",
       "    <tr>\n",
       "      <th>5</th>\n",
       "      <td>101121021847</td>\n",
       "      <td>Soltero</td>\n",
       "      <td>Si</td>\n",
       "      <td>2185</td>\n",
       "      <td>1030000</td>\n",
       "      <td>13</td>\n",
       "      <td>11</td>\n",
       "      <td>2</td>\n",
       "      <td>0</td>\n",
       "      <td>350000</td>\n",
       "      <td>0.339806</td>\n",
       "    </tr>\n",
       "  </tbody>\n",
       "</table>\n",
       "</div>"
      ],
      "text/plain": [
       "        Credito nombre_conyuge nombre_garante  dias_atraso    monto  \\\n",
       "0  101104101421         Casado             No         3157   820000   \n",
       "1  101111013583         Casado             No         2117  1038863   \n",
       "3  101111015376        Soltero             Si         2635  1500000   \n",
       "4  101111016438         Casado             No         2449  2030000   \n",
       "5  101121021847        Soltero             Si         2185  1030000   \n",
       "\n",
       "   nro_cuotas_atrasadas  cuotas_canceladas  cuotas_vencidas  vigente  \\\n",
       "0                    12                  9                3        0   \n",
       "1                    24                  8                6        1   \n",
       "3                    14                  4               10        0   \n",
       "4                    15                  9                6        0   \n",
       "5                    13                 11                2        0   \n",
       "\n",
       "   TotalCancelado      rate  \n",
       "0          695000  0.847561  \n",
       "1          320000  0.308029  \n",
       "3         1886000  1.257333  \n",
       "4          150000  0.073892  \n",
       "5          350000  0.339806  "
      ]
     },
     "execution_count": 528,
     "metadata": {},
     "output_type": "execute_result"
    }
   ],
   "source": [
    "df_out2.head()"
   ]
  },
  {
   "cell_type": "code",
   "execution_count": null,
   "id": "da746744",
   "metadata": {},
   "outputs": [],
   "source": []
  },
  {
   "cell_type": "code",
   "execution_count": null,
   "id": "1c71f029",
   "metadata": {},
   "outputs": [],
   "source": []
  },
  {
   "cell_type": "code",
   "execution_count": null,
   "id": "839df7d8",
   "metadata": {},
   "outputs": [],
   "source": []
  },
  {
   "cell_type": "code",
   "execution_count": null,
   "id": "7dcb504c",
   "metadata": {},
   "outputs": [],
   "source": []
  },
  {
   "cell_type": "code",
   "execution_count": null,
   "id": "5f293368",
   "metadata": {},
   "outputs": [],
   "source": []
  },
  {
   "cell_type": "code",
   "execution_count": null,
   "id": "1033a453",
   "metadata": {},
   "outputs": [],
   "source": []
  },
  {
   "cell_type": "code",
   "execution_count": null,
   "id": "6eb2e242",
   "metadata": {},
   "outputs": [],
   "source": []
  },
  {
   "cell_type": "code",
   "execution_count": null,
   "id": "963d9434",
   "metadata": {},
   "outputs": [],
   "source": []
  },
  {
   "cell_type": "code",
   "execution_count": null,
   "id": "9499d1e7",
   "metadata": {},
   "outputs": [],
   "source": []
  },
  {
   "cell_type": "code",
   "execution_count": null,
   "id": "7d904958",
   "metadata": {},
   "outputs": [],
   "source": []
  },
  {
   "cell_type": "code",
   "execution_count": 418,
   "id": "786ff937",
   "metadata": {},
   "outputs": [
    {
     "data": {
      "text/html": [
       "<div>\n",
       "<style scoped>\n",
       "    .dataframe tbody tr th:only-of-type {\n",
       "        vertical-align: middle;\n",
       "    }\n",
       "\n",
       "    .dataframe tbody tr th {\n",
       "        vertical-align: top;\n",
       "    }\n",
       "\n",
       "    .dataframe thead th {\n",
       "        text-align: right;\n",
       "    }\n",
       "</style>\n",
       "<table border=\"1\" class=\"dataframe\">\n",
       "  <thead>\n",
       "    <tr style=\"text-align: right;\">\n",
       "      <th></th>\n",
       "      <th>0</th>\n",
       "    </tr>\n",
       "  </thead>\n",
       "  <tbody>\n",
       "    <tr>\n",
       "      <th>0</th>\n",
       "      <td>0.508666</td>\n",
       "    </tr>\n",
       "    <tr>\n",
       "      <th>1</th>\n",
       "      <td>0.477669</td>\n",
       "    </tr>\n",
       "    <tr>\n",
       "      <th>2</th>\n",
       "      <td>0.738140</td>\n",
       "    </tr>\n",
       "    <tr>\n",
       "      <th>3</th>\n",
       "      <td>0.364979</td>\n",
       "    </tr>\n",
       "    <tr>\n",
       "      <th>4</th>\n",
       "      <td>0.432713</td>\n",
       "    </tr>\n",
       "  </tbody>\n",
       "</table>\n",
       "</div>"
      ],
      "text/plain": [
       "          0\n",
       "0  0.508666\n",
       "1  0.477669\n",
       "2  0.738140\n",
       "3  0.364979\n",
       "4  0.432713"
      ]
     },
     "execution_count": 418,
     "metadata": {},
     "output_type": "execute_result"
    }
   ],
   "source": [
    "y_pred_baseline_df = pd.DataFrame(y_pred_baseline)\n",
    "y_pred_baseline_df.head()"
   ]
  },
  {
   "cell_type": "code",
   "execution_count": 419,
   "id": "80083e23",
   "metadata": {},
   "outputs": [
    {
     "data": {
      "text/plain": [
       "8909     0.273184\n",
       "7520     0.760000\n",
       "12784    0.722508\n",
       "6174     0.460000\n",
       "6763     0.400000\n",
       "Name: rate, dtype: float64"
      ]
     },
     "execution_count": 419,
     "metadata": {},
     "output_type": "execute_result"
    }
   ],
   "source": [
    "y_test.head()"
   ]
  },
  {
   "cell_type": "code",
   "execution_count": null,
   "id": "adcd8a76",
   "metadata": {},
   "outputs": [],
   "source": []
  },
  {
   "cell_type": "code",
   "execution_count": null,
   "id": "27848840",
   "metadata": {},
   "outputs": [],
   "source": []
  },
  {
   "cell_type": "code",
   "execution_count": null,
   "id": "adba23e9",
   "metadata": {},
   "outputs": [],
   "source": [
    "feat_categorical = df_out2[['Credito','']]"
   ]
  },
  {
   "cell_type": "code",
   "execution_count": null,
   "id": "69ea73e1",
   "metadata": {},
   "outputs": [],
   "source": []
  },
  {
   "cell_type": "code",
   "execution_count": null,
   "id": "6536aa27",
   "metadata": {},
   "outputs": [],
   "source": []
  },
  {
   "cell_type": "code",
   "execution_count": null,
   "id": "f57cd17f",
   "metadata": {},
   "outputs": [],
   "source": []
  },
  {
   "cell_type": "code",
   "execution_count": null,
   "id": "217d2927",
   "metadata": {},
   "outputs": [],
   "source": []
  },
  {
   "cell_type": "code",
   "execution_count": null,
   "id": "354f3c5d",
   "metadata": {},
   "outputs": [],
   "source": []
  },
  {
   "cell_type": "code",
   "execution_count": null,
   "id": "8c5bbad0",
   "metadata": {},
   "outputs": [],
   "source": []
  },
  {
   "cell_type": "code",
   "execution_count": null,
   "id": "6ecf20ba",
   "metadata": {},
   "outputs": [],
   "source": []
  },
  {
   "cell_type": "code",
   "execution_count": null,
   "id": "eb5cd7c6",
   "metadata": {},
   "outputs": [],
   "source": []
  },
  {
   "cell_type": "code",
   "execution_count": 5,
   "id": "40141840",
   "metadata": {},
   "outputs": [],
   "source": [
    "df_resumen_creditos.to_csv(\"resumen_creditos.csv\",index=False)"
   ]
  },
  {
   "cell_type": "code",
   "execution_count": 3,
   "id": "9962311f",
   "metadata": {},
   "outputs": [
    {
     "data": {
      "text/html": [
       "<div>\n",
       "<style scoped>\n",
       "    .dataframe tbody tr th:only-of-type {\n",
       "        vertical-align: middle;\n",
       "    }\n",
       "\n",
       "    .dataframe tbody tr th {\n",
       "        vertical-align: top;\n",
       "    }\n",
       "\n",
       "    .dataframe thead th {\n",
       "        text-align: right;\n",
       "    }\n",
       "</style>\n",
       "<table border=\"1\" class=\"dataframe\">\n",
       "  <thead>\n",
       "    <tr style=\"text-align: right;\">\n",
       "      <th></th>\n",
       "      <th>Consecutivo_Seguimiento</th>\n",
       "      <th>Consecutivo</th>\n",
       "      <th>Numero_De_Obligacion</th>\n",
       "      <th>Fecha_Seguimiento</th>\n",
       "      <th>Dias_de_Mora</th>\n",
       "      <th>Asesor</th>\n",
       "      <th>Estado_De_Cobro</th>\n",
       "      <th>Clase de Gestion</th>\n",
       "      <th>Telefonos</th>\n",
       "      <th>Nota</th>\n",
       "      <th>Grabador</th>\n",
       "      <th>Hora_Inicial</th>\n",
       "      <th>Hora_Final</th>\n",
       "      <th>Duración</th>\n",
       "      <th>Nombre /descripcion Plantilla</th>\n",
       "      <th>Hora De Compromiso</th>\n",
       "      <th>Fecha_Promesa</th>\n",
       "      <th>Codigo_De_Cobro_Anterior</th>\n",
       "      <th>Codigo_de_gestión_causal</th>\n",
       "      <th>Control</th>\n",
       "    </tr>\n",
       "  </thead>\n",
       "  <tbody>\n",
       "    <tr>\n",
       "      <th>0</th>\n",
       "      <td>18881632</td>\n",
       "      <td>1375683</td>\n",
       "      <td>677161005062</td>\n",
       "      <td>2022-01-03 08:03:25</td>\n",
       "      <td>1135</td>\n",
       "      <td>goech</td>\n",
       "      <td>titular interesado pero no genera acuerdo</td>\n",
       "      <td>TEL</td>\n",
       "      <td>3.506130e+09</td>\n",
       "      <td>3177054605 : tt cancelo 100.000 en cds\\t</td>\n",
       "      <td>andrybolivar</td>\n",
       "      <td>08:01:43</td>\n",
       "      <td>08:03:14</td>\n",
       "      <td>00:01:31</td>\n",
       "      <td>NaN</td>\n",
       "      <td>00:00:00</td>\n",
       "      <td>0000-00-00</td>\n",
       "      <td>1</td>\n",
       "      <td>5061</td>\n",
       "      <td>0</td>\n",
       "    </tr>\n",
       "    <tr>\n",
       "      <th>1</th>\n",
       "      <td>18881638</td>\n",
       "      <td>1400772</td>\n",
       "      <td>636171011538</td>\n",
       "      <td>2022-01-03 08:07:41</td>\n",
       "      <td>1040</td>\n",
       "      <td>goech</td>\n",
       "      <td>recordaciÃ³n efectiva</td>\n",
       "      <td>TEL</td>\n",
       "      <td>3.125378e+09</td>\n",
       "      <td>3125378052  Nadie contesta se deja mensaje de ...</td>\n",
       "      <td>mcaicedo</td>\n",
       "      <td>08:03:59</td>\n",
       "      <td>08:07:39</td>\n",
       "      <td>00:03:40</td>\n",
       "      <td>NaN</td>\n",
       "      <td>00:00:00</td>\n",
       "      <td>0000-00-00</td>\n",
       "      <td>1</td>\n",
       "      <td>702</td>\n",
       "      <td>0</td>\n",
       "    </tr>\n",
       "    <tr>\n",
       "      <th>2</th>\n",
       "      <td>18881641</td>\n",
       "      <td>1265673</td>\n",
       "      <td>615161010256</td>\n",
       "      <td>2022-01-03 08:07:46</td>\n",
       "      <td>1883</td>\n",
       "      <td>goech</td>\n",
       "      <td>recordaciÃ³n efectiva</td>\n",
       "      <td>TEL</td>\n",
       "      <td>3.205884e+09</td>\n",
       "      <td>3103474359 $ 3,860,065.00 cod Marcial Andres A...</td>\n",
       "      <td>luzrey</td>\n",
       "      <td>07:59:40</td>\n",
       "      <td>08:07:03</td>\n",
       "      <td>00:07:23</td>\n",
       "      <td>NaN</td>\n",
       "      <td>00:00:00</td>\n",
       "      <td>0000-00-00</td>\n",
       "      <td>1</td>\n",
       "      <td>703</td>\n",
       "      <td>0</td>\n",
       "    </tr>\n",
       "    <tr>\n",
       "      <th>3</th>\n",
       "      <td>18881642</td>\n",
       "      <td>1335862</td>\n",
       "      <td>668171005546</td>\n",
       "      <td>2022-01-03 08:08:49</td>\n",
       "      <td>1240</td>\n",
       "      <td>goech</td>\n",
       "      <td>recordaciÃ³n efectiva</td>\n",
       "      <td>TEL</td>\n",
       "      <td>3.192947e+09</td>\n",
       "      <td>Blanca Libia Moreno Montoya\\tCel\\t\\t\\t31929472...</td>\n",
       "      <td>xorozco</td>\n",
       "      <td>08:03:42</td>\n",
       "      <td>08:08:44</td>\n",
       "      <td>00:05:02</td>\n",
       "      <td>NaN</td>\n",
       "      <td>00:00:00</td>\n",
       "      <td>0000-00-00</td>\n",
       "      <td>1</td>\n",
       "      <td>702</td>\n",
       "      <td>0</td>\n",
       "    </tr>\n",
       "    <tr>\n",
       "      <th>4</th>\n",
       "      <td>18881643</td>\n",
       "      <td>1708150</td>\n",
       "      <td>646181010441</td>\n",
       "      <td>2022-01-03 08:09:03</td>\n",
       "      <td>524</td>\n",
       "      <td>goech</td>\n",
       "      <td>recordaciÃ³n efectiva</td>\n",
       "      <td>TEL</td>\n",
       "      <td>3.184301e+09</td>\n",
       "      <td>3117550804 se confirma pago\\t</td>\n",
       "      <td>andrybolivar</td>\n",
       "      <td>08:04:11</td>\n",
       "      <td>08:08:27</td>\n",
       "      <td>00:04:16</td>\n",
       "      <td>NaN</td>\n",
       "      <td>00:00:00</td>\n",
       "      <td>0000-00-00</td>\n",
       "      <td>1</td>\n",
       "      <td>703</td>\n",
       "      <td>0</td>\n",
       "    </tr>\n",
       "  </tbody>\n",
       "</table>\n",
       "</div>"
      ],
      "text/plain": [
       "   Consecutivo_Seguimiento  Consecutivo  Numero_De_Obligacion  \\\n",
       "0                 18881632      1375683          677161005062   \n",
       "1                 18881638      1400772          636171011538   \n",
       "2                 18881641      1265673          615161010256   \n",
       "3                 18881642      1335862          668171005546   \n",
       "4                 18881643      1708150          646181010441   \n",
       "\n",
       "    Fecha_Seguimiento  Dias_de_Mora Asesor  \\\n",
       "0 2022-01-03 08:03:25          1135  goech   \n",
       "1 2022-01-03 08:07:41          1040  goech   \n",
       "2 2022-01-03 08:07:46          1883  goech   \n",
       "3 2022-01-03 08:08:49          1240  goech   \n",
       "4 2022-01-03 08:09:03           524  goech   \n",
       "\n",
       "                              Estado_De_Cobro Clase de Gestion     Telefonos  \\\n",
       "0  titular interesado pero no genera acuerdo               TEL  3.506130e+09   \n",
       "1                       recordaciÃ³n efectiva              TEL  3.125378e+09   \n",
       "2                       recordaciÃ³n efectiva              TEL  3.205884e+09   \n",
       "3                       recordaciÃ³n efectiva              TEL  3.192947e+09   \n",
       "4                       recordaciÃ³n efectiva              TEL  3.184301e+09   \n",
       "\n",
       "                                                Nota      Grabador  \\\n",
       "0           3177054605 : tt cancelo 100.000 en cds\\t  andrybolivar   \n",
       "1  3125378052  Nadie contesta se deja mensaje de ...      mcaicedo   \n",
       "2  3103474359 $ 3,860,065.00 cod Marcial Andres A...        luzrey   \n",
       "3  Blanca Libia Moreno Montoya\\tCel\\t\\t\\t31929472...       xorozco   \n",
       "4                      3117550804 se confirma pago\\t  andrybolivar   \n",
       "\n",
       "  Hora_Inicial Hora_Final  Duración  Nombre /descripcion Plantilla  \\\n",
       "0     08:01:43   08:03:14  00:01:31                            NaN   \n",
       "1     08:03:59   08:07:39  00:03:40                            NaN   \n",
       "2     07:59:40   08:07:03  00:07:23                            NaN   \n",
       "3     08:03:42   08:08:44  00:05:02                            NaN   \n",
       "4     08:04:11   08:08:27  00:04:16                            NaN   \n",
       "\n",
       "  Hora De Compromiso Fecha_Promesa Codigo_De_Cobro_Anterior  \\\n",
       "0           00:00:00    0000-00-00                        1   \n",
       "1           00:00:00    0000-00-00                        1   \n",
       "2           00:00:00    0000-00-00                        1   \n",
       "3           00:00:00    0000-00-00                        1   \n",
       "4           00:00:00    0000-00-00                        1   \n",
       "\n",
       "  Codigo_de_gestión_causal Control  \n",
       "0                     5061       0  \n",
       "1                      702       0  \n",
       "2                      703       0  \n",
       "3                      702       0  \n",
       "4                      703       0  "
      ]
     },
     "execution_count": 3,
     "metadata": {},
     "output_type": "execute_result"
    }
   ],
   "source": [
    "df_gestiones_2022 =pd.read_excel(f'datos_avance.xlsx',sheet_name='gestiones_2022')\n",
    "df_gestiones_2022.head()\n",
    "\n"
   ]
  },
  {
   "cell_type": "code",
   "execution_count": 6,
   "id": "4efa413a",
   "metadata": {},
   "outputs": [],
   "source": [
    "df_gestiones_2022.to_csv(\"gestiones_2022.csv\",index=False)"
   ]
  },
  {
   "cell_type": "code",
   "execution_count": null,
   "id": "e755e2f8",
   "metadata": {},
   "outputs": [],
   "source": []
  },
  {
   "cell_type": "code",
   "execution_count": null,
   "id": "dda5c00d",
   "metadata": {},
   "outputs": [],
   "source": []
  },
  {
   "cell_type": "code",
   "execution_count": 9,
   "id": "fb3984d3",
   "metadata": {},
   "outputs": [
    {
     "data": {
      "text/plain": [
       "Index(['FechaCaptura', 'Credito', 'FechaAPagar', 'VRCancelar', 'PuntoPago',\n",
       "       'TipoPago', 'Asesor', 'VrTotalObligacion', 'VrTotalNegociado',\n",
       "       'Condonacion', 'TipoPago2', 'Cuotas', 'VrCuota1', 'VrOtrasCuotas',\n",
       "       'CuotaNumero', 'Estado', 'FechaPago'],\n",
       "      dtype='object')"
      ]
     },
     "execution_count": 9,
     "metadata": {},
     "output_type": "execute_result"
    }
   ],
   "source": [
    "df.columns"
   ]
  },
  {
   "cell_type": "code",
   "execution_count": 10,
   "id": "5439c25a",
   "metadata": {
    "scrolled": true
   },
   "outputs": [
    {
     "name": "stdout",
     "output_type": "stream",
     "text": [
      "<class 'pandas.core.frame.DataFrame'>\n",
      "RangeIndex: 2643 entries, 0 to 2642\n",
      "Data columns (total 17 columns):\n",
      " #   Column             Non-Null Count  Dtype         \n",
      "---  ------             --------------  -----         \n",
      " 0   FechaCaptura       2643 non-null   datetime64[ns]\n",
      " 1   Credito            2643 non-null   int64         \n",
      " 2   FechaAPagar        2643 non-null   datetime64[ns]\n",
      " 3   VRCancelar         2643 non-null   int64         \n",
      " 4   PuntoPago          2643 non-null   object        \n",
      " 5   TipoPago           2640 non-null   object        \n",
      " 6   Asesor             324 non-null    object        \n",
      " 7   VrTotalObligacion  2643 non-null   int64         \n",
      " 8   VrTotalNegociado   2643 non-null   int64         \n",
      " 9   Condonacion        2643 non-null   int64         \n",
      " 10  TipoPago2          0 non-null      float64       \n",
      " 11  Cuotas             2643 non-null   int64         \n",
      " 12  VrCuota1           2643 non-null   int64         \n",
      " 13  VrOtrasCuotas      2643 non-null   int64         \n",
      " 14  CuotaNumero        2643 non-null   int64         \n",
      " 15  Estado             204 non-null    object        \n",
      " 16  FechaPago          2643 non-null   datetime64[ns]\n",
      "dtypes: datetime64[ns](3), float64(1), int64(9), object(4)\n",
      "memory usage: 351.1+ KB\n"
     ]
    }
   ],
   "source": [
    "df.info()"
   ]
  },
  {
   "cell_type": "code",
   "execution_count": 13,
   "id": "26a3453e",
   "metadata": {},
   "outputs": [
    {
     "data": {
      "text/plain": [
       "<AxesSubplot:>"
      ]
     },
     "execution_count": 13,
     "metadata": {},
     "output_type": "execute_result"
    },
    {
     "data": {
      "image/png": "[encoded data removed]",
      "text/plain": [
       "<Figure size 432x288 with 1 Axes>"
      ]
     },
     "metadata": {
      "needs_background": "light"
     },
     "output_type": "display_data"
    }
   ],
   "source": [
    "df['FechaPago'].plot()"
   ]
  },
  {
   "cell_type": "code",
   "execution_count": 16,
   "id": "f02f2024",
   "metadata": {},
   "outputs": [
    {
     "ename": "AttributeError",
     "evalue": "'int' object has no attribute 'value_counts'",
     "output_type": "error",
     "traceback": [
      "\u001b[0;31m---------------------------------------------------------------------------\u001b[0m",
      "\u001b[0;31mAttributeError\u001b[0m                            Traceback (most recent call last)",
      "\u001b[0;32m/tmp/ipykernel_17814/718718329.py\u001b[0m in \u001b[0;36m<module>\u001b[0;34m\u001b[0m\n\u001b[0;32m----> 1\u001b[0;31m \u001b[0mdf\u001b[0m\u001b[0;34m[\u001b[0m\u001b[0;34m'FechaPago'\u001b[0m\u001b[0;34m]\u001b[0m\u001b[0;34m.\u001b[0m\u001b[0mnunique\u001b[0m\u001b[0;34m(\u001b[0m\u001b[0;34m)\u001b[0m\u001b[0;34m.\u001b[0m\u001b[0mvalue_counts\u001b[0m\u001b[0;34m(\u001b[0m\u001b[0;34m)\u001b[0m\u001b[0;34m\u001b[0m\u001b[0;34m\u001b[0m\u001b[0m\n\u001b[0m",
      "\u001b[0;31mAttributeError\u001b[0m: 'int' object has no attribute 'value_counts'"
     ]
    }
   ],
   "source": [
    "df['FechaPago'].nunique().value_counts()"
   ]
  },
  {
   "cell_type": "code",
   "execution_count": null,
   "id": "423a3fc2",
   "metadata": {},
   "outputs": [],
   "source": [
    "x = df['FechaPago']\n",
    "\n"
   ]
  }
 ],
 "metadata": {
  "kernelspec": {
   "display_name": "Python 3 (ipykernel)",
   "language": "python",
   "name": "python3"
  },
  "language_info": {
   "codemirror_mode": {
    "name": "ipython",
    "version": 3
   },
   "file_extension": ".py",
   "mimetype": "text/x-python",
   "name": "python",
   "nbconvert_exporter": "python",
   "pygments_lexer": "ipython3",
   "version": "3.8.12"
  },
  "toc": {
   "base_numbering": 1,
   "nav_menu": {},
   "number_sections": true,
   "sideBar": true,
   "skip_h1_title": false,
   "title_cell": "Table of Contents",
   "title_sidebar": "Contents",
   "toc_cell": false,
   "toc_position": {},
   "toc_section_display": true,
   "toc_window_display": false
  }
 },
 "nbformat": 4,
 "nbformat_minor": 5
}
