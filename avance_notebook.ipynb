{
 "cells": [
  {
   "cell_type": "markdown",
   "id": "17404701",
   "metadata": {},
   "source": [
    "# Forecasting recovery rates for debt collection agency: Avance BPO\n"
   ]
  },
  {
   "cell_type": "markdown",
   "id": "d3dafb41",
   "metadata": {},
   "source": [
    "\n",
    "A non-performing loan (NPL) is a loan that is in default due to the fact that the borrower has not made the scheduled payments for a specified period.\n",
    "\n",
    "Non-performing loans are purchased from the bank by a debt collection agency which must prioritize which users to prompt first. One of the most important factors regarding this decision is the recovery rate: the percentage of exposure that can be recovered from each borrower through the debt collection process. The recovery rates achievable by the debt collector are unknown at the time of purchase of the portfolio and need to be predicted. \n",
    "\n",
    "Based on the information given by the bank, the objective of this model is to predict the recovery rates on non-performing loans  (NLP) using a private database from a Colombian debt collection agency called Avance BPO."
   ]
  },
  {
   "cell_type": "markdown",
   "id": "fd025487",
   "metadata": {},
   "source": [
    "## Import Libraries"
   ]
  },
  {
   "cell_type": "code",
   "execution_count": 2,
   "id": "32e5a3d1",
   "metadata": {},
   "outputs": [
    {
     "name": "stderr",
     "output_type": "stream",
     "text": [
      "/home/proctor/.pyenv/versions/3.8.12/envs/lewagon/lib/python3.8/site-packages/scipy/__init__.py:146: UserWarning: A NumPy version >=1.16.5 and <1.23.0 is required for this version of SciPy (detected version 1.23.3\n",
      "  warnings.warn(f\"A NumPy version >={np_minversion} and <{np_maxversion}\"\n"
     ]
    }
   ],
   "source": [
    "import pandas as pd\n",
    "import numpy as np\n",
    "import matplotlib as plt\n",
    "import seaborn as sns"
   ]
  },
  {
   "cell_type": "markdown",
   "id": "cd5634e3",
   "metadata": {},
   "source": [
    "## Importing Datasets"
   ]
  },
  {
   "cell_type": "code",
   "execution_count": 600,
   "id": "6a18ddef",
   "metadata": {
    "scrolled": true
   },
   "outputs": [
    {
     "data": {
      "text/html": [
       "<div>\n",
       "<style scoped>\n",
       "    .dataframe tbody tr th:only-of-type {\n",
       "        vertical-align: middle;\n",
       "    }\n",
       "\n",
       "    .dataframe tbody tr th {\n",
       "        vertical-align: top;\n",
       "    }\n",
       "\n",
       "    .dataframe thead th {\n",
       "        text-align: right;\n",
       "    }\n",
       "</style>\n",
       "<table border=\"1\" class=\"dataframe\">\n",
       "  <thead>\n",
       "    <tr style=\"text-align: right;\">\n",
       "      <th></th>\n",
       "      <th>FechaCaptura</th>\n",
       "      <th>Credito</th>\n",
       "      <th>FechaAPagar</th>\n",
       "      <th>VRCancelar</th>\n",
       "      <th>PuntoPago</th>\n",
       "      <th>TipoPago</th>\n",
       "      <th>Asesor</th>\n",
       "      <th>VrTotalObligacion</th>\n",
       "      <th>VrTotalNegociado</th>\n",
       "      <th>Condonacion</th>\n",
       "      <th>TipoPago2</th>\n",
       "      <th>Cuotas</th>\n",
       "      <th>VrCuota1</th>\n",
       "      <th>VrOtrasCuotas</th>\n",
       "      <th>CuotaNumero</th>\n",
       "      <th>Estado</th>\n",
       "      <th>FechaPago</th>\n",
       "    </tr>\n",
       "  </thead>\n",
       "  <tbody>\n",
       "    <tr>\n",
       "      <th>0</th>\n",
       "      <td>2016-11-08</td>\n",
       "      <td>904141001352</td>\n",
       "      <td>2016-11-30</td>\n",
       "      <td>100000</td>\n",
       "      <td>CDS o Efecty</td>\n",
       "      <td>Pago Parcial</td>\n",
       "      <td>Si</td>\n",
       "      <td>0</td>\n",
       "      <td>0</td>\n",
       "      <td>0</td>\n",
       "      <td>NaN</td>\n",
       "      <td>0</td>\n",
       "      <td>0</td>\n",
       "      <td>0</td>\n",
       "      <td>0</td>\n",
       "      <td>NaN</td>\n",
       "      <td>1900-01-01</td>\n",
       "    </tr>\n",
       "    <tr>\n",
       "      <th>1</th>\n",
       "      <td>2016-11-23</td>\n",
       "      <td>904141001295</td>\n",
       "      <td>2016-12-21</td>\n",
       "      <td>260000</td>\n",
       "      <td>Oficina Fundaci¢n de la Mujer</td>\n",
       "      <td>Pago Parcial con Condonaci¢n</td>\n",
       "      <td>Si</td>\n",
       "      <td>0</td>\n",
       "      <td>0</td>\n",
       "      <td>0</td>\n",
       "      <td>NaN</td>\n",
       "      <td>0</td>\n",
       "      <td>0</td>\n",
       "      <td>0</td>\n",
       "      <td>0</td>\n",
       "      <td>NaN</td>\n",
       "      <td>1900-01-01</td>\n",
       "    </tr>\n",
       "    <tr>\n",
       "      <th>2</th>\n",
       "      <td>2016-11-28</td>\n",
       "      <td>904141000816</td>\n",
       "      <td>2016-12-15</td>\n",
       "      <td>844000</td>\n",
       "      <td>Oficina Fundaci¢n de la Mujer</td>\n",
       "      <td>Pago Parcial con Condonaci¢n</td>\n",
       "      <td>NaN</td>\n",
       "      <td>0</td>\n",
       "      <td>0</td>\n",
       "      <td>0</td>\n",
       "      <td>NaN</td>\n",
       "      <td>0</td>\n",
       "      <td>0</td>\n",
       "      <td>0</td>\n",
       "      <td>0</td>\n",
       "      <td>NaN</td>\n",
       "      <td>1900-01-01</td>\n",
       "    </tr>\n",
       "    <tr>\n",
       "      <th>3</th>\n",
       "      <td>2016-11-19</td>\n",
       "      <td>904141000465</td>\n",
       "      <td>2016-11-30</td>\n",
       "      <td>75000</td>\n",
       "      <td>CDS o Efecty</td>\n",
       "      <td>Pago Parcial con Condonaci¢n</td>\n",
       "      <td>NaN</td>\n",
       "      <td>0</td>\n",
       "      <td>0</td>\n",
       "      <td>0</td>\n",
       "      <td>NaN</td>\n",
       "      <td>0</td>\n",
       "      <td>0</td>\n",
       "      <td>0</td>\n",
       "      <td>0</td>\n",
       "      <td>NaN</td>\n",
       "      <td>1900-01-01</td>\n",
       "    </tr>\n",
       "    <tr>\n",
       "      <th>4</th>\n",
       "      <td>2016-11-09</td>\n",
       "      <td>904141000343</td>\n",
       "      <td>2016-11-30</td>\n",
       "      <td>55000</td>\n",
       "      <td>CDS o Efecty</td>\n",
       "      <td>Pago Parcial con Condonaci¢n</td>\n",
       "      <td>NaN</td>\n",
       "      <td>0</td>\n",
       "      <td>0</td>\n",
       "      <td>0</td>\n",
       "      <td>NaN</td>\n",
       "      <td>0</td>\n",
       "      <td>0</td>\n",
       "      <td>0</td>\n",
       "      <td>0</td>\n",
       "      <td>NaN</td>\n",
       "      <td>1900-01-01</td>\n",
       "    </tr>\n",
       "  </tbody>\n",
       "</table>\n",
       "</div>"
      ],
      "text/plain": [
       "  FechaCaptura       Credito FechaAPagar  VRCancelar  \\\n",
       "0   2016-11-08  904141001352  2016-11-30      100000   \n",
       "1   2016-11-23  904141001295  2016-12-21      260000   \n",
       "2   2016-11-28  904141000816  2016-12-15      844000   \n",
       "3   2016-11-19  904141000465  2016-11-30       75000   \n",
       "4   2016-11-09  904141000343  2016-11-30       55000   \n",
       "\n",
       "                       PuntoPago                      TipoPago Asesor  \\\n",
       "0                   CDS o Efecty                  Pago Parcial     Si   \n",
       "1  Oficina Fundaci¢n de la Mujer  Pago Parcial con Condonaci¢n     Si   \n",
       "2  Oficina Fundaci¢n de la Mujer  Pago Parcial con Condonaci¢n    NaN   \n",
       "3                   CDS o Efecty  Pago Parcial con Condonaci¢n    NaN   \n",
       "4                   CDS o Efecty  Pago Parcial con Condonaci¢n    NaN   \n",
       "\n",
       "   VrTotalObligacion  VrTotalNegociado  Condonacion  TipoPago2  Cuotas  \\\n",
       "0                  0                 0            0        NaN       0   \n",
       "1                  0                 0            0        NaN       0   \n",
       "2                  0                 0            0        NaN       0   \n",
       "3                  0                 0            0        NaN       0   \n",
       "4                  0                 0            0        NaN       0   \n",
       "\n",
       "   VrCuota1  VrOtrasCuotas  CuotaNumero Estado  FechaPago  \n",
       "0         0              0            0    NaN 1900-01-01  \n",
       "1         0              0            0    NaN 1900-01-01  \n",
       "2         0              0            0    NaN 1900-01-01  \n",
       "3         0              0            0    NaN 1900-01-01  \n",
       "4         0              0            0    NaN 1900-01-01  "
      ]
     },
     "execution_count": 600,
     "metadata": {},
     "output_type": "execute_result"
    }
   ],
   "source": [
    "# df = pd.read_excel('datos_avance.xlxs', sheet_name=None)\n",
    "df = pd.read_excel('datos_avance.xlsx') \n",
    "df.head()"
   ]
  },
  {
   "cell_type": "code",
   "execution_count": 5,
   "id": "5db7c7d1",
   "metadata": {},
   "outputs": [
    {
     "name": "stdout",
     "output_type": "stream",
     "text": [
      "['acuerdos', 'payment_params', 'pagos', 'asignacion_fdem', 'resumen_creditos', 'gestiones_2022']\n"
     ]
    }
   ],
   "source": [
    "dfname=pd.ExcelFile('datos_avance.xlsx')\n",
    "print(dfname.sheet_names)"
   ]
  },
  {
   "cell_type": "markdown",
   "id": "890183d4",
   "metadata": {},
   "source": [
    "### Pagos Dataset: For extracting Target Value"
   ]
  },
  {
   "cell_type": "code",
   "execution_count": 3,
   "id": "27e25a13",
   "metadata": {
    "scrolled": true
   },
   "outputs": [
    {
     "data": {
      "text/html": [
       "<div>\n",
       "<style scoped>\n",
       "    .dataframe tbody tr th:only-of-type {\n",
       "        vertical-align: middle;\n",
       "    }\n",
       "\n",
       "    .dataframe tbody tr th {\n",
       "        vertical-align: top;\n",
       "    }\n",
       "\n",
       "    .dataframe thead th {\n",
       "        text-align: right;\n",
       "    }\n",
       "</style>\n",
       "<table border=\"1\" class=\"dataframe\">\n",
       "  <thead>\n",
       "    <tr style=\"text-align: right;\">\n",
       "      <th></th>\n",
       "      <th>MesCargue</th>\n",
       "      <th>Codigo</th>\n",
       "      <th>Agencia</th>\n",
       "      <th>Credito</th>\n",
       "      <th>Estado</th>\n",
       "      <th>SaldoFindeMes</th>\n",
       "      <th>DiasMoraFindeMes</th>\n",
       "      <th>SaldoActual</th>\n",
       "      <th>DiasmoraActual</th>\n",
       "      <th>FechaValor</th>\n",
       "      <th>...</th>\n",
       "      <th>MORA</th>\n",
       "      <th>PAGOSOTROS</th>\n",
       "      <th>TotalCancelado</th>\n",
       "      <th>VRgoech</th>\n",
       "      <th>CONDCAPITAL</th>\n",
       "      <th>CONDINTERES</th>\n",
       "      <th>CONDMORA</th>\n",
       "      <th>DiasMoraPago</th>\n",
       "      <th>Reverso</th>\n",
       "      <th>Concepto</th>\n",
       "    </tr>\n",
       "  </thead>\n",
       "  <tbody>\n",
       "    <tr>\n",
       "      <th>0</th>\n",
       "      <td>2016-10</td>\n",
       "      <td>101</td>\n",
       "      <td>BUCARAMANGA AGENCIA PRINCIPAL</td>\n",
       "      <td>101101002728</td>\n",
       "      <td>Castigado</td>\n",
       "      <td>321631</td>\n",
       "      <td>2032</td>\n",
       "      <td>0</td>\n",
       "      <td>0</td>\n",
       "      <td>2016-10-18</td>\n",
       "      <td>...</td>\n",
       "      <td>0</td>\n",
       "      <td>10556</td>\n",
       "      <td>332187</td>\n",
       "      <td>321631</td>\n",
       "      <td>0</td>\n",
       "      <td>0</td>\n",
       "      <td>594634</td>\n",
       "      <td>2050</td>\n",
       "      <td>NaN</td>\n",
       "      <td>NaN</td>\n",
       "    </tr>\n",
       "    <tr>\n",
       "      <th>1</th>\n",
       "      <td>2016-10</td>\n",
       "      <td>101</td>\n",
       "      <td>BUCARAMANGA AGENCIA PRINCIPAL</td>\n",
       "      <td>101104101267</td>\n",
       "      <td>Castigado</td>\n",
       "      <td>149159</td>\n",
       "      <td>2142</td>\n",
       "      <td>0</td>\n",
       "      <td>0</td>\n",
       "      <td>2016-10-31</td>\n",
       "      <td>...</td>\n",
       "      <td>0</td>\n",
       "      <td>4182</td>\n",
       "      <td>153341</td>\n",
       "      <td>149159</td>\n",
       "      <td>0</td>\n",
       "      <td>3498</td>\n",
       "      <td>356515</td>\n",
       "      <td>2172</td>\n",
       "      <td>NaN</td>\n",
       "      <td>NaN</td>\n",
       "    </tr>\n",
       "    <tr>\n",
       "      <th>2</th>\n",
       "      <td>2016-10</td>\n",
       "      <td>101</td>\n",
       "      <td>BUCARAMANGA AGENCIA PRINCIPAL</td>\n",
       "      <td>101131041847</td>\n",
       "      <td>Castigado</td>\n",
       "      <td>384108</td>\n",
       "      <td>490</td>\n",
       "      <td>0</td>\n",
       "      <td>0</td>\n",
       "      <td>2016-10-20</td>\n",
       "      <td>...</td>\n",
       "      <td>0</td>\n",
       "      <td>9799</td>\n",
       "      <td>393907</td>\n",
       "      <td>384108</td>\n",
       "      <td>0</td>\n",
       "      <td>20307</td>\n",
       "      <td>233846</td>\n",
       "      <td>510</td>\n",
       "      <td>NaN</td>\n",
       "      <td>NaN</td>\n",
       "    </tr>\n",
       "    <tr>\n",
       "      <th>3</th>\n",
       "      <td>2016-10</td>\n",
       "      <td>102</td>\n",
       "      <td>BUCARAMANGA AGENCIA ASTURIAS</td>\n",
       "      <td>102141028221</td>\n",
       "      <td>Castigado</td>\n",
       "      <td>291780</td>\n",
       "      <td>706</td>\n",
       "      <td>0</td>\n",
       "      <td>0</td>\n",
       "      <td>2016-10-21</td>\n",
       "      <td>...</td>\n",
       "      <td>0</td>\n",
       "      <td>20420</td>\n",
       "      <td>312200</td>\n",
       "      <td>291780</td>\n",
       "      <td>0</td>\n",
       "      <td>30678</td>\n",
       "      <td>226165</td>\n",
       "      <td>727</td>\n",
       "      <td>NaN</td>\n",
       "      <td>NaN</td>\n",
       "    </tr>\n",
       "    <tr>\n",
       "      <th>4</th>\n",
       "      <td>2016-10</td>\n",
       "      <td>102</td>\n",
       "      <td>BUCARAMANGA AGENCIA ASTURIAS</td>\n",
       "      <td>102141028298</td>\n",
       "      <td>Castigado</td>\n",
       "      <td>1363613</td>\n",
       "      <td>803</td>\n",
       "      <td>1322611</td>\n",
       "      <td>803</td>\n",
       "      <td>2016-10-18</td>\n",
       "      <td>...</td>\n",
       "      <td>0</td>\n",
       "      <td>12549</td>\n",
       "      <td>100000</td>\n",
       "      <td>87451</td>\n",
       "      <td>0</td>\n",
       "      <td>0</td>\n",
       "      <td>52487</td>\n",
       "      <td>821</td>\n",
       "      <td>NaN</td>\n",
       "      <td>NaN</td>\n",
       "    </tr>\n",
       "  </tbody>\n",
       "</table>\n",
       "<p>5 rows × 27 columns</p>\n",
       "</div>"
      ],
      "text/plain": [
       "  MesCargue  Codigo                        Agencia       Credito     Estado  \\\n",
       "0   2016-10     101  BUCARAMANGA AGENCIA PRINCIPAL  101101002728  Castigado   \n",
       "1   2016-10     101  BUCARAMANGA AGENCIA PRINCIPAL  101104101267  Castigado   \n",
       "2   2016-10     101  BUCARAMANGA AGENCIA PRINCIPAL  101131041847  Castigado   \n",
       "3   2016-10     102   BUCARAMANGA AGENCIA ASTURIAS  102141028221  Castigado   \n",
       "4   2016-10     102   BUCARAMANGA AGENCIA ASTURIAS  102141028298  Castigado   \n",
       "\n",
       "   SaldoFindeMes  DiasMoraFindeMes  SaldoActual  DiasmoraActual FechaValor  \\\n",
       "0         321631              2032            0               0 2016-10-18   \n",
       "1         149159              2142            0               0 2016-10-31   \n",
       "2         384108               490            0               0 2016-10-20   \n",
       "3         291780               706            0               0 2016-10-21   \n",
       "4        1363613               803      1322611             803 2016-10-18   \n",
       "\n",
       "   ... MORA PAGOSOTROS  TotalCancelado  VRgoech CONDCAPITAL  CONDINTERES  \\\n",
       "0  ...    0      10556          332187   321631           0            0   \n",
       "1  ...    0       4182          153341   149159           0         3498   \n",
       "2  ...    0       9799          393907   384108           0        20307   \n",
       "3  ...    0      20420          312200   291780           0        30678   \n",
       "4  ...    0      12549          100000    87451           0            0   \n",
       "\n",
       "   CONDMORA  DiasMoraPago  Reverso  Concepto  \n",
       "0    594634          2050      NaN       NaN  \n",
       "1    356515          2172      NaN       NaN  \n",
       "2    233846           510      NaN       NaN  \n",
       "3    226165           727      NaN       NaN  \n",
       "4     52487           821      NaN       NaN  \n",
       "\n",
       "[5 rows x 27 columns]"
      ]
     },
     "execution_count": 3,
     "metadata": {},
     "output_type": "execute_result"
    }
   ],
   "source": [
    "df_pagos =pd.read_excel(f'datos_avance.xlsx',sheet_name='pagos')\n",
    "df_pagos.head()"
   ]
  },
  {
   "cell_type": "code",
   "execution_count": null,
   "id": "91a68939",
   "metadata": {},
   "outputs": [],
   "source": [
    "df_out2.loc[df_out2['Credito'] ==108171029529]"
   ]
  },
  {
   "cell_type": "code",
   "execution_count": 602,
   "id": "c7e334a9",
   "metadata": {
    "scrolled": true
   },
   "outputs": [],
   "source": [
    "# df_acuerdos =pd.read_excel(f'datos_avance.xlsx',sheet_name='acuerdos')\n",
    "# df_acuerdos.head()"
   ]
  },
  {
   "cell_type": "code",
   "execution_count": 5,
   "id": "6a9bdc69",
   "metadata": {},
   "outputs": [],
   "source": [
    "# df_acuerdos.to_csv(\"acuerdos.csv\",index=False)"
   ]
  },
  {
   "cell_type": "code",
   "execution_count": 603,
   "id": "28dab7f6",
   "metadata": {
    "scrolled": true
   },
   "outputs": [],
   "source": [
    "# df_payment_params =pd.read_excel(f'datos_avance.xlsx',sheet_name='payment_params')\n",
    "# df_payment_params.head()"
   ]
  },
  {
   "cell_type": "code",
   "execution_count": 8,
   "id": "7c258d51",
   "metadata": {},
   "outputs": [],
   "source": [
    "# df_payment_params.to_csv(\"payment_params.csv\",index=False)"
   ]
  },
  {
   "cell_type": "code",
   "execution_count": 10,
   "id": "dea8a2d5",
   "metadata": {},
   "outputs": [],
   "source": [
    "# df_pagos.to_csv(\"pagos.csv\",index=False)"
   ]
  },
  {
   "cell_type": "markdown",
   "id": "943f0a11",
   "metadata": {},
   "source": [
    "### Bank NPL Dataset "
   ]
  },
  {
   "cell_type": "code",
   "execution_count": 4,
   "id": "80ebab69",
   "metadata": {
    "scrolled": true
   },
   "outputs": [
    {
     "data": {
      "text/html": [
       "<div>\n",
       "<style scoped>\n",
       "    .dataframe tbody tr th:only-of-type {\n",
       "        vertical-align: middle;\n",
       "    }\n",
       "\n",
       "    .dataframe tbody tr th {\n",
       "        vertical-align: top;\n",
       "    }\n",
       "\n",
       "    .dataframe thead th {\n",
       "        text-align: right;\n",
       "    }\n",
       "</style>\n",
       "<table border=\"1\" class=\"dataframe\">\n",
       "  <thead>\n",
       "    <tr style=\"text-align: right;\">\n",
       "      <th></th>\n",
       "      <th>obligacion</th>\n",
       "      <th>Titular</th>\n",
       "      <th>agencia</th>\n",
       "      <th>tipo</th>\n",
       "      <th>primera_asignacion</th>\n",
       "      <th>fecha_asignacion</th>\n",
       "      <th>fecha_desasignacion</th>\n",
       "      <th>nombre</th>\n",
       "      <th>ciudad</th>\n",
       "      <th>tel_casa</th>\n",
       "      <th>...</th>\n",
       "      <th>inter_corri</th>\n",
       "      <th>inter_mora</th>\n",
       "      <th>hyc</th>\n",
       "      <th>seguro</th>\n",
       "      <th>iva</th>\n",
       "      <th>valor_cuota</th>\n",
       "      <th>nro_cuotas_atrasadas</th>\n",
       "      <th>cuotas_canceladas</th>\n",
       "      <th>cuotas_vencidas</th>\n",
       "      <th>vigente</th>\n",
       "    </tr>\n",
       "  </thead>\n",
       "  <tbody>\n",
       "    <tr>\n",
       "      <th>0</th>\n",
       "      <td>201917264</td>\n",
       "      <td>1</td>\n",
       "      <td>201</td>\n",
       "      <td>MANTENIDO</td>\n",
       "      <td>2016-10-01</td>\n",
       "      <td>2016-10-01</td>\n",
       "      <td>2019-07-22 00:00:00</td>\n",
       "      <td>SALAZAR ECHAVARRIA   CARMEN ADRIANA</td>\n",
       "      <td>CUCUTA</td>\n",
       "      <td>75702725</td>\n",
       "      <td>...</td>\n",
       "      <td>29994</td>\n",
       "      <td>2397521</td>\n",
       "      <td>0</td>\n",
       "      <td>0</td>\n",
       "      <td>0</td>\n",
       "      <td>0</td>\n",
       "      <td>8</td>\n",
       "      <td>2</td>\n",
       "      <td>6</td>\n",
       "      <td>0</td>\n",
       "    </tr>\n",
       "    <tr>\n",
       "      <th>1</th>\n",
       "      <td>10191142053</td>\n",
       "      <td>2</td>\n",
       "      <td>101</td>\n",
       "      <td>MANTENIDO</td>\n",
       "      <td>2016-10-01</td>\n",
       "      <td>2016-10-01</td>\n",
       "      <td>2019-07-22 00:00:00</td>\n",
       "      <td>GONZALEZ GONZALEZ   EFRAIN</td>\n",
       "      <td>BUCARAMANGA</td>\n",
       "      <td>76731342</td>\n",
       "      <td>...</td>\n",
       "      <td>0</td>\n",
       "      <td>118354</td>\n",
       "      <td>0</td>\n",
       "      <td>0</td>\n",
       "      <td>0</td>\n",
       "      <td>0</td>\n",
       "      <td>12</td>\n",
       "      <td>11</td>\n",
       "      <td>1</td>\n",
       "      <td>0</td>\n",
       "    </tr>\n",
       "    <tr>\n",
       "      <th>2</th>\n",
       "      <td>10191144858</td>\n",
       "      <td>3</td>\n",
       "      <td>101</td>\n",
       "      <td>MANTENIDO</td>\n",
       "      <td>2016-10-01</td>\n",
       "      <td>2016-10-01</td>\n",
       "      <td>2019-07-22 00:00:00</td>\n",
       "      <td>LANDAZABAL SANTANDER   MILENA</td>\n",
       "      <td>BUCARAMANGA</td>\n",
       "      <td>76417311</td>\n",
       "      <td>...</td>\n",
       "      <td>10928</td>\n",
       "      <td>1297810</td>\n",
       "      <td>0</td>\n",
       "      <td>0</td>\n",
       "      <td>0</td>\n",
       "      <td>0</td>\n",
       "      <td>8</td>\n",
       "      <td>4</td>\n",
       "      <td>4</td>\n",
       "      <td>0</td>\n",
       "    </tr>\n",
       "    <tr>\n",
       "      <th>3</th>\n",
       "      <td>10191146050</td>\n",
       "      <td>4</td>\n",
       "      <td>101</td>\n",
       "      <td>MANTENIDO</td>\n",
       "      <td>2016-10-01</td>\n",
       "      <td>2016-10-01</td>\n",
       "      <td>2019-07-22 00:00:00</td>\n",
       "      <td>ESTUPIÑAN LOPEZ   ARMANDO</td>\n",
       "      <td>BUCARAMANGA</td>\n",
       "      <td>76710070</td>\n",
       "      <td>...</td>\n",
       "      <td>20805</td>\n",
       "      <td>1987240</td>\n",
       "      <td>0</td>\n",
       "      <td>0</td>\n",
       "      <td>0</td>\n",
       "      <td>0</td>\n",
       "      <td>8</td>\n",
       "      <td>3</td>\n",
       "      <td>5</td>\n",
       "      <td>0</td>\n",
       "    </tr>\n",
       "    <tr>\n",
       "      <th>4</th>\n",
       "      <td>10191150337</td>\n",
       "      <td>5</td>\n",
       "      <td>101</td>\n",
       "      <td>MANTENIDO</td>\n",
       "      <td>2016-10-01</td>\n",
       "      <td>2016-10-01</td>\n",
       "      <td>2020-07-03 00:00:00</td>\n",
       "      <td>OSMA   MARTHA ADELINA</td>\n",
       "      <td>BUCARAMANGA</td>\n",
       "      <td>76732213</td>\n",
       "      <td>...</td>\n",
       "      <td>66677</td>\n",
       "      <td>4464796</td>\n",
       "      <td>2125</td>\n",
       "      <td>0</td>\n",
       "      <td>340</td>\n",
       "      <td>0</td>\n",
       "      <td>14</td>\n",
       "      <td>6</td>\n",
       "      <td>8</td>\n",
       "      <td>0</td>\n",
       "    </tr>\n",
       "  </tbody>\n",
       "</table>\n",
       "<p>5 rows × 41 columns</p>\n",
       "</div>"
      ],
      "text/plain": [
       "    obligacion  Titular  agencia       tipo primera_asignacion  \\\n",
       "0    201917264        1      201  MANTENIDO         2016-10-01   \n",
       "1  10191142053        2      101  MANTENIDO         2016-10-01   \n",
       "2  10191144858        3      101  MANTENIDO         2016-10-01   \n",
       "3  10191146050        4      101  MANTENIDO         2016-10-01   \n",
       "4  10191150337        5      101  MANTENIDO         2016-10-01   \n",
       "\n",
       "  fecha_asignacion  fecha_desasignacion  \\\n",
       "0       2016-10-01  2019-07-22 00:00:00   \n",
       "1       2016-10-01  2019-07-22 00:00:00   \n",
       "2       2016-10-01  2019-07-22 00:00:00   \n",
       "3       2016-10-01  2019-07-22 00:00:00   \n",
       "4       2016-10-01  2020-07-03 00:00:00   \n",
       "\n",
       "                                  nombre       ciudad  tel_casa  ...  \\\n",
       "0  SALAZAR ECHAVARRIA   CARMEN ADRIANA         CUCUTA  75702725  ...   \n",
       "1           GONZALEZ GONZALEZ   EFRAIN    BUCARAMANGA  76731342  ...   \n",
       "2        LANDAZABAL SANTANDER   MILENA    BUCARAMANGA  76417311  ...   \n",
       "3            ESTUPIÑAN LOPEZ   ARMANDO    BUCARAMANGA  76710070  ...   \n",
       "4                OSMA   MARTHA ADELINA    BUCARAMANGA  76732213  ...   \n",
       "\n",
       "   inter_corri  inter_mora   hyc seguro  iva  valor_cuota  \\\n",
       "0        29994     2397521     0      0    0            0   \n",
       "1            0      118354     0      0    0            0   \n",
       "2        10928     1297810     0      0    0            0   \n",
       "3        20805     1987240     0      0    0            0   \n",
       "4        66677     4464796  2125      0  340            0   \n",
       "\n",
       "   nro_cuotas_atrasadas cuotas_canceladas  cuotas_vencidas  vigente  \n",
       "0                     8                 2                6        0  \n",
       "1                    12                11                1        0  \n",
       "2                     8                 4                4        0  \n",
       "3                     8                 3                5        0  \n",
       "4                    14                 6                8        0  \n",
       "\n",
       "[5 rows x 41 columns]"
      ]
     },
     "execution_count": 4,
     "metadata": {},
     "output_type": "execute_result"
    }
   ],
   "source": [
    "df_asignacion_fdem =pd.read_excel(f'datos_avance.xlsx',sheet_name='asignacion_fdem')\n",
    "df_asignacion_fdem.head()"
   ]
  },
  {
   "cell_type": "code",
   "execution_count": 18,
   "id": "6a7f87e1",
   "metadata": {},
   "outputs": [],
   "source": [
    "df_asignacion_fdem.rename({'obligacion':'Credito'},axis = 1, inplace = True)"
   ]
  },
  {
   "cell_type": "code",
   "execution_count": 19,
   "id": "8ac7c709",
   "metadata": {},
   "outputs": [
    {
     "data": {
      "text/plain": [
       "Index(['Credito', 'Titular', 'agencia', 'tipo', 'primera_asignacion',\n",
       "       'fecha_asignacion', 'fecha_desasignacion', 'nombre', 'ciudad',\n",
       "       'tel_casa', 'tel_negocio', 'celular', 'cedula_conyuge',\n",
       "       'nombre_conyuge', 'tel_casa_conyuge', 'tel_negocio_conyuge',\n",
       "       'celular_conyuge', 'nombre_garante', 'cedula_garante',\n",
       "       'tel_casa_garante', 'tel_negocio_garante', 'celular_garante',\n",
       "       'producto', 'dias_atraso', 'fecha_atraso', 'fecha_desembolso',\n",
       "       'fecha_castigo', 'grupo_castigo', 'ultimo_pago', 'monto', 'capital',\n",
       "       'inter_corri', 'inter_mora', 'hyc', 'seguro', 'iva', 'valor_cuota',\n",
       "       'nro_cuotas_atrasadas', 'cuotas_canceladas', 'cuotas_vencidas',\n",
       "       'vigente'],\n",
       "      dtype='object')"
      ]
     },
     "execution_count": 19,
     "metadata": {},
     "output_type": "execute_result"
    }
   ],
   "source": [
    "df_asignacion_fdem.columns"
   ]
  },
  {
   "cell_type": "code",
   "execution_count": 11,
   "id": "2840efa0",
   "metadata": {
    "scrolled": true
   },
   "outputs": [
    {
     "name": "stdout",
     "output_type": "stream",
     "text": [
      "<class 'pandas.core.frame.DataFrame'>\n",
      "RangeIndex: 165200 entries, 0 to 165199\n",
      "Data columns (total 41 columns):\n",
      " #   Column                Non-Null Count   Dtype         \n",
      "---  ------                --------------   -----         \n",
      " 0   obligacion            165200 non-null  int64         \n",
      " 1   Titular               165200 non-null  int64         \n",
      " 2   agencia               165200 non-null  int64         \n",
      " 3   tipo                  165200 non-null  object        \n",
      " 4   primera_asignacion    165200 non-null  datetime64[ns]\n",
      " 5   fecha_asignacion      165200 non-null  datetime64[ns]\n",
      " 6   fecha_desasignacion   165200 non-null  object        \n",
      " 7   nombre                165200 non-null  object        \n",
      " 8   ciudad                165200 non-null  object        \n",
      " 9   tel_casa              165200 non-null  int64         \n",
      " 10  tel_negocio           165200 non-null  int64         \n",
      " 11  celular               165200 non-null  int64         \n",
      " 12  cedula_conyuge        165200 non-null  int64         \n",
      " 13  nombre_conyuge        71967 non-null   object        \n",
      " 14  tel_casa_conyuge      165200 non-null  int64         \n",
      " 15  tel_negocio_conyuge   165200 non-null  int64         \n",
      " 16  celular_conyuge       165200 non-null  int64         \n",
      " 17  nombre_garante        55074 non-null   object        \n",
      " 18  cedula_garante        165200 non-null  int64         \n",
      " 19  tel_casa_garante      165200 non-null  int64         \n",
      " 20  tel_negocio_garante   165200 non-null  int64         \n",
      " 21  celular_garante       165200 non-null  int64         \n",
      " 22  producto              165194 non-null  object        \n",
      " 23  dias_atraso           165200 non-null  int64         \n",
      " 24  fecha_atraso          165200 non-null  object        \n",
      " 25  fecha_desembolso      165200 non-null  object        \n",
      " 26  fecha_castigo         165200 non-null  object        \n",
      " 27  grupo_castigo         165200 non-null  datetime64[ns]\n",
      " 28  ultimo_pago           165200 non-null  object        \n",
      " 29  monto                 165200 non-null  int64         \n",
      " 30  capital               165200 non-null  int64         \n",
      " 31  inter_corri           165200 non-null  int64         \n",
      " 32  inter_mora            165200 non-null  int64         \n",
      " 33  hyc                   165200 non-null  int64         \n",
      " 34  seguro                165200 non-null  int64         \n",
      " 35  iva                   165200 non-null  int64         \n",
      " 36  valor_cuota           165200 non-null  int64         \n",
      " 37  nro_cuotas_atrasadas  165200 non-null  int64         \n",
      " 38  cuotas_canceladas     165200 non-null  int64         \n",
      " 39  cuotas_vencidas       165200 non-null  int64         \n",
      " 40  vigente               165200 non-null  int64         \n",
      "dtypes: datetime64[ns](3), int64(27), object(11)\n",
      "memory usage: 51.7+ MB\n"
     ]
    }
   ],
   "source": [
    "df_asignacion_fdem.info()"
   ]
  },
  {
   "cell_type": "code",
   "execution_count": 273,
   "id": "06b9ecb9",
   "metadata": {},
   "outputs": [
    {
     "data": {
      "text/plain": [
       "Credito                 165200\n",
       "Titular                 134933\n",
       "agencia                    258\n",
       "tipo                        21\n",
       "primera_asignacion          27\n",
       "fecha_asignacion            26\n",
       "fecha_desasignacion         37\n",
       "nombre                  134889\n",
       "ciudad                     917\n",
       "tel_casa                 27086\n",
       "tel_negocio              67789\n",
       "celular                 126751\n",
       "cedula_conyuge           59920\n",
       "nombre_conyuge           59913\n",
       "tel_casa_conyuge          9392\n",
       "tel_negocio_conyuge       8701\n",
       "celular_conyuge          53610\n",
       "nombre_garante           48559\n",
       "cedula_garante           48668\n",
       "tel_casa_garante          8717\n",
       "tel_negocio_garante      10224\n",
       "celular_garante          42677\n",
       "producto                   111\n",
       "dias_atraso               4043\n",
       "fecha_atraso              5758\n",
       "fecha_desembolso          4418\n",
       "fecha_castigo               73\n",
       "grupo_castigo               64\n",
       "ultimo_pago               4437\n",
       "monto                    36795\n",
       "capital                 125973\n",
       "inter_corri             105073\n",
       "inter_mora              154567\n",
       "hyc                      75621\n",
       "seguro                   20088\n",
       "iva                      38908\n",
       "valor_cuota              62115\n",
       "nro_cuotas_atrasadas        54\n",
       "cuotas_canceladas           50\n",
       "cuotas_vencidas             61\n",
       "vigente                      2\n",
       "dtype: int64"
      ]
     },
     "execution_count": 273,
     "metadata": {},
     "output_type": "execute_result"
    }
   ],
   "source": [
    "df_asignacion_fdem.nunique()"
   ]
  },
  {
   "cell_type": "code",
   "execution_count": 12,
   "id": "ee9955a6",
   "metadata": {},
   "outputs": [],
   "source": [
    "# df_asignacion_fdem.to_csv(\"asignacion_fdem.csv\",index=False)"
   ]
  },
  {
   "cell_type": "code",
   "execution_count": 604,
   "id": "d89dd71d",
   "metadata": {
    "scrolled": true
   },
   "outputs": [],
   "source": [
    "# df_resumen_creditos =pd.read_excel(f'datos_avance.xlsx',sheet_name='resumen_creditos')\n",
    "# df_resumen_creditos.head()\n"
   ]
  },
  {
   "cell_type": "markdown",
   "id": "590294ea",
   "metadata": {},
   "source": [
    "#### Rate of Recovery (Test #1)\n"
   ]
  },
  {
   "cell_type": "code",
   "execution_count": 5,
   "id": "ed3149a1",
   "metadata": {},
   "outputs": [
    {
     "data": {
      "text/html": [
       "<div>\n",
       "<style scoped>\n",
       "    .dataframe tbody tr th:only-of-type {\n",
       "        vertical-align: middle;\n",
       "    }\n",
       "\n",
       "    .dataframe tbody tr th {\n",
       "        vertical-align: top;\n",
       "    }\n",
       "\n",
       "    .dataframe thead th {\n",
       "        text-align: right;\n",
       "    }\n",
       "</style>\n",
       "<table border=\"1\" class=\"dataframe\">\n",
       "  <thead>\n",
       "    <tr style=\"text-align: right;\">\n",
       "      <th></th>\n",
       "      <th>MesCargue</th>\n",
       "      <th>Codigo</th>\n",
       "      <th>Agencia</th>\n",
       "      <th>Credito</th>\n",
       "      <th>Estado</th>\n",
       "      <th>SaldoFindeMes</th>\n",
       "      <th>DiasMoraFindeMes</th>\n",
       "      <th>SaldoActual</th>\n",
       "      <th>DiasmoraActual</th>\n",
       "      <th>FechaValor</th>\n",
       "      <th>...</th>\n",
       "      <th>MORA</th>\n",
       "      <th>PAGOSOTROS</th>\n",
       "      <th>TotalCancelado</th>\n",
       "      <th>VRgoech</th>\n",
       "      <th>CONDCAPITAL</th>\n",
       "      <th>CONDINTERES</th>\n",
       "      <th>CONDMORA</th>\n",
       "      <th>DiasMoraPago</th>\n",
       "      <th>Reverso</th>\n",
       "      <th>Concepto</th>\n",
       "    </tr>\n",
       "  </thead>\n",
       "  <tbody>\n",
       "    <tr>\n",
       "      <th>0</th>\n",
       "      <td>2016-10</td>\n",
       "      <td>101</td>\n",
       "      <td>BUCARAMANGA AGENCIA PRINCIPAL</td>\n",
       "      <td>101101002728</td>\n",
       "      <td>Castigado</td>\n",
       "      <td>321631</td>\n",
       "      <td>2032</td>\n",
       "      <td>0</td>\n",
       "      <td>0</td>\n",
       "      <td>2016-10-18</td>\n",
       "      <td>...</td>\n",
       "      <td>0</td>\n",
       "      <td>10556</td>\n",
       "      <td>332187</td>\n",
       "      <td>321631</td>\n",
       "      <td>0</td>\n",
       "      <td>0</td>\n",
       "      <td>594634</td>\n",
       "      <td>2050</td>\n",
       "      <td>NaN</td>\n",
       "      <td>NaN</td>\n",
       "    </tr>\n",
       "    <tr>\n",
       "      <th>1</th>\n",
       "      <td>2016-10</td>\n",
       "      <td>101</td>\n",
       "      <td>BUCARAMANGA AGENCIA PRINCIPAL</td>\n",
       "      <td>101104101267</td>\n",
       "      <td>Castigado</td>\n",
       "      <td>149159</td>\n",
       "      <td>2142</td>\n",
       "      <td>0</td>\n",
       "      <td>0</td>\n",
       "      <td>2016-10-31</td>\n",
       "      <td>...</td>\n",
       "      <td>0</td>\n",
       "      <td>4182</td>\n",
       "      <td>153341</td>\n",
       "      <td>149159</td>\n",
       "      <td>0</td>\n",
       "      <td>3498</td>\n",
       "      <td>356515</td>\n",
       "      <td>2172</td>\n",
       "      <td>NaN</td>\n",
       "      <td>NaN</td>\n",
       "    </tr>\n",
       "    <tr>\n",
       "      <th>2</th>\n",
       "      <td>2016-10</td>\n",
       "      <td>101</td>\n",
       "      <td>BUCARAMANGA AGENCIA PRINCIPAL</td>\n",
       "      <td>101131041847</td>\n",
       "      <td>Castigado</td>\n",
       "      <td>384108</td>\n",
       "      <td>490</td>\n",
       "      <td>0</td>\n",
       "      <td>0</td>\n",
       "      <td>2016-10-20</td>\n",
       "      <td>...</td>\n",
       "      <td>0</td>\n",
       "      <td>9799</td>\n",
       "      <td>393907</td>\n",
       "      <td>384108</td>\n",
       "      <td>0</td>\n",
       "      <td>20307</td>\n",
       "      <td>233846</td>\n",
       "      <td>510</td>\n",
       "      <td>NaN</td>\n",
       "      <td>NaN</td>\n",
       "    </tr>\n",
       "    <tr>\n",
       "      <th>3</th>\n",
       "      <td>2016-10</td>\n",
       "      <td>102</td>\n",
       "      <td>BUCARAMANGA AGENCIA ASTURIAS</td>\n",
       "      <td>102141028221</td>\n",
       "      <td>Castigado</td>\n",
       "      <td>291780</td>\n",
       "      <td>706</td>\n",
       "      <td>0</td>\n",
       "      <td>0</td>\n",
       "      <td>2016-10-21</td>\n",
       "      <td>...</td>\n",
       "      <td>0</td>\n",
       "      <td>20420</td>\n",
       "      <td>312200</td>\n",
       "      <td>291780</td>\n",
       "      <td>0</td>\n",
       "      <td>30678</td>\n",
       "      <td>226165</td>\n",
       "      <td>727</td>\n",
       "      <td>NaN</td>\n",
       "      <td>NaN</td>\n",
       "    </tr>\n",
       "    <tr>\n",
       "      <th>4</th>\n",
       "      <td>2016-10</td>\n",
       "      <td>102</td>\n",
       "      <td>BUCARAMANGA AGENCIA ASTURIAS</td>\n",
       "      <td>102141028298</td>\n",
       "      <td>Castigado</td>\n",
       "      <td>1363613</td>\n",
       "      <td>803</td>\n",
       "      <td>1322611</td>\n",
       "      <td>803</td>\n",
       "      <td>2016-10-18</td>\n",
       "      <td>...</td>\n",
       "      <td>0</td>\n",
       "      <td>12549</td>\n",
       "      <td>100000</td>\n",
       "      <td>87451</td>\n",
       "      <td>0</td>\n",
       "      <td>0</td>\n",
       "      <td>52487</td>\n",
       "      <td>821</td>\n",
       "      <td>NaN</td>\n",
       "      <td>NaN</td>\n",
       "    </tr>\n",
       "  </tbody>\n",
       "</table>\n",
       "<p>5 rows × 27 columns</p>\n",
       "</div>"
      ],
      "text/plain": [
       "  MesCargue  Codigo                        Agencia       Credito     Estado  \\\n",
       "0   2016-10     101  BUCARAMANGA AGENCIA PRINCIPAL  101101002728  Castigado   \n",
       "1   2016-10     101  BUCARAMANGA AGENCIA PRINCIPAL  101104101267  Castigado   \n",
       "2   2016-10     101  BUCARAMANGA AGENCIA PRINCIPAL  101131041847  Castigado   \n",
       "3   2016-10     102   BUCARAMANGA AGENCIA ASTURIAS  102141028221  Castigado   \n",
       "4   2016-10     102   BUCARAMANGA AGENCIA ASTURIAS  102141028298  Castigado   \n",
       "\n",
       "   SaldoFindeMes  DiasMoraFindeMes  SaldoActual  DiasmoraActual FechaValor  \\\n",
       "0         321631              2032            0               0 2016-10-18   \n",
       "1         149159              2142            0               0 2016-10-31   \n",
       "2         384108               490            0               0 2016-10-20   \n",
       "3         291780               706            0               0 2016-10-21   \n",
       "4        1363613               803      1322611             803 2016-10-18   \n",
       "\n",
       "   ... MORA PAGOSOTROS  TotalCancelado  VRgoech CONDCAPITAL  CONDINTERES  \\\n",
       "0  ...    0      10556          332187   321631           0            0   \n",
       "1  ...    0       4182          153341   149159           0         3498   \n",
       "2  ...    0       9799          393907   384108           0        20307   \n",
       "3  ...    0      20420          312200   291780           0        30678   \n",
       "4  ...    0      12549          100000    87451           0            0   \n",
       "\n",
       "   CONDMORA  DiasMoraPago  Reverso  Concepto  \n",
       "0    594634          2050      NaN       NaN  \n",
       "1    356515          2172      NaN       NaN  \n",
       "2    233846           510      NaN       NaN  \n",
       "3    226165           727      NaN       NaN  \n",
       "4     52487           821      NaN       NaN  \n",
       "\n",
       "[5 rows x 27 columns]"
      ]
     },
     "execution_count": 5,
     "metadata": {},
     "output_type": "execute_result"
    }
   ],
   "source": [
    "df_pagos.head(5)"
   ]
  },
  {
   "cell_type": "code",
   "execution_count": 274,
   "id": "8299340e",
   "metadata": {},
   "outputs": [
    {
     "data": {
      "text/plain": [
       "MesCargue              71\n",
       "Codigo                267\n",
       "Agencia               529\n",
       "Credito             28870\n",
       "Estado                  5\n",
       "SaldoFindeMes       80968\n",
       "DiasMoraFindeMes     2827\n",
       "SaldoActual         64306\n",
       "DiasmoraActual       2789\n",
       "FechaValor           1743\n",
       "FechaPago            1716\n",
       "RangoCuotas             6\n",
       "Cuotas               2811\n",
       "ValorCuota          15922\n",
       "TipoPago                3\n",
       "CAPITAL             69489\n",
       "INTERES             33970\n",
       "MORA                21099\n",
       "PAGOSOTROS          31796\n",
       "TotalCancelado      12794\n",
       "VRgoech             61958\n",
       "CONDCAPITAL          1777\n",
       "CONDINTERES         10964\n",
       "CONDMORA            62106\n",
       "DiasMoraPago         4318\n",
       "Reverso              2124\n",
       "Concepto                5\n",
       "dtype: int64"
      ]
     },
     "execution_count": 274,
     "metadata": {},
     "output_type": "execute_result"
    }
   ],
   "source": [
    "df_pagos.nunique()"
   ]
  },
  {
   "cell_type": "code",
   "execution_count": null,
   "id": "9d7c7ee9",
   "metadata": {},
   "outputs": [],
   "source": []
  },
  {
   "cell_type": "code",
   "execution_count": 8,
   "id": "88c09413",
   "metadata": {},
   "outputs": [
    {
     "data": {
      "text/plain": [
       "False    101214\n",
       "Name: SaldoFindeMes, dtype: int64"
      ]
     },
     "execution_count": 8,
     "metadata": {},
     "output_type": "execute_result"
    }
   ],
   "source": [
    "df_pagos['SaldoFindeMes'].isna().value_counts()"
   ]
  },
  {
   "cell_type": "code",
   "execution_count": 7,
   "id": "06acff86",
   "metadata": {},
   "outputs": [
    {
     "data": {
      "text/plain": [
       "True"
      ]
     },
     "execution_count": 7,
     "metadata": {},
     "output_type": "execute_result"
    }
   ],
   "source": [
    "isinstance(df_pagos, pd.DataFrame)"
   ]
  },
  {
   "cell_type": "code",
   "execution_count": 9,
   "id": "64615c82",
   "metadata": {},
   "outputs": [],
   "source": [
    "df_pagos['SaldoFindeMes'] = df_pagos['SaldoFindeMes'].replace(0, np.nan)\n",
    "\n"
   ]
  },
  {
   "cell_type": "code",
   "execution_count": 10,
   "id": "9c7d9a5d",
   "metadata": {},
   "outputs": [
    {
     "data": {
      "text/plain": [
       "False    101172\n",
       "True         42\n",
       "Name: SaldoFindeMes, dtype: int64"
      ]
     },
     "execution_count": 10,
     "metadata": {},
     "output_type": "execute_result"
    }
   ],
   "source": [
    "df_pagos['SaldoFindeMes'].isna().value_counts()"
   ]
  },
  {
   "cell_type": "code",
   "execution_count": 11,
   "id": "a8acead6",
   "metadata": {},
   "outputs": [],
   "source": [
    "df_pagos_cleaned = df_pagos.dropna(subset = [\"SaldoFindeMes\"]) "
   ]
  },
  {
   "cell_type": "code",
   "execution_count": 12,
   "id": "c35aa807",
   "metadata": {},
   "outputs": [
    {
     "data": {
      "text/plain": [
       "False    101172\n",
       "Name: SaldoFindeMes, dtype: int64"
      ]
     },
     "execution_count": 12,
     "metadata": {},
     "output_type": "execute_result"
    }
   ],
   "source": [
    "df_pagos_cleaned[\"SaldoFindeMes\"].isna().value_counts()"
   ]
  },
  {
   "cell_type": "code",
   "execution_count": 13,
   "id": "c2697252",
   "metadata": {},
   "outputs": [
    {
     "name": "stderr",
     "output_type": "stream",
     "text": [
      "/tmp/ipykernel_769/3106164577.py:1: SettingWithCopyWarning: \n",
      "A value is trying to be set on a copy of a slice from a DataFrame.\n",
      "Try using .loc[row_indexer,col_indexer] = value instead\n",
      "\n",
      "See the caveats in the documentation: https://pandas.pydata.org/pandas-docs/stable/user_guide/indexing.html#returning-a-view-versus-a-copy\n",
      "  df_pagos_cleaned['rate'] = df_pagos_cleaned['TotalCancelado']/df_pagos_cleaned['SaldoFindeMes']\n"
     ]
    }
   ],
   "source": [
    "df_pagos_cleaned['rate'] = df_pagos_cleaned['TotalCancelado']/df_pagos_cleaned['SaldoFindeMes']"
   ]
  },
  {
   "cell_type": "code",
   "execution_count": 14,
   "id": "7f226c8d",
   "metadata": {},
   "outputs": [
    {
     "data": {
      "text/html": [
       "<div>\n",
       "<style scoped>\n",
       "    .dataframe tbody tr th:only-of-type {\n",
       "        vertical-align: middle;\n",
       "    }\n",
       "\n",
       "    .dataframe tbody tr th {\n",
       "        vertical-align: top;\n",
       "    }\n",
       "\n",
       "    .dataframe thead th {\n",
       "        text-align: right;\n",
       "    }\n",
       "</style>\n",
       "<table border=\"1\" class=\"dataframe\">\n",
       "  <thead>\n",
       "    <tr style=\"text-align: right;\">\n",
       "      <th></th>\n",
       "      <th>MesCargue</th>\n",
       "      <th>Codigo</th>\n",
       "      <th>Agencia</th>\n",
       "      <th>Credito</th>\n",
       "      <th>Estado</th>\n",
       "      <th>SaldoFindeMes</th>\n",
       "      <th>DiasMoraFindeMes</th>\n",
       "      <th>SaldoActual</th>\n",
       "      <th>DiasmoraActual</th>\n",
       "      <th>FechaValor</th>\n",
       "      <th>...</th>\n",
       "      <th>PAGOSOTROS</th>\n",
       "      <th>TotalCancelado</th>\n",
       "      <th>VRgoech</th>\n",
       "      <th>CONDCAPITAL</th>\n",
       "      <th>CONDINTERES</th>\n",
       "      <th>CONDMORA</th>\n",
       "      <th>DiasMoraPago</th>\n",
       "      <th>Reverso</th>\n",
       "      <th>Concepto</th>\n",
       "      <th>rate</th>\n",
       "    </tr>\n",
       "  </thead>\n",
       "  <tbody>\n",
       "    <tr>\n",
       "      <th>0</th>\n",
       "      <td>2016-10</td>\n",
       "      <td>101</td>\n",
       "      <td>BUCARAMANGA AGENCIA PRINCIPAL</td>\n",
       "      <td>101101002728</td>\n",
       "      <td>Castigado</td>\n",
       "      <td>321631.0</td>\n",
       "      <td>2032</td>\n",
       "      <td>0</td>\n",
       "      <td>0</td>\n",
       "      <td>2016-10-18</td>\n",
       "      <td>...</td>\n",
       "      <td>10556</td>\n",
       "      <td>332187</td>\n",
       "      <td>321631</td>\n",
       "      <td>0</td>\n",
       "      <td>0</td>\n",
       "      <td>594634</td>\n",
       "      <td>2050</td>\n",
       "      <td>NaN</td>\n",
       "      <td>NaN</td>\n",
       "      <td>1.032820</td>\n",
       "    </tr>\n",
       "    <tr>\n",
       "      <th>1</th>\n",
       "      <td>2016-10</td>\n",
       "      <td>101</td>\n",
       "      <td>BUCARAMANGA AGENCIA PRINCIPAL</td>\n",
       "      <td>101104101267</td>\n",
       "      <td>Castigado</td>\n",
       "      <td>149159.0</td>\n",
       "      <td>2142</td>\n",
       "      <td>0</td>\n",
       "      <td>0</td>\n",
       "      <td>2016-10-31</td>\n",
       "      <td>...</td>\n",
       "      <td>4182</td>\n",
       "      <td>153341</td>\n",
       "      <td>149159</td>\n",
       "      <td>0</td>\n",
       "      <td>3498</td>\n",
       "      <td>356515</td>\n",
       "      <td>2172</td>\n",
       "      <td>NaN</td>\n",
       "      <td>NaN</td>\n",
       "      <td>1.028037</td>\n",
       "    </tr>\n",
       "    <tr>\n",
       "      <th>2</th>\n",
       "      <td>2016-10</td>\n",
       "      <td>101</td>\n",
       "      <td>BUCARAMANGA AGENCIA PRINCIPAL</td>\n",
       "      <td>101131041847</td>\n",
       "      <td>Castigado</td>\n",
       "      <td>384108.0</td>\n",
       "      <td>490</td>\n",
       "      <td>0</td>\n",
       "      <td>0</td>\n",
       "      <td>2016-10-20</td>\n",
       "      <td>...</td>\n",
       "      <td>9799</td>\n",
       "      <td>393907</td>\n",
       "      <td>384108</td>\n",
       "      <td>0</td>\n",
       "      <td>20307</td>\n",
       "      <td>233846</td>\n",
       "      <td>510</td>\n",
       "      <td>NaN</td>\n",
       "      <td>NaN</td>\n",
       "      <td>1.025511</td>\n",
       "    </tr>\n",
       "    <tr>\n",
       "      <th>3</th>\n",
       "      <td>2016-10</td>\n",
       "      <td>102</td>\n",
       "      <td>BUCARAMANGA AGENCIA ASTURIAS</td>\n",
       "      <td>102141028221</td>\n",
       "      <td>Castigado</td>\n",
       "      <td>291780.0</td>\n",
       "      <td>706</td>\n",
       "      <td>0</td>\n",
       "      <td>0</td>\n",
       "      <td>2016-10-21</td>\n",
       "      <td>...</td>\n",
       "      <td>20420</td>\n",
       "      <td>312200</td>\n",
       "      <td>291780</td>\n",
       "      <td>0</td>\n",
       "      <td>30678</td>\n",
       "      <td>226165</td>\n",
       "      <td>727</td>\n",
       "      <td>NaN</td>\n",
       "      <td>NaN</td>\n",
       "      <td>1.069984</td>\n",
       "    </tr>\n",
       "    <tr>\n",
       "      <th>4</th>\n",
       "      <td>2016-10</td>\n",
       "      <td>102</td>\n",
       "      <td>BUCARAMANGA AGENCIA ASTURIAS</td>\n",
       "      <td>102141028298</td>\n",
       "      <td>Castigado</td>\n",
       "      <td>1363613.0</td>\n",
       "      <td>803</td>\n",
       "      <td>1322611</td>\n",
       "      <td>803</td>\n",
       "      <td>2016-10-18</td>\n",
       "      <td>...</td>\n",
       "      <td>12549</td>\n",
       "      <td>100000</td>\n",
       "      <td>87451</td>\n",
       "      <td>0</td>\n",
       "      <td>0</td>\n",
       "      <td>52487</td>\n",
       "      <td>821</td>\n",
       "      <td>NaN</td>\n",
       "      <td>NaN</td>\n",
       "      <td>0.073335</td>\n",
       "    </tr>\n",
       "  </tbody>\n",
       "</table>\n",
       "<p>5 rows × 28 columns</p>\n",
       "</div>"
      ],
      "text/plain": [
       "  MesCargue  Codigo                        Agencia       Credito     Estado  \\\n",
       "0   2016-10     101  BUCARAMANGA AGENCIA PRINCIPAL  101101002728  Castigado   \n",
       "1   2016-10     101  BUCARAMANGA AGENCIA PRINCIPAL  101104101267  Castigado   \n",
       "2   2016-10     101  BUCARAMANGA AGENCIA PRINCIPAL  101131041847  Castigado   \n",
       "3   2016-10     102   BUCARAMANGA AGENCIA ASTURIAS  102141028221  Castigado   \n",
       "4   2016-10     102   BUCARAMANGA AGENCIA ASTURIAS  102141028298  Castigado   \n",
       "\n",
       "   SaldoFindeMes  DiasMoraFindeMes  SaldoActual  DiasmoraActual FechaValor  \\\n",
       "0       321631.0              2032            0               0 2016-10-18   \n",
       "1       149159.0              2142            0               0 2016-10-31   \n",
       "2       384108.0               490            0               0 2016-10-20   \n",
       "3       291780.0               706            0               0 2016-10-21   \n",
       "4      1363613.0               803      1322611             803 2016-10-18   \n",
       "\n",
       "   ... PAGOSOTROS TotalCancelado  VRgoech  CONDCAPITAL CONDINTERES  CONDMORA  \\\n",
       "0  ...      10556         332187   321631            0           0    594634   \n",
       "1  ...       4182         153341   149159            0        3498    356515   \n",
       "2  ...       9799         393907   384108            0       20307    233846   \n",
       "3  ...      20420         312200   291780            0       30678    226165   \n",
       "4  ...      12549         100000    87451            0           0     52487   \n",
       "\n",
       "   DiasMoraPago  Reverso  Concepto      rate  \n",
       "0          2050      NaN       NaN  1.032820  \n",
       "1          2172      NaN       NaN  1.028037  \n",
       "2           510      NaN       NaN  1.025511  \n",
       "3           727      NaN       NaN  1.069984  \n",
       "4           821      NaN       NaN  0.073335  \n",
       "\n",
       "[5 rows x 28 columns]"
      ]
     },
     "execution_count": 14,
     "metadata": {},
     "output_type": "execute_result"
    }
   ],
   "source": [
    "df_pagos_cleaned.head()"
   ]
  },
  {
   "cell_type": "code",
   "execution_count": 15,
   "id": "792eaa6e",
   "metadata": {},
   "outputs": [
    {
     "name": "stdout",
     "output_type": "stream",
     "text": [
      "<class 'pandas.core.series.Series'>\n",
      "Int64Index: 101172 entries, 0 to 101213\n",
      "Series name: SaldoFindeMes\n",
      "Non-Null Count   Dtype  \n",
      "--------------   -----  \n",
      "101172 non-null  float64\n",
      "dtypes: float64(1)\n",
      "memory usage: 1.5 MB\n"
     ]
    }
   ],
   "source": [
    "df_pagos_cleaned['SaldoFindeMes'].info()"
   ]
  },
  {
   "cell_type": "code",
   "execution_count": 16,
   "id": "1b1f159c",
   "metadata": {},
   "outputs": [
    {
     "data": {
      "text/plain": [
       "count    101172.000000\n",
       "mean          0.440709\n",
       "std           1.849641\n",
       "min           0.000002\n",
       "25%           0.103865\n",
       "50%           0.221439\n",
       "75%           0.591595\n",
       "max         518.687059\n",
       "Name: rate, dtype: float64"
      ]
     },
     "execution_count": 16,
     "metadata": {},
     "output_type": "execute_result"
    }
   ],
   "source": [
    "df_pagos_cleaned['rate'].describe()"
   ]
  },
  {
   "cell_type": "markdown",
   "id": "c1557b09",
   "metadata": {},
   "source": [
    "## Merging Dataset"
   ]
  },
  {
   "cell_type": "markdown",
   "id": "0cc61b0f",
   "metadata": {},
   "source": [
    "### Merging Sum of Total Cancelado with Asignacion FDEM"
   ]
  },
  {
   "cell_type": "markdown",
   "id": "c19dfa96",
   "metadata": {},
   "source": [
    "From the Pagos Dataset, group by loan Id and sum all the payments made to that loan. Then merge it with the Bank dataset. "
   ]
  },
  {
   "cell_type": "code",
   "execution_count": 605,
   "id": "e2585693",
   "metadata": {},
   "outputs": [],
   "source": [
    "df_total = df_pagos.groupby('Credito')['TotalCancelado'].sum()"
   ]
  },
  {
   "cell_type": "code",
   "execution_count": 732,
   "id": "755db1ee",
   "metadata": {},
   "outputs": [
    {
     "data": {
      "text/plain": [
       "Credito\n",
       "10191138571    149818.0\n",
       "10191147413    181360.0\n",
       "10691417316    102205.0\n",
       "10691418568    245626.0\n",
       "10691419227    261656.0\n",
       "Name: SaldoFindeMes, dtype: float64"
      ]
     },
     "execution_count": 732,
     "metadata": {},
     "output_type": "execute_result"
    }
   ],
   "source": [
    "df_saldo = df_pagos.groupby('Credito')['SaldoFindeMes'].max()\n",
    "df_saldo.head()"
   ]
  },
  {
   "cell_type": "code",
   "execution_count": 606,
   "id": "76532057",
   "metadata": {},
   "outputs": [
    {
     "data": {
      "text/plain": [
       "Credito\n",
       "10191138571    310000\n",
       "10191147413    506660\n",
       "10691417316    104829\n",
       "10691418568    256732\n",
       "10691419227    500000\n",
       "Name: TotalCancelado, dtype: int64"
      ]
     },
     "execution_count": 606,
     "metadata": {},
     "output_type": "execute_result"
    }
   ],
   "source": [
    "df_total.head()"
   ]
  },
  {
   "cell_type": "code",
   "execution_count": 657,
   "id": "79c247a9",
   "metadata": {},
   "outputs": [],
   "source": [
    "df_merge2 = df_asignacion_fdem.merge(df_total, on='Credito', how='inner')"
   ]
  },
  {
   "cell_type": "code",
   "execution_count": 730,
   "id": "904e25ea",
   "metadata": {},
   "outputs": [
    {
     "data": {
      "text/html": [
       "<div>\n",
       "<style scoped>\n",
       "    .dataframe tbody tr th:only-of-type {\n",
       "        vertical-align: middle;\n",
       "    }\n",
       "\n",
       "    .dataframe tbody tr th {\n",
       "        vertical-align: top;\n",
       "    }\n",
       "\n",
       "    .dataframe thead th {\n",
       "        text-align: right;\n",
       "    }\n",
       "</style>\n",
       "<table border=\"1\" class=\"dataframe\">\n",
       "  <thead>\n",
       "    <tr style=\"text-align: right;\">\n",
       "      <th></th>\n",
       "      <th>Credito</th>\n",
       "      <th>Titular</th>\n",
       "      <th>agencia</th>\n",
       "      <th>tipo</th>\n",
       "      <th>primera_asignacion</th>\n",
       "      <th>fecha_asignacion</th>\n",
       "      <th>fecha_desasignacion</th>\n",
       "      <th>nombre</th>\n",
       "      <th>ciudad</th>\n",
       "      <th>tel_casa</th>\n",
       "      <th>...</th>\n",
       "      <th>inter_mora</th>\n",
       "      <th>hyc</th>\n",
       "      <th>seguro</th>\n",
       "      <th>iva</th>\n",
       "      <th>valor_cuota</th>\n",
       "      <th>nro_cuotas_atrasadas</th>\n",
       "      <th>cuotas_canceladas</th>\n",
       "      <th>cuotas_vencidas</th>\n",
       "      <th>vigente</th>\n",
       "      <th>TotalCancelado</th>\n",
       "    </tr>\n",
       "  </thead>\n",
       "  <tbody>\n",
       "    <tr>\n",
       "      <th>0</th>\n",
       "      <td>101104101421</td>\n",
       "      <td>95</td>\n",
       "      <td>101</td>\n",
       "      <td>MANTENIDO</td>\n",
       "      <td>2016-10-01</td>\n",
       "      <td>2016-10-01</td>\n",
       "      <td>\\N</td>\n",
       "      <td>ZAPATA JIMENEZ   NATHALI</td>\n",
       "      <td>BUCARAMANGA</td>\n",
       "      <td>3175220817</td>\n",
       "      <td>...</td>\n",
       "      <td>28001</td>\n",
       "      <td>0</td>\n",
       "      <td>69</td>\n",
       "      <td>0</td>\n",
       "      <td>79913</td>\n",
       "      <td>12</td>\n",
       "      <td>9</td>\n",
       "      <td>3</td>\n",
       "      <td>0</td>\n",
       "      <td>695000</td>\n",
       "    </tr>\n",
       "    <tr>\n",
       "      <th>1</th>\n",
       "      <td>101111013583</td>\n",
       "      <td>140</td>\n",
       "      <td>101</td>\n",
       "      <td>MANTENIDO</td>\n",
       "      <td>2016-10-01</td>\n",
       "      <td>2016-10-01</td>\n",
       "      <td>\\N</td>\n",
       "      <td>FUENTES   CARLOS  EDUARDO</td>\n",
       "      <td>FLORIDABLANCA</td>\n",
       "      <td>76190026</td>\n",
       "      <td>...</td>\n",
       "      <td>207345</td>\n",
       "      <td>22601</td>\n",
       "      <td>437</td>\n",
       "      <td>4292</td>\n",
       "      <td>91658</td>\n",
       "      <td>24</td>\n",
       "      <td>8</td>\n",
       "      <td>6</td>\n",
       "      <td>1</td>\n",
       "      <td>320000</td>\n",
       "    </tr>\n",
       "    <tr>\n",
       "      <th>2</th>\n",
       "      <td>101111014610</td>\n",
       "      <td>153</td>\n",
       "      <td>101</td>\n",
       "      <td>MANTENIDO</td>\n",
       "      <td>2016-10-01</td>\n",
       "      <td>2016-10-01</td>\n",
       "      <td>2020-07-03 00:00:00</td>\n",
       "      <td>GARCIA RODRIGUEZ FRANKLIN GEOVANNY</td>\n",
       "      <td>FLORIDABLANCA</td>\n",
       "      <td>76196665</td>\n",
       "      <td>...</td>\n",
       "      <td>1774888</td>\n",
       "      <td>0</td>\n",
       "      <td>622</td>\n",
       "      <td>0</td>\n",
       "      <td>99815</td>\n",
       "      <td>8</td>\n",
       "      <td>2</td>\n",
       "      <td>6</td>\n",
       "      <td>0</td>\n",
       "      <td>1300000</td>\n",
       "    </tr>\n",
       "    <tr>\n",
       "      <th>3</th>\n",
       "      <td>101111015376</td>\n",
       "      <td>161</td>\n",
       "      <td>101</td>\n",
       "      <td>MANTENIDO</td>\n",
       "      <td>2016-10-01</td>\n",
       "      <td>2016-10-01</td>\n",
       "      <td>2019-08-31 00:00:00</td>\n",
       "      <td>GOMEZ  LUIS RAMON</td>\n",
       "      <td>BUCARAMANGA</td>\n",
       "      <td>0</td>\n",
       "      <td>...</td>\n",
       "      <td>3448115</td>\n",
       "      <td>71755</td>\n",
       "      <td>1828</td>\n",
       "      <td>13636</td>\n",
       "      <td>132996</td>\n",
       "      <td>14</td>\n",
       "      <td>4</td>\n",
       "      <td>10</td>\n",
       "      <td>0</td>\n",
       "      <td>1886000</td>\n",
       "    </tr>\n",
       "    <tr>\n",
       "      <th>4</th>\n",
       "      <td>101111016438</td>\n",
       "      <td>180</td>\n",
       "      <td>101</td>\n",
       "      <td>MANTENIDO</td>\n",
       "      <td>2016-10-01</td>\n",
       "      <td>2016-10-01</td>\n",
       "      <td>2020-07-03 00:00:00</td>\n",
       "      <td>GONZALEZ RONDON MARIA DOLORES</td>\n",
       "      <td>BUCARAMANGA</td>\n",
       "      <td>76701592</td>\n",
       "      <td>...</td>\n",
       "      <td>153754</td>\n",
       "      <td>36059</td>\n",
       "      <td>825</td>\n",
       "      <td>6852</td>\n",
       "      <td>174804</td>\n",
       "      <td>15</td>\n",
       "      <td>9</td>\n",
       "      <td>6</td>\n",
       "      <td>0</td>\n",
       "      <td>150000</td>\n",
       "    </tr>\n",
       "  </tbody>\n",
       "</table>\n",
       "<p>5 rows × 42 columns</p>\n",
       "</div>"
      ],
      "text/plain": [
       "        Credito  Titular  agencia       tipo primera_asignacion  \\\n",
       "0  101104101421       95      101  MANTENIDO         2016-10-01   \n",
       "1  101111013583      140      101  MANTENIDO         2016-10-01   \n",
       "2  101111014610      153      101  MANTENIDO         2016-10-01   \n",
       "3  101111015376      161      101  MANTENIDO         2016-10-01   \n",
       "4  101111016438      180      101  MANTENIDO         2016-10-01   \n",
       "\n",
       "  fecha_asignacion  fecha_desasignacion                              nombre  \\\n",
       "0       2016-10-01                   \\N          ZAPATA JIMENEZ   NATHALI     \n",
       "1       2016-10-01                   \\N           FUENTES   CARLOS  EDUARDO   \n",
       "2       2016-10-01  2020-07-03 00:00:00  GARCIA RODRIGUEZ FRANKLIN GEOVANNY   \n",
       "3       2016-10-01  2019-08-31 00:00:00                   GOMEZ  LUIS RAMON   \n",
       "4       2016-10-01  2020-07-03 00:00:00       GONZALEZ RONDON MARIA DOLORES   \n",
       "\n",
       "          ciudad    tel_casa  ...  inter_mora    hyc  seguro    iva  \\\n",
       "0    BUCARAMANGA  3175220817  ...       28001      0      69      0   \n",
       "1  FLORIDABLANCA    76190026  ...      207345  22601     437   4292   \n",
       "2  FLORIDABLANCA    76196665  ...     1774888      0     622      0   \n",
       "3    BUCARAMANGA           0  ...     3448115  71755    1828  13636   \n",
       "4    BUCARAMANGA    76701592  ...      153754  36059     825   6852   \n",
       "\n",
       "   valor_cuota  nro_cuotas_atrasadas  cuotas_canceladas cuotas_vencidas  \\\n",
       "0        79913                    12                  9               3   \n",
       "1        91658                    24                  8               6   \n",
       "2        99815                     8                  2               6   \n",
       "3       132996                    14                  4              10   \n",
       "4       174804                    15                  9               6   \n",
       "\n",
       "   vigente  TotalCancelado  \n",
       "0        0          695000  \n",
       "1        1          320000  \n",
       "2        0         1300000  \n",
       "3        0         1886000  \n",
       "4        0          150000  \n",
       "\n",
       "[5 rows x 42 columns]"
      ]
     },
     "execution_count": 730,
     "metadata": {},
     "output_type": "execute_result"
    }
   ],
   "source": [
    "df_merge2.head()\n"
   ]
  },
  {
   "cell_type": "code",
   "execution_count": 622,
   "id": "58dc4986",
   "metadata": {},
   "outputs": [],
   "source": [
    "df_merge2.to_csv(\"merged.csv\",index=False)"
   ]
  },
  {
   "cell_type": "code",
   "execution_count": 733,
   "id": "b99b4c9e",
   "metadata": {},
   "outputs": [],
   "source": [
    "df_merge3 = df_merge2.merge(df_saldo, on='Credito', how='inner')"
   ]
  },
  {
   "cell_type": "code",
   "execution_count": 735,
   "id": "2680921c",
   "metadata": {},
   "outputs": [],
   "source": [
    "df_merge3.to_csv(\"merged3.csv\",index=False)"
   ]
  },
  {
   "cell_type": "code",
   "execution_count": 659,
   "id": "df8b4a7c",
   "metadata": {},
   "outputs": [
    {
     "name": "stdout",
     "output_type": "stream",
     "text": [
      "<class 'pandas.core.frame.DataFrame'>\n",
      "Int64Index: 15289 entries, 0 to 15288\n",
      "Data columns (total 10 columns):\n",
      " #   Column                Non-Null Count  Dtype \n",
      "---  ------                --------------  ----- \n",
      " 0   Credito               15289 non-null  int64 \n",
      " 1   nombre_conyuge        6355 non-null   object\n",
      " 2   nombre_garante        6497 non-null   object\n",
      " 3   dias_atraso           15289 non-null  int64 \n",
      " 4   monto                 15289 non-null  int64 \n",
      " 5   nro_cuotas_atrasadas  15289 non-null  int64 \n",
      " 6   cuotas_canceladas     15289 non-null  int64 \n",
      " 7   cuotas_vencidas       15289 non-null  int64 \n",
      " 8   vigente               15289 non-null  int64 \n",
      " 9   TotalCancelado        15289 non-null  int64 \n",
      "dtypes: int64(8), object(2)\n",
      "memory usage: 1.3+ MB\n"
     ]
    }
   ],
   "source": [
    "df_features2 = df_merge2[['Credito','nombre_conyuge','nombre_garante', 'dias_atraso', 'monto', 'nro_cuotas_atrasadas', 'cuotas_canceladas', 'cuotas_vencidas','vigente','TotalCancelado']]\n",
    "df_features2.info()"
   ]
  },
  {
   "cell_type": "code",
   "execution_count": 660,
   "id": "bced17ce",
   "metadata": {},
   "outputs": [
    {
     "data": {
      "text/html": [
       "<div>\n",
       "<style scoped>\n",
       "    .dataframe tbody tr th:only-of-type {\n",
       "        vertical-align: middle;\n",
       "    }\n",
       "\n",
       "    .dataframe tbody tr th {\n",
       "        vertical-align: top;\n",
       "    }\n",
       "\n",
       "    .dataframe thead th {\n",
       "        text-align: right;\n",
       "    }\n",
       "</style>\n",
       "<table border=\"1\" class=\"dataframe\">\n",
       "  <thead>\n",
       "    <tr style=\"text-align: right;\">\n",
       "      <th></th>\n",
       "      <th>Credito</th>\n",
       "      <th>nombre_conyuge</th>\n",
       "      <th>nombre_garante</th>\n",
       "      <th>dias_atraso</th>\n",
       "      <th>monto</th>\n",
       "      <th>nro_cuotas_atrasadas</th>\n",
       "      <th>cuotas_canceladas</th>\n",
       "      <th>cuotas_vencidas</th>\n",
       "      <th>vigente</th>\n",
       "      <th>TotalCancelado</th>\n",
       "    </tr>\n",
       "  </thead>\n",
       "  <tbody>\n",
       "    <tr>\n",
       "      <th>0</th>\n",
       "      <td>101104101421</td>\n",
       "      <td>AMAYA VELASQUEZ    CESAR AUGUSTO</td>\n",
       "      <td>NaN</td>\n",
       "      <td>3157</td>\n",
       "      <td>820000</td>\n",
       "      <td>12</td>\n",
       "      <td>9</td>\n",
       "      <td>3</td>\n",
       "      <td>0</td>\n",
       "      <td>695000</td>\n",
       "    </tr>\n",
       "    <tr>\n",
       "      <th>1</th>\n",
       "      <td>101111013583</td>\n",
       "      <td>GARCIA   SUAREZ DIANA  HELENA</td>\n",
       "      <td>NaN</td>\n",
       "      <td>2117</td>\n",
       "      <td>1038863</td>\n",
       "      <td>24</td>\n",
       "      <td>8</td>\n",
       "      <td>6</td>\n",
       "      <td>1</td>\n",
       "      <td>320000</td>\n",
       "    </tr>\n",
       "    <tr>\n",
       "      <th>2</th>\n",
       "      <td>101111014610</td>\n",
       "      <td>NaN</td>\n",
       "      <td>GARCIA   RODRIGUEZ  ELIZABETH</td>\n",
       "      <td>2727</td>\n",
       "      <td>700000</td>\n",
       "      <td>8</td>\n",
       "      <td>2</td>\n",
       "      <td>6</td>\n",
       "      <td>0</td>\n",
       "      <td>1300000</td>\n",
       "    </tr>\n",
       "    <tr>\n",
       "      <th>3</th>\n",
       "      <td>101111015376</td>\n",
       "      <td>NaN</td>\n",
       "      <td>JAIMES   LIZARAZO DIEGO</td>\n",
       "      <td>2635</td>\n",
       "      <td>1500000</td>\n",
       "      <td>14</td>\n",
       "      <td>4</td>\n",
       "      <td>10</td>\n",
       "      <td>0</td>\n",
       "      <td>1886000</td>\n",
       "    </tr>\n",
       "    <tr>\n",
       "      <th>4</th>\n",
       "      <td>101111016438</td>\n",
       "      <td>MORENO   DIAZ RAUL</td>\n",
       "      <td>NaN</td>\n",
       "      <td>2449</td>\n",
       "      <td>2030000</td>\n",
       "      <td>15</td>\n",
       "      <td>9</td>\n",
       "      <td>6</td>\n",
       "      <td>0</td>\n",
       "      <td>150000</td>\n",
       "    </tr>\n",
       "  </tbody>\n",
       "</table>\n",
       "</div>"
      ],
      "text/plain": [
       "        Credito                      nombre_conyuge  \\\n",
       "0  101104101421  AMAYA VELASQUEZ    CESAR AUGUSTO     \n",
       "1  101111013583       GARCIA   SUAREZ DIANA  HELENA   \n",
       "2  101111014610                                 NaN   \n",
       "3  101111015376                                 NaN   \n",
       "4  101111016438                MORENO   DIAZ RAUL     \n",
       "\n",
       "                  nombre_garante  dias_atraso    monto  nro_cuotas_atrasadas  \\\n",
       "0                            NaN         3157   820000                    12   \n",
       "1                            NaN         2117  1038863                    24   \n",
       "2  GARCIA   RODRIGUEZ  ELIZABETH         2727   700000                     8   \n",
       "3       JAIMES   LIZARAZO DIEGO          2635  1500000                    14   \n",
       "4                            NaN         2449  2030000                    15   \n",
       "\n",
       "   cuotas_canceladas  cuotas_vencidas  vigente  TotalCancelado  \n",
       "0                  9                3        0          695000  \n",
       "1                  8                6        1          320000  \n",
       "2                  2                6        0         1300000  \n",
       "3                  4               10        0         1886000  \n",
       "4                  9                6        0          150000  "
      ]
     },
     "execution_count": 660,
     "metadata": {},
     "output_type": "execute_result"
    }
   ],
   "source": [
    "df_features2.head()"
   ]
  },
  {
   "cell_type": "markdown",
   "id": "89d10a3e",
   "metadata": {},
   "source": [
    "###### RR = Total Cancelado / MAX(SaldoFindeMes)"
   ]
  },
  {
   "cell_type": "code",
   "execution_count": 661,
   "id": "1a61f5c8",
   "metadata": {},
   "outputs": [],
   "source": [
    "df_features3 = df_features2.merge(df_saldo, on='Credito', how='inner')"
   ]
  },
  {
   "cell_type": "code",
   "execution_count": 662,
   "id": "0e0bc8a6",
   "metadata": {},
   "outputs": [
    {
     "data": {
      "text/html": [
       "<div>\n",
       "<style scoped>\n",
       "    .dataframe tbody tr th:only-of-type {\n",
       "        vertical-align: middle;\n",
       "    }\n",
       "\n",
       "    .dataframe tbody tr th {\n",
       "        vertical-align: top;\n",
       "    }\n",
       "\n",
       "    .dataframe thead th {\n",
       "        text-align: right;\n",
       "    }\n",
       "</style>\n",
       "<table border=\"1\" class=\"dataframe\">\n",
       "  <thead>\n",
       "    <tr style=\"text-align: right;\">\n",
       "      <th></th>\n",
       "      <th>Credito</th>\n",
       "      <th>nombre_conyuge</th>\n",
       "      <th>nombre_garante</th>\n",
       "      <th>dias_atraso</th>\n",
       "      <th>monto</th>\n",
       "      <th>nro_cuotas_atrasadas</th>\n",
       "      <th>cuotas_canceladas</th>\n",
       "      <th>cuotas_vencidas</th>\n",
       "      <th>vigente</th>\n",
       "      <th>TotalCancelado</th>\n",
       "      <th>SaldoFindeMes</th>\n",
       "    </tr>\n",
       "  </thead>\n",
       "  <tbody>\n",
       "    <tr>\n",
       "      <th>0</th>\n",
       "      <td>101104101421</td>\n",
       "      <td>AMAYA VELASQUEZ    CESAR AUGUSTO</td>\n",
       "      <td>NaN</td>\n",
       "      <td>3157</td>\n",
       "      <td>820000</td>\n",
       "      <td>12</td>\n",
       "      <td>9</td>\n",
       "      <td>3</td>\n",
       "      <td>0</td>\n",
       "      <td>695000</td>\n",
       "      <td>760541.0</td>\n",
       "    </tr>\n",
       "    <tr>\n",
       "      <th>1</th>\n",
       "      <td>101111013583</td>\n",
       "      <td>GARCIA   SUAREZ DIANA  HELENA</td>\n",
       "      <td>NaN</td>\n",
       "      <td>2117</td>\n",
       "      <td>1038863</td>\n",
       "      <td>24</td>\n",
       "      <td>8</td>\n",
       "      <td>6</td>\n",
       "      <td>1</td>\n",
       "      <td>320000</td>\n",
       "      <td>715299.0</td>\n",
       "    </tr>\n",
       "    <tr>\n",
       "      <th>2</th>\n",
       "      <td>101111014610</td>\n",
       "      <td>NaN</td>\n",
       "      <td>GARCIA   RODRIGUEZ  ELIZABETH</td>\n",
       "      <td>2727</td>\n",
       "      <td>700000</td>\n",
       "      <td>8</td>\n",
       "      <td>2</td>\n",
       "      <td>6</td>\n",
       "      <td>0</td>\n",
       "      <td>1300000</td>\n",
       "      <td>540311.0</td>\n",
       "    </tr>\n",
       "    <tr>\n",
       "      <th>3</th>\n",
       "      <td>101111015376</td>\n",
       "      <td>NaN</td>\n",
       "      <td>JAIMES   LIZARAZO DIEGO</td>\n",
       "      <td>2635</td>\n",
       "      <td>1500000</td>\n",
       "      <td>14</td>\n",
       "      <td>4</td>\n",
       "      <td>10</td>\n",
       "      <td>0</td>\n",
       "      <td>1886000</td>\n",
       "      <td>1133161.0</td>\n",
       "    </tr>\n",
       "    <tr>\n",
       "      <th>4</th>\n",
       "      <td>101111016438</td>\n",
       "      <td>MORENO   DIAZ RAUL</td>\n",
       "      <td>NaN</td>\n",
       "      <td>2449</td>\n",
       "      <td>2030000</td>\n",
       "      <td>15</td>\n",
       "      <td>9</td>\n",
       "      <td>6</td>\n",
       "      <td>0</td>\n",
       "      <td>150000</td>\n",
       "      <td>928039.0</td>\n",
       "    </tr>\n",
       "  </tbody>\n",
       "</table>\n",
       "</div>"
      ],
      "text/plain": [
       "        Credito                      nombre_conyuge  \\\n",
       "0  101104101421  AMAYA VELASQUEZ    CESAR AUGUSTO     \n",
       "1  101111013583       GARCIA   SUAREZ DIANA  HELENA   \n",
       "2  101111014610                                 NaN   \n",
       "3  101111015376                                 NaN   \n",
       "4  101111016438                MORENO   DIAZ RAUL     \n",
       "\n",
       "                  nombre_garante  dias_atraso    monto  nro_cuotas_atrasadas  \\\n",
       "0                            NaN         3157   820000                    12   \n",
       "1                            NaN         2117  1038863                    24   \n",
       "2  GARCIA   RODRIGUEZ  ELIZABETH         2727   700000                     8   \n",
       "3       JAIMES   LIZARAZO DIEGO          2635  1500000                    14   \n",
       "4                            NaN         2449  2030000                    15   \n",
       "\n",
       "   cuotas_canceladas  cuotas_vencidas  vigente  TotalCancelado  SaldoFindeMes  \n",
       "0                  9                3        0          695000       760541.0  \n",
       "1                  8                6        1          320000       715299.0  \n",
       "2                  2                6        0         1300000       540311.0  \n",
       "3                  4               10        0         1886000      1133161.0  \n",
       "4                  9                6        0          150000       928039.0  "
      ]
     },
     "execution_count": 662,
     "metadata": {},
     "output_type": "execute_result"
    }
   ],
   "source": [
    "df_features3.head()"
   ]
  },
  {
   "cell_type": "code",
   "execution_count": null,
   "id": "1b31cf62",
   "metadata": {},
   "outputs": [],
   "source": []
  },
  {
   "cell_type": "markdown",
   "id": "6769125b",
   "metadata": {},
   "source": [
    "## Data Preprocessing"
   ]
  },
  {
   "cell_type": "markdown",
   "id": "0dee3f75",
   "metadata": {},
   "source": [
    "### Conyuge (Spouse)\n",
    "\n",
    "\n",
    "Determinar si usuarios tienen conyuge o en caso contrario calificarlos como solteros"
   ]
  },
  {
   "cell_type": "code",
   "execution_count": 665,
   "id": "6398132f",
   "metadata": {
    "scrolled": true
   },
   "outputs": [
    {
     "data": {
      "text/plain": [
       "5741            OCAMPO  AVILA SUGEY MILAGRO\n",
       "4509           OSORIO   CARVAJAL ANA  LUCIA\n",
       "9699                                    NaN\n",
       "1527            DIAZ   SANTAMARIA  YOLANDA \n",
       "11111                                   NaN\n",
       "9102                                    NaN\n",
       "14599         BEDOYA  PINZON HENRY FERNANDO\n",
       "8473                                    NaN\n",
       "9584      BARRANTES  MAYORGA MIGUEL ALFONSO\n",
       "5591     SOLANO  HASSELBRINK RAFAEL ALFREDO\n",
       "Name: nombre_conyuge, dtype: object"
      ]
     },
     "execution_count": 665,
     "metadata": {},
     "output_type": "execute_result"
    }
   ],
   "source": [
    "df_features3['nombre_conyuge'].sample(10)"
   ]
  },
  {
   "cell_type": "code",
   "execution_count": 666,
   "id": "3c59e474",
   "metadata": {},
   "outputs": [],
   "source": [
    "df_features3['nombre_conyuge'].replace(to_replace=r\"[\\w'-]+\", value='Casado', regex = True, inplace=True)"
   ]
  },
  {
   "cell_type": "code",
   "execution_count": 667,
   "id": "c26b70cb",
   "metadata": {},
   "outputs": [],
   "source": [
    "df_features3['nombre_conyuge'].fillna('Soltero', inplace=True)"
   ]
  },
  {
   "cell_type": "code",
   "execution_count": 668,
   "id": "e22ff440",
   "metadata": {},
   "outputs": [],
   "source": [
    "df_features3.loc[df_features3['nombre_conyuge'].str.contains('Casado'), 'nombre_conyuge'] = 'Casado'\n"
   ]
  },
  {
   "cell_type": "code",
   "execution_count": 669,
   "id": "8469f996",
   "metadata": {},
   "outputs": [
    {
     "data": {
      "text/plain": [
       "1502     Soltero\n",
       "11585    Soltero\n",
       "2185      Casado\n",
       "11497     Casado\n",
       "557      Soltero\n",
       "15110     Casado\n",
       "13384    Soltero\n",
       "14672    Soltero\n",
       "8277     Soltero\n",
       "12016    Soltero\n",
       "Name: nombre_conyuge, dtype: object"
      ]
     },
     "execution_count": 669,
     "metadata": {},
     "output_type": "execute_result"
    }
   ],
   "source": [
    "df_features3['nombre_conyuge'].sample(10)"
   ]
  },
  {
   "cell_type": "markdown",
   "id": "a2f3588c",
   "metadata": {},
   "source": [
    "### Garante (Guarantor)\n",
    "\n",
    "Determinar si usuarios tienen garante"
   ]
  },
  {
   "cell_type": "code",
   "execution_count": 670,
   "id": "6f38846f",
   "metadata": {},
   "outputs": [],
   "source": [
    "df_features3['nombre_garante'].replace(to_replace=r\"[\\w'-]+\", value='Si', regex = True, inplace=True)"
   ]
  },
  {
   "cell_type": "code",
   "execution_count": 671,
   "id": "d1a2d480",
   "metadata": {},
   "outputs": [],
   "source": [
    "df_features3['nombre_garante'].fillna('No', inplace=True)\n",
    "df_features3.loc[df_features3['nombre_garante'].str.contains('Si'), 'nombre_garante'] = 'Si'\n"
   ]
  },
  {
   "cell_type": "code",
   "execution_count": 672,
   "id": "388ee93a",
   "metadata": {},
   "outputs": [
    {
     "data": {
      "text/plain": [
       "10496    No\n",
       "4607     Si\n",
       "587      Si\n",
       "11583    No\n",
       "2798     No\n",
       "2555     Si\n",
       "3455     No\n",
       "5058     Si\n",
       "9675     No\n",
       "2265     Si\n",
       "Name: nombre_garante, dtype: object"
      ]
     },
     "execution_count": 672,
     "metadata": {},
     "output_type": "execute_result"
    }
   ],
   "source": [
    "df_features3['nombre_garante'].sample(10)"
   ]
  },
  {
   "cell_type": "code",
   "execution_count": 673,
   "id": "1197851f",
   "metadata": {},
   "outputs": [
    {
     "data": {
      "text/html": [
       "<div>\n",
       "<style scoped>\n",
       "    .dataframe tbody tr th:only-of-type {\n",
       "        vertical-align: middle;\n",
       "    }\n",
       "\n",
       "    .dataframe tbody tr th {\n",
       "        vertical-align: top;\n",
       "    }\n",
       "\n",
       "    .dataframe thead th {\n",
       "        text-align: right;\n",
       "    }\n",
       "</style>\n",
       "<table border=\"1\" class=\"dataframe\">\n",
       "  <thead>\n",
       "    <tr style=\"text-align: right;\">\n",
       "      <th></th>\n",
       "      <th>Credito</th>\n",
       "      <th>nombre_conyuge</th>\n",
       "      <th>nombre_garante</th>\n",
       "      <th>dias_atraso</th>\n",
       "      <th>monto</th>\n",
       "      <th>nro_cuotas_atrasadas</th>\n",
       "      <th>cuotas_canceladas</th>\n",
       "      <th>cuotas_vencidas</th>\n",
       "      <th>vigente</th>\n",
       "      <th>TotalCancelado</th>\n",
       "      <th>SaldoFindeMes</th>\n",
       "    </tr>\n",
       "  </thead>\n",
       "  <tbody>\n",
       "    <tr>\n",
       "      <th>0</th>\n",
       "      <td>101104101421</td>\n",
       "      <td>Casado</td>\n",
       "      <td>No</td>\n",
       "      <td>3157</td>\n",
       "      <td>820000</td>\n",
       "      <td>12</td>\n",
       "      <td>9</td>\n",
       "      <td>3</td>\n",
       "      <td>0</td>\n",
       "      <td>695000</td>\n",
       "      <td>760541.0</td>\n",
       "    </tr>\n",
       "    <tr>\n",
       "      <th>1</th>\n",
       "      <td>101111013583</td>\n",
       "      <td>Casado</td>\n",
       "      <td>No</td>\n",
       "      <td>2117</td>\n",
       "      <td>1038863</td>\n",
       "      <td>24</td>\n",
       "      <td>8</td>\n",
       "      <td>6</td>\n",
       "      <td>1</td>\n",
       "      <td>320000</td>\n",
       "      <td>715299.0</td>\n",
       "    </tr>\n",
       "    <tr>\n",
       "      <th>2</th>\n",
       "      <td>101111014610</td>\n",
       "      <td>Soltero</td>\n",
       "      <td>Si</td>\n",
       "      <td>2727</td>\n",
       "      <td>700000</td>\n",
       "      <td>8</td>\n",
       "      <td>2</td>\n",
       "      <td>6</td>\n",
       "      <td>0</td>\n",
       "      <td>1300000</td>\n",
       "      <td>540311.0</td>\n",
       "    </tr>\n",
       "    <tr>\n",
       "      <th>3</th>\n",
       "      <td>101111015376</td>\n",
       "      <td>Soltero</td>\n",
       "      <td>Si</td>\n",
       "      <td>2635</td>\n",
       "      <td>1500000</td>\n",
       "      <td>14</td>\n",
       "      <td>4</td>\n",
       "      <td>10</td>\n",
       "      <td>0</td>\n",
       "      <td>1886000</td>\n",
       "      <td>1133161.0</td>\n",
       "    </tr>\n",
       "    <tr>\n",
       "      <th>4</th>\n",
       "      <td>101111016438</td>\n",
       "      <td>Casado</td>\n",
       "      <td>No</td>\n",
       "      <td>2449</td>\n",
       "      <td>2030000</td>\n",
       "      <td>15</td>\n",
       "      <td>9</td>\n",
       "      <td>6</td>\n",
       "      <td>0</td>\n",
       "      <td>150000</td>\n",
       "      <td>928039.0</td>\n",
       "    </tr>\n",
       "  </tbody>\n",
       "</table>\n",
       "</div>"
      ],
      "text/plain": [
       "        Credito nombre_conyuge nombre_garante  dias_atraso    monto  \\\n",
       "0  101104101421         Casado             No         3157   820000   \n",
       "1  101111013583         Casado             No         2117  1038863   \n",
       "2  101111014610        Soltero             Si         2727   700000   \n",
       "3  101111015376        Soltero             Si         2635  1500000   \n",
       "4  101111016438         Casado             No         2449  2030000   \n",
       "\n",
       "   nro_cuotas_atrasadas  cuotas_canceladas  cuotas_vencidas  vigente  \\\n",
       "0                    12                  9                3        0   \n",
       "1                    24                  8                6        1   \n",
       "2                     8                  2                6        0   \n",
       "3                    14                  4               10        0   \n",
       "4                    15                  9                6        0   \n",
       "\n",
       "   TotalCancelado  SaldoFindeMes  \n",
       "0          695000       760541.0  \n",
       "1          320000       715299.0  \n",
       "2         1300000       540311.0  \n",
       "3         1886000      1133161.0  \n",
       "4          150000       928039.0  "
      ]
     },
     "execution_count": 673,
     "metadata": {},
     "output_type": "execute_result"
    }
   ],
   "source": [
    "df_features3.head()"
   ]
  },
  {
   "cell_type": "code",
   "execution_count": 674,
   "id": "31fb5616",
   "metadata": {},
   "outputs": [
    {
     "data": {
      "text/plain": [
       "Credito                 15289\n",
       "nombre_conyuge              2\n",
       "nombre_garante              2\n",
       "dias_atraso              1932\n",
       "monto                    5937\n",
       "nro_cuotas_atrasadas       42\n",
       "cuotas_canceladas          47\n",
       "cuotas_vencidas            44\n",
       "vigente                     2\n",
       "TotalCancelado           6856\n",
       "SaldoFindeMes           14313\n",
       "dtype: int64"
      ]
     },
     "execution_count": 674,
     "metadata": {},
     "output_type": "execute_result"
    }
   ],
   "source": [
    "df_features3.nunique()"
   ]
  },
  {
   "cell_type": "markdown",
   "id": "cdb87928",
   "metadata": {},
   "source": [
    "## Defining Target Variable - Rate of Recovery"
   ]
  },
  {
   "cell_type": "markdown",
   "id": "9d2286d8",
   "metadata": {},
   "source": [
    "The recovery rate is our target variable. We compute it as the sum of recovery payments made by a given loan Id, divided by the outstanding balance measured at the time of purchase of the NPL.\n",
    "It represents the percentage of exposure that can be recovered from each borrower through the debt collection process.\n",
    "\n",
    "\n",
    "\n",
    "Tasa de Recuperación: el porcentaje de exposición que se puede recuperar de cada usuario a través del proceso de cobro de deudas.\n",
    "\n"
   ]
  },
  {
   "cell_type": "code",
   "execution_count": 675,
   "id": "9d3b5923",
   "metadata": {
    "scrolled": false
   },
   "outputs": [],
   "source": [
    "df_features3['rate'] = df_features3['TotalCancelado'] / df_features3['SaldoFindeMes']"
   ]
  },
  {
   "cell_type": "code",
   "execution_count": 676,
   "id": "996a0f99",
   "metadata": {},
   "outputs": [
    {
     "data": {
      "text/html": [
       "<div>\n",
       "<style scoped>\n",
       "    .dataframe tbody tr th:only-of-type {\n",
       "        vertical-align: middle;\n",
       "    }\n",
       "\n",
       "    .dataframe tbody tr th {\n",
       "        vertical-align: top;\n",
       "    }\n",
       "\n",
       "    .dataframe thead th {\n",
       "        text-align: right;\n",
       "    }\n",
       "</style>\n",
       "<table border=\"1\" class=\"dataframe\">\n",
       "  <thead>\n",
       "    <tr style=\"text-align: right;\">\n",
       "      <th></th>\n",
       "      <th>Credito</th>\n",
       "      <th>nombre_conyuge</th>\n",
       "      <th>nombre_garante</th>\n",
       "      <th>dias_atraso</th>\n",
       "      <th>monto</th>\n",
       "      <th>nro_cuotas_atrasadas</th>\n",
       "      <th>cuotas_canceladas</th>\n",
       "      <th>cuotas_vencidas</th>\n",
       "      <th>vigente</th>\n",
       "      <th>TotalCancelado</th>\n",
       "      <th>SaldoFindeMes</th>\n",
       "      <th>rate</th>\n",
       "    </tr>\n",
       "  </thead>\n",
       "  <tbody>\n",
       "    <tr>\n",
       "      <th>0</th>\n",
       "      <td>101104101421</td>\n",
       "      <td>Casado</td>\n",
       "      <td>No</td>\n",
       "      <td>3157</td>\n",
       "      <td>820000</td>\n",
       "      <td>12</td>\n",
       "      <td>9</td>\n",
       "      <td>3</td>\n",
       "      <td>0</td>\n",
       "      <td>695000</td>\n",
       "      <td>760541.0</td>\n",
       "      <td>0.913823</td>\n",
       "    </tr>\n",
       "    <tr>\n",
       "      <th>1</th>\n",
       "      <td>101111013583</td>\n",
       "      <td>Casado</td>\n",
       "      <td>No</td>\n",
       "      <td>2117</td>\n",
       "      <td>1038863</td>\n",
       "      <td>24</td>\n",
       "      <td>8</td>\n",
       "      <td>6</td>\n",
       "      <td>1</td>\n",
       "      <td>320000</td>\n",
       "      <td>715299.0</td>\n",
       "      <td>0.447365</td>\n",
       "    </tr>\n",
       "    <tr>\n",
       "      <th>2</th>\n",
       "      <td>101111014610</td>\n",
       "      <td>Soltero</td>\n",
       "      <td>Si</td>\n",
       "      <td>2727</td>\n",
       "      <td>700000</td>\n",
       "      <td>8</td>\n",
       "      <td>2</td>\n",
       "      <td>6</td>\n",
       "      <td>0</td>\n",
       "      <td>1300000</td>\n",
       "      <td>540311.0</td>\n",
       "      <td>2.406022</td>\n",
       "    </tr>\n",
       "    <tr>\n",
       "      <th>3</th>\n",
       "      <td>101111015376</td>\n",
       "      <td>Soltero</td>\n",
       "      <td>Si</td>\n",
       "      <td>2635</td>\n",
       "      <td>1500000</td>\n",
       "      <td>14</td>\n",
       "      <td>4</td>\n",
       "      <td>10</td>\n",
       "      <td>0</td>\n",
       "      <td>1886000</td>\n",
       "      <td>1133161.0</td>\n",
       "      <td>1.664371</td>\n",
       "    </tr>\n",
       "    <tr>\n",
       "      <th>4</th>\n",
       "      <td>101111016438</td>\n",
       "      <td>Casado</td>\n",
       "      <td>No</td>\n",
       "      <td>2449</td>\n",
       "      <td>2030000</td>\n",
       "      <td>15</td>\n",
       "      <td>9</td>\n",
       "      <td>6</td>\n",
       "      <td>0</td>\n",
       "      <td>150000</td>\n",
       "      <td>928039.0</td>\n",
       "      <td>0.161631</td>\n",
       "    </tr>\n",
       "  </tbody>\n",
       "</table>\n",
       "</div>"
      ],
      "text/plain": [
       "        Credito nombre_conyuge nombre_garante  dias_atraso    monto  \\\n",
       "0  101104101421         Casado             No         3157   820000   \n",
       "1  101111013583         Casado             No         2117  1038863   \n",
       "2  101111014610        Soltero             Si         2727   700000   \n",
       "3  101111015376        Soltero             Si         2635  1500000   \n",
       "4  101111016438         Casado             No         2449  2030000   \n",
       "\n",
       "   nro_cuotas_atrasadas  cuotas_canceladas  cuotas_vencidas  vigente  \\\n",
       "0                    12                  9                3        0   \n",
       "1                    24                  8                6        1   \n",
       "2                     8                  2                6        0   \n",
       "3                    14                  4               10        0   \n",
       "4                    15                  9                6        0   \n",
       "\n",
       "   TotalCancelado  SaldoFindeMes      rate  \n",
       "0          695000       760541.0  0.913823  \n",
       "1          320000       715299.0  0.447365  \n",
       "2         1300000       540311.0  2.406022  \n",
       "3         1886000      1133161.0  1.664371  \n",
       "4          150000       928039.0  0.161631  "
      ]
     },
     "execution_count": 676,
     "metadata": {},
     "output_type": "execute_result"
    }
   ],
   "source": [
    "df_features3.head()"
   ]
  },
  {
   "cell_type": "markdown",
   "id": "628eb494",
   "metadata": {},
   "source": [
    "### Rate of Recovery - Outliers"
   ]
  },
  {
   "cell_type": "markdown",
   "id": "92b1e4a4",
   "metadata": {},
   "source": [
    "Discard outliers"
   ]
  },
  {
   "cell_type": "code",
   "execution_count": 677,
   "id": "3c8d30ea",
   "metadata": {},
   "outputs": [
    {
     "data": {
      "text/plain": [
       "count    15288.000000\n",
       "mean         0.981606\n",
       "std          0.717497\n",
       "min          0.003761\n",
       "25%          0.452159\n",
       "50%          1.096228\n",
       "75%          1.340028\n",
       "max         27.428931\n",
       "Name: rate, dtype: float64"
      ]
     },
     "execution_count": 677,
     "metadata": {},
     "output_type": "execute_result"
    }
   ],
   "source": [
    "df_features3['rate'].describe()"
   ]
  },
  {
   "cell_type": "code",
   "execution_count": 678,
   "id": "61653374",
   "metadata": {
    "scrolled": true
   },
   "outputs": [
    {
     "data": {
      "text/plain": [
       "<AxesSubplot:>"
      ]
     },
     "execution_count": 678,
     "metadata": {},
     "output_type": "execute_result"
    },
    {
     "data": {
      "image/png": "[encoded data removed]",
      "text/plain": [
       "<Figure size 432x288 with 1 Axes>"
      ]
     },
     "metadata": {
      "needs_background": "light"
     },
     "output_type": "display_data"
    }
   ],
   "source": [
    "df_features3['rate'].plot(kind='box')"
   ]
  },
  {
   "cell_type": "code",
   "execution_count": 682,
   "id": "e2375e3c",
   "metadata": {},
   "outputs": [
    {
     "name": "stdout",
     "output_type": "stream",
     "text": [
      "<class 'pandas.core.frame.DataFrame'>\n",
      "Int64Index: 13133 entries, 0 to 15288\n",
      "Data columns (total 12 columns):\n",
      " #   Column                Non-Null Count  Dtype  \n",
      "---  ------                --------------  -----  \n",
      " 0   Credito               13133 non-null  int64  \n",
      " 1   nombre_conyuge        13133 non-null  object \n",
      " 2   nombre_garante        13133 non-null  object \n",
      " 3   dias_atraso           13133 non-null  int64  \n",
      " 4   monto                 13133 non-null  int64  \n",
      " 5   nro_cuotas_atrasadas  13133 non-null  int64  \n",
      " 6   cuotas_canceladas     13133 non-null  int64  \n",
      " 7   cuotas_vencidas       13133 non-null  int64  \n",
      " 8   vigente               13133 non-null  int64  \n",
      " 9   TotalCancelado        13133 non-null  int64  \n",
      " 10  SaldoFindeMes         13133 non-null  float64\n",
      " 11  rate                  13133 non-null  float64\n",
      "dtypes: float64(2), int64(8), object(2)\n",
      "memory usage: 1.3+ MB\n"
     ]
    }
   ],
   "source": [
    "df_out3 = df_features3[df_features3['rate'] < 1.5]  \n",
    "df_out3.info()"
   ]
  },
  {
   "cell_type": "code",
   "execution_count": 683,
   "id": "48f0fb68",
   "metadata": {},
   "outputs": [
    {
     "data": {
      "text/plain": [
       "<AxesSubplot:>"
      ]
     },
     "execution_count": 683,
     "metadata": {},
     "output_type": "execute_result"
    },
    {
     "data": {
      "image/png": "[encoded data removed]",
      "text/plain": [
       "<Figure size 432x288 with 1 Axes>"
      ]
     },
     "metadata": {
      "needs_background": "light"
     },
     "output_type": "display_data"
    }
   ],
   "source": [
    "df_out3['rate'].plot(kind='box')"
   ]
  },
  {
   "cell_type": "markdown",
   "id": "a1f8e532",
   "metadata": {},
   "source": [
    "## Exploratory Data Analysis"
   ]
  },
  {
   "cell_type": "code",
   "execution_count": 684,
   "id": "ec099838",
   "metadata": {},
   "outputs": [
    {
     "name": "stderr",
     "output_type": "stream",
     "text": [
      "/tmp/ipykernel_769/783989240.py:2: FutureWarning:\n",
      "\n",
      "The default value of numeric_only in DataFrame.corr is deprecated. In a future version, it will default to False. Select only valid columns or specify the value of numeric_only to silence this warning.\n",
      "\n"
     ]
    },
    {
     "data": {
      "image/png": "[encoded data removed]",
      "text/plain": [
       "<Figure size 432x288 with 2 Axes>"
      ]
     },
     "metadata": {
      "needs_background": "light"
     },
     "output_type": "display_data"
    }
   ],
   "source": [
    "import seaborn as sns\n",
    "dataplot = sns.heatmap(df_out3.corr(), cmap=\"YlGnBu\", annot=True)\n"
   ]
  },
  {
   "cell_type": "code",
   "execution_count": 685,
   "id": "d82a7ef1",
   "metadata": {},
   "outputs": [
    {
     "data": {
      "text/html": [
       "<div>\n",
       "<style scoped>\n",
       "    .dataframe tbody tr th:only-of-type {\n",
       "        vertical-align: middle;\n",
       "    }\n",
       "\n",
       "    .dataframe tbody tr th {\n",
       "        vertical-align: top;\n",
       "    }\n",
       "\n",
       "    .dataframe thead th {\n",
       "        text-align: right;\n",
       "    }\n",
       "</style>\n",
       "<table border=\"1\" class=\"dataframe\">\n",
       "  <thead>\n",
       "    <tr style=\"text-align: right;\">\n",
       "      <th></th>\n",
       "      <th>dias_atraso</th>\n",
       "      <th>rate</th>\n",
       "    </tr>\n",
       "  </thead>\n",
       "  <tbody>\n",
       "    <tr>\n",
       "      <th>0</th>\n",
       "      <td>3157</td>\n",
       "      <td>0.913823</td>\n",
       "    </tr>\n",
       "    <tr>\n",
       "      <th>1</th>\n",
       "      <td>2117</td>\n",
       "      <td>0.447365</td>\n",
       "    </tr>\n",
       "    <tr>\n",
       "      <th>4</th>\n",
       "      <td>2449</td>\n",
       "      <td>0.161631</td>\n",
       "    </tr>\n",
       "    <tr>\n",
       "      <th>6</th>\n",
       "      <td>2148</td>\n",
       "      <td>0.462452</td>\n",
       "    </tr>\n",
       "    <tr>\n",
       "      <th>7</th>\n",
       "      <td>2028</td>\n",
       "      <td>0.892272</td>\n",
       "    </tr>\n",
       "  </tbody>\n",
       "</table>\n",
       "</div>"
      ],
      "text/plain": [
       "   dias_atraso      rate\n",
       "0         3157  0.913823\n",
       "1         2117  0.447365\n",
       "4         2449  0.161631\n",
       "6         2148  0.462452\n",
       "7         2028  0.892272"
      ]
     },
     "execution_count": 685,
     "metadata": {},
     "output_type": "execute_result"
    }
   ],
   "source": [
    "df_atraso_rate = df_out3[['dias_atraso','rate']]\n",
    "df_atraso_rate.head()"
   ]
  },
  {
   "cell_type": "code",
   "execution_count": 686,
   "id": "45e380cb",
   "metadata": {},
   "outputs": [
    {
     "data": {
      "image/png": "[encoded data removed]",
      "text/plain": [
       "<Figure size 432x288 with 1 Axes>"
      ]
     },
     "metadata": {
      "needs_background": "light"
     },
     "output_type": "display_data"
    }
   ],
   "source": [
    "import matplotlib.pyplot as plt\n",
    "\n",
    "# Plot dias atraso vs rate\n",
    "plt.scatter(df_out3['cuotas_canceladas'], df_out3['rate'])\n",
    "\n",
    "# Labels\n",
    "plt.xlabel(\"cuotas canceladas\")\n",
    "plt.ylabel(\"rate\")\n",
    "\n",
    "plt.show()"
   ]
  },
  {
   "cell_type": "code",
   "execution_count": 687,
   "id": "cb2e200d",
   "metadata": {},
   "outputs": [
    {
     "data": {
      "text/plain": [
       "count    13133.000000\n",
       "mean        10.227823\n",
       "std          6.744964\n",
       "min          0.000000\n",
       "25%          5.000000\n",
       "50%          9.000000\n",
       "75%         15.000000\n",
       "max         47.000000\n",
       "Name: cuotas_canceladas, dtype: float64"
      ]
     },
     "execution_count": 687,
     "metadata": {},
     "output_type": "execute_result"
    }
   ],
   "source": [
    " df_out3['cuotas_canceladas'].describe()"
   ]
  },
  {
   "cell_type": "markdown",
   "id": "65c26240",
   "metadata": {},
   "source": [
    "## Model"
   ]
  },
  {
   "cell_type": "code",
   "execution_count": 688,
   "id": "11b66c7c",
   "metadata": {},
   "outputs": [
    {
     "name": "stdout",
     "output_type": "stream",
     "text": [
      "<class 'pandas.core.frame.DataFrame'>\n",
      "Int64Index: 13133 entries, 0 to 15288\n",
      "Data columns (total 12 columns):\n",
      " #   Column                Non-Null Count  Dtype  \n",
      "---  ------                --------------  -----  \n",
      " 0   Credito               13133 non-null  int64  \n",
      " 1   nombre_conyuge        13133 non-null  object \n",
      " 2   nombre_garante        13133 non-null  object \n",
      " 3   dias_atraso           13133 non-null  int64  \n",
      " 4   monto                 13133 non-null  int64  \n",
      " 5   nro_cuotas_atrasadas  13133 non-null  int64  \n",
      " 6   cuotas_canceladas     13133 non-null  int64  \n",
      " 7   cuotas_vencidas       13133 non-null  int64  \n",
      " 8   vigente               13133 non-null  int64  \n",
      " 9   TotalCancelado        13133 non-null  int64  \n",
      " 10  SaldoFindeMes         13133 non-null  float64\n",
      " 11  rate                  13133 non-null  float64\n",
      "dtypes: float64(2), int64(8), object(2)\n",
      "memory usage: 1.3+ MB\n"
     ]
    }
   ],
   "source": [
    "df_out3.info()"
   ]
  },
  {
   "cell_type": "code",
   "execution_count": 689,
   "id": "1e3db061",
   "metadata": {},
   "outputs": [
    {
     "data": {
      "text/html": [
       "<div>\n",
       "<style scoped>\n",
       "    .dataframe tbody tr th:only-of-type {\n",
       "        vertical-align: middle;\n",
       "    }\n",
       "\n",
       "    .dataframe tbody tr th {\n",
       "        vertical-align: top;\n",
       "    }\n",
       "\n",
       "    .dataframe thead th {\n",
       "        text-align: right;\n",
       "    }\n",
       "</style>\n",
       "<table border=\"1\" class=\"dataframe\">\n",
       "  <thead>\n",
       "    <tr style=\"text-align: right;\">\n",
       "      <th></th>\n",
       "      <th>Credito</th>\n",
       "      <th>nombre_conyuge</th>\n",
       "      <th>nombre_garante</th>\n",
       "      <th>dias_atraso</th>\n",
       "      <th>monto</th>\n",
       "      <th>nro_cuotas_atrasadas</th>\n",
       "      <th>cuotas_canceladas</th>\n",
       "      <th>cuotas_vencidas</th>\n",
       "      <th>vigente</th>\n",
       "      <th>TotalCancelado</th>\n",
       "      <th>SaldoFindeMes</th>\n",
       "      <th>rate</th>\n",
       "    </tr>\n",
       "  </thead>\n",
       "  <tbody>\n",
       "    <tr>\n",
       "      <th>0</th>\n",
       "      <td>101104101421</td>\n",
       "      <td>Casado</td>\n",
       "      <td>No</td>\n",
       "      <td>3157</td>\n",
       "      <td>820000</td>\n",
       "      <td>12</td>\n",
       "      <td>9</td>\n",
       "      <td>3</td>\n",
       "      <td>0</td>\n",
       "      <td>695000</td>\n",
       "      <td>760541.0</td>\n",
       "      <td>0.913823</td>\n",
       "    </tr>\n",
       "    <tr>\n",
       "      <th>1</th>\n",
       "      <td>101111013583</td>\n",
       "      <td>Casado</td>\n",
       "      <td>No</td>\n",
       "      <td>2117</td>\n",
       "      <td>1038863</td>\n",
       "      <td>24</td>\n",
       "      <td>8</td>\n",
       "      <td>6</td>\n",
       "      <td>1</td>\n",
       "      <td>320000</td>\n",
       "      <td>715299.0</td>\n",
       "      <td>0.447365</td>\n",
       "    </tr>\n",
       "    <tr>\n",
       "      <th>4</th>\n",
       "      <td>101111016438</td>\n",
       "      <td>Casado</td>\n",
       "      <td>No</td>\n",
       "      <td>2449</td>\n",
       "      <td>2030000</td>\n",
       "      <td>15</td>\n",
       "      <td>9</td>\n",
       "      <td>6</td>\n",
       "      <td>0</td>\n",
       "      <td>150000</td>\n",
       "      <td>928039.0</td>\n",
       "      <td>0.161631</td>\n",
       "    </tr>\n",
       "    <tr>\n",
       "      <th>6</th>\n",
       "      <td>101121024440</td>\n",
       "      <td>Casado</td>\n",
       "      <td>No</td>\n",
       "      <td>2148</td>\n",
       "      <td>1200000</td>\n",
       "      <td>12</td>\n",
       "      <td>10</td>\n",
       "      <td>2</td>\n",
       "      <td>0</td>\n",
       "      <td>109000</td>\n",
       "      <td>235700.0</td>\n",
       "      <td>0.462452</td>\n",
       "    </tr>\n",
       "    <tr>\n",
       "      <th>7</th>\n",
       "      <td>101121025332</td>\n",
       "      <td>Casado</td>\n",
       "      <td>No</td>\n",
       "      <td>2028</td>\n",
       "      <td>1530000</td>\n",
       "      <td>14</td>\n",
       "      <td>13</td>\n",
       "      <td>1</td>\n",
       "      <td>0</td>\n",
       "      <td>245000</td>\n",
       "      <td>274580.0</td>\n",
       "      <td>0.892272</td>\n",
       "    </tr>\n",
       "  </tbody>\n",
       "</table>\n",
       "</div>"
      ],
      "text/plain": [
       "        Credito nombre_conyuge nombre_garante  dias_atraso    monto  \\\n",
       "0  101104101421         Casado             No         3157   820000   \n",
       "1  101111013583         Casado             No         2117  1038863   \n",
       "4  101111016438         Casado             No         2449  2030000   \n",
       "6  101121024440         Casado             No         2148  1200000   \n",
       "7  101121025332         Casado             No         2028  1530000   \n",
       "\n",
       "   nro_cuotas_atrasadas  cuotas_canceladas  cuotas_vencidas  vigente  \\\n",
       "0                    12                  9                3        0   \n",
       "1                    24                  8                6        1   \n",
       "4                    15                  9                6        0   \n",
       "6                    12                 10                2        0   \n",
       "7                    14                 13                1        0   \n",
       "\n",
       "   TotalCancelado  SaldoFindeMes      rate  \n",
       "0          695000       760541.0  0.913823  \n",
       "1          320000       715299.0  0.447365  \n",
       "4          150000       928039.0  0.161631  \n",
       "6          109000       235700.0  0.462452  \n",
       "7          245000       274580.0  0.892272  "
      ]
     },
     "execution_count": 689,
     "metadata": {},
     "output_type": "execute_result"
    }
   ],
   "source": [
    "df_out3.head()"
   ]
  },
  {
   "cell_type": "code",
   "execution_count": 690,
   "id": "599685a5",
   "metadata": {},
   "outputs": [
    {
     "data": {
      "text/plain": [
       "Index(['Credito', 'nombre_conyuge', 'nombre_garante', 'dias_atraso', 'monto',\n",
       "       'nro_cuotas_atrasadas', 'cuotas_canceladas', 'cuotas_vencidas',\n",
       "       'vigente', 'TotalCancelado', 'SaldoFindeMes', 'rate'],\n",
       "      dtype='object')"
      ]
     },
     "execution_count": 690,
     "metadata": {},
     "output_type": "execute_result"
    }
   ],
   "source": [
    "df_out3.columns"
   ]
  },
  {
   "cell_type": "code",
   "execution_count": 691,
   "id": "482a104f",
   "metadata": {},
   "outputs": [
    {
     "data": {
      "text/plain": [
       "Credito                 13133\n",
       "nombre_conyuge              2\n",
       "nombre_garante              2\n",
       "dias_atraso              1829\n",
       "monto                    5283\n",
       "nro_cuotas_atrasadas       42\n",
       "cuotas_canceladas          47\n",
       "cuotas_vencidas            44\n",
       "vigente                     2\n",
       "TotalCancelado           5704\n",
       "SaldoFindeMes           12381\n",
       "rate                    12967\n",
       "dtype: int64"
      ]
     },
     "execution_count": 691,
     "metadata": {},
     "output_type": "execute_result"
    }
   ],
   "source": [
    "df_out3.nunique()"
   ]
  },
  {
   "cell_type": "markdown",
   "id": "d7fe0642",
   "metadata": {},
   "source": [
    "### Split Train and Test sets"
   ]
  },
  {
   "cell_type": "markdown",
   "id": "c90954e5",
   "metadata": {},
   "source": [
    "Define X and y"
   ]
  },
  {
   "cell_type": "code",
   "execution_count": 692,
   "id": "bebb4253",
   "metadata": {},
   "outputs": [],
   "source": [
    "X = df_out3.drop(columns=['rate','TotalCancelado','SaldoFindeMes'])\n",
    "y = df_out3['rate']"
   ]
  },
  {
   "cell_type": "code",
   "execution_count": 693,
   "id": "8cc90747",
   "metadata": {},
   "outputs": [],
   "source": [
    "from sklearn.model_selection import train_test_split\n",
    "\n",
    "X_train, X_test, y_train, y_test = train_test_split(X, y, test_size=0.3, random_state=88)"
   ]
  },
  {
   "cell_type": "code",
   "execution_count": 694,
   "id": "cc67e6fb",
   "metadata": {},
   "outputs": [
    {
     "data": {
      "text/plain": [
       "(9193, 9)"
      ]
     },
     "execution_count": 694,
     "metadata": {},
     "output_type": "execute_result"
    }
   ],
   "source": [
    "X_train.shape"
   ]
  },
  {
   "cell_type": "markdown",
   "id": "0a87671d",
   "metadata": {},
   "source": [
    "#### Numerical Features"
   ]
  },
  {
   "cell_type": "code",
   "execution_count": 695,
   "id": "c493308c",
   "metadata": {},
   "outputs": [
    {
     "data": {
      "text/plain": [
       "array(['dias_atraso', 'monto', 'nro_cuotas_atrasadas',\n",
       "       'cuotas_canceladas', 'cuotas_vencidas', 'vigente'], dtype=object)"
      ]
     },
     "execution_count": 695,
     "metadata": {},
     "output_type": "execute_result"
    }
   ],
   "source": [
    "feat_pre = X_train.drop(columns='Credito')\n",
    "feat_numerical_names = feat_pre.select_dtypes(include=['int64','float64']).nunique()\n",
    "feat_numerical_names = feat_numerical_names.index.values\n",
    "feat_numerical_names"
   ]
  },
  {
   "cell_type": "markdown",
   "id": "74beeb2e",
   "metadata": {},
   "source": [
    "#### Categorical Features"
   ]
  },
  {
   "cell_type": "code",
   "execution_count": 696,
   "id": "72295ee2",
   "metadata": {},
   "outputs": [
    {
     "data": {
      "text/plain": [
       "nombre_conyuge    2\n",
       "nombre_garante    2\n",
       "dtype: int64"
      ]
     },
     "execution_count": 696,
     "metadata": {},
     "output_type": "execute_result"
    }
   ],
   "source": [
    "feat_categorical_nunique = X_train.select_dtypes(include=['object']).nunique()\n",
    "feat_categorical_nunique"
   ]
  },
  {
   "cell_type": "code",
   "execution_count": 697,
   "id": "93c8287b",
   "metadata": {},
   "outputs": [
    {
     "data": {
      "text/plain": [
       "array(['nombre_conyuge', 'nombre_garante'], dtype=object)"
      ]
     },
     "execution_count": 697,
     "metadata": {},
     "output_type": "execute_result"
    }
   ],
   "source": [
    "features_cat = feat_categorical_nunique.index.values\n",
    "features_cat"
   ]
  },
  {
   "cell_type": "markdown",
   "id": "9573c030",
   "metadata": {},
   "source": [
    "### Baseline Pipe"
   ]
  },
  {
   "cell_type": "code",
   "execution_count": 698,
   "id": "7d382706",
   "metadata": {},
   "outputs": [],
   "source": [
    "from sklearn.pipeline import Pipeline, FeatureUnion, make_union, make_pipeline\n",
    "from sklearn.preprocessing import MinMaxScaler\n",
    "from sklearn.preprocessing import RobustScaler\n",
    "from sklearn.preprocessing import OneHotEncoder\n",
    "from sklearn.compose import ColumnTransformer\n",
    "from sklearn import set_config; set_config(display='diagram')\n",
    "from sklearn.tree import DecisionTreeClassifier"
   ]
  },
  {
   "cell_type": "code",
   "execution_count": 699,
   "id": "a31c3501",
   "metadata": {},
   "outputs": [
    {
     "data": {
      "text/html": [
       "<style>#sk-f96e6023-1372-4402-a103-3004a44e8cfa {color: black;background-color: white;}#sk-f96e6023-1372-4402-a103-3004a44e8cfa pre{padding: 0;}#sk-f96e6023-1372-4402-a103-3004a44e8cfa div.sk-toggleable {background-color: white;}#sk-f96e6023-1372-4402-a103-3004a44e8cfa label.sk-toggleable__label {cursor: pointer;display: block;width: 100%;margin-bottom: 0;padding: 0.3em;box-sizing: border-box;text-align: center;}#sk-f96e6023-1372-4402-a103-3004a44e8cfa label.sk-toggleable__label-arrow:before {content: \"▸\";float: left;margin-right: 0.25em;color: #696969;}#sk-f96e6023-1372-4402-a103-3004a44e8cfa label.sk-toggleable__label-arrow:hover:before {color: black;}#sk-f96e6023-1372-4402-a103-3004a44e8cfa div.sk-estimator:hover label.sk-toggleable__label-arrow:before {color: black;}#sk-f96e6023-1372-4402-a103-3004a44e8cfa div.sk-toggleable__content {max-height: 0;max-width: 0;overflow: hidden;text-align: left;background-color: #f0f8ff;}#sk-f96e6023-1372-4402-a103-3004a44e8cfa div.sk-toggleable__content pre {margin: 0.2em;color: black;border-radius: 0.25em;background-color: #f0f8ff;}#sk-f96e6023-1372-4402-a103-3004a44e8cfa input.sk-toggleable__control:checked~div.sk-toggleable__content {max-height: 200px;max-width: 100%;overflow: auto;}#sk-f96e6023-1372-4402-a103-3004a44e8cfa input.sk-toggleable__control:checked~label.sk-toggleable__label-arrow:before {content: \"▾\";}#sk-f96e6023-1372-4402-a103-3004a44e8cfa div.sk-estimator input.sk-toggleable__control:checked~label.sk-toggleable__label {background-color: #d4ebff;}#sk-f96e6023-1372-4402-a103-3004a44e8cfa div.sk-label input.sk-toggleable__control:checked~label.sk-toggleable__label {background-color: #d4ebff;}#sk-f96e6023-1372-4402-a103-3004a44e8cfa input.sk-hidden--visually {border: 0;clip: rect(1px 1px 1px 1px);clip: rect(1px, 1px, 1px, 1px);height: 1px;margin: -1px;overflow: hidden;padding: 0;position: absolute;width: 1px;}#sk-f96e6023-1372-4402-a103-3004a44e8cfa div.sk-estimator {font-family: monospace;background-color: #f0f8ff;border: 1px dotted black;border-radius: 0.25em;box-sizing: border-box;margin-bottom: 0.5em;}#sk-f96e6023-1372-4402-a103-3004a44e8cfa div.sk-estimator:hover {background-color: #d4ebff;}#sk-f96e6023-1372-4402-a103-3004a44e8cfa div.sk-parallel-item::after {content: \"\";width: 100%;border-bottom: 1px solid gray;flex-grow: 1;}#sk-f96e6023-1372-4402-a103-3004a44e8cfa div.sk-label:hover label.sk-toggleable__label {background-color: #d4ebff;}#sk-f96e6023-1372-4402-a103-3004a44e8cfa div.sk-serial::before {content: \"\";position: absolute;border-left: 1px solid gray;box-sizing: border-box;top: 2em;bottom: 0;left: 50%;}#sk-f96e6023-1372-4402-a103-3004a44e8cfa div.sk-serial {display: flex;flex-direction: column;align-items: center;background-color: white;padding-right: 0.2em;padding-left: 0.2em;}#sk-f96e6023-1372-4402-a103-3004a44e8cfa div.sk-item {z-index: 1;}#sk-f96e6023-1372-4402-a103-3004a44e8cfa div.sk-parallel {display: flex;align-items: stretch;justify-content: center;background-color: white;}#sk-f96e6023-1372-4402-a103-3004a44e8cfa div.sk-parallel::before {content: \"\";position: absolute;border-left: 1px solid gray;box-sizing: border-box;top: 2em;bottom: 0;left: 50%;}#sk-f96e6023-1372-4402-a103-3004a44e8cfa div.sk-parallel-item {display: flex;flex-direction: column;position: relative;background-color: white;}#sk-f96e6023-1372-4402-a103-3004a44e8cfa div.sk-parallel-item:first-child::after {align-self: flex-end;width: 50%;}#sk-f96e6023-1372-4402-a103-3004a44e8cfa div.sk-parallel-item:last-child::after {align-self: flex-start;width: 50%;}#sk-f96e6023-1372-4402-a103-3004a44e8cfa div.sk-parallel-item:only-child::after {width: 0;}#sk-f96e6023-1372-4402-a103-3004a44e8cfa div.sk-dashed-wrapped {border: 1px dashed gray;margin: 0 0.4em 0.5em 0.4em;box-sizing: border-box;padding-bottom: 0.4em;background-color: white;position: relative;}#sk-f96e6023-1372-4402-a103-3004a44e8cfa div.sk-label label {font-family: monospace;font-weight: bold;background-color: white;display: inline-block;line-height: 1.2em;}#sk-f96e6023-1372-4402-a103-3004a44e8cfa div.sk-label-container {position: relative;z-index: 2;text-align: center;}#sk-f96e6023-1372-4402-a103-3004a44e8cfa div.sk-container {/* jupyter's `normalize.less` sets `[hidden] { display: none; }` but bootstrap.min.css set `[hidden] { display: none !important; }` so we also need the `!important` here to be able to override the default hidden behavior on the sphinx rendered scikit-learn.org. See: https://github.com/scikit-learn/scikit-learn/issues/21755 */display: inline-block !important;position: relative;}#sk-f96e6023-1372-4402-a103-3004a44e8cfa div.sk-text-repr-fallback {display: none;}</style><div id=\"sk-f96e6023-1372-4402-a103-3004a44e8cfa\" class=\"sk-top-container\"><div class=\"sk-text-repr-fallback\"><pre>ColumnTransformer(transformers=[(&#x27;num_tr&#x27;,\n",
       "                                 Pipeline(steps=[(&#x27;scaler&#x27;, MinMaxScaler())]),\n",
       "                                 array([&#x27;dias_atraso&#x27;, &#x27;monto&#x27;, &#x27;nro_cuotas_atrasadas&#x27;,\n",
       "       &#x27;cuotas_canceladas&#x27;, &#x27;cuotas_vencidas&#x27;, &#x27;vigente&#x27;], dtype=object)),\n",
       "                                (&#x27;cat_tr&#x27;,\n",
       "                                 Pipeline(steps=[(&#x27;encoder&#x27;,\n",
       "                                                  OneHotEncoder(handle_unknown=&#x27;ignore&#x27;))]),\n",
       "                                 array([&#x27;nombre_conyuge&#x27;, &#x27;nombre_garante&#x27;], dtype=object))])</pre><b>Please rerun this cell to show the HTML repr or trust the notebook.</b></div><div class=\"sk-container\" hidden><div class=\"sk-item sk-dashed-wrapped\"><div class=\"sk-label-container\"><div class=\"sk-label sk-toggleable\"><input class=\"sk-toggleable__control sk-hidden--visually\" id=\"44ee2449-e663-4bee-8d76-8a839b7974ad\" type=\"checkbox\" ><label for=\"44ee2449-e663-4bee-8d76-8a839b7974ad\" class=\"sk-toggleable__label sk-toggleable__label-arrow\">ColumnTransformer</label><div class=\"sk-toggleable__content\"><pre>ColumnTransformer(transformers=[(&#x27;num_tr&#x27;,\n",
       "                                 Pipeline(steps=[(&#x27;scaler&#x27;, MinMaxScaler())]),\n",
       "                                 array([&#x27;dias_atraso&#x27;, &#x27;monto&#x27;, &#x27;nro_cuotas_atrasadas&#x27;,\n",
       "       &#x27;cuotas_canceladas&#x27;, &#x27;cuotas_vencidas&#x27;, &#x27;vigente&#x27;], dtype=object)),\n",
       "                                (&#x27;cat_tr&#x27;,\n",
       "                                 Pipeline(steps=[(&#x27;encoder&#x27;,\n",
       "                                                  OneHotEncoder(handle_unknown=&#x27;ignore&#x27;))]),\n",
       "                                 array([&#x27;nombre_conyuge&#x27;, &#x27;nombre_garante&#x27;], dtype=object))])</pre></div></div></div><div class=\"sk-parallel\"><div class=\"sk-parallel-item\"><div class=\"sk-item\"><div class=\"sk-label-container\"><div class=\"sk-label sk-toggleable\"><input class=\"sk-toggleable__control sk-hidden--visually\" id=\"062bf1ff-8916-4cff-9cec-36cf3cc95700\" type=\"checkbox\" ><label for=\"062bf1ff-8916-4cff-9cec-36cf3cc95700\" class=\"sk-toggleable__label sk-toggleable__label-arrow\">num_tr</label><div class=\"sk-toggleable__content\"><pre>[&#x27;dias_atraso&#x27; &#x27;monto&#x27; &#x27;nro_cuotas_atrasadas&#x27; &#x27;cuotas_canceladas&#x27;\n",
       " &#x27;cuotas_vencidas&#x27; &#x27;vigente&#x27;]</pre></div></div></div><div class=\"sk-serial\"><div class=\"sk-item\"><div class=\"sk-serial\"><div class=\"sk-item\"><div class=\"sk-estimator sk-toggleable\"><input class=\"sk-toggleable__control sk-hidden--visually\" id=\"e9863be7-3f2f-4823-8fb1-c31623533e17\" type=\"checkbox\" ><label for=\"e9863be7-3f2f-4823-8fb1-c31623533e17\" class=\"sk-toggleable__label sk-toggleable__label-arrow\">MinMaxScaler</label><div class=\"sk-toggleable__content\"><pre>MinMaxScaler()</pre></div></div></div></div></div></div></div></div><div class=\"sk-parallel-item\"><div class=\"sk-item\"><div class=\"sk-label-container\"><div class=\"sk-label sk-toggleable\"><input class=\"sk-toggleable__control sk-hidden--visually\" id=\"4360efdf-5832-4cf0-b6c7-63ac14ec9b21\" type=\"checkbox\" ><label for=\"4360efdf-5832-4cf0-b6c7-63ac14ec9b21\" class=\"sk-toggleable__label sk-toggleable__label-arrow\">cat_tr</label><div class=\"sk-toggleable__content\"><pre>[&#x27;nombre_conyuge&#x27; &#x27;nombre_garante&#x27;]</pre></div></div></div><div class=\"sk-serial\"><div class=\"sk-item\"><div class=\"sk-serial\"><div class=\"sk-item\"><div class=\"sk-estimator sk-toggleable\"><input class=\"sk-toggleable__control sk-hidden--visually\" id=\"8016d282-b570-40b7-8b54-55f76fd9f4b0\" type=\"checkbox\" ><label for=\"8016d282-b570-40b7-8b54-55f76fd9f4b0\" class=\"sk-toggleable__label sk-toggleable__label-arrow\">OneHotEncoder</label><div class=\"sk-toggleable__content\"><pre>OneHotEncoder(handle_unknown=&#x27;ignore&#x27;)</pre></div></div></div></div></div></div></div></div></div></div></div></div>"
      ],
      "text/plain": [
       "ColumnTransformer(transformers=[('num_tr',\n",
       "                                 Pipeline(steps=[('scaler', MinMaxScaler())]),\n",
       "                                 array(['dias_atraso', 'monto', 'nro_cuotas_atrasadas',\n",
       "       'cuotas_canceladas', 'cuotas_vencidas', 'vigente'], dtype=object)),\n",
       "                                ('cat_tr',\n",
       "                                 Pipeline(steps=[('encoder',\n",
       "                                                  OneHotEncoder(handle_unknown='ignore'))]),\n",
       "                                 array(['nombre_conyuge', 'nombre_garante'], dtype=object))])"
      ]
     },
     "execution_count": 699,
     "metadata": {},
     "output_type": "execute_result"
    }
   ],
   "source": [
    "# Encode categorical values\n",
    "cat_transformer = Pipeline([\n",
    "    ('encoder', OneHotEncoder(handle_unknown='ignore'))\n",
    "     ])\n",
    "\n",
    "# Scale numerical values: \n",
    "num_transformer = Pipeline([\n",
    "    ('scaler', MinMaxScaler()),\n",
    "])\n",
    "\n",
    "# Parallelize \"num_transformer\" and \"cat_transfomer\"\n",
    "prepoc_baseline = ColumnTransformer([\n",
    "    ('num_tr', num_transformer, feat_numerical_names),\n",
    "    ('cat_tr', cat_transformer, features_cat)],\n",
    "    remainder='drop'\n",
    ")\n",
    "\n",
    "prepoc_baseline"
   ]
  },
  {
   "cell_type": "code",
   "execution_count": 700,
   "id": "b66c8aa0",
   "metadata": {},
   "outputs": [
    {
     "data": {
      "text/plain": [
       "array([[0.03418958, 0.11492832, 0.4       , ..., 0.        , 1.        ,\n",
       "        0.        ],\n",
       "       [0.2301013 , 0.04196982, 0.4       , ..., 0.        , 0.        ,\n",
       "        1.        ],\n",
       "       [0.06078148, 0.08907755, 0.1       , ..., 1.        , 0.        ,\n",
       "        1.        ],\n",
       "       ...,\n",
       "       [0.0524602 , 0.06138087, 0.3       , ..., 0.        , 1.        ,\n",
       "        0.        ],\n",
       "       [0.15502894, 0.03349453, 0.26666667, ..., 0.        , 1.        ,\n",
       "        0.        ],\n",
       "       [0.00434153, 0.09849344, 0.4       , ..., 1.        , 0.        ,\n",
       "        1.        ]])"
      ]
     },
     "execution_count": 700,
     "metadata": {},
     "output_type": "execute_result"
    }
   ],
   "source": [
    "X_transformed = prepoc_baseline.fit_transform(X_train)\n",
    "X_transformed"
   ]
  },
  {
   "cell_type": "code",
   "execution_count": 701,
   "id": "38a5a11c",
   "metadata": {},
   "outputs": [
    {
     "data": {
      "text/html": [
       "<div>\n",
       "<style scoped>\n",
       "    .dataframe tbody tr th:only-of-type {\n",
       "        vertical-align: middle;\n",
       "    }\n",
       "\n",
       "    .dataframe tbody tr th {\n",
       "        vertical-align: top;\n",
       "    }\n",
       "\n",
       "    .dataframe thead th {\n",
       "        text-align: right;\n",
       "    }\n",
       "</style>\n",
       "<table border=\"1\" class=\"dataframe\">\n",
       "  <thead>\n",
       "    <tr style=\"text-align: right;\">\n",
       "      <th></th>\n",
       "      <th>0</th>\n",
       "      <th>1</th>\n",
       "      <th>2</th>\n",
       "      <th>3</th>\n",
       "      <th>4</th>\n",
       "      <th>5</th>\n",
       "      <th>6</th>\n",
       "      <th>7</th>\n",
       "      <th>8</th>\n",
       "      <th>9</th>\n",
       "    </tr>\n",
       "  </thead>\n",
       "  <tbody>\n",
       "    <tr>\n",
       "      <th>0</th>\n",
       "      <td>0.034190</td>\n",
       "      <td>0.114928</td>\n",
       "      <td>0.400000</td>\n",
       "      <td>0.361702</td>\n",
       "      <td>0.145833</td>\n",
       "      <td>0.0</td>\n",
       "      <td>1.0</td>\n",
       "      <td>0.0</td>\n",
       "      <td>1.0</td>\n",
       "      <td>0.0</td>\n",
       "    </tr>\n",
       "    <tr>\n",
       "      <th>1</th>\n",
       "      <td>0.230101</td>\n",
       "      <td>0.041970</td>\n",
       "      <td>0.400000</td>\n",
       "      <td>0.148936</td>\n",
       "      <td>0.354167</td>\n",
       "      <td>0.0</td>\n",
       "      <td>1.0</td>\n",
       "      <td>0.0</td>\n",
       "      <td>0.0</td>\n",
       "      <td>1.0</td>\n",
       "    </tr>\n",
       "    <tr>\n",
       "      <th>2</th>\n",
       "      <td>0.060781</td>\n",
       "      <td>0.089078</td>\n",
       "      <td>0.100000</td>\n",
       "      <td>0.042553</td>\n",
       "      <td>0.062500</td>\n",
       "      <td>1.0</td>\n",
       "      <td>0.0</td>\n",
       "      <td>1.0</td>\n",
       "      <td>0.0</td>\n",
       "      <td>1.0</td>\n",
       "    </tr>\n",
       "    <tr>\n",
       "      <th>3</th>\n",
       "      <td>0.178003</td>\n",
       "      <td>0.128403</td>\n",
       "      <td>0.166667</td>\n",
       "      <td>0.000000</td>\n",
       "      <td>0.208333</td>\n",
       "      <td>0.0</td>\n",
       "      <td>0.0</td>\n",
       "      <td>1.0</td>\n",
       "      <td>0.0</td>\n",
       "      <td>1.0</td>\n",
       "    </tr>\n",
       "    <tr>\n",
       "      <th>4</th>\n",
       "      <td>0.073263</td>\n",
       "      <td>0.169144</td>\n",
       "      <td>0.200000</td>\n",
       "      <td>0.170213</td>\n",
       "      <td>0.083333</td>\n",
       "      <td>0.0</td>\n",
       "      <td>1.0</td>\n",
       "      <td>0.0</td>\n",
       "      <td>1.0</td>\n",
       "      <td>0.0</td>\n",
       "    </tr>\n",
       "    <tr>\n",
       "      <th>...</th>\n",
       "      <td>...</td>\n",
       "      <td>...</td>\n",
       "      <td>...</td>\n",
       "      <td>...</td>\n",
       "      <td>...</td>\n",
       "      <td>...</td>\n",
       "      <td>...</td>\n",
       "      <td>...</td>\n",
       "      <td>...</td>\n",
       "      <td>...</td>\n",
       "    </tr>\n",
       "    <tr>\n",
       "      <th>9188</th>\n",
       "      <td>0.286360</td>\n",
       "      <td>0.029538</td>\n",
       "      <td>0.200000</td>\n",
       "      <td>0.170213</td>\n",
       "      <td>0.083333</td>\n",
       "      <td>0.0</td>\n",
       "      <td>0.0</td>\n",
       "      <td>1.0</td>\n",
       "      <td>0.0</td>\n",
       "      <td>1.0</td>\n",
       "    </tr>\n",
       "    <tr>\n",
       "      <th>9189</th>\n",
       "      <td>0.143813</td>\n",
       "      <td>0.072776</td>\n",
       "      <td>0.400000</td>\n",
       "      <td>0.382979</td>\n",
       "      <td>0.125000</td>\n",
       "      <td>0.0</td>\n",
       "      <td>0.0</td>\n",
       "      <td>1.0</td>\n",
       "      <td>1.0</td>\n",
       "      <td>0.0</td>\n",
       "    </tr>\n",
       "    <tr>\n",
       "      <th>9190</th>\n",
       "      <td>0.052460</td>\n",
       "      <td>0.061381</td>\n",
       "      <td>0.300000</td>\n",
       "      <td>0.106383</td>\n",
       "      <td>0.208333</td>\n",
       "      <td>1.0</td>\n",
       "      <td>1.0</td>\n",
       "      <td>0.0</td>\n",
       "      <td>1.0</td>\n",
       "      <td>0.0</td>\n",
       "    </tr>\n",
       "    <tr>\n",
       "      <th>9191</th>\n",
       "      <td>0.155029</td>\n",
       "      <td>0.033495</td>\n",
       "      <td>0.266667</td>\n",
       "      <td>0.276596</td>\n",
       "      <td>0.062500</td>\n",
       "      <td>0.0</td>\n",
       "      <td>1.0</td>\n",
       "      <td>0.0</td>\n",
       "      <td>1.0</td>\n",
       "      <td>0.0</td>\n",
       "    </tr>\n",
       "    <tr>\n",
       "      <th>9192</th>\n",
       "      <td>0.004342</td>\n",
       "      <td>0.098493</td>\n",
       "      <td>0.400000</td>\n",
       "      <td>0.191489</td>\n",
       "      <td>0.020833</td>\n",
       "      <td>1.0</td>\n",
       "      <td>0.0</td>\n",
       "      <td>1.0</td>\n",
       "      <td>0.0</td>\n",
       "      <td>1.0</td>\n",
       "    </tr>\n",
       "  </tbody>\n",
       "</table>\n",
       "<p>9193 rows × 10 columns</p>\n",
       "</div>"
      ],
      "text/plain": [
       "             0         1         2         3         4    5    6    7    8  \\\n",
       "0     0.034190  0.114928  0.400000  0.361702  0.145833  0.0  1.0  0.0  1.0   \n",
       "1     0.230101  0.041970  0.400000  0.148936  0.354167  0.0  1.0  0.0  0.0   \n",
       "2     0.060781  0.089078  0.100000  0.042553  0.062500  1.0  0.0  1.0  0.0   \n",
       "3     0.178003  0.128403  0.166667  0.000000  0.208333  0.0  0.0  1.0  0.0   \n",
       "4     0.073263  0.169144  0.200000  0.170213  0.083333  0.0  1.0  0.0  1.0   \n",
       "...        ...       ...       ...       ...       ...  ...  ...  ...  ...   \n",
       "9188  0.286360  0.029538  0.200000  0.170213  0.083333  0.0  0.0  1.0  0.0   \n",
       "9189  0.143813  0.072776  0.400000  0.382979  0.125000  0.0  0.0  1.0  1.0   \n",
       "9190  0.052460  0.061381  0.300000  0.106383  0.208333  1.0  1.0  0.0  1.0   \n",
       "9191  0.155029  0.033495  0.266667  0.276596  0.062500  0.0  1.0  0.0  1.0   \n",
       "9192  0.004342  0.098493  0.400000  0.191489  0.020833  1.0  0.0  1.0  0.0   \n",
       "\n",
       "        9  \n",
       "0     0.0  \n",
       "1     1.0  \n",
       "2     1.0  \n",
       "3     1.0  \n",
       "4     0.0  \n",
       "...   ...  \n",
       "9188  1.0  \n",
       "9189  0.0  \n",
       "9190  0.0  \n",
       "9191  0.0  \n",
       "9192  1.0  \n",
       "\n",
       "[9193 rows x 10 columns]"
      ]
     },
     "metadata": {},
     "output_type": "display_data"
    }
   ],
   "source": [
    "display(pd.DataFrame(X_transformed))\n"
   ]
  },
  {
   "cell_type": "code",
   "execution_count": 702,
   "id": "69142238",
   "metadata": {},
   "outputs": [
    {
     "data": {
      "text/plain": [
       "(9193, 10)"
      ]
     },
     "execution_count": 702,
     "metadata": {},
     "output_type": "execute_result"
    }
   ],
   "source": [
    "shape_preproc_baseline = X_transformed.shape\n",
    "shape_preproc_baseline"
   ]
  },
  {
   "cell_type": "markdown",
   "id": "9864642a",
   "metadata": {},
   "source": [
    "### Adding estimators"
   ]
  },
  {
   "cell_type": "markdown",
   "id": "5ec17752",
   "metadata": {},
   "source": [
    "Based on the literature review (https://www.researchgate.net/publication/342467001_Forecasting_recovery_rates_on_non-performing_loans_with_machine_learning)\n",
    "        \n",
    "We will try using the 3 best estimators for the task at hand and test them to see which one gives better results."
   ]
  },
  {
   "cell_type": "markdown",
   "id": "806a1165",
   "metadata": {},
   "source": [
    "#### Gradient Boosting Regressor"
   ]
  },
  {
   "cell_type": "code",
   "execution_count": 703,
   "id": "7aabfc8f",
   "metadata": {},
   "outputs": [
    {
     "data": {
      "text/html": [
       "<style>#sk-ebcbc2db-903b-4495-b30d-b35c17aa8001 {color: black;background-color: white;}#sk-ebcbc2db-903b-4495-b30d-b35c17aa8001 pre{padding: 0;}#sk-ebcbc2db-903b-4495-b30d-b35c17aa8001 div.sk-toggleable {background-color: white;}#sk-ebcbc2db-903b-4495-b30d-b35c17aa8001 label.sk-toggleable__label {cursor: pointer;display: block;width: 100%;margin-bottom: 0;padding: 0.3em;box-sizing: border-box;text-align: center;}#sk-ebcbc2db-903b-4495-b30d-b35c17aa8001 label.sk-toggleable__label-arrow:before {content: \"▸\";float: left;margin-right: 0.25em;color: #696969;}#sk-ebcbc2db-903b-4495-b30d-b35c17aa8001 label.sk-toggleable__label-arrow:hover:before {color: black;}#sk-ebcbc2db-903b-4495-b30d-b35c17aa8001 div.sk-estimator:hover label.sk-toggleable__label-arrow:before {color: black;}#sk-ebcbc2db-903b-4495-b30d-b35c17aa8001 div.sk-toggleable__content {max-height: 0;max-width: 0;overflow: hidden;text-align: left;background-color: #f0f8ff;}#sk-ebcbc2db-903b-4495-b30d-b35c17aa8001 div.sk-toggleable__content pre {margin: 0.2em;color: black;border-radius: 0.25em;background-color: #f0f8ff;}#sk-ebcbc2db-903b-4495-b30d-b35c17aa8001 input.sk-toggleable__control:checked~div.sk-toggleable__content {max-height: 200px;max-width: 100%;overflow: auto;}#sk-ebcbc2db-903b-4495-b30d-b35c17aa8001 input.sk-toggleable__control:checked~label.sk-toggleable__label-arrow:before {content: \"▾\";}#sk-ebcbc2db-903b-4495-b30d-b35c17aa8001 div.sk-estimator input.sk-toggleable__control:checked~label.sk-toggleable__label {background-color: #d4ebff;}#sk-ebcbc2db-903b-4495-b30d-b35c17aa8001 div.sk-label input.sk-toggleable__control:checked~label.sk-toggleable__label {background-color: #d4ebff;}#sk-ebcbc2db-903b-4495-b30d-b35c17aa8001 input.sk-hidden--visually {border: 0;clip: rect(1px 1px 1px 1px);clip: rect(1px, 1px, 1px, 1px);height: 1px;margin: -1px;overflow: hidden;padding: 0;position: absolute;width: 1px;}#sk-ebcbc2db-903b-4495-b30d-b35c17aa8001 div.sk-estimator {font-family: monospace;background-color: #f0f8ff;border: 1px dotted black;border-radius: 0.25em;box-sizing: border-box;margin-bottom: 0.5em;}#sk-ebcbc2db-903b-4495-b30d-b35c17aa8001 div.sk-estimator:hover {background-color: #d4ebff;}#sk-ebcbc2db-903b-4495-b30d-b35c17aa8001 div.sk-parallel-item::after {content: \"\";width: 100%;border-bottom: 1px solid gray;flex-grow: 1;}#sk-ebcbc2db-903b-4495-b30d-b35c17aa8001 div.sk-label:hover label.sk-toggleable__label {background-color: #d4ebff;}#sk-ebcbc2db-903b-4495-b30d-b35c17aa8001 div.sk-serial::before {content: \"\";position: absolute;border-left: 1px solid gray;box-sizing: border-box;top: 2em;bottom: 0;left: 50%;}#sk-ebcbc2db-903b-4495-b30d-b35c17aa8001 div.sk-serial {display: flex;flex-direction: column;align-items: center;background-color: white;padding-right: 0.2em;padding-left: 0.2em;}#sk-ebcbc2db-903b-4495-b30d-b35c17aa8001 div.sk-item {z-index: 1;}#sk-ebcbc2db-903b-4495-b30d-b35c17aa8001 div.sk-parallel {display: flex;align-items: stretch;justify-content: center;background-color: white;}#sk-ebcbc2db-903b-4495-b30d-b35c17aa8001 div.sk-parallel::before {content: \"\";position: absolute;border-left: 1px solid gray;box-sizing: border-box;top: 2em;bottom: 0;left: 50%;}#sk-ebcbc2db-903b-4495-b30d-b35c17aa8001 div.sk-parallel-item {display: flex;flex-direction: column;position: relative;background-color: white;}#sk-ebcbc2db-903b-4495-b30d-b35c17aa8001 div.sk-parallel-item:first-child::after {align-self: flex-end;width: 50%;}#sk-ebcbc2db-903b-4495-b30d-b35c17aa8001 div.sk-parallel-item:last-child::after {align-self: flex-start;width: 50%;}#sk-ebcbc2db-903b-4495-b30d-b35c17aa8001 div.sk-parallel-item:only-child::after {width: 0;}#sk-ebcbc2db-903b-4495-b30d-b35c17aa8001 div.sk-dashed-wrapped {border: 1px dashed gray;margin: 0 0.4em 0.5em 0.4em;box-sizing: border-box;padding-bottom: 0.4em;background-color: white;position: relative;}#sk-ebcbc2db-903b-4495-b30d-b35c17aa8001 div.sk-label label {font-family: monospace;font-weight: bold;background-color: white;display: inline-block;line-height: 1.2em;}#sk-ebcbc2db-903b-4495-b30d-b35c17aa8001 div.sk-label-container {position: relative;z-index: 2;text-align: center;}#sk-ebcbc2db-903b-4495-b30d-b35c17aa8001 div.sk-container {/* jupyter's `normalize.less` sets `[hidden] { display: none; }` but bootstrap.min.css set `[hidden] { display: none !important; }` so we also need the `!important` here to be able to override the default hidden behavior on the sphinx rendered scikit-learn.org. See: https://github.com/scikit-learn/scikit-learn/issues/21755 */display: inline-block !important;position: relative;}#sk-ebcbc2db-903b-4495-b30d-b35c17aa8001 div.sk-text-repr-fallback {display: none;}</style><div id=\"sk-ebcbc2db-903b-4495-b30d-b35c17aa8001\" class=\"sk-top-container\"><div class=\"sk-text-repr-fallback\"><pre>Pipeline(steps=[(&#x27;columntransformer&#x27;,\n",
       "                 ColumnTransformer(transformers=[(&#x27;num_tr&#x27;,\n",
       "                                                  Pipeline(steps=[(&#x27;scaler&#x27;,\n",
       "                                                                   MinMaxScaler())]),\n",
       "                                                  array([&#x27;dias_atraso&#x27;, &#x27;monto&#x27;, &#x27;nro_cuotas_atrasadas&#x27;,\n",
       "       &#x27;cuotas_canceladas&#x27;, &#x27;cuotas_vencidas&#x27;, &#x27;vigente&#x27;], dtype=object)),\n",
       "                                                 (&#x27;cat_tr&#x27;,\n",
       "                                                  Pipeline(steps=[(&#x27;encoder&#x27;,\n",
       "                                                                   OneHotEncoder(handle_unknown=&#x27;ignore&#x27;))]),\n",
       "                                                  array([&#x27;nombre_conyuge&#x27;, &#x27;nombre_garante&#x27;], dtype=object))])),\n",
       "                (&#x27;gradientboostingregressor&#x27;, GradientBoostingRegressor())])</pre><b>Please rerun this cell to show the HTML repr or trust the notebook.</b></div><div class=\"sk-container\" hidden><div class=\"sk-item sk-dashed-wrapped\"><div class=\"sk-label-container\"><div class=\"sk-label sk-toggleable\"><input class=\"sk-toggleable__control sk-hidden--visually\" id=\"2df49c1d-9c63-4087-9e8e-0c7d47293681\" type=\"checkbox\" ><label for=\"2df49c1d-9c63-4087-9e8e-0c7d47293681\" class=\"sk-toggleable__label sk-toggleable__label-arrow\">Pipeline</label><div class=\"sk-toggleable__content\"><pre>Pipeline(steps=[(&#x27;columntransformer&#x27;,\n",
       "                 ColumnTransformer(transformers=[(&#x27;num_tr&#x27;,\n",
       "                                                  Pipeline(steps=[(&#x27;scaler&#x27;,\n",
       "                                                                   MinMaxScaler())]),\n",
       "                                                  array([&#x27;dias_atraso&#x27;, &#x27;monto&#x27;, &#x27;nro_cuotas_atrasadas&#x27;,\n",
       "       &#x27;cuotas_canceladas&#x27;, &#x27;cuotas_vencidas&#x27;, &#x27;vigente&#x27;], dtype=object)),\n",
       "                                                 (&#x27;cat_tr&#x27;,\n",
       "                                                  Pipeline(steps=[(&#x27;encoder&#x27;,\n",
       "                                                                   OneHotEncoder(handle_unknown=&#x27;ignore&#x27;))]),\n",
       "                                                  array([&#x27;nombre_conyuge&#x27;, &#x27;nombre_garante&#x27;], dtype=object))])),\n",
       "                (&#x27;gradientboostingregressor&#x27;, GradientBoostingRegressor())])</pre></div></div></div><div class=\"sk-serial\"><div class=\"sk-item sk-dashed-wrapped\"><div class=\"sk-label-container\"><div class=\"sk-label sk-toggleable\"><input class=\"sk-toggleable__control sk-hidden--visually\" id=\"b330d27d-23cb-4e06-a47e-dc359b68452c\" type=\"checkbox\" ><label for=\"b330d27d-23cb-4e06-a47e-dc359b68452c\" class=\"sk-toggleable__label sk-toggleable__label-arrow\">columntransformer: ColumnTransformer</label><div class=\"sk-toggleable__content\"><pre>ColumnTransformer(transformers=[(&#x27;num_tr&#x27;,\n",
       "                                 Pipeline(steps=[(&#x27;scaler&#x27;, MinMaxScaler())]),\n",
       "                                 array([&#x27;dias_atraso&#x27;, &#x27;monto&#x27;, &#x27;nro_cuotas_atrasadas&#x27;,\n",
       "       &#x27;cuotas_canceladas&#x27;, &#x27;cuotas_vencidas&#x27;, &#x27;vigente&#x27;], dtype=object)),\n",
       "                                (&#x27;cat_tr&#x27;,\n",
       "                                 Pipeline(steps=[(&#x27;encoder&#x27;,\n",
       "                                                  OneHotEncoder(handle_unknown=&#x27;ignore&#x27;))]),\n",
       "                                 array([&#x27;nombre_conyuge&#x27;, &#x27;nombre_garante&#x27;], dtype=object))])</pre></div></div></div><div class=\"sk-parallel\"><div class=\"sk-parallel-item\"><div class=\"sk-item\"><div class=\"sk-label-container\"><div class=\"sk-label sk-toggleable\"><input class=\"sk-toggleable__control sk-hidden--visually\" id=\"0d2adf22-6c34-40a5-984a-2f15ed05f4fd\" type=\"checkbox\" ><label for=\"0d2adf22-6c34-40a5-984a-2f15ed05f4fd\" class=\"sk-toggleable__label sk-toggleable__label-arrow\">num_tr</label><div class=\"sk-toggleable__content\"><pre>[&#x27;dias_atraso&#x27; &#x27;monto&#x27; &#x27;nro_cuotas_atrasadas&#x27; &#x27;cuotas_canceladas&#x27;\n",
       " &#x27;cuotas_vencidas&#x27; &#x27;vigente&#x27;]</pre></div></div></div><div class=\"sk-serial\"><div class=\"sk-item\"><div class=\"sk-serial\"><div class=\"sk-item\"><div class=\"sk-estimator sk-toggleable\"><input class=\"sk-toggleable__control sk-hidden--visually\" id=\"95e1455f-2b87-4c22-99a8-5ab50638d514\" type=\"checkbox\" ><label for=\"95e1455f-2b87-4c22-99a8-5ab50638d514\" class=\"sk-toggleable__label sk-toggleable__label-arrow\">MinMaxScaler</label><div class=\"sk-toggleable__content\"><pre>MinMaxScaler()</pre></div></div></div></div></div></div></div></div><div class=\"sk-parallel-item\"><div class=\"sk-item\"><div class=\"sk-label-container\"><div class=\"sk-label sk-toggleable\"><input class=\"sk-toggleable__control sk-hidden--visually\" id=\"7097857b-19bc-4b52-9899-d9e56227bb9b\" type=\"checkbox\" ><label for=\"7097857b-19bc-4b52-9899-d9e56227bb9b\" class=\"sk-toggleable__label sk-toggleable__label-arrow\">cat_tr</label><div class=\"sk-toggleable__content\"><pre>[&#x27;nombre_conyuge&#x27; &#x27;nombre_garante&#x27;]</pre></div></div></div><div class=\"sk-serial\"><div class=\"sk-item\"><div class=\"sk-serial\"><div class=\"sk-item\"><div class=\"sk-estimator sk-toggleable\"><input class=\"sk-toggleable__control sk-hidden--visually\" id=\"a619d895-0928-4d44-9291-46364d546a90\" type=\"checkbox\" ><label for=\"a619d895-0928-4d44-9291-46364d546a90\" class=\"sk-toggleable__label sk-toggleable__label-arrow\">OneHotEncoder</label><div class=\"sk-toggleable__content\"><pre>OneHotEncoder(handle_unknown=&#x27;ignore&#x27;)</pre></div></div></div></div></div></div></div></div></div></div><div class=\"sk-item\"><div class=\"sk-estimator sk-toggleable\"><input class=\"sk-toggleable__control sk-hidden--visually\" id=\"d1a6c02e-a114-41d6-b9e7-86dae403aeb8\" type=\"checkbox\" ><label for=\"d1a6c02e-a114-41d6-b9e7-86dae403aeb8\" class=\"sk-toggleable__label sk-toggleable__label-arrow\">GradientBoostingRegressor</label><div class=\"sk-toggleable__content\"><pre>GradientBoostingRegressor()</pre></div></div></div></div></div></div></div>"
      ],
      "text/plain": [
       "Pipeline(steps=[('columntransformer',\n",
       "                 ColumnTransformer(transformers=[('num_tr',\n",
       "                                                  Pipeline(steps=[('scaler',\n",
       "                                                                   MinMaxScaler())]),\n",
       "                                                  array(['dias_atraso', 'monto', 'nro_cuotas_atrasadas',\n",
       "       'cuotas_canceladas', 'cuotas_vencidas', 'vigente'], dtype=object)),\n",
       "                                                 ('cat_tr',\n",
       "                                                  Pipeline(steps=[('encoder',\n",
       "                                                                   OneHotEncoder(handle_unknown='ignore'))]),\n",
       "                                                  array(['nombre_conyuge', 'nombre_garante'], dtype=object))])),\n",
       "                ('gradientboostingregressor', GradientBoostingRegressor())])"
      ]
     },
     "execution_count": 703,
     "metadata": {},
     "output_type": "execute_result"
    }
   ],
   "source": [
    "from sklearn.tree import DecisionTreeRegressor\n",
    "from sklearn.ensemble import GradientBoostingRegressor\n",
    "\n",
    "\n",
    "pipe_baseline = make_pipeline(prepoc_baseline, GradientBoostingRegressor(n_estimators=100, verbose=0))\n",
    "\n",
    "pipe_baseline"
   ]
  },
  {
   "cell_type": "markdown",
   "id": "d5a06ee7",
   "metadata": {},
   "source": [
    "#### Extreme Gradient Tree Boosting"
   ]
  },
  {
   "cell_type": "code",
   "execution_count": 704,
   "id": "b5b68bfd",
   "metadata": {},
   "outputs": [
    {
     "data": {
      "text/html": [
       "<style>#sk-9d9af1f2-1861-4a8d-a4aa-b6a9086c594a {color: black;background-color: white;}#sk-9d9af1f2-1861-4a8d-a4aa-b6a9086c594a pre{padding: 0;}#sk-9d9af1f2-1861-4a8d-a4aa-b6a9086c594a div.sk-toggleable {background-color: white;}#sk-9d9af1f2-1861-4a8d-a4aa-b6a9086c594a label.sk-toggleable__label {cursor: pointer;display: block;width: 100%;margin-bottom: 0;padding: 0.3em;box-sizing: border-box;text-align: center;}#sk-9d9af1f2-1861-4a8d-a4aa-b6a9086c594a label.sk-toggleable__label-arrow:before {content: \"▸\";float: left;margin-right: 0.25em;color: #696969;}#sk-9d9af1f2-1861-4a8d-a4aa-b6a9086c594a label.sk-toggleable__label-arrow:hover:before {color: black;}#sk-9d9af1f2-1861-4a8d-a4aa-b6a9086c594a div.sk-estimator:hover label.sk-toggleable__label-arrow:before {color: black;}#sk-9d9af1f2-1861-4a8d-a4aa-b6a9086c594a div.sk-toggleable__content {max-height: 0;max-width: 0;overflow: hidden;text-align: left;background-color: #f0f8ff;}#sk-9d9af1f2-1861-4a8d-a4aa-b6a9086c594a div.sk-toggleable__content pre {margin: 0.2em;color: black;border-radius: 0.25em;background-color: #f0f8ff;}#sk-9d9af1f2-1861-4a8d-a4aa-b6a9086c594a input.sk-toggleable__control:checked~div.sk-toggleable__content {max-height: 200px;max-width: 100%;overflow: auto;}#sk-9d9af1f2-1861-4a8d-a4aa-b6a9086c594a input.sk-toggleable__control:checked~label.sk-toggleable__label-arrow:before {content: \"▾\";}#sk-9d9af1f2-1861-4a8d-a4aa-b6a9086c594a div.sk-estimator input.sk-toggleable__control:checked~label.sk-toggleable__label {background-color: #d4ebff;}#sk-9d9af1f2-1861-4a8d-a4aa-b6a9086c594a div.sk-label input.sk-toggleable__control:checked~label.sk-toggleable__label {background-color: #d4ebff;}#sk-9d9af1f2-1861-4a8d-a4aa-b6a9086c594a input.sk-hidden--visually {border: 0;clip: rect(1px 1px 1px 1px);clip: rect(1px, 1px, 1px, 1px);height: 1px;margin: -1px;overflow: hidden;padding: 0;position: absolute;width: 1px;}#sk-9d9af1f2-1861-4a8d-a4aa-b6a9086c594a div.sk-estimator {font-family: monospace;background-color: #f0f8ff;border: 1px dotted black;border-radius: 0.25em;box-sizing: border-box;margin-bottom: 0.5em;}#sk-9d9af1f2-1861-4a8d-a4aa-b6a9086c594a div.sk-estimator:hover {background-color: #d4ebff;}#sk-9d9af1f2-1861-4a8d-a4aa-b6a9086c594a div.sk-parallel-item::after {content: \"\";width: 100%;border-bottom: 1px solid gray;flex-grow: 1;}#sk-9d9af1f2-1861-4a8d-a4aa-b6a9086c594a div.sk-label:hover label.sk-toggleable__label {background-color: #d4ebff;}#sk-9d9af1f2-1861-4a8d-a4aa-b6a9086c594a div.sk-serial::before {content: \"\";position: absolute;border-left: 1px solid gray;box-sizing: border-box;top: 2em;bottom: 0;left: 50%;}#sk-9d9af1f2-1861-4a8d-a4aa-b6a9086c594a div.sk-serial {display: flex;flex-direction: column;align-items: center;background-color: white;padding-right: 0.2em;padding-left: 0.2em;}#sk-9d9af1f2-1861-4a8d-a4aa-b6a9086c594a div.sk-item {z-index: 1;}#sk-9d9af1f2-1861-4a8d-a4aa-b6a9086c594a div.sk-parallel {display: flex;align-items: stretch;justify-content: center;background-color: white;}#sk-9d9af1f2-1861-4a8d-a4aa-b6a9086c594a div.sk-parallel::before {content: \"\";position: absolute;border-left: 1px solid gray;box-sizing: border-box;top: 2em;bottom: 0;left: 50%;}#sk-9d9af1f2-1861-4a8d-a4aa-b6a9086c594a div.sk-parallel-item {display: flex;flex-direction: column;position: relative;background-color: white;}#sk-9d9af1f2-1861-4a8d-a4aa-b6a9086c594a div.sk-parallel-item:first-child::after {align-self: flex-end;width: 50%;}#sk-9d9af1f2-1861-4a8d-a4aa-b6a9086c594a div.sk-parallel-item:last-child::after {align-self: flex-start;width: 50%;}#sk-9d9af1f2-1861-4a8d-a4aa-b6a9086c594a div.sk-parallel-item:only-child::after {width: 0;}#sk-9d9af1f2-1861-4a8d-a4aa-b6a9086c594a div.sk-dashed-wrapped {border: 1px dashed gray;margin: 0 0.4em 0.5em 0.4em;box-sizing: border-box;padding-bottom: 0.4em;background-color: white;position: relative;}#sk-9d9af1f2-1861-4a8d-a4aa-b6a9086c594a div.sk-label label {font-family: monospace;font-weight: bold;background-color: white;display: inline-block;line-height: 1.2em;}#sk-9d9af1f2-1861-4a8d-a4aa-b6a9086c594a div.sk-label-container {position: relative;z-index: 2;text-align: center;}#sk-9d9af1f2-1861-4a8d-a4aa-b6a9086c594a div.sk-container {/* jupyter's `normalize.less` sets `[hidden] { display: none; }` but bootstrap.min.css set `[hidden] { display: none !important; }` so we also need the `!important` here to be able to override the default hidden behavior on the sphinx rendered scikit-learn.org. See: https://github.com/scikit-learn/scikit-learn/issues/21755 */display: inline-block !important;position: relative;}#sk-9d9af1f2-1861-4a8d-a4aa-b6a9086c594a div.sk-text-repr-fallback {display: none;}</style><div id=\"sk-9d9af1f2-1861-4a8d-a4aa-b6a9086c594a\" class=\"sk-top-container\"><div class=\"sk-text-repr-fallback\"><pre>Pipeline(steps=[(&#x27;columntransformer&#x27;,\n",
       "                 ColumnTransformer(transformers=[(&#x27;num_tr&#x27;,\n",
       "                                                  Pipeline(steps=[(&#x27;scaler&#x27;,\n",
       "                                                                   MinMaxScaler())]),\n",
       "                                                  array([&#x27;dias_atraso&#x27;, &#x27;monto&#x27;, &#x27;nro_cuotas_atrasadas&#x27;,\n",
       "       &#x27;cuotas_canceladas&#x27;, &#x27;cuotas_vencidas&#x27;, &#x27;vigente&#x27;], dtype=object)),\n",
       "                                                 (&#x27;cat_tr&#x27;,\n",
       "                                                  Pipeline(steps=[(&#x27;encoder&#x27;,\n",
       "                                                                   OneHotEncoder(handle_unknown=&#x27;ignore&#x27;))]),\n",
       "                                                  array([&#x27;nombre_conyuge&#x27;, &#x27;nombre_...\n",
       "                              interaction_constraints=None, learning_rate=0.1,\n",
       "                              max_delta_step=None, max_depth=10,\n",
       "                              min_child_weight=None, missing=nan,\n",
       "                              monotone_constraints=None, n_estimators=100,\n",
       "                              n_jobs=None, num_parallel_tree=None,\n",
       "                              predictor=None, random_state=None, reg_alpha=None,\n",
       "                              reg_lambda=None, scale_pos_weight=None,\n",
       "                              subsample=None, tree_method=None,\n",
       "                              validate_parameters=None, verbosity=None))])</pre><b>Please rerun this cell to show the HTML repr or trust the notebook.</b></div><div class=\"sk-container\" hidden><div class=\"sk-item sk-dashed-wrapped\"><div class=\"sk-label-container\"><div class=\"sk-label sk-toggleable\"><input class=\"sk-toggleable__control sk-hidden--visually\" id=\"317a644a-6542-4ece-a767-a7fe15978315\" type=\"checkbox\" ><label for=\"317a644a-6542-4ece-a767-a7fe15978315\" class=\"sk-toggleable__label sk-toggleable__label-arrow\">Pipeline</label><div class=\"sk-toggleable__content\"><pre>Pipeline(steps=[(&#x27;columntransformer&#x27;,\n",
       "                 ColumnTransformer(transformers=[(&#x27;num_tr&#x27;,\n",
       "                                                  Pipeline(steps=[(&#x27;scaler&#x27;,\n",
       "                                                                   MinMaxScaler())]),\n",
       "                                                  array([&#x27;dias_atraso&#x27;, &#x27;monto&#x27;, &#x27;nro_cuotas_atrasadas&#x27;,\n",
       "       &#x27;cuotas_canceladas&#x27;, &#x27;cuotas_vencidas&#x27;, &#x27;vigente&#x27;], dtype=object)),\n",
       "                                                 (&#x27;cat_tr&#x27;,\n",
       "                                                  Pipeline(steps=[(&#x27;encoder&#x27;,\n",
       "                                                                   OneHotEncoder(handle_unknown=&#x27;ignore&#x27;))]),\n",
       "                                                  array([&#x27;nombre_conyuge&#x27;, &#x27;nombre_...\n",
       "                              interaction_constraints=None, learning_rate=0.1,\n",
       "                              max_delta_step=None, max_depth=10,\n",
       "                              min_child_weight=None, missing=nan,\n",
       "                              monotone_constraints=None, n_estimators=100,\n",
       "                              n_jobs=None, num_parallel_tree=None,\n",
       "                              predictor=None, random_state=None, reg_alpha=None,\n",
       "                              reg_lambda=None, scale_pos_weight=None,\n",
       "                              subsample=None, tree_method=None,\n",
       "                              validate_parameters=None, verbosity=None))])</pre></div></div></div><div class=\"sk-serial\"><div class=\"sk-item sk-dashed-wrapped\"><div class=\"sk-label-container\"><div class=\"sk-label sk-toggleable\"><input class=\"sk-toggleable__control sk-hidden--visually\" id=\"180c071f-3596-41f4-bb61-6d7cf0ae0861\" type=\"checkbox\" ><label for=\"180c071f-3596-41f4-bb61-6d7cf0ae0861\" class=\"sk-toggleable__label sk-toggleable__label-arrow\">columntransformer: ColumnTransformer</label><div class=\"sk-toggleable__content\"><pre>ColumnTransformer(transformers=[(&#x27;num_tr&#x27;,\n",
       "                                 Pipeline(steps=[(&#x27;scaler&#x27;, MinMaxScaler())]),\n",
       "                                 array([&#x27;dias_atraso&#x27;, &#x27;monto&#x27;, &#x27;nro_cuotas_atrasadas&#x27;,\n",
       "       &#x27;cuotas_canceladas&#x27;, &#x27;cuotas_vencidas&#x27;, &#x27;vigente&#x27;], dtype=object)),\n",
       "                                (&#x27;cat_tr&#x27;,\n",
       "                                 Pipeline(steps=[(&#x27;encoder&#x27;,\n",
       "                                                  OneHotEncoder(handle_unknown=&#x27;ignore&#x27;))]),\n",
       "                                 array([&#x27;nombre_conyuge&#x27;, &#x27;nombre_garante&#x27;], dtype=object))])</pre></div></div></div><div class=\"sk-parallel\"><div class=\"sk-parallel-item\"><div class=\"sk-item\"><div class=\"sk-label-container\"><div class=\"sk-label sk-toggleable\"><input class=\"sk-toggleable__control sk-hidden--visually\" id=\"a48cdf35-2d6c-43d9-81e3-9e14b496a853\" type=\"checkbox\" ><label for=\"a48cdf35-2d6c-43d9-81e3-9e14b496a853\" class=\"sk-toggleable__label sk-toggleable__label-arrow\">num_tr</label><div class=\"sk-toggleable__content\"><pre>[&#x27;dias_atraso&#x27; &#x27;monto&#x27; &#x27;nro_cuotas_atrasadas&#x27; &#x27;cuotas_canceladas&#x27;\n",
       " &#x27;cuotas_vencidas&#x27; &#x27;vigente&#x27;]</pre></div></div></div><div class=\"sk-serial\"><div class=\"sk-item\"><div class=\"sk-serial\"><div class=\"sk-item\"><div class=\"sk-estimator sk-toggleable\"><input class=\"sk-toggleable__control sk-hidden--visually\" id=\"9c047b30-f3f7-40ab-acb6-6b088812a107\" type=\"checkbox\" ><label for=\"9c047b30-f3f7-40ab-acb6-6b088812a107\" class=\"sk-toggleable__label sk-toggleable__label-arrow\">MinMaxScaler</label><div class=\"sk-toggleable__content\"><pre>MinMaxScaler()</pre></div></div></div></div></div></div></div></div><div class=\"sk-parallel-item\"><div class=\"sk-item\"><div class=\"sk-label-container\"><div class=\"sk-label sk-toggleable\"><input class=\"sk-toggleable__control sk-hidden--visually\" id=\"ecec5ab8-563f-49c9-98b1-027c0e519098\" type=\"checkbox\" ><label for=\"ecec5ab8-563f-49c9-98b1-027c0e519098\" class=\"sk-toggleable__label sk-toggleable__label-arrow\">cat_tr</label><div class=\"sk-toggleable__content\"><pre>[&#x27;nombre_conyuge&#x27; &#x27;nombre_garante&#x27;]</pre></div></div></div><div class=\"sk-serial\"><div class=\"sk-item\"><div class=\"sk-serial\"><div class=\"sk-item\"><div class=\"sk-estimator sk-toggleable\"><input class=\"sk-toggleable__control sk-hidden--visually\" id=\"5df1b79d-a819-4e56-ae16-471c3205dfc3\" type=\"checkbox\" ><label for=\"5df1b79d-a819-4e56-ae16-471c3205dfc3\" class=\"sk-toggleable__label sk-toggleable__label-arrow\">OneHotEncoder</label><div class=\"sk-toggleable__content\"><pre>OneHotEncoder(handle_unknown=&#x27;ignore&#x27;)</pre></div></div></div></div></div></div></div></div></div></div><div class=\"sk-item\"><div class=\"sk-estimator sk-toggleable\"><input class=\"sk-toggleable__control sk-hidden--visually\" id=\"4f6c67c3-ed21-4884-ad58-312c6cf38ac4\" type=\"checkbox\" ><label for=\"4f6c67c3-ed21-4884-ad58-312c6cf38ac4\" class=\"sk-toggleable__label sk-toggleable__label-arrow\">XGBRegressor</label><div class=\"sk-toggleable__content\"><pre>XGBRegressor(base_score=None, booster=None, colsample_bylevel=None,\n",
       "             colsample_bynode=None, colsample_bytree=None,\n",
       "             enable_categorical=False, gamma=None, gpu_id=None,\n",
       "             importance_type=None, interaction_constraints=None,\n",
       "             learning_rate=0.1, max_delta_step=None, max_depth=10,\n",
       "             min_child_weight=None, missing=nan, monotone_constraints=None,\n",
       "             n_estimators=100, n_jobs=None, num_parallel_tree=None,\n",
       "             predictor=None, random_state=None, reg_alpha=None, reg_lambda=None,\n",
       "             scale_pos_weight=None, subsample=None, tree_method=None,\n",
       "             validate_parameters=None, verbosity=None)</pre></div></div></div></div></div></div></div>"
      ],
      "text/plain": [
       "Pipeline(steps=[('columntransformer',\n",
       "                 ColumnTransformer(transformers=[('num_tr',\n",
       "                                                  Pipeline(steps=[('scaler',\n",
       "                                                                   MinMaxScaler())]),\n",
       "                                                  array(['dias_atraso', 'monto', 'nro_cuotas_atrasadas',\n",
       "       'cuotas_canceladas', 'cuotas_vencidas', 'vigente'], dtype=object)),\n",
       "                                                 ('cat_tr',\n",
       "                                                  Pipeline(steps=[('encoder',\n",
       "                                                                   OneHotEncoder(handle_unknown='ignore'))]),\n",
       "                                                  array(['nombre_conyuge', 'nombre_...\n",
       "                              interaction_constraints=None, learning_rate=0.1,\n",
       "                              max_delta_step=None, max_depth=10,\n",
       "                              min_child_weight=None, missing=nan,\n",
       "                              monotone_constraints=None, n_estimators=100,\n",
       "                              n_jobs=None, num_parallel_tree=None,\n",
       "                              predictor=None, random_state=None, reg_alpha=None,\n",
       "                              reg_lambda=None, scale_pos_weight=None,\n",
       "                              subsample=None, tree_method=None,\n",
       "                              validate_parameters=None, verbosity=None))])"
      ]
     },
     "execution_count": 704,
     "metadata": {},
     "output_type": "execute_result"
    }
   ],
   "source": [
    "from xgboost import XGBRegressor\n",
    "\n",
    "pipe_baseline2 = make_pipeline(prepoc_baseline, XGBRegressor(max_depth=10, n_estimators=100, learning_rate=0.1))\n",
    "pipe_baseline2\n"
   ]
  },
  {
   "cell_type": "markdown",
   "id": "61d57fa7",
   "metadata": {},
   "source": [
    "#### Random Forest Regressor "
   ]
  },
  {
   "cell_type": "code",
   "execution_count": 705,
   "id": "4151e61d",
   "metadata": {},
   "outputs": [
    {
     "data": {
      "text/html": [
       "<style>#sk-db02b6d3-12ca-47ff-ab8c-be666e25e71e {color: black;background-color: white;}#sk-db02b6d3-12ca-47ff-ab8c-be666e25e71e pre{padding: 0;}#sk-db02b6d3-12ca-47ff-ab8c-be666e25e71e div.sk-toggleable {background-color: white;}#sk-db02b6d3-12ca-47ff-ab8c-be666e25e71e label.sk-toggleable__label {cursor: pointer;display: block;width: 100%;margin-bottom: 0;padding: 0.3em;box-sizing: border-box;text-align: center;}#sk-db02b6d3-12ca-47ff-ab8c-be666e25e71e label.sk-toggleable__label-arrow:before {content: \"▸\";float: left;margin-right: 0.25em;color: #696969;}#sk-db02b6d3-12ca-47ff-ab8c-be666e25e71e label.sk-toggleable__label-arrow:hover:before {color: black;}#sk-db02b6d3-12ca-47ff-ab8c-be666e25e71e div.sk-estimator:hover label.sk-toggleable__label-arrow:before {color: black;}#sk-db02b6d3-12ca-47ff-ab8c-be666e25e71e div.sk-toggleable__content {max-height: 0;max-width: 0;overflow: hidden;text-align: left;background-color: #f0f8ff;}#sk-db02b6d3-12ca-47ff-ab8c-be666e25e71e div.sk-toggleable__content pre {margin: 0.2em;color: black;border-radius: 0.25em;background-color: #f0f8ff;}#sk-db02b6d3-12ca-47ff-ab8c-be666e25e71e input.sk-toggleable__control:checked~div.sk-toggleable__content {max-height: 200px;max-width: 100%;overflow: auto;}#sk-db02b6d3-12ca-47ff-ab8c-be666e25e71e input.sk-toggleable__control:checked~label.sk-toggleable__label-arrow:before {content: \"▾\";}#sk-db02b6d3-12ca-47ff-ab8c-be666e25e71e div.sk-estimator input.sk-toggleable__control:checked~label.sk-toggleable__label {background-color: #d4ebff;}#sk-db02b6d3-12ca-47ff-ab8c-be666e25e71e div.sk-label input.sk-toggleable__control:checked~label.sk-toggleable__label {background-color: #d4ebff;}#sk-db02b6d3-12ca-47ff-ab8c-be666e25e71e input.sk-hidden--visually {border: 0;clip: rect(1px 1px 1px 1px);clip: rect(1px, 1px, 1px, 1px);height: 1px;margin: -1px;overflow: hidden;padding: 0;position: absolute;width: 1px;}#sk-db02b6d3-12ca-47ff-ab8c-be666e25e71e div.sk-estimator {font-family: monospace;background-color: #f0f8ff;border: 1px dotted black;border-radius: 0.25em;box-sizing: border-box;margin-bottom: 0.5em;}#sk-db02b6d3-12ca-47ff-ab8c-be666e25e71e div.sk-estimator:hover {background-color: #d4ebff;}#sk-db02b6d3-12ca-47ff-ab8c-be666e25e71e div.sk-parallel-item::after {content: \"\";width: 100%;border-bottom: 1px solid gray;flex-grow: 1;}#sk-db02b6d3-12ca-47ff-ab8c-be666e25e71e div.sk-label:hover label.sk-toggleable__label {background-color: #d4ebff;}#sk-db02b6d3-12ca-47ff-ab8c-be666e25e71e div.sk-serial::before {content: \"\";position: absolute;border-left: 1px solid gray;box-sizing: border-box;top: 2em;bottom: 0;left: 50%;}#sk-db02b6d3-12ca-47ff-ab8c-be666e25e71e div.sk-serial {display: flex;flex-direction: column;align-items: center;background-color: white;padding-right: 0.2em;padding-left: 0.2em;}#sk-db02b6d3-12ca-47ff-ab8c-be666e25e71e div.sk-item {z-index: 1;}#sk-db02b6d3-12ca-47ff-ab8c-be666e25e71e div.sk-parallel {display: flex;align-items: stretch;justify-content: center;background-color: white;}#sk-db02b6d3-12ca-47ff-ab8c-be666e25e71e div.sk-parallel::before {content: \"\";position: absolute;border-left: 1px solid gray;box-sizing: border-box;top: 2em;bottom: 0;left: 50%;}#sk-db02b6d3-12ca-47ff-ab8c-be666e25e71e div.sk-parallel-item {display: flex;flex-direction: column;position: relative;background-color: white;}#sk-db02b6d3-12ca-47ff-ab8c-be666e25e71e div.sk-parallel-item:first-child::after {align-self: flex-end;width: 50%;}#sk-db02b6d3-12ca-47ff-ab8c-be666e25e71e div.sk-parallel-item:last-child::after {align-self: flex-start;width: 50%;}#sk-db02b6d3-12ca-47ff-ab8c-be666e25e71e div.sk-parallel-item:only-child::after {width: 0;}#sk-db02b6d3-12ca-47ff-ab8c-be666e25e71e div.sk-dashed-wrapped {border: 1px dashed gray;margin: 0 0.4em 0.5em 0.4em;box-sizing: border-box;padding-bottom: 0.4em;background-color: white;position: relative;}#sk-db02b6d3-12ca-47ff-ab8c-be666e25e71e div.sk-label label {font-family: monospace;font-weight: bold;background-color: white;display: inline-block;line-height: 1.2em;}#sk-db02b6d3-12ca-47ff-ab8c-be666e25e71e div.sk-label-container {position: relative;z-index: 2;text-align: center;}#sk-db02b6d3-12ca-47ff-ab8c-be666e25e71e div.sk-container {/* jupyter's `normalize.less` sets `[hidden] { display: none; }` but bootstrap.min.css set `[hidden] { display: none !important; }` so we also need the `!important` here to be able to override the default hidden behavior on the sphinx rendered scikit-learn.org. See: https://github.com/scikit-learn/scikit-learn/issues/21755 */display: inline-block !important;position: relative;}#sk-db02b6d3-12ca-47ff-ab8c-be666e25e71e div.sk-text-repr-fallback {display: none;}</style><div id=\"sk-db02b6d3-12ca-47ff-ab8c-be666e25e71e\" class=\"sk-top-container\"><div class=\"sk-text-repr-fallback\"><pre>Pipeline(steps=[(&#x27;columntransformer&#x27;,\n",
       "                 ColumnTransformer(transformers=[(&#x27;num_tr&#x27;,\n",
       "                                                  Pipeline(steps=[(&#x27;scaler&#x27;,\n",
       "                                                                   MinMaxScaler())]),\n",
       "                                                  array([&#x27;dias_atraso&#x27;, &#x27;monto&#x27;, &#x27;nro_cuotas_atrasadas&#x27;,\n",
       "       &#x27;cuotas_canceladas&#x27;, &#x27;cuotas_vencidas&#x27;, &#x27;vigente&#x27;], dtype=object)),\n",
       "                                                 (&#x27;cat_tr&#x27;,\n",
       "                                                  Pipeline(steps=[(&#x27;encoder&#x27;,\n",
       "                                                                   OneHotEncoder(handle_unknown=&#x27;ignore&#x27;))]),\n",
       "                                                  array([&#x27;nombre_conyuge&#x27;, &#x27;nombre_garante&#x27;], dtype=object))])),\n",
       "                (&#x27;randomforestregressor&#x27;, RandomForestRegressor())])</pre><b>Please rerun this cell to show the HTML repr or trust the notebook.</b></div><div class=\"sk-container\" hidden><div class=\"sk-item sk-dashed-wrapped\"><div class=\"sk-label-container\"><div class=\"sk-label sk-toggleable\"><input class=\"sk-toggleable__control sk-hidden--visually\" id=\"6a761c39-a740-4311-8f5b-ecfe8b077d3f\" type=\"checkbox\" ><label for=\"6a761c39-a740-4311-8f5b-ecfe8b077d3f\" class=\"sk-toggleable__label sk-toggleable__label-arrow\">Pipeline</label><div class=\"sk-toggleable__content\"><pre>Pipeline(steps=[(&#x27;columntransformer&#x27;,\n",
       "                 ColumnTransformer(transformers=[(&#x27;num_tr&#x27;,\n",
       "                                                  Pipeline(steps=[(&#x27;scaler&#x27;,\n",
       "                                                                   MinMaxScaler())]),\n",
       "                                                  array([&#x27;dias_atraso&#x27;, &#x27;monto&#x27;, &#x27;nro_cuotas_atrasadas&#x27;,\n",
       "       &#x27;cuotas_canceladas&#x27;, &#x27;cuotas_vencidas&#x27;, &#x27;vigente&#x27;], dtype=object)),\n",
       "                                                 (&#x27;cat_tr&#x27;,\n",
       "                                                  Pipeline(steps=[(&#x27;encoder&#x27;,\n",
       "                                                                   OneHotEncoder(handle_unknown=&#x27;ignore&#x27;))]),\n",
       "                                                  array([&#x27;nombre_conyuge&#x27;, &#x27;nombre_garante&#x27;], dtype=object))])),\n",
       "                (&#x27;randomforestregressor&#x27;, RandomForestRegressor())])</pre></div></div></div><div class=\"sk-serial\"><div class=\"sk-item sk-dashed-wrapped\"><div class=\"sk-label-container\"><div class=\"sk-label sk-toggleable\"><input class=\"sk-toggleable__control sk-hidden--visually\" id=\"c5a60b54-4b68-4a89-b660-e2af381c7200\" type=\"checkbox\" ><label for=\"c5a60b54-4b68-4a89-b660-e2af381c7200\" class=\"sk-toggleable__label sk-toggleable__label-arrow\">columntransformer: ColumnTransformer</label><div class=\"sk-toggleable__content\"><pre>ColumnTransformer(transformers=[(&#x27;num_tr&#x27;,\n",
       "                                 Pipeline(steps=[(&#x27;scaler&#x27;, MinMaxScaler())]),\n",
       "                                 array([&#x27;dias_atraso&#x27;, &#x27;monto&#x27;, &#x27;nro_cuotas_atrasadas&#x27;,\n",
       "       &#x27;cuotas_canceladas&#x27;, &#x27;cuotas_vencidas&#x27;, &#x27;vigente&#x27;], dtype=object)),\n",
       "                                (&#x27;cat_tr&#x27;,\n",
       "                                 Pipeline(steps=[(&#x27;encoder&#x27;,\n",
       "                                                  OneHotEncoder(handle_unknown=&#x27;ignore&#x27;))]),\n",
       "                                 array([&#x27;nombre_conyuge&#x27;, &#x27;nombre_garante&#x27;], dtype=object))])</pre></div></div></div><div class=\"sk-parallel\"><div class=\"sk-parallel-item\"><div class=\"sk-item\"><div class=\"sk-label-container\"><div class=\"sk-label sk-toggleable\"><input class=\"sk-toggleable__control sk-hidden--visually\" id=\"3c9f912c-a09d-4691-a08e-dfaa55deb644\" type=\"checkbox\" ><label for=\"3c9f912c-a09d-4691-a08e-dfaa55deb644\" class=\"sk-toggleable__label sk-toggleable__label-arrow\">num_tr</label><div class=\"sk-toggleable__content\"><pre>[&#x27;dias_atraso&#x27; &#x27;monto&#x27; &#x27;nro_cuotas_atrasadas&#x27; &#x27;cuotas_canceladas&#x27;\n",
       " &#x27;cuotas_vencidas&#x27; &#x27;vigente&#x27;]</pre></div></div></div><div class=\"sk-serial\"><div class=\"sk-item\"><div class=\"sk-serial\"><div class=\"sk-item\"><div class=\"sk-estimator sk-toggleable\"><input class=\"sk-toggleable__control sk-hidden--visually\" id=\"f5f9f244-9176-40b3-b324-f2c6690a46b4\" type=\"checkbox\" ><label for=\"f5f9f244-9176-40b3-b324-f2c6690a46b4\" class=\"sk-toggleable__label sk-toggleable__label-arrow\">MinMaxScaler</label><div class=\"sk-toggleable__content\"><pre>MinMaxScaler()</pre></div></div></div></div></div></div></div></div><div class=\"sk-parallel-item\"><div class=\"sk-item\"><div class=\"sk-label-container\"><div class=\"sk-label sk-toggleable\"><input class=\"sk-toggleable__control sk-hidden--visually\" id=\"9c424833-2580-44a0-8bce-42474f9eee24\" type=\"checkbox\" ><label for=\"9c424833-2580-44a0-8bce-42474f9eee24\" class=\"sk-toggleable__label sk-toggleable__label-arrow\">cat_tr</label><div class=\"sk-toggleable__content\"><pre>[&#x27;nombre_conyuge&#x27; &#x27;nombre_garante&#x27;]</pre></div></div></div><div class=\"sk-serial\"><div class=\"sk-item\"><div class=\"sk-serial\"><div class=\"sk-item\"><div class=\"sk-estimator sk-toggleable\"><input class=\"sk-toggleable__control sk-hidden--visually\" id=\"be9b7ca2-d1a2-4eed-a86e-306113a0e237\" type=\"checkbox\" ><label for=\"be9b7ca2-d1a2-4eed-a86e-306113a0e237\" class=\"sk-toggleable__label sk-toggleable__label-arrow\">OneHotEncoder</label><div class=\"sk-toggleable__content\"><pre>OneHotEncoder(handle_unknown=&#x27;ignore&#x27;)</pre></div></div></div></div></div></div></div></div></div></div><div class=\"sk-item\"><div class=\"sk-estimator sk-toggleable\"><input class=\"sk-toggleable__control sk-hidden--visually\" id=\"4d757288-2093-40e5-8f5f-a869b09551b9\" type=\"checkbox\" ><label for=\"4d757288-2093-40e5-8f5f-a869b09551b9\" class=\"sk-toggleable__label sk-toggleable__label-arrow\">RandomForestRegressor</label><div class=\"sk-toggleable__content\"><pre>RandomForestRegressor()</pre></div></div></div></div></div></div></div>"
      ],
      "text/plain": [
       "Pipeline(steps=[('columntransformer',\n",
       "                 ColumnTransformer(transformers=[('num_tr',\n",
       "                                                  Pipeline(steps=[('scaler',\n",
       "                                                                   MinMaxScaler())]),\n",
       "                                                  array(['dias_atraso', 'monto', 'nro_cuotas_atrasadas',\n",
       "       'cuotas_canceladas', 'cuotas_vencidas', 'vigente'], dtype=object)),\n",
       "                                                 ('cat_tr',\n",
       "                                                  Pipeline(steps=[('encoder',\n",
       "                                                                   OneHotEncoder(handle_unknown='ignore'))]),\n",
       "                                                  array(['nombre_conyuge', 'nombre_garante'], dtype=object))])),\n",
       "                ('randomforestregressor', RandomForestRegressor())])"
      ]
     },
     "execution_count": 705,
     "metadata": {},
     "output_type": "execute_result"
    }
   ],
   "source": [
    "from sklearn.ensemble import RandomForestRegressor\n",
    "\n",
    "pipe_baseline3 = make_pipeline(prepoc_baseline, RandomForestRegressor(n_estimators=100))\n",
    "pipe_baseline3"
   ]
  },
  {
   "cell_type": "markdown",
   "id": "84b95b35",
   "metadata": {},
   "source": [
    "### Cross-Validation"
   ]
  },
  {
   "cell_type": "code",
   "execution_count": 706,
   "id": "3cd37469",
   "metadata": {},
   "outputs": [
    {
     "data": {
      "text/plain": [
       "make_scorer(mean_squared_log_error, squared=False)"
      ]
     },
     "execution_count": 706,
     "metadata": {},
     "output_type": "execute_result"
    }
   ],
   "source": [
    "from sklearn.metrics import mean_squared_error, make_scorer\n",
    "from sklearn.metrics import mean_squared_log_error\n",
    "\n",
    "\n",
    "rmsle = make_scorer(mean_squared_log_error,squared=False)\n",
    "rmsle"
   ]
  },
  {
   "cell_type": "code",
   "execution_count": 707,
   "id": "b27adef5",
   "metadata": {},
   "outputs": [],
   "source": [
    "rmsle_neg = make_scorer(mean_squared_log_error,squared=False,greater_is_better=False)\n"
   ]
  },
  {
   "cell_type": "code",
   "execution_count": 708,
   "id": "e01551e2",
   "metadata": {},
   "outputs": [],
   "source": [
    "X_transformed =pd.DataFrame(X_transformed)\n"
   ]
  },
  {
   "cell_type": "code",
   "execution_count": 709,
   "id": "8fb84b12",
   "metadata": {},
   "outputs": [
    {
     "data": {
      "text/plain": [
       "0.2650310469697699"
      ]
     },
     "execution_count": 709,
     "metadata": {},
     "output_type": "execute_result"
    }
   ],
   "source": [
    "from sklearn.model_selection import cross_val_score\n",
    "from sklearn.model_selection import cross_validate\n",
    "\n",
    "score_baseline = cross_val_score(pipe_baseline, X_train, y_train, cv=5, scoring=rmsle).mean()\n",
    "score_baseline"
   ]
  },
  {
   "cell_type": "code",
   "execution_count": 710,
   "id": "505b2edb",
   "metadata": {
    "scrolled": true
   },
   "outputs": [
    {
     "data": {
      "text/plain": [
       "0.2775116522451355"
      ]
     },
     "execution_count": 710,
     "metadata": {},
     "output_type": "execute_result"
    }
   ],
   "source": [
    "score_baseline2 = cross_val_score(pipe_baseline2, X_train, y_train, cv=5, scoring=rmsle).mean()\n",
    "score_baseline2"
   ]
  },
  {
   "cell_type": "code",
   "execution_count": 711,
   "id": "3f14999a",
   "metadata": {},
   "outputs": [
    {
     "data": {
      "text/plain": [
       "0.2747966505945331"
      ]
     },
     "execution_count": 711,
     "metadata": {},
     "output_type": "execute_result"
    }
   ],
   "source": [
    "score_baseline3 = cross_val_score(pipe_baseline3, X_train, y_train, cv=5, scoring=rmsle).mean()\n",
    "score_baseline3"
   ]
  },
  {
   "cell_type": "markdown",
   "id": "4a282c24",
   "metadata": {},
   "source": [
    "Gradient Boosting proves better than Random Forest and XBGR. "
   ]
  },
  {
   "cell_type": "markdown",
   "id": "c7b5dcfd",
   "metadata": {},
   "source": [
    "#### Predict baseline\n"
   ]
  },
  {
   "cell_type": "code",
   "execution_count": 712,
   "id": "abd72eb1",
   "metadata": {},
   "outputs": [
    {
     "data": {
      "text/html": [
       "<div>\n",
       "<style scoped>\n",
       "    .dataframe tbody tr th:only-of-type {\n",
       "        vertical-align: middle;\n",
       "    }\n",
       "\n",
       "    .dataframe tbody tr th {\n",
       "        vertical-align: top;\n",
       "    }\n",
       "\n",
       "    .dataframe thead th {\n",
       "        text-align: right;\n",
       "    }\n",
       "</style>\n",
       "<table border=\"1\" class=\"dataframe\">\n",
       "  <thead>\n",
       "    <tr style=\"text-align: right;\">\n",
       "      <th></th>\n",
       "      <th>Credito</th>\n",
       "      <th>nombre_conyuge</th>\n",
       "      <th>nombre_garante</th>\n",
       "      <th>dias_atraso</th>\n",
       "      <th>monto</th>\n",
       "      <th>nro_cuotas_atrasadas</th>\n",
       "      <th>cuotas_canceladas</th>\n",
       "      <th>cuotas_vencidas</th>\n",
       "      <th>vigente</th>\n",
       "    </tr>\n",
       "  </thead>\n",
       "  <tbody>\n",
       "    <tr>\n",
       "      <th>14186</th>\n",
       "      <td>810171011686</td>\n",
       "      <td>Casado</td>\n",
       "      <td>No</td>\n",
       "      <td>287</td>\n",
       "      <td>1095000</td>\n",
       "      <td>15</td>\n",
       "      <td>6</td>\n",
       "      <td>9</td>\n",
       "      <td>0</td>\n",
       "    </tr>\n",
       "    <tr>\n",
       "      <th>2754</th>\n",
       "      <td>203141042347</td>\n",
       "      <td>Soltero</td>\n",
       "      <td>No</td>\n",
       "      <td>985</td>\n",
       "      <td>2200000</td>\n",
       "      <td>24</td>\n",
       "      <td>21</td>\n",
       "      <td>3</td>\n",
       "      <td>0</td>\n",
       "    </tr>\n",
       "    <tr>\n",
       "      <th>10557</th>\n",
       "      <td>648161007515</td>\n",
       "      <td>Casado</td>\n",
       "      <td>No</td>\n",
       "      <td>533</td>\n",
       "      <td>1140060</td>\n",
       "      <td>14</td>\n",
       "      <td>11</td>\n",
       "      <td>3</td>\n",
       "      <td>0</td>\n",
       "    </tr>\n",
       "    <tr>\n",
       "      <th>11029</th>\n",
       "      <td>658181006983</td>\n",
       "      <td>Soltero</td>\n",
       "      <td>No</td>\n",
       "      <td>461</td>\n",
       "      <td>4267480</td>\n",
       "      <td>8</td>\n",
       "      <td>3</td>\n",
       "      <td>5</td>\n",
       "      <td>0</td>\n",
       "    </tr>\n",
       "    <tr>\n",
       "      <th>1036</th>\n",
       "      <td>109181033263</td>\n",
       "      <td>Casado</td>\n",
       "      <td>No</td>\n",
       "      <td>167</td>\n",
       "      <td>1300000</td>\n",
       "      <td>4</td>\n",
       "      <td>2</td>\n",
       "      <td>2</td>\n",
       "      <td>0</td>\n",
       "    </tr>\n",
       "    <tr>\n",
       "      <th>...</th>\n",
       "      <td>...</td>\n",
       "      <td>...</td>\n",
       "      <td>...</td>\n",
       "      <td>...</td>\n",
       "      <td>...</td>\n",
       "      <td>...</td>\n",
       "      <td>...</td>\n",
       "      <td>...</td>\n",
       "      <td>...</td>\n",
       "    </tr>\n",
       "    <tr>\n",
       "      <th>887</th>\n",
       "      <td>107171071219</td>\n",
       "      <td>Casado</td>\n",
       "      <td>No</td>\n",
       "      <td>145</td>\n",
       "      <td>1150000</td>\n",
       "      <td>12</td>\n",
       "      <td>10</td>\n",
       "      <td>2</td>\n",
       "      <td>0</td>\n",
       "    </tr>\n",
       "    <tr>\n",
       "      <th>9362</th>\n",
       "      <td>623171013332</td>\n",
       "      <td>Soltero</td>\n",
       "      <td>No</td>\n",
       "      <td>205</td>\n",
       "      <td>1050000</td>\n",
       "      <td>12</td>\n",
       "      <td>9</td>\n",
       "      <td>3</td>\n",
       "      <td>0</td>\n",
       "    </tr>\n",
       "    <tr>\n",
       "      <th>10483</th>\n",
       "      <td>647131001637</td>\n",
       "      <td>Soltero</td>\n",
       "      <td>Si</td>\n",
       "      <td>1735</td>\n",
       "      <td>2057650</td>\n",
       "      <td>18</td>\n",
       "      <td>8</td>\n",
       "      <td>10</td>\n",
       "      <td>0</td>\n",
       "    </tr>\n",
       "    <tr>\n",
       "      <th>5301</th>\n",
       "      <td>402141050665</td>\n",
       "      <td>Soltero</td>\n",
       "      <td>No</td>\n",
       "      <td>1434</td>\n",
       "      <td>800000</td>\n",
       "      <td>10</td>\n",
       "      <td>6</td>\n",
       "      <td>4</td>\n",
       "      <td>0</td>\n",
       "    </tr>\n",
       "    <tr>\n",
       "      <th>5683</th>\n",
       "      <td>404181020034</td>\n",
       "      <td>Soltero</td>\n",
       "      <td>Si</td>\n",
       "      <td>198</td>\n",
       "      <td>13098912</td>\n",
       "      <td>3</td>\n",
       "      <td>8</td>\n",
       "      <td>7</td>\n",
       "      <td>0</td>\n",
       "    </tr>\n",
       "  </tbody>\n",
       "</table>\n",
       "<p>3940 rows × 9 columns</p>\n",
       "</div>"
      ],
      "text/plain": [
       "            Credito nombre_conyuge nombre_garante  dias_atraso     monto  \\\n",
       "14186  810171011686         Casado             No          287   1095000   \n",
       "2754   203141042347        Soltero             No          985   2200000   \n",
       "10557  648161007515         Casado             No          533   1140060   \n",
       "11029  658181006983        Soltero             No          461   4267480   \n",
       "1036   109181033263         Casado             No          167   1300000   \n",
       "...             ...            ...            ...          ...       ...   \n",
       "887    107171071219         Casado             No          145   1150000   \n",
       "9362   623171013332        Soltero             No          205   1050000   \n",
       "10483  647131001637        Soltero             Si         1735   2057650   \n",
       "5301   402141050665        Soltero             No         1434    800000   \n",
       "5683   404181020034        Soltero             Si          198  13098912   \n",
       "\n",
       "       nro_cuotas_atrasadas  cuotas_canceladas  cuotas_vencidas  vigente  \n",
       "14186                    15                  6                9        0  \n",
       "2754                     24                 21                3        0  \n",
       "10557                    14                 11                3        0  \n",
       "11029                     8                  3                5        0  \n",
       "1036                      4                  2                2        0  \n",
       "...                     ...                ...              ...      ...  \n",
       "887                      12                 10                2        0  \n",
       "9362                     12                  9                3        0  \n",
       "10483                    18                  8               10        0  \n",
       "5301                     10                  6                4        0  \n",
       "5683                      3                  8                7        0  \n",
       "\n",
       "[3940 rows x 9 columns]"
      ]
     },
     "execution_count": 712,
     "metadata": {},
     "output_type": "execute_result"
    }
   ],
   "source": [
    "X_test"
   ]
  },
  {
   "cell_type": "code",
   "execution_count": 713,
   "id": "b7d99155",
   "metadata": {},
   "outputs": [
    {
     "data": {
      "text/plain": [
       "array([0.87946006, 0.84472249, 1.05426292, ..., 0.8300004 , 0.65136532,\n",
       "       0.32960041])"
      ]
     },
     "execution_count": 713,
     "metadata": {},
     "output_type": "execute_result"
    }
   ],
   "source": [
    "pipe_baseline.fit(X_train,y_train)\n",
    "y_pred_baseline = pipe_baseline.predict(X_test)\n",
    "y_pred_baseline"
   ]
  },
  {
   "cell_type": "code",
   "execution_count": 714,
   "id": "2b6b51f3",
   "metadata": {},
   "outputs": [
    {
     "data": {
      "text/plain": [
       "(3940,)"
      ]
     },
     "execution_count": 714,
     "metadata": {},
     "output_type": "execute_result"
    }
   ],
   "source": [
    "y_pred_baseline.shape"
   ]
  },
  {
   "cell_type": "code",
   "execution_count": 715,
   "id": "7d5df50f",
   "metadata": {},
   "outputs": [],
   "source": [
    "X_test.Credito.reset_index(drop=True, inplace=True)"
   ]
  },
  {
   "cell_type": "code",
   "execution_count": 716,
   "id": "bb1173fa",
   "metadata": {
    "scrolled": true
   },
   "outputs": [
    {
     "data": {
      "text/html": [
       "<div>\n",
       "<style scoped>\n",
       "    .dataframe tbody tr th:only-of-type {\n",
       "        vertical-align: middle;\n",
       "    }\n",
       "\n",
       "    .dataframe tbody tr th {\n",
       "        vertical-align: top;\n",
       "    }\n",
       "\n",
       "    .dataframe thead th {\n",
       "        text-align: right;\n",
       "    }\n",
       "</style>\n",
       "<table border=\"1\" class=\"dataframe\">\n",
       "  <thead>\n",
       "    <tr style=\"text-align: right;\">\n",
       "      <th></th>\n",
       "      <th>Credito</th>\n",
       "      <th>rate</th>\n",
       "    </tr>\n",
       "  </thead>\n",
       "  <tbody>\n",
       "    <tr>\n",
       "      <th>0</th>\n",
       "      <td>810171011686</td>\n",
       "      <td>0.879460</td>\n",
       "    </tr>\n",
       "    <tr>\n",
       "      <th>1</th>\n",
       "      <td>203141042347</td>\n",
       "      <td>0.844722</td>\n",
       "    </tr>\n",
       "    <tr>\n",
       "      <th>2</th>\n",
       "      <td>648161007515</td>\n",
       "      <td>1.054263</td>\n",
       "    </tr>\n",
       "    <tr>\n",
       "      <th>3</th>\n",
       "      <td>658181006983</td>\n",
       "      <td>0.696153</td>\n",
       "    </tr>\n",
       "    <tr>\n",
       "      <th>4</th>\n",
       "      <td>109181033263</td>\n",
       "      <td>0.959952</td>\n",
       "    </tr>\n",
       "    <tr>\n",
       "      <th>...</th>\n",
       "      <td>...</td>\n",
       "      <td>...</td>\n",
       "    </tr>\n",
       "    <tr>\n",
       "      <th>3935</th>\n",
       "      <td>107171071219</td>\n",
       "      <td>1.081688</td>\n",
       "    </tr>\n",
       "    <tr>\n",
       "      <th>3936</th>\n",
       "      <td>623171013332</td>\n",
       "      <td>1.006937</td>\n",
       "    </tr>\n",
       "    <tr>\n",
       "      <th>3937</th>\n",
       "      <td>647131001637</td>\n",
       "      <td>0.830000</td>\n",
       "    </tr>\n",
       "    <tr>\n",
       "      <th>3938</th>\n",
       "      <td>402141050665</td>\n",
       "      <td>0.651365</td>\n",
       "    </tr>\n",
       "    <tr>\n",
       "      <th>3939</th>\n",
       "      <td>404181020034</td>\n",
       "      <td>0.329600</td>\n",
       "    </tr>\n",
       "  </tbody>\n",
       "</table>\n",
       "<p>3940 rows × 2 columns</p>\n",
       "</div>"
      ],
      "text/plain": [
       "           Credito      rate\n",
       "0     810171011686  0.879460\n",
       "1     203141042347  0.844722\n",
       "2     648161007515  1.054263\n",
       "3     658181006983  0.696153\n",
       "4     109181033263  0.959952\n",
       "...            ...       ...\n",
       "3935  107171071219  1.081688\n",
       "3936  623171013332  1.006937\n",
       "3937  647131001637  0.830000\n",
       "3938  402141050665  0.651365\n",
       "3939  404181020034  0.329600\n",
       "\n",
       "[3940 rows x 2 columns]"
      ]
     },
     "execution_count": 716,
     "metadata": {},
     "output_type": "execute_result"
    }
   ],
   "source": [
    "submission_baseline = pd.concat([X_test['Credito'], \n",
    "                     pd.Series(y_pred_baseline, \n",
    "                               name=\"rate\")], \n",
    "                    axis=1)\n",
    "submission_baseline"
   ]
  },
  {
   "cell_type": "code",
   "execution_count": 717,
   "id": "bfe6d0f2",
   "metadata": {},
   "outputs": [],
   "source": [
    "df_final = submission_baseline"
   ]
  },
  {
   "cell_type": "markdown",
   "id": "b01deb68",
   "metadata": {},
   "source": [
    "## Forecasting Rate of Recovery"
   ]
  },
  {
   "cell_type": "markdown",
   "id": "8d92c4be",
   "metadata": {},
   "source": [
    "Sorted list by loan id with their rate of recovery forecast."
   ]
  },
  {
   "cell_type": "code",
   "execution_count": 725,
   "id": "cea98c51",
   "metadata": {},
   "outputs": [
    {
     "data": {
      "text/html": [
       "<div>\n",
       "<style scoped>\n",
       "    .dataframe tbody tr th:only-of-type {\n",
       "        vertical-align: middle;\n",
       "    }\n",
       "\n",
       "    .dataframe tbody tr th {\n",
       "        vertical-align: top;\n",
       "    }\n",
       "\n",
       "    .dataframe thead th {\n",
       "        text-align: right;\n",
       "    }\n",
       "</style>\n",
       "<table border=\"1\" class=\"dataframe\">\n",
       "  <thead>\n",
       "    <tr style=\"text-align: right;\">\n",
       "      <th></th>\n",
       "      <th>Credito</th>\n",
       "      <th>rate</th>\n",
       "    </tr>\n",
       "  </thead>\n",
       "  <tbody>\n",
       "    <tr>\n",
       "      <th>1054</th>\n",
       "      <td>107201083664</td>\n",
       "      <td>0.119286</td>\n",
       "    </tr>\n",
       "    <tr>\n",
       "      <th>2223</th>\n",
       "      <td>201201018267</td>\n",
       "      <td>0.215419</td>\n",
       "    </tr>\n",
       "    <tr>\n",
       "      <th>1333</th>\n",
       "      <td>201201014848</td>\n",
       "      <td>0.231080</td>\n",
       "    </tr>\n",
       "    <tr>\n",
       "      <th>2577</th>\n",
       "      <td>208161052472</td>\n",
       "      <td>0.244925</td>\n",
       "    </tr>\n",
       "    <tr>\n",
       "      <th>3574</th>\n",
       "      <td>220211011399</td>\n",
       "      <td>0.294589</td>\n",
       "    </tr>\n",
       "    <tr>\n",
       "      <th>2210</th>\n",
       "      <td>302161097923</td>\n",
       "      <td>0.327799</td>\n",
       "    </tr>\n",
       "    <tr>\n",
       "      <th>3939</th>\n",
       "      <td>404181020034</td>\n",
       "      <td>0.329600</td>\n",
       "    </tr>\n",
       "    <tr>\n",
       "      <th>1940</th>\n",
       "      <td>623201018376</td>\n",
       "      <td>0.343598</td>\n",
       "    </tr>\n",
       "    <tr>\n",
       "      <th>2547</th>\n",
       "      <td>610191013178</td>\n",
       "      <td>0.343854</td>\n",
       "    </tr>\n",
       "    <tr>\n",
       "      <th>706</th>\n",
       "      <td>307201015147</td>\n",
       "      <td>0.347262</td>\n",
       "    </tr>\n",
       "    <tr>\n",
       "      <th>3320</th>\n",
       "      <td>107201082726</td>\n",
       "      <td>0.366290</td>\n",
       "    </tr>\n",
       "    <tr>\n",
       "      <th>2667</th>\n",
       "      <td>715201019032</td>\n",
       "      <td>0.366635</td>\n",
       "    </tr>\n",
       "    <tr>\n",
       "      <th>615</th>\n",
       "      <td>610181010662</td>\n",
       "      <td>0.367847</td>\n",
       "    </tr>\n",
       "    <tr>\n",
       "      <th>2457</th>\n",
       "      <td>719181012818</td>\n",
       "      <td>0.394076</td>\n",
       "    </tr>\n",
       "    <tr>\n",
       "      <th>2815</th>\n",
       "      <td>669201008252</td>\n",
       "      <td>0.400693</td>\n",
       "    </tr>\n",
       "    <tr>\n",
       "      <th>3297</th>\n",
       "      <td>827191007656</td>\n",
       "      <td>0.413701</td>\n",
       "    </tr>\n",
       "    <tr>\n",
       "      <th>958</th>\n",
       "      <td>305191018856</td>\n",
       "      <td>0.413701</td>\n",
       "    </tr>\n",
       "    <tr>\n",
       "      <th>2302</th>\n",
       "      <td>502201051729</td>\n",
       "      <td>0.415776</td>\n",
       "    </tr>\n",
       "    <tr>\n",
       "      <th>2779</th>\n",
       "      <td>136171016230</td>\n",
       "      <td>0.422050</td>\n",
       "    </tr>\n",
       "    <tr>\n",
       "      <th>3158</th>\n",
       "      <td>650201009364</td>\n",
       "      <td>0.425670</td>\n",
       "    </tr>\n",
       "  </tbody>\n",
       "</table>\n",
       "</div>"
      ],
      "text/plain": [
       "           Credito      rate\n",
       "1054  107201083664  0.119286\n",
       "2223  201201018267  0.215419\n",
       "1333  201201014848  0.231080\n",
       "2577  208161052472  0.244925\n",
       "3574  220211011399  0.294589\n",
       "2210  302161097923  0.327799\n",
       "3939  404181020034  0.329600\n",
       "1940  623201018376  0.343598\n",
       "2547  610191013178  0.343854\n",
       "706   307201015147  0.347262\n",
       "3320  107201082726  0.366290\n",
       "2667  715201019032  0.366635\n",
       "615   610181010662  0.367847\n",
       "2457  719181012818  0.394076\n",
       "2815  669201008252  0.400693\n",
       "3297  827191007656  0.413701\n",
       "958   305191018856  0.413701\n",
       "2302  502201051729  0.415776\n",
       "2779  136171016230  0.422050\n",
       "3158  650201009364  0.425670"
      ]
     },
     "execution_count": 725,
     "metadata": {},
     "output_type": "execute_result"
    }
   ],
   "source": [
    "df_sorted = df_final.sort_values(by=['rate'],ascending=True)\n",
    "df_sorted.head(20)"
   ]
  },
  {
   "cell_type": "markdown",
   "id": "8ad3d49e",
   "metadata": {},
   "source": [
    "### Loan Selector  (Buscador de Credito)"
   ]
  },
  {
   "cell_type": "code",
   "execution_count": 726,
   "id": "f5bd5bc6",
   "metadata": {},
   "outputs": [
    {
     "data": {
      "text/html": [
       "<div>\n",
       "<style scoped>\n",
       "    .dataframe tbody tr th:only-of-type {\n",
       "        vertical-align: middle;\n",
       "    }\n",
       "\n",
       "    .dataframe tbody tr th {\n",
       "        vertical-align: top;\n",
       "    }\n",
       "\n",
       "    .dataframe thead th {\n",
       "        text-align: right;\n",
       "    }\n",
       "</style>\n",
       "<table border=\"1\" class=\"dataframe\">\n",
       "  <thead>\n",
       "    <tr style=\"text-align: right;\">\n",
       "      <th></th>\n",
       "      <th>Credito</th>\n",
       "      <th>nombre_conyuge</th>\n",
       "      <th>nombre_garante</th>\n",
       "      <th>dias_atraso</th>\n",
       "      <th>monto</th>\n",
       "      <th>nro_cuotas_atrasadas</th>\n",
       "      <th>cuotas_canceladas</th>\n",
       "      <th>cuotas_vencidas</th>\n",
       "      <th>vigente</th>\n",
       "      <th>TotalCancelado</th>\n",
       "      <th>SaldoFindeMes</th>\n",
       "      <th>rate</th>\n",
       "    </tr>\n",
       "  </thead>\n",
       "  <tbody>\n",
       "    <tr>\n",
       "      <th>914</th>\n",
       "      <td>107201083664</td>\n",
       "      <td>Soltero</td>\n",
       "      <td>No</td>\n",
       "      <td>440</td>\n",
       "      <td>12387022</td>\n",
       "      <td>60</td>\n",
       "      <td>0</td>\n",
       "      <td>15</td>\n",
       "      <td>0</td>\n",
       "      <td>797966</td>\n",
       "      <td>12387022.0</td>\n",
       "      <td>0.06442</td>\n",
       "    </tr>\n",
       "  </tbody>\n",
       "</table>\n",
       "</div>"
      ],
      "text/plain": [
       "          Credito nombre_conyuge nombre_garante  dias_atraso     monto  \\\n",
       "914  107201083664        Soltero             No          440  12387022   \n",
       "\n",
       "     nro_cuotas_atrasadas  cuotas_canceladas  cuotas_vencidas  vigente  \\\n",
       "914                    60                  0               15        0   \n",
       "\n",
       "     TotalCancelado  SaldoFindeMes     rate  \n",
       "914          797966     12387022.0  0.06442  "
      ]
     },
     "execution_count": 726,
     "metadata": {},
     "output_type": "execute_result"
    }
   ],
   "source": [
    "df_out3.loc[df_out3['Credito'] ==107201083664]"
   ]
  },
  {
   "cell_type": "code",
   "execution_count": 727,
   "id": "ab050d9c",
   "metadata": {},
   "outputs": [
    {
     "data": {
      "text/html": [
       "<div>\n",
       "<style scoped>\n",
       "    .dataframe tbody tr th:only-of-type {\n",
       "        vertical-align: middle;\n",
       "    }\n",
       "\n",
       "    .dataframe tbody tr th {\n",
       "        vertical-align: top;\n",
       "    }\n",
       "\n",
       "    .dataframe thead th {\n",
       "        text-align: right;\n",
       "    }\n",
       "</style>\n",
       "<table border=\"1\" class=\"dataframe\">\n",
       "  <thead>\n",
       "    <tr style=\"text-align: right;\">\n",
       "      <th></th>\n",
       "      <th>MesCargue</th>\n",
       "      <th>Codigo</th>\n",
       "      <th>Agencia</th>\n",
       "      <th>Credito</th>\n",
       "      <th>Estado</th>\n",
       "      <th>SaldoFindeMes</th>\n",
       "      <th>DiasMoraFindeMes</th>\n",
       "      <th>SaldoActual</th>\n",
       "      <th>DiasmoraActual</th>\n",
       "      <th>FechaValor</th>\n",
       "      <th>...</th>\n",
       "      <th>MORA</th>\n",
       "      <th>PAGOSOTROS</th>\n",
       "      <th>TotalCancelado</th>\n",
       "      <th>VRgoech</th>\n",
       "      <th>CONDCAPITAL</th>\n",
       "      <th>CONDINTERES</th>\n",
       "      <th>CONDMORA</th>\n",
       "      <th>DiasMoraPago</th>\n",
       "      <th>Reverso</th>\n",
       "      <th>Concepto</th>\n",
       "    </tr>\n",
       "  </thead>\n",
       "  <tbody>\n",
       "    <tr>\n",
       "      <th>95608</th>\n",
       "      <td>2022-05</td>\n",
       "      <td>0</td>\n",
       "      <td>PIEDECUESTA CENTRO</td>\n",
       "      <td>107201083664</td>\n",
       "      <td>castigado</td>\n",
       "      <td>12387022.0</td>\n",
       "      <td>440</td>\n",
       "      <td>12329419</td>\n",
       "      <td>441</td>\n",
       "      <td>2022-05-02</td>\n",
       "      <td>...</td>\n",
       "      <td>0</td>\n",
       "      <td>54084</td>\n",
       "      <td>797966</td>\n",
       "      <td>743882</td>\n",
       "      <td>0</td>\n",
       "      <td>0</td>\n",
       "      <td>300957</td>\n",
       "      <td>442</td>\n",
       "      <td>NO</td>\n",
       "      <td>0</td>\n",
       "    </tr>\n",
       "  </tbody>\n",
       "</table>\n",
       "<p>1 rows × 27 columns</p>\n",
       "</div>"
      ],
      "text/plain": [
       "      MesCargue  Codigo             Agencia       Credito     Estado  \\\n",
       "95608   2022-05       0  PIEDECUESTA CENTRO  107201083664  castigado   \n",
       "\n",
       "       SaldoFindeMes  DiasMoraFindeMes  SaldoActual  DiasmoraActual  \\\n",
       "95608     12387022.0               440     12329419             441   \n",
       "\n",
       "      FechaValor  ... MORA PAGOSOTROS  TotalCancelado  VRgoech CONDCAPITAL  \\\n",
       "95608 2022-05-02  ...    0      54084          797966   743882           0   \n",
       "\n",
       "       CONDINTERES  CONDMORA  DiasMoraPago  Reverso  Concepto  \n",
       "95608            0    300957           442       NO         0  \n",
       "\n",
       "[1 rows x 27 columns]"
      ]
     },
     "execution_count": 727,
     "metadata": {},
     "output_type": "execute_result"
    }
   ],
   "source": [
    "df_pagos.loc[df_pagos['Credito'] ==107201083664]"
   ]
  },
  {
   "cell_type": "markdown",
   "id": "de37d84b",
   "metadata": {
    "heading_collapsed": true
   },
   "source": [
    "#### Class Feature Importance"
   ]
  },
  {
   "cell_type": "code",
   "execution_count": 723,
   "id": "cbeb2dea",
   "metadata": {
    "hidden": true
   },
   "outputs": [],
   "source": [
    "import numpy as np  \n",
    "import pandas as pd  \n",
    "from sklearn.compose import ColumnTransformer\n",
    "from sklearn.pipeline import Pipeline\n",
    "from sklearn.utils.validation import check_is_fitted\n",
    "import plotly.express as px\n",
    "\n",
    "\n",
    "class FeatureImportance:\n",
    "\n",
    "    \"\"\"\n",
    "    \n",
    "    Extract & Plot the Feature Names & Importance Values from a Scikit-Learn Pipeline.\n",
    "    \n",
    "    The input is a Pipeline that starts with a ColumnTransformer & ends with a regression or classification model. \n",
    "    As intermediate steps, the Pipeline can have any number or no instances from sklearn.feature_selection.\n",
    "\n",
    "    Note: \n",
    "    If the ColumnTransformer contains Pipelines and if one of the transformers in the Pipeline is adding completely new columns, \n",
    "    it must come last in the pipeline. For example, OneHotEncoder, MissingIndicator & SimpleImputer(add_indicator=True) add columns \n",
    "    to the dataset that didn't exist before, so there should come last in the Pipeline.\n",
    "    \n",
    "    \n",
    "    Parameters\n",
    "    ----------\n",
    "    pipeline : a Scikit-learn Pipeline class where the a ColumnTransformer is the first element and model estimator is the last element\n",
    "    verbose : a boolean. Whether to print all of the diagnostics. Default is False.\n",
    "    \n",
    "    Attributes\n",
    "    __________\n",
    "    column_transformer_features :  A list of the feature names created by the ColumnTransformer prior to any selectors being applied\n",
    "    transformer_list : A list of the transformer names that correspond with the `column_transformer_features` attribute\n",
    "    discarded_features : A list of the features names that were not selected by a sklearn.feature_selection instance.\n",
    "    discarding_selectors : A list of the selector names corresponding with the `discarded_features` attribute\n",
    "    feature_importance :  A Pandas Series containing the feature importance values and feature names as the index.    \n",
    "    plot_importances_df : A Pandas DataFrame containing the subset of features and values that are actually displaced in the plot. \n",
    "    feature_info_df : A Pandas DataFrame that aggregates the other attributes. The index is column_transformer_features. The transformer column contains the transformer_list.\n",
    "        value contains the feature_importance values. discarding_selector contains discarding_selectors & is_retained is a Boolean indicating whether the feature was retained.\n",
    "    \n",
    "    \n",
    "    \n",
    "    \"\"\"\n",
    "    def __init__(self, pipeline, verbose=False):\n",
    "        self.pipeline = pipeline\n",
    "        self.verbose = verbose\n",
    "\n",
    "\n",
    "    def get_feature_names(self, verbose=None):  \n",
    "\n",
    "        \"\"\"\n",
    "\n",
    "        Get the column names from the a ColumnTransformer containing transformers & pipelines\n",
    "\n",
    "        Parameters\n",
    "        ----------\n",
    "        verbose : a boolean indicating whether to print summaries. \n",
    "            default = False\n",
    "\n",
    "\n",
    "        Returns\n",
    "        -------\n",
    "        a list of the correct feature names\n",
    "\n",
    "        Note: \n",
    "        If the ColumnTransformer contains Pipelines and if one of the transformers in the Pipeline is adding completely new columns, \n",
    "        it must come last in the pipeline. For example, OneHotEncoder, MissingIndicator & SimpleImputer(add_indicator=True) add columns \n",
    "        to the dataset that didn't exist before, so there should come last in the Pipeline.\n",
    "\n",
    "        Inspiration: https://github.com/scikit-learn/scikit-learn/issues/12525 \n",
    "\n",
    "        \"\"\"\n",
    "\n",
    "        if verbose is None:\n",
    "            verbose = self.verbose\n",
    "            \n",
    "        if verbose: print('''\\n\\n---------\\nRunning get_feature_names\\n---------\\n''')\n",
    "        \n",
    "        column_transformer = self.pipeline[0]        \n",
    "        assert isinstance(column_transformer, ColumnTransformer), \"Input isn't a ColumnTransformer\"\n",
    "        check_is_fitted(column_transformer)\n",
    "\n",
    "        new_feature_names, transformer_list = [], []\n",
    "\n",
    "        for i, transformer_item in enumerate(column_transformer.transformers_): \n",
    "            \n",
    "            transformer_name, transformer, orig_feature_names = transformer_item\n",
    "            orig_feature_names = list(orig_feature_names)\n",
    "            \n",
    "            if verbose: \n",
    "                print('\\n\\n', i, '. Transformer/Pipeline: ', transformer_name, ',', \n",
    "                      transformer.__class__.__name__, '\\n')\n",
    "                print('\\tn_orig_feature_names:', len(orig_feature_names))\n",
    "\n",
    "            if transformer == 'drop':\n",
    "                    \n",
    "                continue\n",
    "                \n",
    "            if isinstance(transformer, Pipeline):\n",
    "                # if pipeline, get the last transformer in the Pipeline\n",
    "                transformer = transformer.steps[-1][1]\n",
    "\n",
    "            if hasattr(transformer, 'get_feature_names'):\n",
    "\n",
    "                if 'input_features' in transformer.get_feature_names.__code__.co_varnames:\n",
    "\n",
    "                    names = list(transformer.get_feature_names(orig_feature_names))\n",
    "\n",
    "                else:\n",
    "\n",
    "                    names = list(transformer.get_feature_names())\n",
    "\n",
    "            elif hasattr(transformer,'indicator_') and transformer.add_indicator:\n",
    "                # is this transformer one of the imputers & did it call the MissingIndicator?\n",
    "\n",
    "                missing_indicator_indices = transformer.indicator_.features_\n",
    "                missing_indicators = [orig_feature_names[idx] + '_missing_flag'\\\n",
    "                                      for idx in missing_indicator_indices]\n",
    "                names = orig_feature_names + missing_indicators\n",
    "\n",
    "            elif hasattr(transformer,'features_'):\n",
    "                # is this a MissingIndicator class? \n",
    "                missing_indicator_indices = transformer.features_\n",
    "                missing_indicators = [orig_feature_names[idx] + '_missing_flag'\\\n",
    "                                      for idx in missing_indicator_indices]\n",
    "\n",
    "            else:\n",
    "\n",
    "                names = orig_feature_names\n",
    "\n",
    "            if verbose: \n",
    "                print('\\tn_new_features:', len(names))\n",
    "                print('\\tnew_features:\\n', names)\n",
    "\n",
    "            new_feature_names.extend(names)\n",
    "            transformer_list.extend([transformer_name] * len(names))\n",
    "        \n",
    "        self.transformer_list, self.column_transformer_features = transformer_list,\\\n",
    "                                                                    new_feature_names\n",
    "\n",
    "        return new_feature_names\n",
    "\n",
    "    \n",
    "    def get_selected_features(self, verbose=None):\n",
    "        \"\"\"\n",
    "\n",
    "        Get the Feature Names that were retained after Feature Selection (sklearn.feature_selection)\n",
    "\n",
    "        Parameters\n",
    "        ----------\n",
    "        verbose : a boolean indicating whether to print summaries. default = False\n",
    "\n",
    "        Returns\n",
    "        -------\n",
    "        a list of the selected feature names\n",
    "\n",
    "\n",
    "        \"\"\"\n",
    "\n",
    "        if verbose is None:\n",
    "            verbose = self.verbose\n",
    "\n",
    "        assert isinstance(self.pipeline, Pipeline), \"Input isn't a Pipeline\"\n",
    "\n",
    "        features = self.get_feature_names()\n",
    "        \n",
    "        if verbose: print('\\n\\n---------\\nRunning get_selected_features\\n---------\\n')\n",
    "            \n",
    "        all_discarded_features, discarding_selectors = [], []\n",
    "\n",
    "        for i, step_item in enumerate(self.pipeline.steps[:]):\n",
    "            \n",
    "            step_name, step = step_item\n",
    "\n",
    "            if hasattr(step, 'get_support'):\n",
    "\n",
    "                if verbose: print('\\nStep ', i, \": \", step_name, ',', \n",
    "                                  step.__class__.__name__, '\\n')\n",
    "                    \n",
    "                check_is_fitted(step)\n",
    "\n",
    "                feature_mask_dict = dict(zip(features, step.get_support()))\n",
    "                \n",
    "                features = [feature for feature, is_retained in feature_mask_dict.items()\\\n",
    "                            if is_retained]\n",
    "                                         \n",
    "                discarded_features = [feature for feature, is_retained in feature_mask_dict.items()\\\n",
    "                                      if not is_retained]\n",
    "                \n",
    "                all_discarded_features.extend(discarded_features)\n",
    "                discarding_selectors.extend([step_name] * len(discarded_features))\n",
    "                \n",
    "                \n",
    "                if verbose: \n",
    "                    print(f'\\t{len(features)} retained, {len(discarded_features)} discarded')\n",
    "                    if len(discarded_features) > 0:\n",
    "                        print('\\n\\tdiscarded_features:\\n\\n', discarded_features)\n",
    "\n",
    "        self.discarded_features, self.discarding_selectors = all_discarded_features,\\\n",
    "                                                                discarding_selectors\n",
    "        \n",
    "        return features\n",
    "\n",
    "    def get_feature_importance(self):\n",
    "        \n",
    "        \"\"\"\n",
    "        Creates a Pandas Series where values are the feature importance values from the model and feature names are set as the index. \n",
    "        \n",
    "        This Series is stored in the `feature_importance` attribute.\n",
    "\n",
    "        Returns\n",
    "        -------\n",
    "        A pandas Series containing the feature importance values and feature names as the index.\n",
    "        \n",
    "        \"\"\"\n",
    "        \n",
    "        assert isinstance(self.pipeline, Pipeline), \"Input isn't a Pipeline\"\n",
    "\n",
    "        features = self.get_selected_features()\n",
    "             \n",
    "        assert hasattr(self.pipeline[-1], 'feature_importances_'),\\\n",
    "            \"The last element in the pipeline isn't an estimator with a feature_importances_ attribute\"\n",
    "        \n",
    "        importance_values = self.pipeline[-1].feature_importances_\n",
    "        \n",
    "        assert len(features) == len(importance_values),\\\n",
    "            \"The number of feature names & importance values doesn't match\"\n",
    "        \n",
    "        feature_importance = pd.Series(importance_values, index=features)\n",
    "        self.feature_importance = feature_importance\n",
    "        \n",
    "        # create feature_info_df\n",
    "        column_transformer_df =\\\n",
    "            pd.DataFrame(dict(transformer=self.transformer_list),\n",
    "                         index=self.column_transformer_features)\n",
    "\n",
    "        discarded_features_df =\\\n",
    "            pd.DataFrame(dict(discarding_selector=self.discarding_selectors),\n",
    "                         index=self.discarded_features)\n",
    "\n",
    "        importance_df = self.feature_importance.rename('value').to_frame()\n",
    "\n",
    "        self.feature_info_df = \\\n",
    "            column_transformer_df\\\n",
    "            .join([importance_df, discarded_features_df])\\\n",
    "            .assign(is_retained = lambda df: ~df.value.isna())        \n",
    "\n",
    "\n",
    "        return feature_importance\n",
    "        \n",
    "    \n",
    "    def plot(self, top_n_features=100, rank_features=True, max_scale=True, \n",
    "             display_imp_values=True, display_imp_value_decimals=1,\n",
    "             height_per_feature=25, orientation='h', width=750, height=None, \n",
    "             str_pad_width=15, yaxes_tickfont_family='Courier New', \n",
    "             yaxes_tickfont_size=15):\n",
    "        \"\"\"\n",
    "\n",
    "        Plot the Feature Names & Importances \n",
    "\n",
    "\n",
    "        Parameters\n",
    "        ----------\n",
    "\n",
    "        top_n_features : the number of features to plot, default is 100\n",
    "        rank_features : whether to rank the features with integers, default is True\n",
    "        max_scale : Should the importance values be scaled by the maximum value & mulitplied by 100?  Default is True.\n",
    "        display_imp_values : Should the importance values be displayed? Default is True.\n",
    "        display_imp_value_decimals : If display_imp_values is True, how many decimal places should be displayed. Default is 1.\n",
    "        height_per_feature : if height is None, the plot height is calculated by top_n_features * height_per_feature. \n",
    "        This allows all the features enough space to be displayed\n",
    "        orientation : the plot orientation, 'h' (default) or 'v'\n",
    "        width :  the width of the plot, default is 500\n",
    "        height : the height of the plot, the default is top_n_features * height_per_feature\n",
    "        str_pad_width : When rank_features=True, this number of spaces to add between the rank integer and feature name. \n",
    "            This will enable the rank integers to line up with each other for easier reading. \n",
    "            Default is 15. If you have long feature names, you can increase this number to make the integers line up more.\n",
    "            It can also be set to 0.\n",
    "        yaxes_tickfont_family : the font for the feature names. Default is Courier New.\n",
    "        yaxes_tickfont_size : the font size for the feature names. Default is 15.\n",
    "\n",
    "        Returns\n",
    "        -------\n",
    "        plot\n",
    "\n",
    "        \"\"\"\n",
    "        if height is None:\n",
    "            height = top_n_features * height_per_feature\n",
    "            \n",
    "        # prep the data\n",
    "        \n",
    "        all_importances = self.get_feature_importance()\n",
    "        n_all_importances = len(all_importances)\n",
    "        \n",
    "        plot_importances_df =\\\n",
    "            all_importances\\\n",
    "            .nlargest(top_n_features)\\\n",
    "            .sort_values()\\\n",
    "            .to_frame('value')\\\n",
    "            .rename_axis('feature')\\\n",
    "            .reset_index()\n",
    "                \n",
    "        if max_scale:\n",
    "            plot_importances_df['value'] = \\\n",
    "                                plot_importances_df.value.abs() /\\\n",
    "                                plot_importances_df.value.abs().max() * 100\n",
    "            \n",
    "        self.plot_importances_df = plot_importances_df.copy()\n",
    "        \n",
    "        if len(all_importances) < top_n_features:\n",
    "            title_text = 'All Feature Importances'\n",
    "        else:\n",
    "            title_text = f'Top {top_n_features} (of {n_all_importances}) Feature Importances'       \n",
    "        \n",
    "        if rank_features:\n",
    "            padded_features = \\\n",
    "                plot_importances_df.feature\\\n",
    "                .str.pad(width=str_pad_width)\\\n",
    "                .values\n",
    "            \n",
    "            ranked_features =\\\n",
    "                plot_importances_df.index\\\n",
    "                .to_series()\\\n",
    "                .sort_values(ascending=False)\\\n",
    "                .add(1)\\\n",
    "                .astype(str)\\\n",
    "                .str.cat(padded_features, sep='. ')\\\n",
    "                .values\n",
    "\n",
    "            plot_importances_df['feature'] = ranked_features\n",
    "        \n",
    "        if display_imp_values:\n",
    "            text = plot_importances_df.value.round(display_imp_value_decimals)\n",
    "        else:\n",
    "            text = None\n",
    "\n",
    "        # create the plot \n",
    "        \n",
    "        fig = px.bar(plot_importances_df, \n",
    "                     x='value', \n",
    "                     y='feature',\n",
    "                     orientation=orientation, \n",
    "                     width=width, \n",
    "                     height=height,\n",
    "                     text=text)\n",
    "        fig.update_layout(title_text=title_text, title_x=0.5) \n",
    "        fig.update(layout_showlegend=False)\n",
    "        fig.update_yaxes(tickfont=dict(family=yaxes_tickfont_family, \n",
    "                                       size=yaxes_tickfont_size),\n",
    "                         title='')\n",
    "        fig.show()"
   ]
  },
  {
   "cell_type": "markdown",
   "id": "56b650ac",
   "metadata": {},
   "source": [
    "### Feature Importance"
   ]
  },
  {
   "cell_type": "code",
   "execution_count": 724,
   "id": "091d213d",
   "metadata": {},
   "outputs": [
    {
     "name": "stderr",
     "output_type": "stream",
     "text": [
      "/home/proctor/.pyenv/versions/3.8.12/envs/lewagon/lib/python3.8/site-packages/sklearn/utils/deprecation.py:87: FutureWarning:\n",
      "\n",
      "Function get_feature_names is deprecated; get_feature_names is deprecated in 1.0 and will be removed in 1.2. Please use get_feature_names_out instead.\n",
      "\n"
     ]
    },
    {
     "data": {
      "application/vnd.plotly.v1+json": {
       "config": {
        "plotlyServerURL": "https://plot.ly"
       },
       "data": [
        {
         "alignmentgroup": "True",
         "hovertemplate": "value=%{x}<br>feature=%{y}<br>text=%{text}<extra></extra>",
         "legendgroup": "",
         "marker": {
          "color": "#636efa",
          "pattern": {
           "shape": ""
          }
         },
         "name": "",
         "offsetgroup": "",
         "orientation": "h",
         "showlegend": false,
         "text": [
          0.3,
          0.5,
          1.3,
          2.6,
          2.7,
          29.7,
          42.1,
          42.4,
          50,
          100
         ],
         "textposition": "auto",
         "type": "bar",
         "x": [
          0.33325229380316784,
          0.5070120187367956,
          1.2779936661944686,
          2.5510217917430373,
          2.7496563027460987,
          29.65926321120671,
          42.08971175203908,
          42.42973944366756,
          50.01937447502013,
          100
         ],
         "xaxis": "x",
         "y": [
          "10.       x0_Casado",
          "9.         vigente",
          "8.      x0_Soltero",
          "7.           x1_Si",
          "6.           x1_No",
          "5. nro_cuotas_atrasadas",
          "4.           monto",
          "3. cuotas_vencidas",
          "2. cuotas_canceladas",
          "1.     dias_atraso"
         ],
         "yaxis": "y"
        }
       ],
       "layout": {
        "barmode": "relative",
        "height": 625,
        "legend": {
         "tracegroupgap": 0
        },
        "margin": {
         "t": 60
        },
        "showlegend": false,
        "template": {
         "data": {
          "bar": [
           {
            "error_x": {
             "color": "#2a3f5f"
            },
            "error_y": {
             "color": "#2a3f5f"
            },
            "marker": {
             "line": {
              "color": "#E5ECF6",
              "width": 0.5
             },
             "pattern": {
              "fillmode": "overlay",
              "size": 10,
              "solidity": 0.2
             }
            },
            "type": "bar"
           }
          ],
          "barpolar": [
           {
            "marker": {
             "line": {
              "color": "#E5ECF6",
              "width": 0.5
             },
             "pattern": {
              "fillmode": "overlay",
              "size": 10,
              "solidity": 0.2
             }
            },
            "type": "barpolar"
           }
          ],
          "carpet": [
           {
            "aaxis": {
             "endlinecolor": "#2a3f5f",
             "gridcolor": "white",
             "linecolor": "white",
             "minorgridcolor": "white",
             "startlinecolor": "#2a3f5f"
            },
            "baxis": {
             "endlinecolor": "#2a3f5f",
             "gridcolor": "white",
             "linecolor": "white",
             "minorgridcolor": "white",
             "startlinecolor": "#2a3f5f"
            },
            "type": "carpet"
           }
          ],
          "choropleth": [
           {
            "colorbar": {
             "outlinewidth": 0,
             "ticks": ""
            },
            "type": "choropleth"
           }
          ],
          "contour": [
           {
            "colorbar": {
             "outlinewidth": 0,
             "ticks": ""
            },
            "colorscale": [
             [
              0,
              "#0d0887"
             ],
             [
              0.1111111111111111,
              "#46039f"
             ],
             [
              0.2222222222222222,
              "#7201a8"
             ],
             [
              0.3333333333333333,
              "#9c179e"
             ],
             [
              0.4444444444444444,
              "#bd3786"
             ],
             [
              0.5555555555555556,
              "#d8576b"
             ],
             [
              0.6666666666666666,
              "#ed7953"
             ],
             [
              0.7777777777777778,
              "#fb9f3a"
             ],
             [
              0.8888888888888888,
              "#fdca26"
             ],
             [
              1,
              "#f0f921"
             ]
            ],
            "type": "contour"
           }
          ],
          "contourcarpet": [
           {
            "colorbar": {
             "outlinewidth": 0,
             "ticks": ""
            },
            "type": "contourcarpet"
           }
          ],
          "heatmap": [
           {
            "colorbar": {
             "outlinewidth": 0,
             "ticks": ""
            },
            "colorscale": [
             [
              0,
              "#0d0887"
             ],
             [
              0.1111111111111111,
              "#46039f"
             ],
             [
              0.2222222222222222,
              "#7201a8"
             ],
             [
              0.3333333333333333,
              "#9c179e"
             ],
             [
              0.4444444444444444,
              "#bd3786"
             ],
             [
              0.5555555555555556,
              "#d8576b"
             ],
             [
              0.6666666666666666,
              "#ed7953"
             ],
             [
              0.7777777777777778,
              "#fb9f3a"
             ],
             [
              0.8888888888888888,
              "#fdca26"
             ],
             [
              1,
              "#f0f921"
             ]
            ],
            "type": "heatmap"
           }
          ],
          "heatmapgl": [
           {
            "colorbar": {
             "outlinewidth": 0,
             "ticks": ""
            },
            "colorscale": [
             [
              0,
              "#0d0887"
             ],
             [
              0.1111111111111111,
              "#46039f"
             ],
             [
              0.2222222222222222,
              "#7201a8"
             ],
             [
              0.3333333333333333,
              "#9c179e"
             ],
             [
              0.4444444444444444,
              "#bd3786"
             ],
             [
              0.5555555555555556,
              "#d8576b"
             ],
             [
              0.6666666666666666,
              "#ed7953"
             ],
             [
              0.7777777777777778,
              "#fb9f3a"
             ],
             [
              0.8888888888888888,
              "#fdca26"
             ],
             [
              1,
              "#f0f921"
             ]
            ],
            "type": "heatmapgl"
           }
          ],
          "histogram": [
           {
            "marker": {
             "pattern": {
              "fillmode": "overlay",
              "size": 10,
              "solidity": 0.2
             }
            },
            "type": "histogram"
           }
          ],
          "histogram2d": [
           {
            "colorbar": {
             "outlinewidth": 0,
             "ticks": ""
            },
            "colorscale": [
             [
              0,
              "#0d0887"
             ],
             [
              0.1111111111111111,
              "#46039f"
             ],
             [
              0.2222222222222222,
              "#7201a8"
             ],
             [
              0.3333333333333333,
              "#9c179e"
             ],
             [
              0.4444444444444444,
              "#bd3786"
             ],
             [
              0.5555555555555556,
              "#d8576b"
             ],
             [
              0.6666666666666666,
              "#ed7953"
             ],
             [
              0.7777777777777778,
              "#fb9f3a"
             ],
             [
              0.8888888888888888,
              "#fdca26"
             ],
             [
              1,
              "#f0f921"
             ]
            ],
            "type": "histogram2d"
           }
          ],
          "histogram2dcontour": [
           {
            "colorbar": {
             "outlinewidth": 0,
             "ticks": ""
            },
            "colorscale": [
             [
              0,
              "#0d0887"
             ],
             [
              0.1111111111111111,
              "#46039f"
             ],
             [
              0.2222222222222222,
              "#7201a8"
             ],
             [
              0.3333333333333333,
              "#9c179e"
             ],
             [
              0.4444444444444444,
              "#bd3786"
             ],
             [
              0.5555555555555556,
              "#d8576b"
             ],
             [
              0.6666666666666666,
              "#ed7953"
             ],
             [
              0.7777777777777778,
              "#fb9f3a"
             ],
             [
              0.8888888888888888,
              "#fdca26"
             ],
             [
              1,
              "#f0f921"
             ]
            ],
            "type": "histogram2dcontour"
           }
          ],
          "mesh3d": [
           {
            "colorbar": {
             "outlinewidth": 0,
             "ticks": ""
            },
            "type": "mesh3d"
           }
          ],
          "parcoords": [
           {
            "line": {
             "colorbar": {
              "outlinewidth": 0,
              "ticks": ""
             }
            },
            "type": "parcoords"
           }
          ],
          "pie": [
           {
            "automargin": true,
            "type": "pie"
           }
          ],
          "scatter": [
           {
            "marker": {
             "colorbar": {
              "outlinewidth": 0,
              "ticks": ""
             }
            },
            "type": "scatter"
           }
          ],
          "scatter3d": [
           {
            "line": {
             "colorbar": {
              "outlinewidth": 0,
              "ticks": ""
             }
            },
            "marker": {
             "colorbar": {
              "outlinewidth": 0,
              "ticks": ""
             }
            },
            "type": "scatter3d"
           }
          ],
          "scattercarpet": [
           {
            "marker": {
             "colorbar": {
              "outlinewidth": 0,
              "ticks": ""
             }
            },
            "type": "scattercarpet"
           }
          ],
          "scattergeo": [
           {
            "marker": {
             "colorbar": {
              "outlinewidth": 0,
              "ticks": ""
             }
            },
            "type": "scattergeo"
           }
          ],
          "scattergl": [
           {
            "marker": {
             "colorbar": {
              "outlinewidth": 0,
              "ticks": ""
             }
            },
            "type": "scattergl"
           }
          ],
          "scattermapbox": [
           {
            "marker": {
             "colorbar": {
              "outlinewidth": 0,
              "ticks": ""
             }
            },
            "type": "scattermapbox"
           }
          ],
          "scatterpolar": [
           {
            "marker": {
             "colorbar": {
              "outlinewidth": 0,
              "ticks": ""
             }
            },
            "type": "scatterpolar"
           }
          ],
          "scatterpolargl": [
           {
            "marker": {
             "colorbar": {
              "outlinewidth": 0,
              "ticks": ""
             }
            },
            "type": "scatterpolargl"
           }
          ],
          "scatterternary": [
           {
            "marker": {
             "colorbar": {
              "outlinewidth": 0,
              "ticks": ""
             }
            },
            "type": "scatterternary"
           }
          ],
          "surface": [
           {
            "colorbar": {
             "outlinewidth": 0,
             "ticks": ""
            },
            "colorscale": [
             [
              0,
              "#0d0887"
             ],
             [
              0.1111111111111111,
              "#46039f"
             ],
             [
              0.2222222222222222,
              "#7201a8"
             ],
             [
              0.3333333333333333,
              "#9c179e"
             ],
             [
              0.4444444444444444,
              "#bd3786"
             ],
             [
              0.5555555555555556,
              "#d8576b"
             ],
             [
              0.6666666666666666,
              "#ed7953"
             ],
             [
              0.7777777777777778,
              "#fb9f3a"
             ],
             [
              0.8888888888888888,
              "#fdca26"
             ],
             [
              1,
              "#f0f921"
             ]
            ],
            "type": "surface"
           }
          ],
          "table": [
           {
            "cells": {
             "fill": {
              "color": "#EBF0F8"
             },
             "line": {
              "color": "white"
             }
            },
            "header": {
             "fill": {
              "color": "#C8D4E3"
             },
             "line": {
              "color": "white"
             }
            },
            "type": "table"
           }
          ]
         },
         "layout": {
          "annotationdefaults": {
           "arrowcolor": "#2a3f5f",
           "arrowhead": 0,
           "arrowwidth": 1
          },
          "autotypenumbers": "strict",
          "coloraxis": {
           "colorbar": {
            "outlinewidth": 0,
            "ticks": ""
           }
          },
          "colorscale": {
           "diverging": [
            [
             0,
             "#8e0152"
            ],
            [
             0.1,
             "#c51b7d"
            ],
            [
             0.2,
             "#de77ae"
            ],
            [
             0.3,
             "#f1b6da"
            ],
            [
             0.4,
             "#fde0ef"
            ],
            [
             0.5,
             "#f7f7f7"
            ],
            [
             0.6,
             "#e6f5d0"
            ],
            [
             0.7,
             "#b8e186"
            ],
            [
             0.8,
             "#7fbc41"
            ],
            [
             0.9,
             "#4d9221"
            ],
            [
             1,
             "#276419"
            ]
           ],
           "sequential": [
            [
             0,
             "#0d0887"
            ],
            [
             0.1111111111111111,
             "#46039f"
            ],
            [
             0.2222222222222222,
             "#7201a8"
            ],
            [
             0.3333333333333333,
             "#9c179e"
            ],
            [
             0.4444444444444444,
             "#bd3786"
            ],
            [
             0.5555555555555556,
             "#d8576b"
            ],
            [
             0.6666666666666666,
             "#ed7953"
            ],
            [
             0.7777777777777778,
             "#fb9f3a"
            ],
            [
             0.8888888888888888,
             "#fdca26"
            ],
            [
             1,
             "#f0f921"
            ]
           ],
           "sequentialminus": [
            [
             0,
             "#0d0887"
            ],
            [
             0.1111111111111111,
             "#46039f"
            ],
            [
             0.2222222222222222,
             "#7201a8"
            ],
            [
             0.3333333333333333,
             "#9c179e"
            ],
            [
             0.4444444444444444,
             "#bd3786"
            ],
            [
             0.5555555555555556,
             "#d8576b"
            ],
            [
             0.6666666666666666,
             "#ed7953"
            ],
            [
             0.7777777777777778,
             "#fb9f3a"
            ],
            [
             0.8888888888888888,
             "#fdca26"
            ],
            [
             1,
             "#f0f921"
            ]
           ]
          },
          "colorway": [
           "#636efa",
           "#EF553B",
           "#00cc96",
           "#ab63fa",
           "#FFA15A",
           "#19d3f3",
           "#FF6692",
           "#B6E880",
           "#FF97FF",
           "#FECB52"
          ],
          "font": {
           "color": "#2a3f5f"
          },
          "geo": {
           "bgcolor": "white",
           "lakecolor": "white",
           "landcolor": "#E5ECF6",
           "showlakes": true,
           "showland": true,
           "subunitcolor": "white"
          },
          "hoverlabel": {
           "align": "left"
          },
          "hovermode": "closest",
          "mapbox": {
           "style": "light"
          },
          "paper_bgcolor": "white",
          "plot_bgcolor": "#E5ECF6",
          "polar": {
           "angularaxis": {
            "gridcolor": "white",
            "linecolor": "white",
            "ticks": ""
           },
           "bgcolor": "#E5ECF6",
           "radialaxis": {
            "gridcolor": "white",
            "linecolor": "white",
            "ticks": ""
           }
          },
          "scene": {
           "xaxis": {
            "backgroundcolor": "#E5ECF6",
            "gridcolor": "white",
            "gridwidth": 2,
            "linecolor": "white",
            "showbackground": true,
            "ticks": "",
            "zerolinecolor": "white"
           },
           "yaxis": {
            "backgroundcolor": "#E5ECF6",
            "gridcolor": "white",
            "gridwidth": 2,
            "linecolor": "white",
            "showbackground": true,
            "ticks": "",
            "zerolinecolor": "white"
           },
           "zaxis": {
            "backgroundcolor": "#E5ECF6",
            "gridcolor": "white",
            "gridwidth": 2,
            "linecolor": "white",
            "showbackground": true,
            "ticks": "",
            "zerolinecolor": "white"
           }
          },
          "shapedefaults": {
           "line": {
            "color": "#2a3f5f"
           }
          },
          "ternary": {
           "aaxis": {
            "gridcolor": "white",
            "linecolor": "white",
            "ticks": ""
           },
           "baxis": {
            "gridcolor": "white",
            "linecolor": "white",
            "ticks": ""
           },
           "bgcolor": "#E5ECF6",
           "caxis": {
            "gridcolor": "white",
            "linecolor": "white",
            "ticks": ""
           }
          },
          "title": {
           "x": 0.05
          },
          "xaxis": {
           "automargin": true,
           "gridcolor": "white",
           "linecolor": "white",
           "ticks": "",
           "title": {
            "standoff": 15
           },
           "zerolinecolor": "white",
           "zerolinewidth": 2
          },
          "yaxis": {
           "automargin": true,
           "gridcolor": "white",
           "linecolor": "white",
           "ticks": "",
           "title": {
            "standoff": 15
           },
           "zerolinecolor": "white",
           "zerolinewidth": 2
          }
         }
        },
        "title": {
         "text": "All Feature Importances",
         "x": 0.5
        },
        "width": 750,
        "xaxis": {
         "anchor": "y",
         "domain": [
          0,
          1
         ],
         "title": {
          "text": "value"
         }
        },
        "yaxis": {
         "anchor": "x",
         "domain": [
          0,
          1
         ],
         "tickfont": {
          "family": "Courier New",
          "size": 15
         },
         "title": {
          "text": ""
         }
        }
       }
      },
      "text/html": [
       "<div>                            <div id=\"99b62f17-65df-4b77-9361-5a1cf713696a\" class=\"plotly-graph-div\" style=\"height:625px; width:750px;\"></div>            <script type=\"text/javascript\">                require([\"plotly\"], function(Plotly) {                    window.PLOTLYENV=window.PLOTLYENV || {};                                    if (document.getElementById(\"99b62f17-65df-4b77-9361-5a1cf713696a\")) {                    Plotly.newPlot(                        \"99b62f17-65df-4b77-9361-5a1cf713696a\",                        [{\"alignmentgroup\":\"True\",\"hovertemplate\":\"value=%{x}<br>feature=%{y}<br>text=%{text}<extra></extra>\",\"legendgroup\":\"\",\"marker\":{\"color\":\"#636efa\",\"pattern\":{\"shape\":\"\"}},\"name\":\"\",\"offsetgroup\":\"\",\"orientation\":\"h\",\"showlegend\":false,\"text\":[0.3,0.5,1.3,2.6,2.7,29.7,42.1,42.4,50.0,100.0],\"textposition\":\"auto\",\"x\":[0.33325229380316784,0.5070120187367956,1.2779936661944686,2.5510217917430373,2.7496563027460987,29.65926321120671,42.08971175203908,42.42973944366756,50.01937447502013,100.0],\"xaxis\":\"x\",\"y\":[\"10.       x0_Casado\",\"9.         vigente\",\"8.      x0_Soltero\",\"7.           x1_Si\",\"6.           x1_No\",\"5. nro_cuotas_atrasadas\",\"4.           monto\",\"3. cuotas_vencidas\",\"2. cuotas_canceladas\",\"1.     dias_atraso\"],\"yaxis\":\"y\",\"type\":\"bar\"}],                        {\"template\":{\"data\":{\"bar\":[{\"error_x\":{\"color\":\"#2a3f5f\"},\"error_y\":{\"color\":\"#2a3f5f\"},\"marker\":{\"line\":{\"color\":\"#E5ECF6\",\"width\":0.5},\"pattern\":{\"fillmode\":\"overlay\",\"size\":10,\"solidity\":0.2}},\"type\":\"bar\"}],\"barpolar\":[{\"marker\":{\"line\":{\"color\":\"#E5ECF6\",\"width\":0.5},\"pattern\":{\"fillmode\":\"overlay\",\"size\":10,\"solidity\":0.2}},\"type\":\"barpolar\"}],\"carpet\":[{\"aaxis\":{\"endlinecolor\":\"#2a3f5f\",\"gridcolor\":\"white\",\"linecolor\":\"white\",\"minorgridcolor\":\"white\",\"startlinecolor\":\"#2a3f5f\"},\"baxis\":{\"endlinecolor\":\"#2a3f5f\",\"gridcolor\":\"white\",\"linecolor\":\"white\",\"minorgridcolor\":\"white\",\"startlinecolor\":\"#2a3f5f\"},\"type\":\"carpet\"}],\"choropleth\":[{\"colorbar\":{\"outlinewidth\":0,\"ticks\":\"\"},\"type\":\"choropleth\"}],\"contour\":[{\"colorbar\":{\"outlinewidth\":0,\"ticks\":\"\"},\"colorscale\":[[0.0,\"#0d0887\"],[0.1111111111111111,\"#46039f\"],[0.2222222222222222,\"#7201a8\"],[0.3333333333333333,\"#9c179e\"],[0.4444444444444444,\"#bd3786\"],[0.5555555555555556,\"#d8576b\"],[0.6666666666666666,\"#ed7953\"],[0.7777777777777778,\"#fb9f3a\"],[0.8888888888888888,\"#fdca26\"],[1.0,\"#f0f921\"]],\"type\":\"contour\"}],\"contourcarpet\":[{\"colorbar\":{\"outlinewidth\":0,\"ticks\":\"\"},\"type\":\"contourcarpet\"}],\"heatmap\":[{\"colorbar\":{\"outlinewidth\":0,\"ticks\":\"\"},\"colorscale\":[[0.0,\"#0d0887\"],[0.1111111111111111,\"#46039f\"],[0.2222222222222222,\"#7201a8\"],[0.3333333333333333,\"#9c179e\"],[0.4444444444444444,\"#bd3786\"],[0.5555555555555556,\"#d8576b\"],[0.6666666666666666,\"#ed7953\"],[0.7777777777777778,\"#fb9f3a\"],[0.8888888888888888,\"#fdca26\"],[1.0,\"#f0f921\"]],\"type\":\"heatmap\"}],\"heatmapgl\":[{\"colorbar\":{\"outlinewidth\":0,\"ticks\":\"\"},\"colorscale\":[[0.0,\"#0d0887\"],[0.1111111111111111,\"#46039f\"],[0.2222222222222222,\"#7201a8\"],[0.3333333333333333,\"#9c179e\"],[0.4444444444444444,\"#bd3786\"],[0.5555555555555556,\"#d8576b\"],[0.6666666666666666,\"#ed7953\"],[0.7777777777777778,\"#fb9f3a\"],[0.8888888888888888,\"#fdca26\"],[1.0,\"#f0f921\"]],\"type\":\"heatmapgl\"}],\"histogram\":[{\"marker\":{\"pattern\":{\"fillmode\":\"overlay\",\"size\":10,\"solidity\":0.2}},\"type\":\"histogram\"}],\"histogram2d\":[{\"colorbar\":{\"outlinewidth\":0,\"ticks\":\"\"},\"colorscale\":[[0.0,\"#0d0887\"],[0.1111111111111111,\"#46039f\"],[0.2222222222222222,\"#7201a8\"],[0.3333333333333333,\"#9c179e\"],[0.4444444444444444,\"#bd3786\"],[0.5555555555555556,\"#d8576b\"],[0.6666666666666666,\"#ed7953\"],[0.7777777777777778,\"#fb9f3a\"],[0.8888888888888888,\"#fdca26\"],[1.0,\"#f0f921\"]],\"type\":\"histogram2d\"}],\"histogram2dcontour\":[{\"colorbar\":{\"outlinewidth\":0,\"ticks\":\"\"},\"colorscale\":[[0.0,\"#0d0887\"],[0.1111111111111111,\"#46039f\"],[0.2222222222222222,\"#7201a8\"],[0.3333333333333333,\"#9c179e\"],[0.4444444444444444,\"#bd3786\"],[0.5555555555555556,\"#d8576b\"],[0.6666666666666666,\"#ed7953\"],[0.7777777777777778,\"#fb9f3a\"],[0.8888888888888888,\"#fdca26\"],[1.0,\"#f0f921\"]],\"type\":\"histogram2dcontour\"}],\"mesh3d\":[{\"colorbar\":{\"outlinewidth\":0,\"ticks\":\"\"},\"type\":\"mesh3d\"}],\"parcoords\":[{\"line\":{\"colorbar\":{\"outlinewidth\":0,\"ticks\":\"\"}},\"type\":\"parcoords\"}],\"pie\":[{\"automargin\":true,\"type\":\"pie\"}],\"scatter\":[{\"marker\":{\"colorbar\":{\"outlinewidth\":0,\"ticks\":\"\"}},\"type\":\"scatter\"}],\"scatter3d\":[{\"line\":{\"colorbar\":{\"outlinewidth\":0,\"ticks\":\"\"}},\"marker\":{\"colorbar\":{\"outlinewidth\":0,\"ticks\":\"\"}},\"type\":\"scatter3d\"}],\"scattercarpet\":[{\"marker\":{\"colorbar\":{\"outlinewidth\":0,\"ticks\":\"\"}},\"type\":\"scattercarpet\"}],\"scattergeo\":[{\"marker\":{\"colorbar\":{\"outlinewidth\":0,\"ticks\":\"\"}},\"type\":\"scattergeo\"}],\"scattergl\":[{\"marker\":{\"colorbar\":{\"outlinewidth\":0,\"ticks\":\"\"}},\"type\":\"scattergl\"}],\"scattermapbox\":[{\"marker\":{\"colorbar\":{\"outlinewidth\":0,\"ticks\":\"\"}},\"type\":\"scattermapbox\"}],\"scatterpolar\":[{\"marker\":{\"colorbar\":{\"outlinewidth\":0,\"ticks\":\"\"}},\"type\":\"scatterpolar\"}],\"scatterpolargl\":[{\"marker\":{\"colorbar\":{\"outlinewidth\":0,\"ticks\":\"\"}},\"type\":\"scatterpolargl\"}],\"scatterternary\":[{\"marker\":{\"colorbar\":{\"outlinewidth\":0,\"ticks\":\"\"}},\"type\":\"scatterternary\"}],\"surface\":[{\"colorbar\":{\"outlinewidth\":0,\"ticks\":\"\"},\"colorscale\":[[0.0,\"#0d0887\"],[0.1111111111111111,\"#46039f\"],[0.2222222222222222,\"#7201a8\"],[0.3333333333333333,\"#9c179e\"],[0.4444444444444444,\"#bd3786\"],[0.5555555555555556,\"#d8576b\"],[0.6666666666666666,\"#ed7953\"],[0.7777777777777778,\"#fb9f3a\"],[0.8888888888888888,\"#fdca26\"],[1.0,\"#f0f921\"]],\"type\":\"surface\"}],\"table\":[{\"cells\":{\"fill\":{\"color\":\"#EBF0F8\"},\"line\":{\"color\":\"white\"}},\"header\":{\"fill\":{\"color\":\"#C8D4E3\"},\"line\":{\"color\":\"white\"}},\"type\":\"table\"}]},\"layout\":{\"annotationdefaults\":{\"arrowcolor\":\"#2a3f5f\",\"arrowhead\":0,\"arrowwidth\":1},\"autotypenumbers\":\"strict\",\"coloraxis\":{\"colorbar\":{\"outlinewidth\":0,\"ticks\":\"\"}},\"colorscale\":{\"diverging\":[[0,\"#8e0152\"],[0.1,\"#c51b7d\"],[0.2,\"#de77ae\"],[0.3,\"#f1b6da\"],[0.4,\"#fde0ef\"],[0.5,\"#f7f7f7\"],[0.6,\"#e6f5d0\"],[0.7,\"#b8e186\"],[0.8,\"#7fbc41\"],[0.9,\"#4d9221\"],[1,\"#276419\"]],\"sequential\":[[0.0,\"#0d0887\"],[0.1111111111111111,\"#46039f\"],[0.2222222222222222,\"#7201a8\"],[0.3333333333333333,\"#9c179e\"],[0.4444444444444444,\"#bd3786\"],[0.5555555555555556,\"#d8576b\"],[0.6666666666666666,\"#ed7953\"],[0.7777777777777778,\"#fb9f3a\"],[0.8888888888888888,\"#fdca26\"],[1.0,\"#f0f921\"]],\"sequentialminus\":[[0.0,\"#0d0887\"],[0.1111111111111111,\"#46039f\"],[0.2222222222222222,\"#7201a8\"],[0.3333333333333333,\"#9c179e\"],[0.4444444444444444,\"#bd3786\"],[0.5555555555555556,\"#d8576b\"],[0.6666666666666666,\"#ed7953\"],[0.7777777777777778,\"#fb9f3a\"],[0.8888888888888888,\"#fdca26\"],[1.0,\"#f0f921\"]]},\"colorway\":[\"#636efa\",\"#EF553B\",\"#00cc96\",\"#ab63fa\",\"#FFA15A\",\"#19d3f3\",\"#FF6692\",\"#B6E880\",\"#FF97FF\",\"#FECB52\"],\"font\":{\"color\":\"#2a3f5f\"},\"geo\":{\"bgcolor\":\"white\",\"lakecolor\":\"white\",\"landcolor\":\"#E5ECF6\",\"showlakes\":true,\"showland\":true,\"subunitcolor\":\"white\"},\"hoverlabel\":{\"align\":\"left\"},\"hovermode\":\"closest\",\"mapbox\":{\"style\":\"light\"},\"paper_bgcolor\":\"white\",\"plot_bgcolor\":\"#E5ECF6\",\"polar\":{\"angularaxis\":{\"gridcolor\":\"white\",\"linecolor\":\"white\",\"ticks\":\"\"},\"bgcolor\":\"#E5ECF6\",\"radialaxis\":{\"gridcolor\":\"white\",\"linecolor\":\"white\",\"ticks\":\"\"}},\"scene\":{\"xaxis\":{\"backgroundcolor\":\"#E5ECF6\",\"gridcolor\":\"white\",\"gridwidth\":2,\"linecolor\":\"white\",\"showbackground\":true,\"ticks\":\"\",\"zerolinecolor\":\"white\"},\"yaxis\":{\"backgroundcolor\":\"#E5ECF6\",\"gridcolor\":\"white\",\"gridwidth\":2,\"linecolor\":\"white\",\"showbackground\":true,\"ticks\":\"\",\"zerolinecolor\":\"white\"},\"zaxis\":{\"backgroundcolor\":\"#E5ECF6\",\"gridcolor\":\"white\",\"gridwidth\":2,\"linecolor\":\"white\",\"showbackground\":true,\"ticks\":\"\",\"zerolinecolor\":\"white\"}},\"shapedefaults\":{\"line\":{\"color\":\"#2a3f5f\"}},\"ternary\":{\"aaxis\":{\"gridcolor\":\"white\",\"linecolor\":\"white\",\"ticks\":\"\"},\"baxis\":{\"gridcolor\":\"white\",\"linecolor\":\"white\",\"ticks\":\"\"},\"bgcolor\":\"#E5ECF6\",\"caxis\":{\"gridcolor\":\"white\",\"linecolor\":\"white\",\"ticks\":\"\"}},\"title\":{\"x\":0.05},\"xaxis\":{\"automargin\":true,\"gridcolor\":\"white\",\"linecolor\":\"white\",\"ticks\":\"\",\"title\":{\"standoff\":15},\"zerolinecolor\":\"white\",\"zerolinewidth\":2},\"yaxis\":{\"automargin\":true,\"gridcolor\":\"white\",\"linecolor\":\"white\",\"ticks\":\"\",\"title\":{\"standoff\":15},\"zerolinecolor\":\"white\",\"zerolinewidth\":2}}},\"xaxis\":{\"anchor\":\"y\",\"domain\":[0.0,1.0],\"title\":{\"text\":\"value\"}},\"yaxis\":{\"anchor\":\"x\",\"domain\":[0.0,1.0],\"title\":{\"text\":\"\"},\"tickfont\":{\"family\":\"Courier New\",\"size\":15}},\"legend\":{\"tracegroupgap\":0},\"margin\":{\"t\":60},\"barmode\":\"relative\",\"height\":625,\"width\":750,\"title\":{\"text\":\"All Feature Importances\",\"x\":0.5},\"showlegend\":false},                        {\"responsive\": true}                    ).then(function(){\n",
       "                            \n",
       "var gd = document.getElementById('99b62f17-65df-4b77-9361-5a1cf713696a');\n",
       "var x = new MutationObserver(function (mutations, observer) {{\n",
       "        var display = window.getComputedStyle(gd).display;\n",
       "        if (!display || display === 'none') {{\n",
       "            console.log([gd, 'removed!']);\n",
       "            Plotly.purge(gd);\n",
       "            observer.disconnect();\n",
       "        }}\n",
       "}});\n",
       "\n",
       "// Listen for the removal of the full notebook cells\n",
       "var notebookContainer = gd.closest('#notebook-container');\n",
       "if (notebookContainer) {{\n",
       "    x.observe(notebookContainer, {childList: true});\n",
       "}}\n",
       "\n",
       "// Listen for the clearing of the current output cell\n",
       "var outputEl = gd.closest('.output');\n",
       "if (outputEl) {{\n",
       "    x.observe(outputEl, {childList: true});\n",
       "}}\n",
       "\n",
       "                        })                };                });            </script>        </div>"
      ]
     },
     "metadata": {},
     "output_type": "display_data"
    }
   ],
   "source": [
    "\n",
    "feature_importance = FeatureImportance(pipe_baseline)\n",
    "feature_importance.plot(top_n_features=25)"
   ]
  },
  {
   "cell_type": "code",
   "execution_count": null,
   "id": "3297892b",
   "metadata": {},
   "outputs": [],
   "source": []
  },
  {
   "cell_type": "code",
   "execution_count": null,
   "id": "f8c692e0",
   "metadata": {},
   "outputs": [],
   "source": []
  },
  {
   "cell_type": "code",
   "execution_count": null,
   "id": "c6688e5e",
   "metadata": {},
   "outputs": [],
   "source": []
  },
  {
   "cell_type": "code",
   "execution_count": null,
   "id": "1d8f2033",
   "metadata": {},
   "outputs": [],
   "source": []
  },
  {
   "cell_type": "code",
   "execution_count": null,
   "id": "58f06217",
   "metadata": {},
   "outputs": [],
   "source": []
  },
  {
   "cell_type": "code",
   "execution_count": null,
   "id": "a622d7b6",
   "metadata": {},
   "outputs": [],
   "source": []
  },
  {
   "cell_type": "code",
   "execution_count": null,
   "id": "8392fff7",
   "metadata": {},
   "outputs": [],
   "source": []
  },
  {
   "cell_type": "code",
   "execution_count": null,
   "id": "6c88193c",
   "metadata": {},
   "outputs": [],
   "source": []
  },
  {
   "cell_type": "markdown",
   "id": "9dab0f83",
   "metadata": {
    "heading_collapsed": true
   },
   "source": [
    "###### Code Tests"
   ]
  },
  {
   "cell_type": "code",
   "execution_count": null,
   "id": "d3792328",
   "metadata": {
    "hidden": true
   },
   "outputs": [],
   "source": [
    "model = GradientBoostingRegressor()\n",
    "cross_validate(model, X_train, y_test, cv = 5)"
   ]
  },
  {
   "cell_type": "code",
   "execution_count": 555,
   "id": "26d455a1",
   "metadata": {
    "hidden": true
   },
   "outputs": [
    {
     "name": "stdout",
     "output_type": "stream",
     "text": [
      "[0.12145103 0.08340243 0.05080577 0.40709578 0.30602226 0.0125019\n",
      " 0.00150969 0.00052677 0.00534452 0.01133986]\n"
     ]
    }
   ],
   "source": [
    "model = GradientBoostingRegressor()\n",
    "model.fit(X_transformed, y_train)\n",
    "# feature importance\n",
    "print(model.feature_importances_)\n"
   ]
  },
  {
   "cell_type": "code",
   "execution_count": 569,
   "id": "d41c155e",
   "metadata": {
    "hidden": true
   },
   "outputs": [
    {
     "data": {
      "text/html": [
       "<div>\n",
       "<style scoped>\n",
       "    .dataframe tbody tr th:only-of-type {\n",
       "        vertical-align: middle;\n",
       "    }\n",
       "\n",
       "    .dataframe tbody tr th {\n",
       "        vertical-align: top;\n",
       "    }\n",
       "\n",
       "    .dataframe thead th {\n",
       "        text-align: right;\n",
       "    }\n",
       "</style>\n",
       "<table border=\"1\" class=\"dataframe\">\n",
       "  <thead>\n",
       "    <tr style=\"text-align: right;\">\n",
       "      <th></th>\n",
       "      <th>0</th>\n",
       "      <th>1</th>\n",
       "      <th>2</th>\n",
       "      <th>3</th>\n",
       "      <th>4</th>\n",
       "      <th>5</th>\n",
       "      <th>6</th>\n",
       "      <th>7</th>\n",
       "      <th>8</th>\n",
       "      <th>9</th>\n",
       "    </tr>\n",
       "  </thead>\n",
       "  <tbody>\n",
       "    <tr>\n",
       "      <th>0</th>\n",
       "      <td>0.067113</td>\n",
       "      <td>0.197405</td>\n",
       "      <td>0.40</td>\n",
       "      <td>0.190476</td>\n",
       "      <td>0.270833</td>\n",
       "      <td>1.0</td>\n",
       "      <td>1.0</td>\n",
       "      <td>0.0</td>\n",
       "      <td>1.0</td>\n",
       "      <td>0.0</td>\n",
       "    </tr>\n",
       "    <tr>\n",
       "      <th>1</th>\n",
       "      <td>0.042149</td>\n",
       "      <td>0.056103</td>\n",
       "      <td>0.40</td>\n",
       "      <td>0.428571</td>\n",
       "      <td>0.125000</td>\n",
       "      <td>0.0</td>\n",
       "      <td>0.0</td>\n",
       "      <td>1.0</td>\n",
       "      <td>0.0</td>\n",
       "      <td>1.0</td>\n",
       "    </tr>\n",
       "    <tr>\n",
       "      <th>2</th>\n",
       "      <td>0.116860</td>\n",
       "      <td>0.028997</td>\n",
       "      <td>0.10</td>\n",
       "      <td>0.095238</td>\n",
       "      <td>0.041667</td>\n",
       "      <td>0.0</td>\n",
       "      <td>1.0</td>\n",
       "      <td>0.0</td>\n",
       "      <td>1.0</td>\n",
       "      <td>0.0</td>\n",
       "    </tr>\n",
       "    <tr>\n",
       "      <th>3</th>\n",
       "      <td>0.058792</td>\n",
       "      <td>0.593508</td>\n",
       "      <td>0.75</td>\n",
       "      <td>0.428571</td>\n",
       "      <td>0.229167</td>\n",
       "      <td>1.0</td>\n",
       "      <td>1.0</td>\n",
       "      <td>0.0</td>\n",
       "      <td>0.0</td>\n",
       "      <td>1.0</td>\n",
       "    </tr>\n",
       "    <tr>\n",
       "      <th>4</th>\n",
       "      <td>0.477026</td>\n",
       "      <td>0.072422</td>\n",
       "      <td>0.40</td>\n",
       "      <td>0.071429</td>\n",
       "      <td>0.437500</td>\n",
       "      <td>0.0</td>\n",
       "      <td>1.0</td>\n",
       "      <td>0.0</td>\n",
       "      <td>0.0</td>\n",
       "      <td>1.0</td>\n",
       "    </tr>\n",
       "    <tr>\n",
       "      <th>...</th>\n",
       "      <td>...</td>\n",
       "      <td>...</td>\n",
       "      <td>...</td>\n",
       "      <td>...</td>\n",
       "      <td>...</td>\n",
       "      <td>...</td>\n",
       "      <td>...</td>\n",
       "      <td>...</td>\n",
       "      <td>...</td>\n",
       "      <td>...</td>\n",
       "    </tr>\n",
       "    <tr>\n",
       "      <th>10189</th>\n",
       "      <td>0.024602</td>\n",
       "      <td>0.070233</td>\n",
       "      <td>0.40</td>\n",
       "      <td>0.071429</td>\n",
       "      <td>0.104167</td>\n",
       "      <td>0.0</td>\n",
       "      <td>0.0</td>\n",
       "      <td>1.0</td>\n",
       "      <td>1.0</td>\n",
       "      <td>0.0</td>\n",
       "    </tr>\n",
       "    <tr>\n",
       "      <th>10190</th>\n",
       "      <td>0.033466</td>\n",
       "      <td>0.466438</td>\n",
       "      <td>0.40</td>\n",
       "      <td>0.000000</td>\n",
       "      <td>0.145833</td>\n",
       "      <td>0.0</td>\n",
       "      <td>0.0</td>\n",
       "      <td>1.0</td>\n",
       "      <td>1.0</td>\n",
       "      <td>0.0</td>\n",
       "    </tr>\n",
       "    <tr>\n",
       "      <th>10191</th>\n",
       "      <td>0.095695</td>\n",
       "      <td>0.084363</td>\n",
       "      <td>0.40</td>\n",
       "      <td>0.476190</td>\n",
       "      <td>0.083333</td>\n",
       "      <td>0.0</td>\n",
       "      <td>1.0</td>\n",
       "      <td>0.0</td>\n",
       "      <td>1.0</td>\n",
       "      <td>0.0</td>\n",
       "    </tr>\n",
       "    <tr>\n",
       "      <th>10192</th>\n",
       "      <td>0.067836</td>\n",
       "      <td>0.005800</td>\n",
       "      <td>0.00</td>\n",
       "      <td>0.023810</td>\n",
       "      <td>0.270833</td>\n",
       "      <td>0.0</td>\n",
       "      <td>1.0</td>\n",
       "      <td>0.0</td>\n",
       "      <td>1.0</td>\n",
       "      <td>0.0</td>\n",
       "    </tr>\n",
       "    <tr>\n",
       "      <th>10193</th>\n",
       "      <td>0.034913</td>\n",
       "      <td>0.087189</td>\n",
       "      <td>0.40</td>\n",
       "      <td>0.142857</td>\n",
       "      <td>0.145833</td>\n",
       "      <td>0.0</td>\n",
       "      <td>0.0</td>\n",
       "      <td>1.0</td>\n",
       "      <td>0.0</td>\n",
       "      <td>1.0</td>\n",
       "    </tr>\n",
       "  </tbody>\n",
       "</table>\n",
       "<p>10194 rows × 10 columns</p>\n",
       "</div>"
      ],
      "text/plain": [
       "              0         1     2         3         4    5    6    7    8    9\n",
       "0      0.067113  0.197405  0.40  0.190476  0.270833  1.0  1.0  0.0  1.0  0.0\n",
       "1      0.042149  0.056103  0.40  0.428571  0.125000  0.0  0.0  1.0  0.0  1.0\n",
       "2      0.116860  0.028997  0.10  0.095238  0.041667  0.0  1.0  0.0  1.0  0.0\n",
       "3      0.058792  0.593508  0.75  0.428571  0.229167  1.0  1.0  0.0  0.0  1.0\n",
       "4      0.477026  0.072422  0.40  0.071429  0.437500  0.0  1.0  0.0  0.0  1.0\n",
       "...         ...       ...   ...       ...       ...  ...  ...  ...  ...  ...\n",
       "10189  0.024602  0.070233  0.40  0.071429  0.104167  0.0  0.0  1.0  1.0  0.0\n",
       "10190  0.033466  0.466438  0.40  0.000000  0.145833  0.0  0.0  1.0  1.0  0.0\n",
       "10191  0.095695  0.084363  0.40  0.476190  0.083333  0.0  1.0  0.0  1.0  0.0\n",
       "10192  0.067836  0.005800  0.00  0.023810  0.270833  0.0  1.0  0.0  1.0  0.0\n",
       "10193  0.034913  0.087189  0.40  0.142857  0.145833  0.0  0.0  1.0  0.0  1.0\n",
       "\n",
       "[10194 rows x 10 columns]"
      ]
     },
     "execution_count": 569,
     "metadata": {},
     "output_type": "execute_result"
    }
   ],
   "source": [
    "X_transformed"
   ]
  },
  {
   "cell_type": "code",
   "execution_count": 576,
   "id": "f5557303",
   "metadata": {
    "hidden": true
   },
   "outputs": [
    {
     "data": {
      "image/png": "[encoded data removed]",
      "text/plain": [
       "<Figure size 432x288 with 1 Axes>"
      ]
     },
     "metadata": {
      "needs_background": "light"
     },
     "output_type": "display_data"
    }
   ],
   "source": [
    "import matplotlib.pyplot as plt\n",
    "# plot\n",
    "plt.bar(range(len(model.feature_importances_)), model.feature_importances_)\n",
    "plt.show()"
   ]
  },
  {
   "cell_type": "code",
   "execution_count": 567,
   "id": "6aabef0c",
   "metadata": {
    "hidden": true
   },
   "outputs": [
    {
     "name": "stdout",
     "output_type": "stream",
     "text": [
      "[0.12145103 0.08340243 0.05080577 0.40709578 0.30602226 0.0125019\n",
      " 0.00150969 0.00052677 0.00534452 0.01133986]\n"
     ]
    },
    {
     "data": {
      "image/png": "[encoded data removed]",
      "text/plain": [
       "<Figure size 432x288 with 1 Axes>"
      ]
     },
     "metadata": {
      "needs_background": "light"
     },
     "output_type": "display_data"
    }
   ],
   "source": [
    "print(model.feature_importances_) #use inbuilt class feature_importances of tree based classifiers\n",
    "#plot graph of feature importances for better visualization\n",
    "feat_importances = pd.Series(model.feature_importances_, index=X_transformed.columns)\n",
    "feat_importances.nlargest(10).plot(kind='barh')\n",
    "plt.show()\n",
    "plt.yticks(pos, np.array(diabetes.feature_names)[sorted_idx])"
   ]
  },
  {
   "cell_type": "code",
   "execution_count": 577,
   "id": "51ae3d18",
   "metadata": {
    "hidden": true
   },
   "outputs": [
    {
     "ename": "ValueError",
     "evalue": "tree must be Booster, XGBModel or dict instance",
     "output_type": "error",
     "traceback": [
      "\u001b[0;31m---------------------------------------------------------------------------\u001b[0m",
      "\u001b[0;31mValueError\u001b[0m                                Traceback (most recent call last)",
      "\u001b[0;32m/tmp/ipykernel_769/932148123.py\u001b[0m in \u001b[0;36m<module>\u001b[0;34m\u001b[0m\n\u001b[1;32m      2\u001b[0m \u001b[0;32mfrom\u001b[0m \u001b[0mxgboost\u001b[0m \u001b[0;32mimport\u001b[0m \u001b[0mplot_importance\u001b[0m\u001b[0;34m\u001b[0m\u001b[0;34m\u001b[0m\u001b[0m\n\u001b[1;32m      3\u001b[0m \u001b[0;34m\u001b[0m\u001b[0m\n\u001b[0;32m----> 4\u001b[0;31m \u001b[0mplot_importance\u001b[0m\u001b[0;34m(\u001b[0m\u001b[0mmodel\u001b[0m\u001b[0;34m)\u001b[0m\u001b[0;34m\u001b[0m\u001b[0;34m\u001b[0m\u001b[0m\n\u001b[0m\u001b[1;32m      5\u001b[0m \u001b[0mpyplot\u001b[0m\u001b[0;34m.\u001b[0m\u001b[0mshow\u001b[0m\u001b[0;34m(\u001b[0m\u001b[0;34m)\u001b[0m\u001b[0;34m\u001b[0m\u001b[0;34m\u001b[0m\u001b[0m\n",
      "\u001b[0;32m~/.pyenv/versions/3.8.12/envs/lewagon/lib/python3.8/site-packages/xgboost/plotting.py\u001b[0m in \u001b[0;36mplot_importance\u001b[0;34m(booster, ax, height, xlim, ylim, title, xlabel, ylabel, fmap, importance_type, max_num_features, grid, show_values, **kwargs)\u001b[0m\n\u001b[1;32m     69\u001b[0m         \u001b[0mimportance\u001b[0m \u001b[0;34m=\u001b[0m \u001b[0mbooster\u001b[0m\u001b[0;34m\u001b[0m\u001b[0;34m\u001b[0m\u001b[0m\n\u001b[1;32m     70\u001b[0m     \u001b[0;32melse\u001b[0m\u001b[0;34m:\u001b[0m\u001b[0;34m\u001b[0m\u001b[0;34m\u001b[0m\u001b[0m\n\u001b[0;32m---> 71\u001b[0;31m         \u001b[0;32mraise\u001b[0m \u001b[0mValueError\u001b[0m\u001b[0;34m(\u001b[0m\u001b[0;34m'tree must be Booster, XGBModel or dict instance'\u001b[0m\u001b[0;34m)\u001b[0m\u001b[0;34m\u001b[0m\u001b[0;34m\u001b[0m\u001b[0m\n\u001b[0m\u001b[1;32m     72\u001b[0m \u001b[0;34m\u001b[0m\u001b[0m\n\u001b[1;32m     73\u001b[0m     \u001b[0;32mif\u001b[0m \u001b[0;32mnot\u001b[0m \u001b[0mimportance\u001b[0m\u001b[0;34m:\u001b[0m\u001b[0;34m\u001b[0m\u001b[0;34m\u001b[0m\u001b[0m\n",
      "\u001b[0;31mValueError\u001b[0m: tree must be Booster, XGBModel or dict instance"
     ]
    }
   ],
   "source": [
    "import matplotlib.pyplot as plt\n",
    "from xgboost import plot_importance\n",
    "\n",
    "plot_importance(model)\n",
    "pyplot.show()"
   ]
  },
  {
   "cell_type": "code",
   "execution_count": 581,
   "id": "891a4c1a",
   "metadata": {
    "hidden": true
   },
   "outputs": [
    {
     "ename": "AttributeError",
     "evalue": "'GradientBoostingRegressor' object has no attribute 'feature_names'",
     "output_type": "error",
     "traceback": [
      "\u001b[0;31m---------------------------------------------------------------------------\u001b[0m",
      "\u001b[0;31mAttributeError\u001b[0m                            Traceback (most recent call last)",
      "\u001b[0;32m/tmp/ipykernel_769/3332551834.py\u001b[0m in \u001b[0;36m<module>\u001b[0;34m\u001b[0m\n\u001b[1;32m      5\u001b[0m \u001b[0mplt\u001b[0m\u001b[0;34m.\u001b[0m\u001b[0msubplot\u001b[0m\u001b[0;34m(\u001b[0m\u001b[0;36m1\u001b[0m\u001b[0;34m,\u001b[0m \u001b[0;36m2\u001b[0m\u001b[0;34m,\u001b[0m \u001b[0;36m1\u001b[0m\u001b[0;34m)\u001b[0m\u001b[0;34m\u001b[0m\u001b[0;34m\u001b[0m\u001b[0m\n\u001b[1;32m      6\u001b[0m \u001b[0mplt\u001b[0m\u001b[0;34m.\u001b[0m\u001b[0mbarh\u001b[0m\u001b[0;34m(\u001b[0m\u001b[0mpos\u001b[0m\u001b[0;34m,\u001b[0m \u001b[0mfeature_importance\u001b[0m\u001b[0;34m[\u001b[0m\u001b[0msorted_idx\u001b[0m\u001b[0;34m]\u001b[0m\u001b[0;34m,\u001b[0m \u001b[0malign\u001b[0m\u001b[0;34m=\u001b[0m\u001b[0;34m\"center\"\u001b[0m\u001b[0;34m)\u001b[0m\u001b[0;34m\u001b[0m\u001b[0;34m\u001b[0m\u001b[0m\n\u001b[0;32m----> 7\u001b[0;31m \u001b[0mplt\u001b[0m\u001b[0;34m.\u001b[0m\u001b[0myticks\u001b[0m\u001b[0;34m(\u001b[0m\u001b[0mpos\u001b[0m\u001b[0;34m,\u001b[0m \u001b[0mnp\u001b[0m\u001b[0;34m.\u001b[0m\u001b[0marray\u001b[0m\u001b[0;34m(\u001b[0m\u001b[0mmodel\u001b[0m\u001b[0;34m.\u001b[0m\u001b[0mfeature_names\u001b[0m\u001b[0;34m)\u001b[0m\u001b[0;34m[\u001b[0m\u001b[0msorted_idx\u001b[0m\u001b[0;34m]\u001b[0m\u001b[0;34m)\u001b[0m\u001b[0;34m\u001b[0m\u001b[0;34m\u001b[0m\u001b[0m\n\u001b[0m\u001b[1;32m      8\u001b[0m \u001b[0mplt\u001b[0m\u001b[0;34m.\u001b[0m\u001b[0mtitle\u001b[0m\u001b[0;34m(\u001b[0m\u001b[0;34m\"Feature Importance (MDI)\"\u001b[0m\u001b[0;34m)\u001b[0m\u001b[0;34m\u001b[0m\u001b[0;34m\u001b[0m\u001b[0m\n",
      "\u001b[0;31mAttributeError\u001b[0m: 'GradientBoostingRegressor' object has no attribute 'feature_names'"
     ]
    },
    {
     "data": {
      "image/png": "[encoded data removed]",
      "text/plain": [
       "<Figure size 864x432 with 1 Axes>"
      ]
     },
     "metadata": {
      "needs_background": "light"
     },
     "output_type": "display_data"
    }
   ],
   "source": [
    "feature_importance = model.feature_importances_\n",
    "sorted_idx = np.argsort(feature_importance)\n",
    "pos = np.arange(sorted_idx.shape[0]) + 0.5\n",
    "fig = plt.figure(figsize=(12, 6))\n",
    "plt.subplot(1, 2, 1)\n",
    "plt.barh(pos, feature_importance[sorted_idx], align=\"center\")\n",
    "plt.yticks(pos, np.array(model.feature_names)[sorted_idx])\n",
    "plt.title(\"Feature Importance (MDI)\")"
   ]
  }
 ],
 "metadata": {
  "kernelspec": {
   "display_name": "Python 3 (ipykernel)",
   "language": "python",
   "name": "python3"
  },
  "language_info": {
   "codemirror_mode": {
    "name": "ipython",
    "version": 3
   },
   "file_extension": ".py",
   "mimetype": "text/x-python",
   "name": "python",
   "nbconvert_exporter": "python",
   "pygments_lexer": "ipython3",
   "version": "3.8.12"
  },
  "toc": {
   "base_numbering": 1,
   "nav_menu": {},
   "number_sections": true,
   "sideBar": true,
   "skip_h1_title": true,
   "title_cell": "Table of Contents",
   "title_sidebar": "Contents",
   "toc_cell": false,
   "toc_position": {
    "height": "calc(100% - 180px)",
    "left": "10px",
    "top": "150px",
    "width": "409.6px"
   },
   "toc_section_display": true,
   "toc_window_display": false
  }
 },
 "nbformat": 4,
 "nbformat_minor": 5
}
